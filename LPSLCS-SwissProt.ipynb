{
 "cells": [
  {
   "cell_type": "markdown",
   "id": "4224a683",
   "metadata": {},
   "source": [
    "# LPS and LCS in Swiss-Prot"
   ]
  },
  {
   "cell_type": "code",
   "execution_count": null,
   "id": "f73e3e36",
   "metadata": {},
   "outputs": [],
   "source": [
    "include(\"source/io.jl\")\n",
    "include(\"source/mask.jl\")\n",
    "include(\"source/palindrome.jl\")\n",
    "include(\"source/alignment.jl\")\n",
    "include(\"source/expectation.jl\")\n",
    "using StringAlgorithms: longestcommonsubstring\n",
    "using ProgressMeter\n",
    "using Plots\n",
    "using StatsBase: mean\n",
    "using Base.Threads: @threads;"
   ]
  },
  {
   "cell_type": "code",
   "execution_count": null,
   "id": "88625d10",
   "metadata": {},
   "outputs": [],
   "source": [
    "shuf_sprot = readsequences(\"data/shuf_sprot.fa\")\n",
    "sprot = readsequences(\"data/sprot.fa\");\n",
    "masked_sprot = replace.(readsequences(\"data/masked_sprot.fa\"), \"X\"=>\"\");"
   ]
  },
  {
   "cell_type": "code",
   "execution_count": null,
   "id": "24959187",
   "metadata": {},
   "outputs": [],
   "source": [
    "print(\"λ₂ = \")\n",
    "println(coincidence(join(sprot)))"
   ]
  },
  {
   "cell_type": "markdown",
   "id": "ed08cdda",
   "metadata": {},
   "source": [
    "### Compute LPS and LCS"
   ]
  },
  {
   "cell_type": "code",
   "execution_count": null,
   "id": "e843599f",
   "metadata": {},
   "outputs": [],
   "source": [
    "function llcs(x, y, progressmeter)\n",
    "    next!(progressmeter)\n",
    "    length(longestcommonsubstring(x, y)[1])\n",
    "end\n",
    "function llps(x, progressmeter)\n",
    "    next!(progressmeter)\n",
    "    length(longestpalindromicsubstring(x))\n",
    "end\n",
    "function generate_lps(x, resultpath)\n",
    "    n = length(x)\n",
    "    results = zeros(Int, n)\n",
    "    p = Progress(n, 1, resultpath)\n",
    "    @threads for i=1:n\n",
    "        results[i] = llps(x[i], p)\n",
    "    end\n",
    "    lx = length.(x)\n",
    "    print(\"writing LPS to \", resultpath)\n",
    "    writeframe(resultpath, DataFrame([lx, results], [\"length\", \"lps\"]))\n",
    "end\n",
    "function generate_lcs(x, y, resultpath)\n",
    "    @assert length(x) == length(y)\n",
    "    n = length(x)\n",
    "    results = zeros(Int, n)\n",
    "    p = Progress(n, 1, resultpath)\n",
    "    @threads for i=1:n\n",
    "        results[i] = llcs(x[i], y[i], p)\n",
    "    end\n",
    "    lx = length.(x)\n",
    "    ly = length.(y)\n",
    "    print(\"writing LCS to \", resultpath)\n",
    "    writeframe(resultpath, DataFrame([lx, ly, results], [\"length1\", \"length2\", \"lcs\"]))\n",
    "end"
   ]
  },
  {
   "cell_type": "code",
   "execution_count": null,
   "id": "1266b9ec",
   "metadata": {
    "scrolled": true
   },
   "outputs": [],
   "source": [
    "resultpaths = [\n",
    "    \"outputs/lcs_sprot_shuf_sprot.txt\", \n",
    "    \"outputs/lps_sprot.txt\", \n",
    "    \"outputs/lps_shuf_sprot.txt\", \n",
    "    \"outputs/lps_hardmasked_sprot.txt\"];"
   ]
  },
  {
   "cell_type": "code",
   "execution_count": null,
   "id": "cca9027a",
   "metadata": {},
   "outputs": [],
   "source": [
    "generate_lcs(sprot, shuf_sprot, resultpaths[1])\n",
    "generate_lps(shuf_sprot, resultpaths[3])\n",
    "generate_lps(sprot, resultpaths[2])\n",
    "generate_lps(masked_sprot, resultpaths[4]);"
   ]
  },
  {
   "cell_type": "markdown",
   "id": "13c56c31",
   "metadata": {},
   "source": [
    "## Plot [python]"
   ]
  },
  {
   "cell_type": "code",
   "execution_count": null,
   "id": "e3ad9069",
   "metadata": {},
   "outputs": [],
   "source": [
    "import matplotlib.markers as markers\n",
    "import matplotlib.pyplot as plt\n",
    "import pandas as pd\n",
    "import statistics as stats\n",
    "from math import *\n",
    "from time import time\n",
    "cluster = lambda data, parameter, lo, hi : [data[parameter==x] for x in range(lo,hi+1)]\n",
    "_robust_cluster_means = lambda data_clusters : [stats.mean(cluster) if len(cluster)>0 else -1 for cluster in data_clusters]\n",
    "def robust_cluster_means(clusters, width=1):\n",
    "    if width == 1:\n",
    "        return _robust_cluster_means(clusters)\n",
    "    else:\n",
    "        n = len(clusters)\n",
    "        m = ceil(n / width)\n",
    "        new_clusters = [[] for _ in range(m)]\n",
    "        for i in range(m):\n",
    "            for j in range(i, min(i + width, n)):\n",
    "                new_clusters[i].extend(list(clusters[j]))\n",
    "        return _robust_cluster_means(new_clusters)\n",
    "def scatter_cluster_means(axis, frame, datakey, paramkey, lo, hi, color, marker, label, width=1):\n",
    "    clusters = cluster(frame[datakey], frame[paramkey], lo, hi)\n",
    "    x = robust_cluster_means(clusters, width=width)\n",
    "    m = len(x)\n",
    "    y = [width*i for i in range(0,m)]\n",
    "    axis.scatter(y, x, 60, label=label, marker=marker, facecolors='none', edgecolors=color)\n",
    "exp_lcs = lambda n, lambda2: 2*log(n, 1/lambda2)\n",
    "exp_lps = lambda n, lambda2: exp_lcs(n, lambda2) + 1\n",
    "def plot_expected_lcs(axis, lambda2, lo, hi, color):\n",
    "    x = list(range(lo,hi+1))\n",
    "    axis.plot(x, [exp_lcs(n, lambda2) for n in x], \n",
    "              color=color, linewidth=1, label=\"𝔼[LCS]\")\n",
    "def plot_expected_lps(axis, lambda2, lo, hi, color):\n",
    "    x = list(range(lo,hi+1))\n",
    "    axis.plot(x, [exp_lps(n, lambda2) for n in x], \n",
    "              color=color, linewidth=1, label=\"𝔼[LPS]\")\n",
    "def setup_axis(axis,xlo=50,xhi=2000,ylo=2,yhi=12,legsize=100):\n",
    "    axis.set_xlim(xlo,xhi)\n",
    "    axis.set_xscale(\"log\")\n",
    "    axis.set_xlabel(\"Sequence Length\", fontsize=100, labelpad=30)\n",
    "    axis.set_ylim(ylo,yhi)\n",
    "    axis.set_yscale(\"linear\")\n",
    "    axis.set_ylabel(\"Average Substring Length\", fontsize=100, labelpad=50)\n",
    "    axis.tick_params(axis='both', which='major', labelsize=50)\n",
    "    leg = axis.legend(prop={'size':legsize}, markerscale=legsize/10)\n",
    "    for lh in leg.legend_handles: \n",
    "        lh.set_alpha(1)\n",
    "        lh.set_linewidth(10)"
   ]
  },
  {
   "cell_type": "code",
   "execution_count": null,
   "id": "7e18ecd0",
   "metadata": {
    "scrolled": false
   },
   "outputs": [],
   "source": [
    "resultpaths = [\n",
    "    \"outputs/lcs_sprot_shuf_sprot.txt\", \n",
    "    \"outputs/lps_sprot.txt\", \n",
    "    \"outputs/lps_shuf_sprot.txt\", \n",
    "    \"outputs/lps_hardmasked_sprot.txt\"];\n",
    "lcs_sprot_shuf, lps_sprot, lps_shuf, lps_hardmasked_sprot = [pd.read_csv(x) for x in resultpaths]\n",
    "\n",
    "# coincidence frequency for Swiss-Prot\n",
    "lambda2 = 0.05985802744978473\n",
    "\n",
    "lcsmaroon = \"#8a1414\"\n",
    "sprotblue = \"#0000ff\"\n",
    "shufred = \"#ff8800\"\n",
    "maskgreen = maskblue = \"#228FAF\"\n",
    "\n",
    "fig, (ax1, ax2) = plt.subplots(1,2,dpi=100,figsize=(128,48))\n",
    "\n",
    "scatter_cluster_means(ax1, lps_sprot, \"lps\", \"length\", 1, 2000, \n",
    "                      sprotblue, '^', \"LPS(sprot$_{all}$)\")\n",
    "plot_expected_lps(ax1, lambda2, 1, 2000, shufred)\n",
    "scatter_cluster_means(ax1, lps_shuf, \"lps\", \"length\", 1, 2000, \n",
    "                      shufred, 'o', \"LPS(shuf$_{all}$)\")\n",
    "plot_expected_lcs(ax1, lambda2, 1, 2000, lcsmaroon)\n",
    "scatter_cluster_means(ax1, lcs_sprot_shuf, \"lcs\", \"length1\", 1, 2000, \n",
    "                      lcsmaroon, 's', \"LCS(sprot$_{all}$, shuf$_{all}$)\")\n",
    "setup_axis(ax1)\n",
    "scatter_cluster_means(ax2, lps_hardmasked_sprot, \"lps\", \"length\", 1, 2000, \n",
    "                      maskgreen, '*', \"LPS(masked sprot$_{all}$)\")\n",
    "plot_expected_lps(ax2, lambda2, 1, 2000, shufred)\n",
    "scatter_cluster_means(ax2, lps_shuf, \"lps\", \"length\", 1, 2000, \n",
    "                      shufred, 'o', \"LPS(shuf$_{all}$)\")\n",
    "setup_axis(ax2)\n",
    "plt.tight_layout()\n",
    "plt.savefig(\"figures/LPSLCS_SwissProt.pdf\")"
   ]
  },
  {
   "cell_type": "code",
   "execution_count": null,
   "id": "c3d20fc9",
   "metadata": {},
   "outputs": [],
   "source": []
  }
 ],
 "metadata": {
  "kernelspec": {
   "display_name": "Python 3 (ipykernel)",
   "language": "python",
   "name": "python3"
  },
  "language_info": {
   "codemirror_mode": {
    "name": "ipython",
    "version": 3
   },
   "file_extension": ".py",
   "mimetype": "text/x-python",
   "name": "python",
   "nbconvert_exporter": "python",
   "pygments_lexer": "ipython3",
   "version": "3.11.5"
  }
 },
 "nbformat": 4,
 "nbformat_minor": 5
}
