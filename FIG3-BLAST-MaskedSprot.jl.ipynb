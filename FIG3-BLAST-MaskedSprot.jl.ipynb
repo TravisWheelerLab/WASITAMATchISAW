{
 "cells": [
  {
   "cell_type": "markdown",
   "id": "ed63fda9",
   "metadata": {},
   "source": [
    "# BLAST scores by sequence length"
   ]
  },
  {
   "cell_type": "code",
   "execution_count": 1,
   "id": "e1211636",
   "metadata": {},
   "outputs": [
    {
     "data": {
      "text/plain": [
       "search (generic function with 1 method)"
      ]
     },
     "execution_count": 1,
     "metadata": {},
     "output_type": "execute_result"
    }
   ],
   "source": [
    "using Plots\n",
    "using FASTX\n",
    "include(\"source/io.jl\")\n",
    "include(\"source/utils.jl\")\n",
    "include(\"source/alignment.jl\")\n",
    "include(\"source/blast.jl\")"
   ]
  },
  {
   "cell_type": "markdown",
   "id": "3e3144ad",
   "metadata": {},
   "source": [
    "### Mask repetitive regions in Swiss-Prot using tantan\n",
    "Rather than using lowercase letters for masks, configure tantan to mask with 'X' characters.\n",
    "\n",
    "```\n",
    "tantan -p -x X data/sprot.fa > data/masked_sprot.fa\n",
    "```"
   ]
  },
  {
   "cell_type": "markdown",
   "id": "aec22e6c",
   "metadata": {},
   "source": [
    "### Masked paired alignment with BLAST"
   ]
  },
  {
   "cell_type": "code",
   "execution_count": 3,
   "id": "67062e7a",
   "metadata": {},
   "outputs": [
    {
     "data": {
      "text/plain": [
       "4"
      ]
     },
     "execution_count": 3,
     "metadata": {},
     "output_type": "execute_result"
    }
   ],
   "source": [
    "queries = [\n",
    "    \"data/sprot.fa\", \n",
    "    \"data/sprot.fa\",\n",
    "    \"data/masked_sprot.fa\",\n",
    "    \"data/shuf_sprot.fa\",]\n",
    "references = [\n",
    "    \"data/shuf_sprot.fa\", \n",
    "    \"data/rev_sprot.fa\", \n",
    "    \"data/rev_sprot.fa\", \n",
    "    \"data/rev_shuf_sprot.fa\"]\n",
    "name(x) = split(split(x, '/')[2], '.')[1]\n",
    "querynames = name.(queries)\n",
    "referencenames = name.(references)\n",
    "resultnames = [\"$(qname)↔$(rname)\" for (qname, rname)=zip(querynames, referencenames)]\n",
    "resultpaths = [\"data/$(name).dlm\" for name=resultnames]\n",
    "n = length(resultpaths)"
   ]
  },
  {
   "cell_type": "code",
   "execution_count": null,
   "id": "9156a40e",
   "metadata": {
    "scrolled": true
   },
   "outputs": [],
   "source": [
    "### [~10 hours]\n",
    "for i=1:n\n",
    "    result = search(Pairwise(), queries[i], references[i]; verbose=true, careful=true, ntasks=12)\n",
    "    result_table = parse_blastp(result)\n",
    "    writeframe(resultpaths[i], DataFrame(result_table, BLASTP_COLUMNS))\n",
    "end"
   ]
  },
  {
   "cell_type": "markdown",
   "id": "6ed2ee2d",
   "metadata": {},
   "source": [
    "## Plot"
   ]
  },
  {
   "cell_type": "code",
   "execution_count": 4,
   "id": "6b4a0dc2",
   "metadata": {},
   "outputs": [
    {
     "ename": "LoadError",
     "evalue": "ArgumentError: \"data/sprot↔shuf_sprot.dlm\" is not a valid file or doesn't exist",
     "output_type": "error",
     "traceback": [
      "ArgumentError: \"data/sprot↔shuf_sprot.dlm\" is not a valid file or doesn't exist",
      "",
      "Stacktrace:",
      "  [1] CSV.Context(source::CSV.Arg, header::CSV.Arg, normalizenames::CSV.Arg, datarow::CSV.Arg, skipto::CSV.Arg, footerskip::CSV.Arg, transpose::CSV.Arg, comment::CSV.Arg, ignoreemptyrows::CSV.Arg, ignoreemptylines::CSV.Arg, select::CSV.Arg, drop::CSV.Arg, limit::CSV.Arg, buffer_in_memory::CSV.Arg, threaded::CSV.Arg, ntasks::CSV.Arg, tasks::CSV.Arg, rows_to_check::CSV.Arg, lines_to_check::CSV.Arg, missingstrings::CSV.Arg, missingstring::CSV.Arg, delim::CSV.Arg, ignorerepeated::CSV.Arg, quoted::CSV.Arg, quotechar::CSV.Arg, openquotechar::CSV.Arg, closequotechar::CSV.Arg, escapechar::CSV.Arg, dateformat::CSV.Arg, dateformats::CSV.Arg, decimal::CSV.Arg, groupmark::CSV.Arg, truestrings::CSV.Arg, falsestrings::CSV.Arg, stripwhitespace::CSV.Arg, type::CSV.Arg, types::CSV.Arg, typemap::CSV.Arg, pool::CSV.Arg, downcast::CSV.Arg, lazystrings::CSV.Arg, stringtype::CSV.Arg, strict::CSV.Arg, silencewarnings::CSV.Arg, maxwarnings::CSV.Arg, debug::CSV.Arg, parsingdebug::CSV.Arg, validate::CSV.Arg, streaming::CSV.Arg)",
      "    @ CSV ~/.julia/packages/CSV/OnldF/src/context.jl:314",
      "  [2] #File#32",
      "    @ ~/.julia/packages/CSV/OnldF/src/file.jl:222 [inlined]",
      "  [3] File",
      "    @ ~/.julia/packages/CSV/OnldF/src/file.jl:162 [inlined]",
      "  [4] readframe(pathtoframe::String)",
      "    @ Main ~/Desktop/WASITAMATchISAW/source/io.jl:124",
      "  [5] _broadcast_getindex_evalf",
      "    @ ./broadcast.jl:670 [inlined]",
      "  [6] _broadcast_getindex",
      "    @ ./broadcast.jl:643 [inlined]",
      "  [7] getindex",
      "    @ ./broadcast.jl:597 [inlined]",
      "  [8] macro expansion",
      "    @ ./broadcast.jl:961 [inlined]",
      "  [9] macro expansion",
      "    @ ./simdloop.jl:77 [inlined]",
      " [10] copyto!",
      "    @ ./broadcast.jl:960 [inlined]",
      " [11] copyto!",
      "    @ ./broadcast.jl:913 [inlined]",
      " [12] copy",
      "    @ ./broadcast.jl:885 [inlined]",
      " [13] materialize(bc::Base.Broadcast.Broadcasted{Base.Broadcast.DefaultArrayStyle{1}, Nothing, typeof(readframe), Tuple{Vector{String}}})",
      "    @ Base.Broadcast ./broadcast.jl:860",
      " [14] top-level scope",
      "    @ In[4]:9"
     ]
    }
   ],
   "source": [
    "function fig3plot!(x, label, color)\n",
    "    scatter!(x, label=label, color=color, bins=1:80)\n",
    "end\n",
    "querylengths = [length.(sequence.(readfasta(q))) for q=queries]\n",
    "referencelengths = [length.(sequence.(readfasta(r))) for r=references]\n",
    "geometricmeanlengths = [[geometricmean(q, r) for (q, r)=zip(qlengths, rlengths)] for (rlengths, qlengths)=zip(querylengths, referencelengths)]\n",
    "n = length(geometricmeanlengths)[1]\n",
    "colors = [\"purple\", \"orange\", \"blue\", \"red\"]\n",
    "results = readframe.(resultpaths)\n",
    "scores = [frame.score for frame=results]"
   ]
  },
  {
   "cell_type": "code",
   "execution_count": 5,
   "id": "e9d6efac",
   "metadata": {},
   "outputs": [
    {
     "ename": "LoadError",
     "evalue": "UndefVarError: scores not defined",
     "output_type": "error",
     "traceback": [
      "UndefVarError: scores not defined",
      "",
      "Stacktrace:",
      " [1] top-level scope",
      "   @ In[5]:5"
     ]
    }
   ],
   "source": [
    "plot(xlabel=\"Sequence Length\",\n",
    "     ylabel=\"Average Score\",\n",
    "     legend=:outertop,\n",
    "     dpi=500)\n",
    "fig3plot!(scores[1], latexstring(BLAST(sprotall, shuf(sprotall))), colors[1])\n",
    "fig3plot!(scores[2], latexstring(BLAST(sprotall, rev(sprotall))), colors[2])\n",
    "fig3plot!(scores[3], latexstring(BLAST(mask(sprotall), rev(sprotall))), colors[3])\n",
    "fig3plot!(scores[4], latexstring(BLAST(shuf(sprotall), rev(shuf(sprotall)))), colors[4])\n",
    "savefig(\"figures/BLAST_MaskedSprot.png\")\n",
    "plot!()"
   ]
  }
 ],
 "metadata": {
  "kernelspec": {
   "display_name": "Julia 1.8.5",
   "language": "julia",
   "name": "julia-1.8"
  },
  "language_info": {
   "file_extension": ".jl",
   "mimetype": "application/julia",
   "name": "julia",
   "version": "1.8.5"
  }
 },
 "nbformat": 4,
 "nbformat_minor": 5
}
