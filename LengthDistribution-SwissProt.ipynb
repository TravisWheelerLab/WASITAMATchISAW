{
 "cells": [
  {
   "cell_type": "markdown",
   "id": "8893d878",
   "metadata": {},
   "source": [
    "# Swiss-Prot length distributions"
   ]
  },
  {
   "cell_type": "code",
   "execution_count": 1,
   "id": "d7d9b38c",
   "metadata": {},
   "outputs": [
    {
     "data": {
      "text/plain": [
       "percentid"
      ]
     },
     "execution_count": 1,
     "metadata": {},
     "output_type": "execute_result"
    }
   ],
   "source": [
    "using BioAlignments\n",
    "using FASTX\n",
    "using ProgressMeter\n",
    "using Printf\n",
    "using CSV\n",
    "using Plots\n",
    "include(\"source/utils.jl\")\n",
    "include(\"source/io.jl\")\n",
    "include(\"source/alignment.jl\")\n",
    "include(\"source/pctid.jl\")"
   ]
  },
  {
   "cell_type": "markdown",
   "id": "26ef3572",
   "metadata": {},
   "source": [
    "### SCOP2 superfamily representative sequences\n",
    "Download the SCOP2 superfamily representative sequences into the `data/` directory.\n",
    "\n",
    "```\n",
    "cd data\n",
    "wget https://scop.mrc-lmb.cam.ac.uk/files/scop_sf_represeq_lib_latest.fa\n",
    "```\n",
    "\n",
    "For convenience, rename the file.\n",
    "\n",
    "```\n",
    "mv scop_sf_represeq_lib_latest.fa scop.fa\n",
    "```"
   ]
  },
  {
   "cell_type": "markdown",
   "id": "e7f086a8",
   "metadata": {},
   "source": [
    "### Swiss-Prot\n",
    "Download and unzip Swiss-Prot.\n",
    "\n",
    "```\n",
    "wget ftp://ftp.uniprot.org/pub/databases/uniprot/current_release/knowledgebase/complete/uniprot_sprot.fasta.gz\n",
    "gzip -d uniprot_sprot.fasta.gz\n",
    "mv uniprot_sprot.fasta data/sprot.fa\n",
    "```\n",
    "\n",
    "Filter Swiss-Prot to exclude any sequences exceeding 2000 peptides and those with 'X' characters."
   ]
  },
  {
   "cell_type": "code",
   "execution_count": null,
   "id": "5e389942",
   "metadata": {},
   "outputs": [],
   "source": [
    "sprot = readsequences(\"data/sprot.fa\")\n",
    "sprot = [seq for seq=sprot if length(seq) < 2000 && !occursin('X', seq)]\n",
    "writesequences(\"data/sprot.fa\", sprot)"
   ]
  },
  {
   "cell_type": "markdown",
   "id": "d2e65a2d",
   "metadata": {},
   "source": [
    "### Many-to-many alignment with BLAST\n",
    "Construct a BLAST database from the SCOP2 superfamily representatives. First create a subdirectory `data/scopdb` to contain the files, then run `makeblastdb` to generate the database. \n",
    "\n",
    "```\n",
    "mkdir scopdb\n",
    "makeblastdb -dbtype prot -in scop.fa -out scopdb/scopsf -title scopsf\n",
    "```\n",
    "\n",
    "Align Swiss-Prot against the SCOP2 superfamily representative sequences. Set `num_threads` for your system.\n",
    "\n",
    "```\n",
    "cd ..\n",
    "mkdir outputs\n",
    "blastp -query data/sprot.fa -db data/scopdb/scop -outfmt \"6 qseqid qstart qend sseqid sstart send\" -num_threads 12 > outputs/sprot_scopsf.out\n",
    "```"
   ]
  },
  {
   "cell_type": "markdown",
   "id": "d253187b",
   "metadata": {},
   "source": [
    "### Filter Swiss-Prot to sequences with >=95% identity to a representative sequence in the SCOP2 superfamily\n",
    "First, map Swiss-Prot sequence ids to their index in the record and likewise for the SCOP2 SF sequences"
   ]
  },
  {
   "cell_type": "code",
   "execution_count": null,
   "id": "1c5cfec3",
   "metadata": {},
   "outputs": [],
   "source": [
    "sprot = readfasta(\"data/sprot.fa\")\n",
    "sprotids = record_id.(sprot)\n",
    "lookup_sprot_index = Dict(sprotids[i] => i for i=1:length(sprotids))\n",
    "scop = readfasta(\"data/scop.fa\")\n",
    "scopids = record_id.(scop)\n",
    "lookup_scop_index = Dict(scopids[i] => i for i=1:length(scopids))"
   ]
  },
  {
   "cell_type": "markdown",
   "id": "1f016e41",
   "metadata": {},
   "source": [
    "Read the search results. Column names can be parsed from BLAST's `-outfmt` argument."
   ]
  },
  {
   "cell_type": "code",
   "execution_count": null,
   "id": "8a76720e",
   "metadata": {},
   "outputs": [],
   "source": [
    "columns = split(\"6 qseqid qstart qend sseqid sstart send\", ' ')[2:end]\n",
    "outputs = readtable(\"outputs/sprot_scopsf.out\", columns)\n",
    "m = size(outputs)[1]"
   ]
  },
  {
   "cell_type": "markdown",
   "id": "4f82cd9f",
   "metadata": {},
   "source": [
    "We could have configured the BLASTP output table to include percent IDs. But BLAST calculates `(alignment_length - gaps) / alignment_length`, whereas we want to calculate `(alignment_length - mismatches - gaps) / alignment_length`. We'll need to rerun alignments using BioAlignment.jl's global alignment."
   ]
  },
  {
   "cell_type": "code",
   "execution_count": null,
   "id": "f666b639",
   "metadata": {},
   "outputs": [],
   "source": [
    "qsubstrings = (FASTX.sequence(sprot[lookup_sprot_index[string(outputs.qseqid[i])]])[outputs.qstart[i]:outputs.qend[i]] \n",
    "    for i=1:m)\n",
    "ssubstrings = (FASTX.sequence(scop[lookup_scop_index[string(outputs.sseqid[i])]])[outputs.sstart[i]:outputs.send[i]] \n",
    "    for i=1:m)\n",
    "pctid = align(Pairwise(), \n",
    "    qsubstrings, \n",
    "    ssubstrings, \n",
    "    model=GlobalAlignment(),\n",
    "    verbose=true,\n",
    "    formatter=x::PairwiseAlignmentResult -> percentid(x));"
   ]
  },
  {
   "cell_type": "markdown",
   "id": "9d22bd17",
   "metadata": {},
   "source": [
    "Organize the results and filter alignments for percent identity exceeding $95$."
   ]
  },
  {
   "cell_type": "code",
   "execution_count": null,
   "id": "48c4be6a",
   "metadata": {},
   "outputs": [],
   "source": [
    "n = length(sprot)\n",
    "sprot_pct = zeros(AbstractFloat, n)\n",
    "sprot_rep = zeros(Int, n)\n",
    "for i=1:m\n",
    "    pct = pctid[i]\n",
    "    sprotidx = lookup_sprot_index[string(outputs.qseqid[i])]\n",
    "    scopid = string(outputs.sseqid[i])\n",
    "    if pct >= 0.95\n",
    "        if pct > sprot_pct[sprotidx]\n",
    "            sprot_pct[sprotidx] = pct\n",
    "            sprot_rep[sprotidx] = parse(Int, scopid)\n",
    "        end\n",
    "    end\n",
    "end\n",
    "represented_sprotidx = [i for i=1:n if sprot_pct[i] >= 0.95]\n",
    "represented_sprotid = [sprotids[i] for i=represented_sprotidx]\n",
    "represented_scopidx = [lookup_scop_index[string(sprot_rep[i])] for i=represented_sprotidx]\n",
    "represented_scopid = [scopids[i] for i=represented_scopidx]\n",
    "represented_pct = [sprot_pct[i] for i=represented_sprotidx]"
   ]
  },
  {
   "cell_type": "markdown",
   "id": "38325ab5",
   "metadata": {},
   "source": [
    "Now that Swiss-Prot has been registered to the SCOP2 superfamily representative sequences, write the table to `outputs/`."
   ]
  },
  {
   "cell_type": "code",
   "execution_count": null,
   "id": "d18011d9",
   "metadata": {},
   "outputs": [],
   "source": [
    "columns = [\"sprot-index\", \"sprot-id\", \"scop-index\", \"scop-id\", \"percent identity\"]\n",
    "sprot_scop_registration = DataFrame(\n",
    "    zip(represented_sprotidx, represented_sprotid, represented_scopidx, represented_scopid, represented_pct), \n",
    "    columns)\n",
    "writeframe(\"outputs/sprot_scop_registration.df\", sprot_scop_registration)"
   ]
  },
  {
   "cell_type": "markdown",
   "id": "ef4f9fa1",
   "metadata": {},
   "source": [
    "Write the restriction of Swiss-Prot to sequences with $95\\%$ identity to SCOP2 SF to `data`."
   ]
  },
  {
   "cell_type": "code",
   "execution_count": null,
   "id": "601b96d8",
   "metadata": {},
   "outputs": [],
   "source": [
    "sprot_scop_registration = readframe(\"outputs/sprot_scop_registration.df\")\n",
    "sprot_scop = [sprot[i] for i=sprot_scop_registration.\"sprot-index\"]\n",
    "writefasta(\"data/sprot_scop.fa\", sprot_scop)"
   ]
  },
  {
   "cell_type": "markdown",
   "id": "ea17bb51",
   "metadata": {},
   "source": [
    "## Plot"
   ]
  },
  {
   "cell_type": "code",
   "execution_count": null,
   "id": "c67bc63d",
   "metadata": {},
   "outputs": [],
   "source": [
    "sprot = readsequences(\"data/sprot.fa\")\n",
    "sprot_scop = readsequences(\"data/sprot_scop.fa\")\n",
    "plot(xlabel=\"Sequence length\",\n",
    "     ylabel=\"Occurrences\",\n",
    "     xrange=[50, 2000],\n",
    "     xscale=:log,\n",
    "     xticks=maketicks([50, 100, 200, 500, 1000, 2000]),\n",
    "     legend=:topright,\n",
    "     dpi=500)\n",
    "histogram!(length.(sprot), label=latexstring(sprotall))\n",
    "histogram!(length.(sprot_scop), label=latexstring(sprotscop))\n",
    "savefig(\"figures/LengthDistribution_SwissProt.png\")\n",
    "plot!()"
   ]
  }
 ],
 "metadata": {
  "kernelspec": {
   "display_name": "Julia 1.8.5",
   "language": "julia",
   "name": "julia-1.8"
  },
  "language_info": {
   "file_extension": ".jl",
   "mimetype": "application/julia",
   "name": "julia",
   "version": "1.8.5"
  }
 },
 "nbformat": 4,
 "nbformat_minor": 5
}
