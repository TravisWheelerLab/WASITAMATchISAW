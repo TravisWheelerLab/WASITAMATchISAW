{
 "cells": [
  {
   "cell_type": "code",
   "execution_count": null,
   "id": "36de57bf",
   "metadata": {},
   "outputs": [],
   "source": [
    "b = 50\n",
    "plt.figure(dpi=800)\n",
    "plt.hist(sprot_lengths, color=\"#00008b\", bins=b, label=\"Swiss-Prot\");\n",
    "plt.hist(restricted_sprot_lengths, color=\"#ff7f50\", bins=b, label=\"Swiss-Prot restricted by 95% identity to SCOP2\");\n",
    "plt.legend()\n",
    "plt.xlabel(\"Sequence Length\")\n",
    "plt.ylabel(\"Occurrences\")\n",
    "plt.savefig(\"fig1\")"
   ]
  },
  {
   "cell_type": "code",
   "execution_count": null,
   "id": "83450b5b",
   "metadata": {},
   "outputs": [],
   "source": [
    "plt.figure(dpi=800)\n",
    "plt.hist(primary_score_distributions,\n",
    "         color=primary_colors,\n",
    "         label=primary_labels,\n",
    "         range=[0, 100], bins=100, histtype=\"step\");\n",
    "plt.legend()\n",
    "plt.xlabel(\"BLAST Score\")\n",
    "plt.ylabel(\"Occurrences\")\n",
    "plt.savefig(\"fig2a\")"
   ]
  },
  {
   "cell_type": "code",
   "execution_count": null,
   "id": "9f21fca0",
   "metadata": {},
   "outputs": [],
   "source": [
    "plt.figure(dpi=800)\n",
    "plt.hist(alignments[2:], \n",
    "         color=colors[2:],\n",
    "         label=alignment_labels[2:],\n",
    "         range=[0, 100], bins=100, histtype=\"step\")\n",
    "plt.legend()\n",
    "plt.xlabel(\"BLAST Score\")\n",
    "plt.ylabel(\"Occurrences\")\n",
    "plt.savefig(\"fig2b\")"
   ]
  },
  {
   "cell_type": "code",
   "execution_count": null,
   "id": "f8d4e809",
   "metadata": {},
   "outputs": [],
   "source": [
    "plt.figure(dpi=800)\n",
    "plt.hist(filtered_alignments[2:],\n",
    "         color=colors[2:],\n",
    "         label=alignment_labels[2:],\n",
    "         range=[0, 100], bins=100, histtype=\"step\")\n",
    "plt.legend()\n",
    "plt.xlabel(\"BLAST Score\")\n",
    "plt.ylabel(\"Occurrences\")\n",
    "plt.savefig(\"fig2c\")"
   ]
  },
  {
   "cell_type": "code",
   "execution_count": null,
   "id": "eed8152e",
   "metadata": {},
   "outputs": [],
   "source": [
    "fig, ax = plt.subplots(dpi=800)\n",
    "for i in [2, 3, 0, 1]:\n",
    "    scores_by_length, bounds = score_by_length_geoavg(primary_df[i])\n",
    "    plt.scatter(range(bounds[0], bounds[1] + 1), [np.mean(x) for x in scores_by_length],\n",
    "                s=1, alpha=0.3, color = primary_colors[i], label = primary_labels[i], marker = primary_markers[i])\n",
    "ax.set_xlim(40, 1010)\n",
    "ax.set_ylim(15, 60)\n",
    "plt.xlabel(\"Sequence Length\")\n",
    "plt.ylabel(\"Mean BLAST Score\")\n",
    "leg = plt.legend()\n",
    "for lh in leg.legendHandles: \n",
    "    lh.set_alpha(1)\n",
    "    lh.set\n",
    "plt.xscale(\"log\")\n",
    "plt.savefig(\"fig3a\")"
   ]
  },
  {
   "cell_type": "code",
   "execution_count": null,
   "id": "60526176",
   "metadata": {},
   "outputs": [],
   "source": [
    "fig, ax = plt.subplots(dpi=800)\n",
    "plt.scatter(y = [mean(c) for c in sprotrev_by_length], x = list(range(2000)),\n",
    "           s=1, alpha=0.2, color=\"blue\", label=\"sprot$_{all}$↔rev$_{all}$\", marker='^')\n",
    "plt.scatter(y = [mean(c) for c in shufrev_by_length], x = list(range(2000)),\n",
    "           s=1, alpha=0.2, color=\"red\", label=\"shuf$_{all}$↔shuf_rev$_{all}$\", marker='o')\n",
    "leg = plt.legend()\n",
    "for lh in leg.legendHandles: \n",
    "    lh.set_alpha(1)\n",
    "ax.set_xlim(50, 2000)\n",
    "ax.set_ylim(20, 100)\n",
    "plt.xlabel(\"Sequence Length\")\n",
    "plt.ylabel(\"BLAST Score\")\n",
    "plt.xscale(\"log\")\n",
    "plt.savefig(\"fig3b\")"
   ]
  },
  {
   "cell_type": "code",
   "execution_count": null,
   "id": "9d145254",
   "metadata": {},
   "outputs": [],
   "source": [
    "fig, ax = plt.subplots(dpi=800)\n",
    "plt.scatter(y = [mean(c) for c in hardmasked_by_length], x = list(range(2000)),\n",
    "           s=1, alpha=0.2, color=\"#0eff0e\", label=\"masked sprot$_{all}$↔rev$_{all}$\", marker='*')\n",
    "plt.scatter(y = [mean(c) for c in shufrev_by_length], x = list(range(2000)),\n",
    "           s=1, alpha=0.2, color=\"red\", label=\"shuf$_{all}$↔shuf_rev$_{all}$\", marker='o')\n",
    "#plt.scatter(y = [mean(c) for c in sprotrev_by_length], x = list(range(2000)),\n",
    "#           s=1, alpha=0.2, color=\"blue\", label=\"sprot$_{all}$↔rev$_{all}$\", marker='^')\n",
    "leg = plt.legend()\n",
    "for lh in leg.legendHandles: \n",
    "    lh.set_alpha(1)\n",
    "    lh.set\n",
    "for lh in leg.legendHandles: \n",
    "    lh.set_alpha(1)\n",
    "ax.set_xlim(50, 2000)\n",
    "ax.set_ylim(20, 100)\n",
    "plt.xlabel(\"Sequence Length\")\n",
    "plt.ylabel(\"BLAST Score\")\n",
    "plt.xscale(\"log\")\n",
    "plt.savefig(\"fig3c\")"
   ]
  },
  {
   "cell_type": "code",
   "execution_count": null,
   "id": "7f344f23",
   "metadata": {},
   "outputs": [],
   "source": [
    "plt.figure(dpi=800)\n",
    "bl90_score_distributions = [df[\"score\"].tolist() for df in bl90_frames]\n",
    "box = plt.boxplot(bl90_score_distributions,\n",
    "            labels = bl90_labels,\n",
    "            showfliers=False,\n",
    "            patch_artist=True)\n",
    "for x,c in zip(box[\"boxes\"], bl90_colors):\n",
    "    x.set_facecolor(c)\n",
    "plt.tight_layout()\n",
    "plt.savefig(\"fig4\")"
   ]
  },
  {
   "cell_type": "code",
   "execution_count": null,
   "id": "1250de3b",
   "metadata": {},
   "outputs": [],
   "source": [
    "fig, (ax2, ax1) = plt.subplots(1, 2, dpi=800, figsize=(12, 4))\n",
    "#ax1.scatter(range(2000), mean_sprotpal, label=\"sprot$_{all}$ max palindrome\", marker='^', color=\"blue\",\n",
    "#           s=1, alpha=0.2)\n",
    "ax1.plot(range(1, 2000), [2 * log(x, 1 / sprot_lambda2) + 1 for x in range(1, 2000)],\n",
    "        label=\"2 log n / log (1/λ₂) + 1\",\n",
    "        color=\"red\",\n",
    "        linewidth=1)\n",
    "ax1.scatter(range(2000), mean_shufpal, label=\"shuf$_{all}$ max palindrome\", marker='^', color=\"red\",\n",
    "           s=1, alpha=0.2)\n",
    "ax1.scatter(range(2000), mean_sprot_mpal, label=\"masked sprot$_{all}$ max palindrome\", marker='*', color=\"#0cff0c\",\n",
    "           s=1, alpha=0.2)\n",
    "ax1.set_xlim(50, 2000)\n",
    "ax1.set_ylim(2, 12)\n",
    "leg = ax1.legend()\n",
    "for lh in leg.legendHandles: \n",
    "    lh.set_alpha(1)\n",
    "ax1.set_xscale(\"log\")\n",
    "ax1.set_xlabel(\"Sequence Length\")\n",
    "ax1.set_ylabel(\"Average Substring Length\")\n",
    "ax2.scatter(range(2000), mean_sprotpal, label=\"sprot$_{all}$ max palindrome\", marker='^', color=\"blue\",\n",
    "           s=1, alpha=0.2)\n",
    "ax2.plot(range(1, 2000), [2 * log(x, 1 / sprot_lambda2) + 1 for x in range(1, 2000)],\n",
    "        label=\"2 log n / log (1/λ₂) + 1\",\n",
    "        color=\"red\",\n",
    "        linewidth=1)\n",
    "ax2.scatter(range(2000), mean_shufpal, label=\"shuf$_{all}$ max palindrome\", marker='o', color=\"red\",\n",
    "          s=1, alpha=0.2)\n",
    "ax2.plot(range(1, 2000), [2 * log(x, 1 / sprot_lambda2) for x in range(1, 2000)],\n",
    "        label=\"2 log n / log (1/λ₂)\",\n",
    "        color=\"maroon\",\n",
    "        linewidth=1)\n",
    "ax2.scatter(range(2000), mean_lcs, label=\"LCS(sprot$_{all}$, shuf$_{all}$)\", marker='s', color=\"maroon\",\n",
    "           s=1, alpha=0.2)\n",
    "ax2.set_xlim(50, 2000)\n",
    "ax2.set_ylim(2, 12)\n",
    "leg = ax2.legend()\n",
    "for lh in leg.legendHandles: \n",
    "    lh.set_alpha(1)\n",
    "ax2.set_xscale(\"log\")\n",
    "ax2.set_xlabel(\"Sequence Length\")\n",
    "ax2.set_ylabel(\"Average Substring Length\")\n",
    "plt.savefig(\"fig5\")"
   ]
  }
 ],
 "metadata": {
  "kernelspec": {
   "display_name": "Python 3 (ipykernel)",
   "language": "python",
   "name": "python3"
  },
  "language_info": {
   "codemirror_mode": {
    "name": "ipython",
    "version": 3
   },
   "file_extension": ".py",
   "mimetype": "text/x-python",
   "name": "python",
   "nbconvert_exporter": "python",
   "pygments_lexer": "ipython3",
   "version": "3.9.15"
  }
 },
 "nbformat": 4,
 "nbformat_minor": 5
}
