{
 "cells": [
  {
   "cell_type": "markdown",
   "id": "4224a683",
   "metadata": {},
   "source": [
    "# LPS and LCS in Human Chromosome 22"
   ]
  },
  {
   "cell_type": "code",
   "execution_count": null,
   "id": "f73e3e36",
   "metadata": {},
   "outputs": [],
   "source": [
    "using Plots\n",
    "using Distributions\n",
    "using DataFrames\n",
    "using DelimitedFiles\n",
    "using StringAlgorithms\n",
    "using LaTeXStrings\n",
    "using ProgressMeter\n",
    "include(\"source/utils.jl\")\n",
    "include(\"source/palindrome.jl\")\n",
    "include(\"source/alignment.jl\")\n",
    "include(\"source/expectation.jl\")\n",
    "include(\"source/chromosome.jl\")\n",
    "include(\"source/io.jl\")"
   ]
  },
  {
   "cell_type": "markdown",
   "id": "0ff20154",
   "metadata": {},
   "source": [
    "### The Human Genome\n",
    "Retrieve the sequences of the human chromosome from the UCSC Genome Browser's data:\n",
    "\n",
    "- <a href=\"https://hgdownload.soe.ucsc.edu/goldenPath/hg38/bigZips/p14/hg38.p14.fa.gz\">HG38.p14</a> \n",
    "\n",
    "Unzip with `gzip -d hg38.p14.fa.gz` and move `hg38.p14.fa` to `/data`."
   ]
  },
  {
   "cell_type": "markdown",
   "id": "92d69a08",
   "metadata": {},
   "source": [
    "### HG38 Annotations\n",
    "Retrieve the NCBI annotation for HG38:\n",
    "\n",
    "- <a href=\"https://hgdownload.soe.ucsc.edu/goldenPath/hg38/bigZips/genes/hg38.ncbiRefSeq.gtf.gz\">HG38 NCBI RefSeq GTF</a>\n",
    "\n",
    "Unzip with `gzip -d hg38.ncbiRefSeq.gtf.gz` and move `hg38.ncbiRefSeq.gtf` to `/data`."
   ]
  },
  {
   "cell_type": "markdown",
   "id": "83a56742",
   "metadata": {},
   "source": [
    "### GffRead\n",
    "The command-line tool GffRead can be downloaded and built from its github repository\n",
    "- https://github.com/gpertea/gffread,\n",
    "\n",
    "or installed using a package manager, e.g., `sudo apt install gffread`.\n",
    "\n",
    "Convert the annotation `.gtf` to a `.gff`, and use it to extract reference sequences from the genome sequences. \n",
    "```\n",
    "gffread -E data/hg38.ncbiRefSeq.gtf -o data/hg38.ncbiRefSeq.gff\n",
    "gffread -w data/hg38.refseqs.fa -g data/hg38.p14.fa data/hg38.ncbiRefSeq.gff\n",
    "```"
   ]
  },
  {
   "cell_type": "code",
   "execution_count": null,
   "id": "634ff2b5",
   "metadata": {},
   "outputs": [],
   "source": [
    "anno = readtable(\"data/hg38.ncbiRefSeq.gtf\")\n",
    "seqs = readsequences(\"data/hg38.refseqs.fa\")\n",
    "# locate all the transcripts (~ genes) in the annotation\n",
    "mRNA_mask = anno[:, 3] .== \"transcript\"\n",
    "# (check that the number of sequences is equal to the number of transcripts)\n",
    "@assert sum(mRNA_mask) == length(seqs)\n",
    "# locate transcripts for chromosome 22\n",
    "mRNA = anno[mRNA_mask, :]\n",
    "chr22_mask = mRNA[:, 1] .== \"chr22\"\n",
    "# isolate sequences for chromosome 22\n",
    "chr22_seqs = [seqs[i] for i=1:length(seqs) if chr22_mask[i] && length(seqs[i]) < 50_000]\n",
    "chr22_seqs = filter(x -> !contains(x, 'N'), chr22_seqs)\n",
    "writesequences(\"data/chr22.mRNA.fa\", chr22_seqs)"
   ]
  },
  {
   "cell_type": "markdown",
   "id": "d356a1c1",
   "metadata": {},
   "source": [
    "### Introns and Intergenic regions"
   ]
  },
  {
   "cell_type": "code",
   "execution_count": null,
   "id": "71d5fc77",
   "metadata": {},
   "outputs": [],
   "source": [
    "chr22 = sequence(chromosome(22, readgenome(\"data/hg38.p14.fa\"))[1]);\n",
    "chr22_anno = anno[anno[:, 1] .== \"chr22\", :];\n",
    "chr22_intron_anno = chr22_anno[chr22_anno[:,3] .== \"3UTR\" .|| chr22_anno[:,3] .== \"5UTR\", :]\n",
    "chr22_intron_intervals = chr22_intron_anno[:,4:5]\n",
    "chr22_introns = [chr22[start:stop] for (start,stop)=eachrow(chr22_intron_intervals)];\n",
    "chr22_intron_samples = filter(x -> length(x) < 50_000, chr22_introns)\n",
    "chr22_intron_samples = filter(x -> !contains(x, 'N'), chr22_intron_samples)\n",
    "writesequences(\"data/chr22.intron-samples.fa\", chr22_intron_samples)"
   ]
  },
  {
   "cell_type": "code",
   "execution_count": null,
   "id": "75064a42",
   "metadata": {},
   "outputs": [],
   "source": [
    "chr22_transcripts_anno = chr22_anno[chr22_anno[:, 3] .== \"transcript\", :]\n",
    "chr22_transcript_intervals = Tuple.(eachrow(chr22_transcripts_anno[:, 4:5]))\n",
    "# sample the negative space of the transcript intervals \n",
    "# for substrings with the same length distribution as `chr22_seqs`\n",
    "target_distribution = vcat(length.(chr22_seqs), length.(chr22_intron_samples))\n",
    "chr22_intergenic_samples = []\n",
    "N = length(chr22)\n",
    "for i=1:length(target_distribution)\n",
    "    target_length = target_distribution[i]\n",
    "    idx = rand(1:N-target_length)\n",
    "    while contains(chr22[idx:idx+target_length-1], 'N') || any(interval_in.(idx,chr22_transcript_intervals)) || any(interval_in.(idx+target_length-1,chr22_transcript_intervals))\n",
    "        idx = rand(1:N-target_length)\n",
    "    end\n",
    "    intergenic_seq = chr22[idx:idx+target_length-1]\n",
    "    push!(chr22_intergenic_samples, intergenic_seq)\n",
    "end\n",
    "writesequences(\"data/chr22.intergenic-samples.fa\", chr22_intergenic_samples)"
   ]
  },
  {
   "cell_type": "markdown",
   "id": "0b300387",
   "metadata": {},
   "source": [
    "# Masking repetitive regions with tantan\n",
    "```\n",
    "tantan -x N data/chr22.mRNA.fa > data/chr22.masked-mRNA.fa\n",
    "tantan -x N data/chr22.intron-samples.fa > data/chr22.masked-intron-samples.fa\n",
    "tantan -x N data/chr22.intergenic-samples.fa > data/chr22.masked-intergenic-samples.fa\n",
    "```"
   ]
  },
  {
   "cell_type": "markdown",
   "id": "ed08cdda",
   "metadata": {},
   "source": [
    "### Compute LPS and LCS"
   ]
  },
  {
   "cell_type": "code",
   "execution_count": null,
   "id": "e843599f",
   "metadata": {},
   "outputs": [],
   "source": [
    "function llcs(x, y, progressmeter)\n",
    "    next!(progressmeter)\n",
    "    length(longestcommonsubstring(x, y)[1])\n",
    "end\n",
    "function llps(x, progressmeter)\n",
    "    next!(progressmeter)\n",
    "    length(longestpalindromicsubstring(x))\n",
    "end\n",
    "function generate_lps(x, resultpath)\n",
    "    n = length(x)\n",
    "    results = zeros(Int, n)\n",
    "    p = Progress(n, 1, resultpath)\n",
    "    @threads for i=1:n\n",
    "        results[i] = llps(x[i], p)\n",
    "    end\n",
    "    lx = length.(x)\n",
    "    print(\"writing LPS to \", resultpath)\n",
    "    writeframe(resultpath, DataFrame([lx, results], [\"length\", \"lps\"]))\n",
    "end\n",
    "function generate_lcs(x, y, resultpath)\n",
    "    @assert length(x) == length(y)\n",
    "    n = length(x)\n",
    "    results = zeros(Int, n)\n",
    "    p = Progress(n, 1, resultpath)\n",
    "    @threads for i=1:n\n",
    "        results[i] = llcs(x[i], y[i], p)\n",
    "    end\n",
    "    lx = length.(x)\n",
    "    ly = length.(y)\n",
    "    print(\"writing LCS to \", resultpath)\n",
    "    writeframe(resultpath, DataFrame([lx, ly, results], [\"length1\", \"length2\", \"lcs\"]))\n",
    "end"
   ]
  },
  {
   "cell_type": "code",
   "execution_count": null,
   "id": "671b810a",
   "metadata": {},
   "outputs": [],
   "source": [
    "mRNA = uppercase.(readsequences(\"data/chr22.mRNA.fa\"))\n",
    "masked_mRNA = readsequences(\"data/chr22.masked-mRNA.fa\")\n",
    "masked_mRNA = replace.(masked_mRNA, 'N'=>\"\")\n",
    "shuf_mRNA = shufflefast.(mRNA)\n",
    "introns = uppercase.(readsequences(\"data/chr22.intron-samples.fa\"))\n",
    "masked_introns = readsequences(\"data/chr22.masked-intron-samples.fa\")\n",
    "masked_introns = replace.(masked_introns, 'N'=>\"\")\n",
    "shuf_introns = shufflefast.(introns)\n",
    "intergenics = uppercase.(readsequences(\"data/chr22.intergenic-samples.fa\"))\n",
    "masked_intergenics = readsequences(\"data/chr22.masked-intergenic-samples.fa\")\n",
    "masked_intergenics = replace.(masked_intergenics, 'N'=>\"\")\n",
    "shuf_intergenics = shufflefast.(intergenics)\n",
    "resultpaths = [\n",
    "    \"outputs/chr22.mRNA_shuf-mRNA.lcs\",\n",
    "    \"outputs/chr22.intron_shuf-intron.lcs\",\n",
    "    \"outputs/chr22.intergenic_shuf-intergenic.lcs\",\n",
    "    \"outputs/chr22.shuf-mRNA.lps\",\n",
    "    \"outputs/chr22.shuf-intron.lps\",\n",
    "    \"outputs/chr22.shuf-intergenic.lps\",\n",
    "    \"outputs/chr22.mRNA.lps\",\n",
    "    \"outputs/chr22.intron.lps\",\n",
    "    \"outputs/chr22.intergenic.lps\",\n",
    "    \"outputs/chr22.masked-mRNA.lps\",\n",
    "    \"outputs/chr22.masked-intron.lps\",\n",
    "    \"outputs/chr22.masked-intergenic.lps\",]"
   ]
  },
  {
   "cell_type": "code",
   "execution_count": null,
   "id": "39bc1ac9",
   "metadata": {},
   "outputs": [],
   "source": [
    "generate_lcs(mRNA, shuf_mRNA, resultpaths[1])\n",
    "generate_lcs(introns, shuf_introns, resultpaths[2])\n",
    "generate_lcs(intergenics, shuf_intergenics, resultpaths[3])\n",
    "generate_lps(shuf_mRNA, resultpaths[4])\n",
    "generate_lps(shuf_introns, resultpaths[5])\n",
    "generate_lps(shuf_intergenics, resultpaths[6])\n",
    "generate_lps(mRNA, resultpaths[7])\n",
    "generate_lps(introns, resultpaths[8])\n",
    "generate_lps(intergenics, resultpaths[9])\n",
    "generate_lps(masked_mRNA, resultpaths[10])\n",
    "generate_lps(masked_introns, resultpaths[11])\n",
    "generate_lps(masked_intergenics, resultpaths[12])"
   ]
  },
  {
   "cell_type": "markdown",
   "id": "a08ddc78",
   "metadata": {},
   "source": [
    "# Calculating λ₂"
   ]
  },
  {
   "cell_type": "code",
   "execution_count": null,
   "id": "909f59f9",
   "metadata": {},
   "outputs": [],
   "source": [
    "coincidence(join(mRNA)),coincidence(join(masked_mRNA))"
   ]
  },
  {
   "cell_type": "code",
   "execution_count": null,
   "id": "fab8509b",
   "metadata": {},
   "outputs": [],
   "source": [
    "coincidence(join(introns)),coincidence(join(masked_introns))"
   ]
  },
  {
   "cell_type": "code",
   "execution_count": null,
   "id": "0b45206b",
   "metadata": {},
   "outputs": [],
   "source": [
    "coincidence(join(intergenics)),coincidence(join(masked_intergenics))"
   ]
  },
  {
   "cell_type": "markdown",
   "id": "13c56c31",
   "metadata": {},
   "source": [
    "## Plot [python]"
   ]
  },
  {
   "cell_type": "code",
   "execution_count": null,
   "id": "047043a6",
   "metadata": {},
   "outputs": [],
   "source": [
    "# coincidence frequency (λ₂) for our annotation of chr22\n",
    "lambda2 = 0.25195"
   ]
  },
  {
   "cell_type": "code",
   "execution_count": null,
   "id": "3b325aae",
   "metadata": {},
   "outputs": [],
   "source": [
    "import matplotlib\n",
    "matplotlib.__version__"
   ]
  },
  {
   "cell_type": "code",
   "execution_count": null,
   "id": "7e18ecd0",
   "metadata": {
    "scrolled": false
   },
   "outputs": [],
   "source": [
    "import matplotlib.markers as markers\n",
    "import matplotlib.pyplot as plt\n",
    "import pandas as pd\n",
    "import statistics as stats\n",
    "from time import time\n",
    "from math import *\n",
    "cluster = lambda data, parameter, lo, hi : [data[parameter==x] for x in range(lo,hi+1)]\n",
    "_robust_cluster_means = lambda data_clusters : [stats.mean(cluster) if len(cluster)>0 else -1 for cluster in data_clusters]\n",
    "def robust_cluster_means(clusters, width=1):\n",
    "    if width == 1:\n",
    "        return _robust_cluster_means(clusters)\n",
    "    else:\n",
    "        n = len(clusters)\n",
    "        m = ceil(n / width)\n",
    "        new_clusters = [[] for _ in range(m)]\n",
    "        for i in range(m):\n",
    "            for j in range(i, min(i + width, n)):\n",
    "                new_clusters[i].extend(list(clusters[j]))\n",
    "        return _robust_cluster_means(new_clusters)\n",
    "def scatter_cluster_means(axis, frame, datakey, paramkey, lo, hi, color, marker, label, width=10):\n",
    "    clusters = cluster(frame[datakey], frame[paramkey], lo, hi)\n",
    "    x = robust_cluster_means(clusters, width=width)\n",
    "    m = len(x)\n",
    "    y = [width*i for i in range(0,m)]\n",
    "    axis.scatter(y, x, 60, label=label, marker=marker, facecolors='none', edgecolors=color)\n",
    "def plot_expected_lcs(axis, lambda2, lo, hi, color):\n",
    "    x = list(range(lo,hi+1))\n",
    "    axis.plot(x, [exp_lcs(n, lambda2) for n in x], \n",
    "              color=color, linewidth=1, label=\"𝔼[LCS] = 2log(n)/log(1/λ₂)\")\n",
    "def plot_expected_lps(axis, lambda2, lo, hi, color):\n",
    "    x = list(range(lo,hi+1))\n",
    "    axis.plot(x, [exp_lps(n, lambda2) for n in x], \n",
    "              color=color, linewidth=1, label=\"𝔼[LPS] = 𝔼[LCS] + 1\")\n",
    "def setup_axis(axis,xlo=100,xhi=50_000,ylo=0,yhi=40,legsize=100):\n",
    "    axis.set_xlim(xlo,xhi)\n",
    "    axis.set_xscale(\"log\")\n",
    "    axis.set_xlabel(\"Sequence Length\", fontsize=100, labelpad=30)\n",
    "    axis.set_ylim(ylo,yhi)\n",
    "    axis.set_yscale(\"linear\")\n",
    "    axis.set_ylabel(\"Average Substring Length\", fontsize=100, labelpad=50)\n",
    "    axis.tick_params(axis='both', which='major', labelsize=50)\n",
    "    axis.set_yticks([1,5,10,15,20,25,30,35,40])\n",
    "    leg = axis.legend(prop={'size':legsize}, markerscale=legsize/10, loc=\"upper left\")\n",
    "    for lh in leg.legend_handles: \n",
    "        lh.set_alpha(1)\n",
    "        lh.set_linewidth(10)"
   ]
  },
  {
   "cell_type": "code",
   "execution_count": null,
   "id": "5988caf8",
   "metadata": {},
   "outputs": [],
   "source": [
    "resultpaths = [\n",
    "    \"outputs/chr22.mRNA_shuf-mRNA.lcs\",\n",
    "    \"outputs/chr22.intron_shuf-intron.lcs\",\n",
    "    \"outputs/chr22.intergenic_shuf-intergenic.lcs\",\n",
    "    \"outputs/chr22.shuf-mRNA.lps\",\n",
    "    \"outputs/chr22.shuf-intron.lps\",\n",
    "    \"outputs/chr22.shuf-intergenic.lps\",\n",
    "    \"outputs/chr22.mRNA.lps\",\n",
    "    \"outputs/chr22.intron.lps\",\n",
    "    \"outputs/chr22.intergenic.lps\",\n",
    "    \"outputs/chr22.masked-mRNA.lps\",\n",
    "    \"outputs/chr22.masked-intron.lps\",\n",
    "    \"outputs/chr22.masked-intergenic.lps\",]\n",
    "(lcs_mRNA, \n",
    " lcs_intron, \n",
    " lcs_intergenic, \n",
    " lps_shuf_mRNA,\n",
    " lps_shuf_intron,\n",
    " lps_shuf_intergenic,\n",
    " lps_mRNA,\n",
    " lps_intron,\n",
    " lps_intergenic,\n",
    " lps_masked_mRNA,\n",
    " lps_masked_intron,\n",
    " lps_masked_intergenic,\n",
    ") = [pd.read_csv(x) for x in resultpaths]\n",
    "\n",
    "lcsmaroon = \"#8a1414\"\n",
    "sprotblue = \"#0000ff\"\n",
    "shufred = \"#ff8800\"\n",
    "maskgreen = \"#0cff0c\"\n",
    "\n",
    "lo = lo_protein = lo_rna = lo_pseudogene = 1\n",
    "hi = hi_protein = hi_rna = hi_pseudogene = int(50_000)"
   ]
  },
  {
   "cell_type": "code",
   "execution_count": null,
   "id": "c4c3bf9d",
   "metadata": {},
   "outputs": [],
   "source": [
    "fig, ax = plt.subplots(dpi=100,figsize=(64,48))\n",
    "\n",
    "scatter_cluster_means(ax, lps_mRNA, \"lps\", \"length\", lo_protein, hi_protein,\n",
    "                      sprotblue, '^', \"LPS(mRNA)\")\n",
    "\n",
    "scatter_cluster_means(ax, lps_intron, \"lps\", \"length\", lo_rna, hi_rna,\n",
    "                      sprotblue, 's', \"LPS(intron)\")\n",
    "\n",
    "scatter_cluster_means(ax, lps_intergenic, \"lps\", \"length\", lo_pseudogene, hi_pseudogene,\n",
    "                      sprotblue, 'o', \"LPS(intergenic)\")\n",
    "\n",
    "\n",
    "scatter_cluster_means(ax, lps_shuf_mRNA, \"lps\", \"length\", lo_protein, hi_protein,\n",
    "                      shufred, '^', \"LPS(shuf mRNA)\")\n",
    "\n",
    "scatter_cluster_means(ax, lps_shuf_intron, \"lps\", \"length\", lo_rna, hi_rna,\n",
    "                      shufred, 's', \"LPS(shuf intron)\")\n",
    "\n",
    "scatter_cluster_means(ax, lps_shuf_intergenic, \"lps\", \"length\", lo_pseudogene, hi_pseudogene,\n",
    "                      shufred, 'o', \"LPS(shuf intergenic)\")\n",
    "\n",
    "\n",
    "scatter_cluster_means(ax, lcs_mRNA, \"lcs\", \"length1\", lo_protein, hi_protein,\n",
    "                      lcsmaroon, '^', \"LCS(mRNA, shuf mRNA)\")\n",
    "\n",
    "scatter_cluster_means(ax, lcs_intron, \"lcs\", \"length1\", lo_rna, hi_rna,\n",
    "                      lcsmaroon, 's', \"LCS(intron, shuf intron)\")\n",
    "\n",
    "scatter_cluster_means(ax, lcs_intergenic, \"lcs\", \"length1\", lo_pseudogene, hi_pseudogene,\n",
    "                      lcsmaroon, 'o', \"LCS(intergenic, shuf intergenic)\")\n",
    "\n",
    "\n",
    "setup_axis(ax)\n",
    "plt.tight_layout()\n",
    "plt.savefig(\"figures/LPSLCS_Chromosome22_a.pdf\")"
   ]
  },
  {
   "cell_type": "code",
   "execution_count": null,
   "id": "93c528f3",
   "metadata": {},
   "outputs": [],
   "source": [
    "fig, ax = plt.subplots(dpi=100,figsize=(64,48))\n",
    "\n",
    "scatter_cluster_means(ax, lps_masked_mRNA, \"lps\", \"length\", lo_protein, hi_protein,\n",
    "                      maskgreen, '^', \"LPS(masked mRNA)\")\n",
    "scatter_cluster_means(ax, lps_masked_intron, \"lps\", \"length\", lo_rna, hi_rna,\n",
    "                      maskgreen, 's', \"LPS(masked intron)\")\n",
    "scatter_cluster_means(ax, lps_masked_intergenic, \"lps\", \"length\", lo_pseudogene, hi_pseudogene,\n",
    "                      maskgreen, 'o', \"LPS(masked intergenic)\")\n",
    "\n",
    "scatter_cluster_means(ax, lps_shuf_mRNA, \"lps\", \"length\", lo_protein, hi_protein,\n",
    "                      shufred, '^', \"LPS(shuf mRNA)\")\n",
    "scatter_cluster_means(ax, lps_shuf_intron, \"lps\", \"length\", lo_rna, hi_rna,\n",
    "                      shufred, 's', \"LPS(shuf intron)\")\n",
    "scatter_cluster_means(ax, lps_shuf_intergenic, \"lps\", \"length\", lo_pseudogene, hi_pseudogene,\n",
    "                      shufred, 'o', \"LPS(shuf intergenic)\")\n",
    "\n",
    "setup_axis(ax)\n",
    "plt.tight_layout()\n",
    "plt.savefig(\"figures/LPSLCS_Chromosome22_b.pdf\")"
   ]
  },
  {
   "cell_type": "code",
   "execution_count": null,
   "id": "51286b48",
   "metadata": {},
   "outputs": [],
   "source": []
  }
 ],
 "metadata": {
  "kernelspec": {
   "display_name": "Python 3 (ipykernel)",
   "language": "python",
   "name": "python3"
  },
  "language_info": {
   "codemirror_mode": {
    "name": "ipython",
    "version": 3
   },
   "file_extension": ".py",
   "mimetype": "text/x-python",
   "name": "python",
   "nbconvert_exporter": "python",
   "pygments_lexer": "ipython3",
   "version": "3.11.5"
  }
 },
 "nbformat": 4,
 "nbformat_minor": 5
}
