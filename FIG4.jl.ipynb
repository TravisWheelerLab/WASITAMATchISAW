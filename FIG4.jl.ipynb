{
 "cells": [
  {
   "cell_type": "markdown",
   "id": "0ad09831",
   "metadata": {},
   "source": [
    "# Figure 4\n",
    "### Alignment to reversed homologs"
   ]
  },
  {
   "cell_type": "code",
   "execution_count": 1,
   "id": "d229833d",
   "metadata": {},
   "outputs": [
    {
     "data": {
      "text/plain": [
       "fig4alignment_to_mutated (generic function with 1 method)"
      ]
     },
     "execution_count": 1,
     "metadata": {},
     "output_type": "execute_result"
    }
   ],
   "source": [
    "using FASTX: sequence\n",
    "include(\"source/io.jl\")\n",
    "include(\"source/mutation.jl\")\n",
    "include(\"source/alignment.jl\")\n",
    "include(\"source/io.jl\")\n",
    "function fig4alignment(queries, references)\n",
    "    align(Pairwise(),\n",
    "        queries,\n",
    "        references;\n",
    "        verbose=true, formatter=x::PairwiseAlignmentResult -> score(x))\n",
    "end\n",
    "function fig4alignment_to_mutated(queries, references; pctid=-1.0)\n",
    "    fig4alignment(queries, mutate(references, bl90; pctid=pctid, verbose=true))\n",
    "end"
   ]
  },
  {
   "cell_type": "markdown",
   "id": "9135266a",
   "metadata": {},
   "source": [
    "### BLOSUM90 variants and simulating alignment to homologs"
   ]
  },
  {
   "cell_type": "code",
   "execution_count": 2,
   "id": "8c7fc9a3",
   "metadata": {},
   "outputs": [],
   "source": [
    "sprot = sequence.(readfasta(\"data/sprot.fa\"))\n",
    "shuf_sprot = sequence.(readfasta(\"data/shuf_sprot.fa\"))\n",
    "rev_shuf_sprot = sequence.(readfasta(\"data/rev_shuf_sprot.fa\"));\n",
    "bl90 = parse_score_matrix_distribution(\"data/score-matrix-distributions/out/blosum90.out\");"
   ]
  },
  {
   "cell_type": "code",
   "execution_count": null,
   "id": "e7250ef9",
   "metadata": {},
   "outputs": [
    {
     "name": "stderr",
     "output_type": "stream",
     "text": [
      "\u001b[32mAligning...  53%|█████████████████████▏                  |  ETA: 0:01:37\u001b[39m\u0000:46\u001b[39m"
     ]
    }
   ],
   "source": [
    "aln_shuf = fig4alignment(shuf_sprot, sprot)\n",
    "aln_shufrev = fig4alignment(shuf_sprot, rev_shuf_sprot)\n",
    "aln_shufrevmut46 = fig4alignment_to_mutated(shuf_sprot, rev_shuf_sprot)\n",
    "aln_shufrevmut50 = fig4alignment_to_mutated(shuf_sprot, rev_shuf_sprot; pctid=0.5)\n",
    "aln_shufrevmut60 = fig4alignment_to_mutated(shuf_sprot, rev_shuf_sprot; pctid=0.6)\n",
    "aln_shufrevmut70 = fig4alignment_to_mutated(shuf_sprot, rev_shuf_sprot; pctid=0.7)\n",
    "aln_shufrevmut80 = fig4alignment_to_mutated(shuf_sprot, rev_shuf_sprot; pctid=0.8)\n",
    "aln_shufrevmut90 = fig4alignment_to_mutated(shuf_sprot, rev_shuf_sprot; pctid=0.9)"
   ]
  },
  {
   "cell_type": "markdown",
   "id": "8529c0aa",
   "metadata": {},
   "source": [
    "## Plot"
   ]
  }
 ],
 "metadata": {
  "kernelspec": {
   "display_name": "Julia 12 Threads 1.8.5",
   "language": "julia",
   "name": "julia-12-threads-1.8"
  },
  "language_info": {
   "file_extension": ".jl",
   "mimetype": "application/julia",
   "name": "julia",
   "version": "1.8.5"
  }
 },
 "nbformat": 4,
 "nbformat_minor": 5
}
