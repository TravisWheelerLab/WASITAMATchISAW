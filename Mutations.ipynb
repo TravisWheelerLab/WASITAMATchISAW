{
 "cells": [
  {
   "cell_type": "markdown",
   "id": "0ad09831",
   "metadata": {},
   "source": [
    "# Figure 4\n",
    "### Alignment to reversed homologs"
   ]
  },
  {
   "cell_type": "code",
   "execution_count": null,
   "id": "d229833d",
   "metadata": {},
   "outputs": [],
   "source": [
    "using FASTX: sequence\n",
    "include(\"source/io.jl\")\n",
    "include(\"source/mutation.jl\")\n",
    "include(\"source/alignment.jl\")\n",
    "include(\"source/io.jl\")\n",
    "function fig4alignment(queries, references)\n",
    "    align(Pairwise(),\n",
    "        queries,\n",
    "        references;\n",
    "        verbose=true, formatter=x::PairwiseAlignmentResult -> score(x))\n",
    "end\n",
    "function fig4alignment_to_mutated(queries, references; pctid=-1.0)\n",
    "    fig4alignment(queries, mutate(references, bl90; pctid=pctid, verbose=true))\n",
    "end"
   ]
  },
  {
   "cell_type": "markdown",
   "id": "9135266a",
   "metadata": {},
   "source": [
    "### BLOSUM90 variants and simulating alignment to homologs"
   ]
  },
  {
   "cell_type": "code",
   "execution_count": null,
   "id": "8c7fc9a3",
   "metadata": {},
   "outputs": [],
   "source": [
    "sprot = sequence.(readfasta(\"data/sprot.fa\"))\n",
    "shuf_sprot = sequence.(readfasta(\"data/shuf_sprot.fa\"))\n",
    "rev_shuf_sprot = sequence.(readfasta(\"data/rev_shuf_sprot.fa\"));\n",
    "bl90 = parse_score_matrix_distribution(\"data/score-matrix-distributions/out/blosum90.out\");"
   ]
  },
  {
   "cell_type": "code",
   "execution_count": null,
   "id": "e7250ef9",
   "metadata": {},
   "outputs": [],
   "source": [
    "results = [\n",
    "    fig4alignment(shuf_sprot, sprot),\n",
    "    fig4alignment(shuf_sprot, rev_shuf_sprot),\n",
    "    fig4alignment_to_mutated(shuf_sprot, rev_shuf_sprot),\n",
    "    fig4alignment_to_mutated(shuf_sprot, rev_shuf_sprot; pctid=0.5),\n",
    "    fig4alignment_to_mutated(shuf_sprot, rev_shuf_sprot; pctid=0.6),\n",
    "    fig4alignment_to_mutated(shuf_sprot, rev_shuf_sprot; pctid=0.7),\n",
    "    fig4alignment_to_mutated(shuf_sprot, rev_shuf_sprot; pctid=0.8),\n",
    "    fig4alignment_to_mutated(shuf_sprot, rev_shuf_sprot; pctid=0.9)\n",
    "]"
   ]
  },
  {
   "cell_type": "markdown",
   "id": "8529c0aa",
   "metadata": {},
   "source": [
    "## Plot"
   ]
  },
  {
   "cell_type": "code",
   "execution_count": null,
   "id": "adc3c7b4",
   "metadata": {},
   "outputs": [],
   "source": [
    "using PyPlot\n",
    "figure(dpi=800)\n",
    "bl90_labels = [\n",
    "    \"sprot$_{all}$↔\\\\nshuf$_{all}$\",\n",
    "    \"shuf$_{all}$↔\\\\nshufrev$_{all}$\\\\n-46pct\",                                                                                   \n",
    "    \"shuf$_{all}$↔\\\\nshufrev$_{all}$\\\\n-50pct\",                                                                                   \n",
    "    \"shuf$_{all}$↔\\\\nshufrev$_{all}$\\\\n-60pct\",\n",
    "    \"shuf$_{all}$↔\\\\nshufrev$_{all}$\\\\n-70pct\",                                                                                   \n",
    "    \"shuf$_{all}$↔\\\\nshufrev$_{all}$\\\\n-80pct\",                                                                                   \n",
    "    \"shuf$_{all}$↔\\\\nshufrev$_{all}$\\\\n-90pct\",                                                                                   \n",
    "    \"shuf$_{all}$↔\\\\nshufrev$_{all}$\",]\n",
    "bl90_colors = [\n",
    "    \"orange\", \"$005400\", \"$008000\", \"$3cbd3c\", \"#88e188\", \"#aaffaa\", \"#eeffee\", \"red\"]\n",
    "bl90_score_distributions = results\n",
    "box = boxplot(bl90_score_distributions,\n",
    "            labels = bl90_labels,\n",
    "            showfliers=False,\n",
    "            patch_artist=True)\n",
    "for x,c in zip(box[\"boxes\"], bl90_colors):\n",
    "    x.set_facecolor(c)\n",
    "tight_layout()\n",
    "savefig(\"fig4\")"
   ]
  }
 ],
 "metadata": {
  "kernelspec": {
   "display_name": "Julia 12 Threads 1.8.5",
   "language": "julia",
   "name": "julia-12-threads-1.8"
  },
  "language_info": {
   "file_extension": ".jl",
   "mimetype": "application/julia",
   "name": "julia",
   "version": "1.8.5"
  }
 },
 "nbformat": 4,
 "nbformat_minor": 5
}
