{
 "cells": [
  {
   "cell_type": "markdown",
   "id": "3756ceb7",
   "metadata": {},
   "source": [
    "# Figure 1:\n",
    "### Sequence length distributions in SwissProt and SwissProt restricted by 95% identity to SCOP2 superfamily representatives"
   ]
  },
  {
   "cell_type": "markdown",
   "id": "39492a78",
   "metadata": {},
   "source": [
    "Download the SCOP2 superfamily representative sequences into the `data/` directory.\n",
    "\n",
    "```\n",
    "cd data\n",
    "wget https://scop.mrc-lmb.cam.ac.uk/files/scop_sf_represeq_lib_latest.fa\n",
    "```\n",
    "\n",
    "For convenience, rename the file.\n",
    "\n",
    "```\n",
    "mv scop_sf_represeq_lib_latest.fa scop.fa\n",
    "```\n",
    "\n",
    "Construct a BLAST database from the SCOP2 superfamily representatives. First create a subdirectory to contain the files, then run `makeblastdb` to generate the database. \n",
    "\n",
    "```\n",
    "mkdir scopdb\n",
    "makeblastdb -in scop.fa -out scopdb/scop -dbtype prot -title scop\n",
    "```\n",
    "\n",
    "Download, unzip, and rename Swiss-Prot.\n",
    "\n",
    "```\n",
    "wget https://ftp.uniprot.org/pub/databases/uniprot/current_release/knowledgebase/complete/uniprot_sprot.fasta.gz\n",
    "gzip -d uniprot_sprot.fasta.gz\n",
    "mv uniprot_sprot.fasta.fa sprot.fa\n",
    "```\n",
    "\n",
    "Align Swiss-Prot against the SCOP2 superfamily representative sequences. Set `num_threads` for your system.\n",
    "\n",
    "(On my Latitude 5040, the BLAST search completes in about six hours.)\n",
    "\n",
    "```\n",
    "cd ..\n",
    "mkdir outputs\n",
    "blastp -query data/sprot.fa -db data/scopdb/scopsf -word_size 4 -outfmt \"6 pctid qstart qend sstart send pctid\" -num_threads 12 > outputs/sprot_scopsf.out\n",
    "```"
   ]
  },
  {
   "cell_type": "code",
   "execution_count": null,
   "id": "4e2e310d",
   "metadata": {},
   "outputs": [],
   "source": [
    "# parse the output table\n"
   ]
  },
  {
   "cell_type": "markdown",
   "id": "fcd6601a",
   "metadata": {},
   "source": [
    "# Figure 2\n",
    "## Methods\n",
    "* BLAST\n",
    "* EASEL\n",
    "    * installation\n",
    "* disjointpermutation.jl\n",
    "\n",
    "### a) Generate Swiss-Prot variants\n",
    "- random: find a permutation $\\rho$ of sprot so that sequence $i$ and sequence $\\rho(i)$ are from different SCOP2 superfamilies\n",
    "- shuf$_{\\text{all}}$, shuf: \n",
    "- rev$_{\\text{all}}$, rev: \n",
    "- shufrev$_{\\text{all}}$, shufrev: esl-shuffle\n",
    "\n",
    "### b) Run paired Swiss-Prot alignments\n",
    "- using BLAST for pairwise alignment"
   ]
  },
  {
   "cell_type": "markdown",
   "id": "2a692914",
   "metadata": {},
   "source": [
    "# Figure 3\n",
    "## Methods\n",
    "* BLAST\n",
    "* tantan\n",
    "    * installation\n",
    "* mask.jl\n",
    "\n",
    "### a) Generate soft masks with tantan\n",
    "\n",
    "### b) Run hard-masked paired alignments"
   ]
  },
  {
   "cell_type": "markdown",
   "id": "cf288052",
   "metadata": {},
   "source": [
    "# Figure 4\n",
    "## Methods\n",
    "* BioAlignments\n",
    "* Score matrix distributions\n",
    "    * parsing\n",
    "    * talk to Jack\n",
    "* Sequence mutation (BLOSUM.jl)\n",
    "* Wilcoxon (wilcoxon.jl)\n",
    "\n",
    "### a) Generate BLOSUM90 variants\n",
    "### b) Generate mutations of Swiss-Prot variants\n",
    "### c) Run paired alignments"
   ]
  },
  {
   "cell_type": "markdown",
   "id": "011324b2",
   "metadata": {},
   "source": [
    "# Figure 5\n",
    "## Methods\n",
    "* manacher.jl\n",
    "* BioAlignments\n",
    "    * Configuration for exact alignment\n",
    "\n",
    "### a) Splice repetitive regions from Swiss-Prot using tantan masks\n",
    "### b) Run exact paired alignments and Manacher's algorithm"
   ]
  },
  {
   "cell_type": "markdown",
   "id": "763386be",
   "metadata": {},
   "source": [
    "# Figure 6\n",
    "## Methods\n",
    "* manacher.jl\n",
    "* BioAlignments\n",
    "* EASEL\n",
    "* chromosome.jl\n",
    "\n",
    "### a) Download chromosome 22 and NCBI annotations for protein-coding, non-coding RNA, and pseudo-genes\n",
    "### b) Partition chromosome 22 by NCBI annotations.\n",
    "### c) Generate shuffled variant of chromosome 22\n",
    "### d) Gather LCS, LPS, and alignment"
   ]
  },
  {
   "cell_type": "markdown",
   "id": "d3af5d96",
   "metadata": {},
   "source": [
    "# Figure 7\n",
    "## Methods\n",
    "* manacher.jl\n",
    "* BioAlignments\n",
    "* trypsin.jl\n",
    "\n",
    "### a) Extract tryptic peptides from Swiss-Prot, masked Swiss-Prot.\n",
    "### b) Shuffle tryptic peptides from both sources.\n",
    "### c) Gather LCS and LPS for each."
   ]
  },
  {
   "cell_type": "code",
   "execution_count": null,
   "id": "e9e5e239",
   "metadata": {},
   "outputs": [],
   "source": [
    "using FASTX: sequence, FASTARecord, FASTAWriter\n",
    "using ProgressMeter: @showprogress, Progress, next!\n",
    "using Base.Threads: @threads, nthreads\n",
    "println(\"threads: \", nthreads())\n",
    "include(\"source/io.jl\")\n",
    "include(\"source/trypsin.jl\")\n",
    "include(\"source/palindrome.jl\")\n",
    "sprot = readfasta(\"data/sprot.fa\");\n",
    "try\n",
    "    mkdir(\"data/tryptic\")\n",
    "catch IOError\n",
    "    @warn \"data/tryptic already exists\"\n",
    "end\n",
    "minlength = 5\n",
    "maxlength = 100\n",
    "peptidename(i::Int, j::Int, minlength::Int, maxlength::Int) = \"sprot $(i) tryptic peptide $(j) minlength $(minlength) maxlength $(maxlength)\"\n",
    "p = Progress(length(sprot), 1, \"Digesting...\")\n",
    "FASTAWriter(open(\"data/tryptic/sprot.fa\", \"w\")) do writer\n",
    "   for i=1:length(sprot)\n",
    "        seq = sequence(sprot[i])\n",
    "        tryptic = trypticpeptides(seq, minlength, maxlength)\n",
    "        for j=1:length(tryptic)\n",
    "            header = peptidename(i, j, minlength, maxlength)\n",
    "            record = FASTARecord(header, tryptic[j])`\n",
    "            write(writer, record)\n",
    "        end\n",
    "        next!(p)\n",
    "    end\n",
    "end"
   ]
  },
  {
   "cell_type": "code",
   "execution_count": null,
   "id": "e3d9dc72",
   "metadata": {},
   "outputs": [
    {
     "name": "stdout",
     "output_type": "stream",
     "text": [
      "threads: 12\n"
     ]
    },
    {
     "name": "stderr",
     "output_type": "stream",
     "text": [
      "\u001b[33m\u001b[1m┌ \u001b[22m\u001b[39m\u001b[33m\u001b[1mWarning: \u001b[22m\u001b[39mdata/tryptic already exists\n",
      "\u001b[33m\u001b[1m└ \u001b[22m\u001b[39m\u001b[90m@ Main In[2]:12\u001b[39m\n",
      "\u001b[32mDigesting...   1%|▎                                      |  ETA: 0:52:45\u001b[39m"
     ]
    }
   ],
   "source": [
    "using FASTX: sequence, FASTARecord, FASTAWriter\n",
    "using ProgressMeter: @showprogress, Progress, next!\n",
    "using Base.Threads: @threads, nthreads\n",
    "println(\"threads: \", nthreads())\n",
    "include(\"source/io.jl\")\n",
    "include(\"source/trypsin.jl\")\n",
    "include(\"source/palindrome.jl\")\n",
    "sprot = readfasta(\"data/sprot.fa\");\n",
    "try\n",
    "    mkdir(\"data/tryptic\")\n",
    "catch IOError\n",
    "    @warn \"data/tryptic already exists\"\n",
    "end\n",
    "minlength = 5\n",
    "maxlength = 100\n",
    "peptidename(i::Int, j::Int, minlength::Int, maxlength::Int) = \"> sprot $(i) tryptic peptide $(j) minlength $(minlength) maxlength $(maxlength)\\n\"\n",
    "p = Progress(length(sprot), 1, \"Digesting...\")\n",
    "open(\"data/tryptic/sprot.fa\", \"w\") do writer\n",
    "   for i=1:length(sprot)\n",
    "        seq = sequence(sprot[i])\n",
    "        tryptics = trypticpeptides(seq, minlength, maxlength)\n",
    "        headers = peptidename.([i], 1:length(tryptics), [minlength], [maxlength])\n",
    "        write.(writer, headers .* tryptics .* '\\n')\n",
    "        #for j=1:length(tryptic)\n",
    "        #    header = peptidename(i, j, minlength, maxlength)\n",
    "        #    write(writer, header * tryptic[j] * '\\n')\n",
    "        #end\n",
    "        next!(p)\n",
    "    end\n",
    "end"
   ]
  },
  {
   "cell_type": "code",
   "execution_count": null,
   "id": "f2963471",
   "metadata": {},
   "outputs": [],
   "source": []
  }
 ],
 "metadata": {
  "kernelspec": {
   "display_name": "Julia 12 Threads 1.8.5",
   "language": "julia",
   "name": "julia-12-threads-1.8"
  },
  "language_info": {
   "file_extension": ".jl",
   "mimetype": "application/julia",
   "name": "julia",
   "version": "1.8.5"
  }
 },
 "nbformat": 4,
 "nbformat_minor": 5
}
