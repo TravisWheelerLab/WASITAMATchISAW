{
 "cells": [
  {
   "cell_type": "markdown",
   "id": "3756ceb7",
   "metadata": {},
   "source": [
    "# Figure 1\n",
    "### Sequence length distributions in SwissProt and SwissProt restricted by 95% identity to SCOP2 superfamily representatives"
   ]
  },
  {
   "cell_type": "markdown",
   "id": "eb2f1560",
   "metadata": {},
   "source": [
    "### SCOP2 superfamily database\n",
    "Download the SCOP2 superfamily representative sequences into the `data/` directory.\n",
    "\n",
    "```\n",
    "cd data\n",
    "wget https://scop.mrc-lmb.cam.ac.uk/files/scop_sf_represeq_lib_latest.fa\n",
    "```\n",
    "\n",
    "For convenience, rename the file.\n",
    "\n",
    "```\n",
    "mv scop_sf_represeq_lib_latest.fa scop.fa\n",
    "```"
   ]
  },
  {
   "cell_type": "markdown",
   "id": "6d1dd91e",
   "metadata": {},
   "source": [
    "### Swiss-Prot\n",
    "Download and unzip Swiss-Prot.\n",
    "\n",
    "```\n",
    "wget https://ftp.uniprot.org/pub/databases/uniprot/current_release/knowledgebase/complete/uniprot_sprot.fasta.gz\n",
    "gzip -d uniprot_sprot.fasta.gz\n",
    "```\n",
    "\n",
    "Filter Swiss-Prot for sequences with lengths between 50 and 2000 and write to `data/sprot.fa`.\n",
    "\n",
    "```\n",
    "```"
   ]
  },
  {
   "cell_type": "markdown",
   "id": "39492a78",
   "metadata": {},
   "source": [
    "### BLAST alignment\n",
    "Construct a BLAST database from the SCOP2 superfamily representatives. First create a subdirectory `data/scopdb` to contain the files, then run `makeblastdb` to generate the database. \n",
    "\n",
    "```\n",
    "mkdir scopdb\n",
    "makeblastdb -in scop.fa -out scopdb/scop -dbtype prot -title scop\n",
    "```\n",
    "\n",
    "Align Swiss-Prot against the SCOP2 superfamily representative sequences. Set `num_threads` for your system.\n",
    "\n",
    "(On my Latitude 5040, the BLAST search completes in about six hours.)\n",
    "\n",
    "```\n",
    "cd ..\n",
    "mkdir outputs\n",
    "blastp -query data/sprot.fa -db data/scopdb/scopsf -word_size 4 -outfmt \"6 qstart qend sstart send pctid\" -num_threads 12 > outputs/sprot_scopsf.out\n",
    "```\n",
    "\n",
    "Parse sequence IDs from the output table and register each sequence in Swiss-Prot to a superfamily representative sequence in SCOP2.\n",
    "\n",
    "```\n",
    "```\n",
    "\n",
    "Classify each sequence in Swiss-Prot according to its superfamily's fold. \n",
    "\n",
    "```\n",
    "```"
   ]
  },
  {
   "cell_type": "markdown",
   "id": "fcd6601a",
   "metadata": {},
   "source": [
    "# Figure 2\n",
    "## Methods\n",
    "* BLAST\n",
    "* EASEL\n",
    "    * installation\n",
    "* disjointpermutation.jl\n",
    "\n",
    "### a) Generate Swiss-Prot variants\n",
    "- random: find a permutation $\\rho$ of sprot so that sequence $i$ and sequence $\\rho(i)$ are from different SCOP2 superfamilies\n",
    "- shuf$_{\\text{all}}$, shuf: \n",
    "- rev$_{\\text{all}}$, rev: \n",
    "- shufrev$_{\\text{all}}$, shufrev: esl-shuffle\n",
    "\n",
    "### b) Run paired Swiss-Prot alignments\n",
    "- using BLAST for pairwise alignment"
   ]
  },
  {
   "cell_type": "markdown",
   "id": "2a692914",
   "metadata": {},
   "source": [
    "# Figure 3\n",
    "## Methods\n",
    "* BLAST\n",
    "* tantan\n",
    "    * installation\n",
    "* mask.jl\n",
    "\n",
    "### a) Generate soft masks with tantan\n",
    "\n",
    "### b) Run hard-masked paired alignments"
   ]
  },
  {
   "cell_type": "markdown",
   "id": "cf288052",
   "metadata": {},
   "source": [
    "# Figure 4\n",
    "## Methods\n",
    "* BioAlignments\n",
    "* Score matrix distributions\n",
    "    * parsing\n",
    "    * talk to Jack\n",
    "* Sequence mutation (BLOSUM.jl)\n",
    "* Wilcoxon (wilcoxon.jl)\n",
    "\n",
    "### a) Generate BLOSUM90 variants\n",
    "### b) Generate mutations of Swiss-Prot variants\n",
    "### c) Run paired alignments"
   ]
  },
  {
   "cell_type": "markdown",
   "id": "011324b2",
   "metadata": {},
   "source": [
    "# Figure 5\n",
    "## Methods\n",
    "* manacher.jl\n",
    "* BioAlignments\n",
    "    * Configuration for exact alignment\n",
    "\n",
    "### a) Splice repetitive regions from Swiss-Prot using tantan masks\n",
    "### b) Run exact paired alignments and Manacher's algorithm"
   ]
  },
  {
   "cell_type": "markdown",
   "id": "763386be",
   "metadata": {},
   "source": [
    "# Figure 6\n",
    "### Exact and approximate palindromes in DNA "
   ]
  },
  {
   "cell_type": "markdown",
   "id": "3dd7f10a",
   "metadata": {},
   "source": [
    "### Human Chromosome 22\n",
    "Retrieve chromosome 22 on NCBI Nucleotide.\n",
    "- <a href=\"https://www.ncbi.nlm.nih.gov/nuccore/NC_000022?report=fasta\">GRCh38.p14 Primary Assembly /  NC_000022.11</a>\n",
    "\n",
    "Download the sequence file in FASTA format using the `Send to` dropdown menu.\n",
    "<img src=\"assets/ncbinucleotidesendto.png\"/>"
   ]
  },
  {
   "cell_type": "markdown",
   "id": "e1b0da56",
   "metadata": {},
   "source": [
    "### Chromosome Annotations\n",
    "Retrieve annotations for chromosome 22 e.g., using the NCBI Gene queries from <a href=\"https://en.wikipedia.org/wiki/Chromosome_22#cite_note-NCBI_coding-9\">Wikipedia</a>.\n",
    "- <a href=\"https://www.ncbi.nlm.nih.gov/gene?term=22%5BCHR%5D%20AND%20%22Homo%20sapiens%22%5BOrganism%5D%20AND%20%28%22genetype%20protein%20coding%22%5BProperties%5D%20AND%20alive%5Bprop%5D%29&cmd=DetailsSearch\"> Protein-coding gene annotations </a>\n",
    "- <a href=\"https://www.ncbi.nlm.nih.gov/gene?term=22%5BCHR%5D%20AND%20%22Homo%20sapiens%22%5BOrganism%5D%20AND%20%28%28%22genetype%20miscrna%22%5BProperties%5D%20OR%20%22genetype%20ncrna%22%5BProperties%5D%20OR%20%22genetype%20rrna%22%5BProperties%5D%20OR%20%22genetype%20trna%22%5BProperties%5D%20OR%20%22genetype%20scrna%22%5BProperties%5D%20OR%20%22genetype%20snrna%22%5BProperties%5D%20OR%20%22genetype%20snorna%22%5BProperties%5D%29%20NOT%20%22genetype%20protein%20coding%22%5BProperties%5D%20AND%20alive%5Bprop%5D%29&cmd=DetailsSearch\"> Noncoding RNA annotations </a>\n",
    "- <a href=\"https://www.ncbi.nlm.nih.gov/gene?term=22%5BCHR%5D%20AND%20%22Homo%20sapiens%22%5BOrganism%5D%20AND%20%28%22genetype%20pseudo%22%5BProperties%5D%20AND%20alive%5Bprop%5D%29&cmd=DetailsSearch\"> Pseudogene annotations </a>\n",
    "    \n",
    "Download each annotation file in tabular text format using the `Send to` dropdown menu.\n",
    "<img src=\"assets/ncbigenesendto.png\"/>"
   ]
  },
  {
   "cell_type": "markdown",
   "id": "453fab7f",
   "metadata": {},
   "source": [
    "### Distribution of LPS in chromosome 22\n",
    "Using the `lps` flag, generate the distribution of maximal palindromes in protein-coding, noncoding RNA, and pseudogene regions of chromosome 22.\n",
    "```\n",
    "julia -t 12 fig6.jl data/ncbi_chr22_sequence.fasta data/ncbi_chr22_protein.txt outputs/fig6_chr22palindromes_protein.dlm lps\n",
    "```\n",
    "```\n",
    "julia -t 12 fig6.jl data/ncbi_chr22_sequence.fasta data/ncbi_chr22_pseudo.txt outputs/fig6_chr22palindromes_pseudo.dlm lps\n",
    "```\n",
    "```\n",
    "julia -t 12 fig6.jl data/ncbi_chr22_sequence.fasta data/ncbi_chr22_rna.txt outputs/fig6_chr22palindromes_rna.dlm lps\n",
    "```\n",
    "\n",
    "For a control, rerun each job with the `shuffle` keyword to shuffle each region before the LPS is calculated.\n",
    "```\n",
    "julia -t 12 fig6.jl data/ncbi_chr22_sequence.fasta data/ncbi_chr22_protein.txt outputs/fig6_shuffledchr22palindromes_protein.dlm lps shuffle\n",
    "```\n",
    "```\n",
    "julia -t 12 fig6.jl data/ncbi_chr22_sequence.fasta data/ncbi_chr22_pseudo.txt outputs/fig6_shuffledchr22palindromes_pseudo.dlm lps shuffle\n",
    "```\n",
    "```\n",
    "julia -t 12 fig6.jl data/ncbi_chr22_sequence.fasta data/ncbi_chr22_rna.txt outputs/fig6_shuffledchr22palindromes_rna.dlm lps shuffle\n",
    "```\n"
   ]
  },
  {
   "cell_type": "markdown",
   "id": "22c3f652",
   "metadata": {},
   "source": [
    "### Plot"
   ]
  },
  {
   "cell_type": "code",
   "execution_count": null,
   "id": "428321ad",
   "metadata": {},
   "outputs": [],
   "source": [
    "using Plots\n",
    "using DataFrames\n",
    "using DelimitedFiles"
   ]
  },
  {
   "cell_type": "code",
   "execution_count": null,
   "id": "b1f4f43a",
   "metadata": {},
   "outputs": [],
   "source": [
    "chr22palindromes_protein = readdlm(\"outputs/fig6_chr22palindromes_protein.dlm\", Int)\n",
    "chr22palindromes_pseudo = readdlm(\"outputs/fig6_chr22palindromes_pseudo.dlm\", Int)\n",
    "chr22palindromes_rna = readdlm(\"outputs/fig6_chr22palindromes_rna.dlm\", Int)\n",
    "shuffledchr22palindromes_protein = readdlm(\"outputs/fig6_shuffledchr22palindromes_protein.dlm\", Int)\n",
    "shuffledchr22palindromes_pseudo = readdlm(\"outputs/fig6_shuffledchr22palindromes_pseudo.dlm\", Int)\n",
    "shuffledchr22palindromes_rna = readdlm(\"outputs/fig6_shuffledchr22palindromes_rna.dlm\", Int);"
   ]
  },
  {
   "cell_type": "code",
   "execution_count": null,
   "id": "e4b9a2e6",
   "metadata": {},
   "outputs": [],
   "source": [
    "seqlengths_and_palindromes = [\n",
    "    chr22palindromes_protein, \n",
    "    chr22palindromes_pseudo, \n",
    "    chr22palindromes_rna, \n",
    "    shuffledchr22palindromes_protein, \n",
    "    shuffledchr22palindromes_pseudo, \n",
    "    shuffledchr22palindromes_rna]\n",
    "labels = [\n",
    "    \"protein-coding genes\",\n",
    "    \"pseudogenes\",\n",
    "    \"non-coding rna\",\n",
    "    \"shuffled protein-coding genes\",\n",
    "    \"shuffled pseudogenes\",\n",
    "    \"shuffled non-coding rna\"];"
   ]
  },
  {
   "cell_type": "code",
   "execution_count": null,
   "id": "c2bcd57b",
   "metadata": {},
   "outputs": [],
   "source": [
    "include(\"source/utils.jl\")\n",
    "function plot_distribution_table!(distribution::Matrix{Int}, label)\n",
    "    seq_lengths, lps_lengths = unzip(Tuple.(eachrow(distribution)))\n",
    "    scatter!(seq_lengths, lps_lengths, label=label)\n",
    "end;"
   ]
  },
  {
   "cell_type": "code",
   "execution_count": null,
   "id": "8861fa33",
   "metadata": {},
   "outputs": [],
   "source": [
    "plot(ylabel=\"longest palindromic substring\", \n",
    "     xlabel=\"sequence length\",\n",
    "     xscale=:log,\n",
    "     legend=:topleft)\n",
    "subset = 1:6\n",
    "plot_distribution_table!.(seqlengths_and_palindromes[subset], labels[subset])\n",
    "savefig(\"figures/fig6_chr22palindromes.png\")\n",
    "plot!()"
   ]
  },
  {
   "cell_type": "markdown",
   "id": "6349462c",
   "metadata": {},
   "source": [
    "# Figure 7\n",
    "### Distribution of LPS in tryptic peptides of Swiss-Prot"
   ]
  },
  {
   "cell_type": "markdown",
   "id": "17390c54",
   "metadata": {},
   "source": [
    "### Generate LPS distributions of tryptic peptides\n",
    "Generate LPS distributions of tryptic peptides between lengths `5` and `50` in `data/sprot.fa` and `data/shuf.fa` and write them to `outputs/fig7_shuffledtrypticpalindromes_sprot.dlm` and `outputs/fig7_shuffledtrypticpalindromes_shuf.dlm`.\n",
    "```\n",
    "julia -t 12 fig7.jl data/sprot.fa outputs/fig7_trypticpalindromes_sprot.dlm 5 50\n",
    "```\n",
    "```\n",
    "julia -t 12 fig7.jl data/shuf.fa outputs/fig7_trypticpalindromes_shuf.dlm 5 50\n",
    "```\n",
    "\n",
    "Also generate the LPS distribution for shuffled tryptic peptides in `data\\sprot.fa`. The keyword `shuffle` shuffles each tryptic peptide before it is passed to the LPS algorithm; this allows us to compare palindromicity as a result of low-complexity tryptic peptides (e.g., dipeptide repeats are always palindromic) against palindromicity as a result of patterns that are not permutation invariant.\n",
    "```\n",
    "julia -t 12 fig7.jl data/sprot.fa outputs/fig7_shuffledtrypticpalindromes_sprot.dlm 5 50 shuffle\n",
    "```"
   ]
  },
  {
   "cell_type": "markdown",
   "id": "d5193eea",
   "metadata": {},
   "source": [
    "### Plot"
   ]
  },
  {
   "cell_type": "code",
   "execution_count": null,
   "id": "10523a87",
   "metadata": {},
   "outputs": [],
   "source": [
    "using Plots\n",
    "using DataFrames\n",
    "using DelimitedFiles\n",
    "using StatsBase"
   ]
  },
  {
   "cell_type": "code",
   "execution_count": null,
   "id": "d5339082",
   "metadata": {},
   "outputs": [],
   "source": [
    "minlength = 5\n",
    "maxlength = 50\n",
    "sprotdist = readdlm(\"outputs/fig7_trypticpalindromes_sprot.dlm\", Int)\n",
    "sprotshufdist = readdlm(\"outputs/fig7_shuffledtrypticpalindromes_sprot.dlm\", Int)\n",
    "shufdist = readdlm(\"outputs/fig7_trypticpalindromes_shuf.dlm\", Int);"
   ]
  },
  {
   "cell_type": "code",
   "execution_count": null,
   "id": "160a7efd",
   "metadata": {},
   "outputs": [],
   "source": [
    "function plot_distribution_matrix!(distribution::Matrix{Int}, label)\n",
    "    global minlength, maxlength\n",
    "    @assert maxlength == size(distribution)[1]\n",
    "    distribution = maxlength .* distribution ./ sum(distribution)\n",
    "    # calculate mean length palindrome for each sequence length\n",
    "    avg_pal = [sum(collect(1:maxlength) .* distribution[seq, :]) for seq=minlength:maxlength]\n",
    "    scatter!(minlength:maxlength, avg_pal, label=label)\n",
    "end;"
   ]
  },
  {
   "cell_type": "code",
   "execution_count": null,
   "id": "c1f9915e",
   "metadata": {},
   "outputs": [],
   "source": [
    "plot(title=\"LPS in tryptic peptides length 5-50\",\n",
    "     ylabel=\"longest palindromic substring\",\n",
    "     yrange=(2, 4),\n",
    "     xlabel=\"sequence length\",\n",
    "     xrange=(5, 60),\n",
    "     xscale=:log,\n",
    "     legend=:topleft)\n",
    "plot_distribution_matrix!(shufdist, \"tryptic substrings of random sequences\")\n",
    "plot_distribution_matrix!(sprotdist, \"tryptic peptides in Swiss-Prot\")\n",
    "plot_distribution_matrix!(sprotshufdist, \"shuffled tryptic peptides in Swiss-Prot\")\n",
    "savefig(\"figures/fig7_trypticpeptides.png\")\n",
    "plot!()"
   ]
  },
  {
   "cell_type": "code",
   "execution_count": null,
   "id": "56b080e5",
   "metadata": {},
   "outputs": [],
   "source": [
    "function plot_difference!(dist_A::Matrix{Int}, dist_B::Matrix{Int})\n",
    "    global minlength, maxlength\n",
    "    @assert maxlength == size(dist_A)[1] == size(dist_B)[1]\n",
    "    dist_A = maxlength .* dist_A ./ sum(dist_A)\n",
    "    dist_B = maxlength .* dist_B ./ sum(dist_B)\n",
    "    avg_pal_A =  [sum(collect(1:maxlength) .* dist_A[seq, :]) for seq=minlength:maxlength]\n",
    "    avg_pal_B =  [sum(collect(1:maxlength) .* dist_B[seq, :]) for seq=minlength:maxlength]\n",
    "    plot!([0 for _=minlength:maxlength], color=\"black\", width=0.8, label=false)\n",
    "    plot!(avg_pal_A .- avg_pal_B, label=false)\n",
    "end;"
   ]
  },
  {
   "cell_type": "code",
   "execution_count": null,
   "id": "1ae566b0",
   "metadata": {},
   "outputs": [],
   "source": [
    "plot(title=\"difference in means of tryptic palindromes\\n and shuffled tryptic palindromes\",\n",
    "     ylabel=\"longest palindromic substring\", \n",
    "     xlabel=\"sequence length\",\n",
    "     xscale=:log,\n",
    "     xrange=(5, 50),\n",
    "     legend=:topleft)\n",
    "plot_difference!(sprotdist, sprotshufdist)\n",
    "savefig(\"figures/fig7_reverseaffinity.png\")\n",
    "plot!()"
   ]
  }
 ],
 "metadata": {
  "kernelspec": {
   "display_name": "Julia 12 Threads 1.8.5",
   "language": "julia",
   "name": "julia-12-threads-1.8"
  },
  "language_info": {
   "file_extension": ".jl",
   "mimetype": "application/julia",
   "name": "julia",
   "version": "1.8.5"
  }
 },
 "nbformat": 4,
 "nbformat_minor": 5
}
