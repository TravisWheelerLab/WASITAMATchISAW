{
 "cells": [
  {
   "cell_type": "markdown",
   "id": "3756ceb7",
   "metadata": {
    "jp-MarkdownHeadingCollapsed": true
   },
   "source": [
    "# Figure 1 - Sequence length distributions"
   ]
  },
  {
   "cell_type": "code",
   "execution_count": null,
   "id": "0d051af0",
   "metadata": {},
   "outputs": [],
   "source": [
    "using BioAlignments\n",
    "using FASTX\n",
    "using ProgressMeter\n",
    "using Printf\n",
    "using CSV\n",
    "include(\"source/utils.jl\")\n",
    "include(\"source/io.jl\")\n",
    "include(\"source/alignment.jl\")\n",
    "include(\"source/pctid.jl\")"
   ]
  },
  {
   "cell_type": "markdown",
   "id": "eb2f1560",
   "metadata": {
    "jp-MarkdownHeadingCollapsed": true
   },
   "source": [
    "### SCOP2 superfamily representative sequences\n",
    "Download the SCOP2 superfamily representative sequences into the `data/` directory.\n",
    "\n",
    "```\n",
    "cd data\n",
    "wget https://scop.mrc-lmb.cam.ac.uk/files/scop_sf_represeq_lib_latest.fa\n",
    "```\n",
    "\n",
    "For convenience, rename the file.\n",
    "\n",
    "```\n",
    "mv scop_sf_represeq_lib_latest.fa scop.fa\n",
    "```"
   ]
  },
  {
   "cell_type": "markdown",
   "id": "6d1dd91e",
   "metadata": {},
   "source": [
    "### Swiss-Prot\n",
    "Download and unzip Swiss-Prot.\n",
    "\n",
    "```\n",
    "wget https://ftp.uniprot.org/pub/databases/uniprot/current_release/knowledgebase/complete/uniprot_sprot.fasta.gz\n",
    "gzip -d uniprot_sprot.fasta.gz\n",
    "mv uniprot_sprot.fasta data/sprot.fa\n",
    "```\n",
    "\n",
    "Filter Swiss-Prot to exclude any sequences exceeding 2000 peptides and those with 'X' characters."
   ]
  },
  {
   "cell_type": "code",
   "execution_count": null,
   "id": "60410240",
   "metadata": {},
   "outputs": [],
   "source": [
    "sprot = readsequences(\"data/sprot.fa\")\n",
    "sprot = [seq for seq=sprot if length(seq) < 2000 && !occursin('X', seq)]\n",
    "writesequences(\"data/sprot.fa\", sprot)"
   ]
  },
  {
   "cell_type": "markdown",
   "id": "39492a78",
   "metadata": {},
   "source": [
    "### Many-to-many alignment with BLAST\n",
    "Construct a BLAST database from the SCOP2 superfamily representatives. First create a subdirectory `data/scopdb` to contain the files, then run `makeblastdb` to generate the database. \n",
    "\n",
    "```\n",
    "mkdir scopdb\n",
    "makeblastdb -dbtype prot -in scop.fa -out scopdb/scopsf -title scopsf\n",
    "```\n",
    "\n",
    "Align Swiss-Prot against the SCOP2 superfamily representative sequences. Set `num_threads` for your system.\n",
    "\n",
    "```\n",
    "cd ..\n",
    "mkdir outputs\n",
    "blastp -query data/sprot.fa -db data/scopdb/scop -outfmt \"6 qseqid qstart qend sseqid sstart send\" -num_threads 12 > outputs/sprot_scopsf.out\n",
    "```"
   ]
  },
  {
   "cell_type": "markdown",
   "id": "09ef7813-78ec-4920-8c6a-959b34379895",
   "metadata": {},
   "source": [
    "### Filter Swiss-Prot to sequences with >=95% identity to a representative sequence in the SCOP2 superfamily\n",
    "First, map Swiss-Prot sequence ids to their index in the record and likewise for the SCOP2 SF sequences"
   ]
  },
  {
   "cell_type": "code",
   "execution_count": null,
   "id": "4806504d-99d5-4e1e-a692-d03c6375fff8",
   "metadata": {},
   "outputs": [],
   "source": [
    "sprot = readfasta(\"data/sprot.fa\")\n",
    "sprotids = record_id.(sprot)\n",
    "lookup_sprot_index = Dict(sprotids[i] => i for i=1:length(sprotids))\n",
    "scop = readfasta(\"data/scop.fa\")\n",
    "scopids = record_id.(scop)\n",
    "lookup_scop_index = Dict(scopids[i] => i for i=1:length(scopids))"
   ]
  },
  {
   "cell_type": "markdown",
   "id": "f295db88",
   "metadata": {},
   "source": [
    "Read the search results. Column names can be parsed from BLAST's `-outfmt` argument."
   ]
  },
  {
   "cell_type": "code",
   "execution_count": null,
   "id": "2bf517a9-4fa6-4d16-a34e-6ff77b37bd14",
   "metadata": {
    "scrolled": true
   },
   "outputs": [],
   "source": [
    "columns = split(\"6 qseqid qstart qend sseqid sstart send\", ' ')[2:end]\n",
    "outputs = readtable(\"outputs/sprot_scopsf.out\", columns)\n",
    "m = size(outputs)[1]"
   ]
  },
  {
   "cell_type": "markdown",
   "id": "77b355a4",
   "metadata": {},
   "source": [
    "We could have configured the BLASTP output table to include percent IDs. But BLAST calculates `(alignment_length - gaps) / alignment_length`, whereas we want to calculate `(alignment_length - mismatches - gaps) / alignment_length`. We'll need to rerun alignments using BioAlignment.jl's global alignment."
   ]
  },
  {
   "cell_type": "code",
   "execution_count": null,
   "id": "ebaf98f8-a289-406d-a5c1-a35562461184",
   "metadata": {},
   "outputs": [],
   "source": [
    "qsubstrings = (FASTX.sequence(sprot[lookup_sprot_index[outputs.qseqid[i]]])[outputs.qstart[i]:outputs.qend[i]] \n",
    "    for i=1:m)\n",
    "ssubstrings = (FASTX.sequence(scop[lookup_scop_index[outputs.sseqid[i]]])[outputs.sstart[i]:outputs.send[i]] \n",
    "    for i=1:m)\n",
    "pctid = align(Pairwise(), \n",
    "    qsubstrings, \n",
    "    ssubstrings, \n",
    "    model=GlobalAlignment(),\n",
    "    verbose=true,\n",
    "    formatter=x::PairwiseAlignmentResult -> percentid(x));"
   ]
  },
  {
   "cell_type": "markdown",
   "id": "250a9cc9",
   "metadata": {},
   "source": [
    "Organize the results and filter alignments for percent identity exceeding $95$."
   ]
  },
  {
   "cell_type": "code",
   "execution_count": null,
   "id": "bbef26c9-a931-4f63-853e-87a73a24a807",
   "metadata": {
    "scrolled": true
   },
   "outputs": [],
   "source": [
    "n = length(sprot)\n",
    "sprot_pct = zeros(AbstractFloat, n)\n",
    "sprot_rep = zeros(Int, n)\n",
    "for i=1:m\n",
    "    pct = pctid[i]\n",
    "    sprotidx = lookup_sprot_index[outputs.qseqid[i]]\n",
    "    scopid = outputs.sseqid[i]\n",
    "    if pct >= 0.95\n",
    "        if pct > sprot_pct[sprotidx]\n",
    "            sprot_pct[sprotidx] = pct\n",
    "            sprot_rep[sprotidx] = scopid\n",
    "        end=-\n",
    "    end\n",
    "end\n",
    "represented_sprotidx = [i for i=1:n if sprot_pct[i] >= 0.95]\n",
    "represented_sprotid = [sprotids[i] for i=represented_sprotidx]\n",
    "represented_scopidx = [lookup_scop_index[sprot_rep[i]] for i=represented_sprotidx]\n",
    "represented_scopid = [scopids[i] for i=represented_scopidx]\n",
    "represented_pct = [sprot_pct[i] for i=represented_sprotidx]"
   ]
  },
  {
   "cell_type": "markdown",
   "id": "6fc9c457",
   "metadata": {},
   "source": [
    "Now that Swiss-Prot has been registered to the SCOP2 superfamily representative sequences, write the table to `outputs/`."
   ]
  },
  {
   "cell_type": "code",
   "execution_count": null,
   "id": "3ae1c823",
   "metadata": {},
   "outputs": [],
   "source": [
    "columns = [\"sprot-index\", \"sprot-id\", \"scop-index\", \"scop-id\", \"percent identity\"]\n",
    "sprot_scop_registration = DataFrame(\n",
    "    zip(represented_sprotidx, represented_sprotid, represented_scopidx, represented_scopid, represented_pct), \n",
    "    columns)\n",
    "writeframe(\"outputs/sprot_scop_registration.df\", sprot_scop_registration)"
   ]
  },
  {
   "cell_type": "markdown",
   "id": "95f04880",
   "metadata": {},
   "source": [
    "Also record the restriction of Swiss-Prot to sequences with $95\\%$ identity to SCOP2 SF."
   ]
  },
  {
   "cell_type": "code",
   "execution_count": null,
   "id": "1a8004e2",
   "metadata": {},
   "outputs": [],
   "source": [
    "sprot_scop_registration = readframe(\"outputs/sprot_scop_registration.df\")\n",
    "sprot_scop = [sprot[i] for i=sprot_by_scop2sf.\"sprot-index\"]\n",
    "writefasta(\"data/sprot_scop.fa\", sprot_scop)"
   ]
  },
  {
   "cell_type": "markdown",
   "id": "6c10a51e-47ee-4149-8aa9-9222f980aaf7",
   "metadata": {},
   "source": [
    "### Plot"
   ]
  },
  {
   "cell_type": "code",
   "execution_count": null,
   "id": "6db2e9ce-e26d-42be-b364-585727dfe71e",
   "metadata": {},
   "outputs": [],
   "source": [
    "plot(xlabel=\"Sequence length\",\n",
    "     ylabel=\"Occurrences\",\n",
    "     xrange=[50, 2000],\n",
    "     xscale=:log,\n",
    "     xticks=maketicks([50, 100, 200, 500, 1000, 2000]),\n",
    "     legend=:topright,\n",
    "     dpi=500)\n",
    "histogram!(length.(FASTX.sequence.(sprot)), label=latexstring(sprotall))\n",
    "histogram!(length.(FASTX.sequence.([sprot[i] for i=sprot_by_scop2sf.\"sprot-index\"])), label=latexstring(sprotscop))\n",
    "savefig(\"figures/fig1_sprotlengths.png\")\n",
    "plot!()"
   ]
  },
  {
   "cell_type": "markdown",
   "id": "fcd6601a",
   "metadata": {},
   "source": [
    "# Figure 2 - BLAST score distributions between Swiss-Prot variants"
   ]
  },
  {
   "cell_type": "code",
   "execution_count": null,
   "id": "86248c15",
   "metadata": {},
   "outputs": [],
   "source": [
    "using Plots\n",
    "include(\"source/io.jl\")\n",
    "include(\"source/utils.jl\")\n",
    "include(\"source/derangement.jl\")\n",
    "include(\"source/alignment.jl\")\n",
    "include(\"source/blast.jl\")"
   ]
  },
  {
   "cell_type": "markdown",
   "id": "952a3f06-72bf-4b85-80ba-eb500c327246",
   "metadata": {
    "jp-MarkdownHeadingCollapsed": true
   },
   "source": [
    "### Shuffling and reversing \n",
    "The command `esl-shuffle input.fa > output.fa` shuffles each sequence in a FASTA record in `input.fa` and writes to `output.fa`. Using the `-r` flag, `esl-shuffle -r input.fa > output.fa` reverses each sequence. Generate the shuffled and reversed variants using EASEL.\n",
    "\n",
    "```\n",
    "esl-shuffle data/sprot.fa > data/shuf_sprot.fa\n",
    "esl-shuffle -r data/sprot.fa > data/rev_sprot.fa\n",
    "esl-shuffle -r data/shuf_sprot.fa > data/rev_shuf_sprot.fa\n",
    "\n",
    "esl-shuffle data/sprot_scop.fa > data/shuf_sprot_scop.fa\n",
    "esl-shuffle data/sprot_scop.fa -r > data/rev_sprot_scop.fa\n",
    "esl-shuffle -r data/shuf_sprot_scop.fa > data/rev_shuf_sprot_scop.fa\n",
    "```"
   ]
  },
  {
   "cell_type": "markdown",
   "id": "51971b68",
   "metadata": {},
   "source": [
    "Alternatively, generate the variants using Julia."
   ]
  },
  {
   "cell_type": "code",
   "execution_count": null,
   "id": "ddf0a297",
   "metadata": {},
   "outputs": [],
   "source": [
    "sprot = readsequences(\"data/sprot.fa\")\n",
    "rev_sprot = reverse.(sprot)\n",
    "writesequences(\"data/rev_sprot.fa\", rev_sprot)\n",
    "shuf_sprot = shufflefast.(sprot)\n",
    "writesequences(\"data/shuf_sprot.fa\", shuf_sprot)\n",
    "rev_shuf_sprot = reverse.(shuf_sprot)\n",
    "writesequences(\"data/rev_shuf_sprot.fa\", rev_shuf_sprot)"
   ]
  },
  {
   "cell_type": "code",
   "execution_count": null,
   "id": "6b9cb6f7",
   "metadata": {},
   "outputs": [],
   "source": [
    "sprot_scop = readsequences(\"data/sprot_scop.fa\")\n",
    "rev_sprot_scop = reverse.(sprot_scop)\n",
    "writesequences(\"data/rev_sprot.fa\", rev_sprot_scop)\n",
    "shuf_sprot_scop = shufflefast.(sprot_scop)\n",
    "writesequences(\"data/shuf_sprot.fa\", shuf_sprot_scop)\n",
    "rev_shuf_sprot_scop = reverse.(shuf_sprot_scop)\n",
    "writesequences(\"data/rev_shuf_sprot.fa\", rev_shuf_sprot_scop)"
   ]
  },
  {
   "cell_type": "markdown",
   "id": "a1050fd5-0e88-491c-945a-f87459b1802c",
   "metadata": {
    "jp-MarkdownHeadingCollapsed": true
   },
   "source": [
    "### Classify Swiss-Prot sequences by their SCOP2 fold\n",
    "Download the SCOP2 classification table.\n",
    "\n",
    "```\n",
    "cd data\n",
    "wget http://scop.mrc-lmb.cam.ac.uk/files/scop-cla-latest.txt\n",
    "```\n",
    "\n",
    "If the cells for Figure 1 have not yet been run, run them now. The following cell requires `outputs/sprot_by_scop2sf.df`.\n",
    "\n",
    "Pair each sequence in `data/sprot_scop.fa` to its SCOP2 superfamily representative. Assign the Swiss-Prot sequence the fold of its SCOP2 superfamily representative and store these in a CSV.\n"
   ]
  },
  {
   "cell_type": "code",
   "execution_count": null,
   "id": "0c3c82cd-f39e-47d3-aae3-bebf21be3fb4",
   "metadata": {
    "scrolled": true
   },
   "outputs": [],
   "source": [
    "scoptable = readscopclass(\"data/scop-cla-latest.txt\")\n",
    "foldlookup = Dict(Pair.(parse.(Int, scoptable.\"SF-DOMID\"), scoptable.\"CF\"));\n",
    "sprot_scop_registration = readframe(\"outputs/sprot_scop_registration.df\")\n",
    "sprot_scop_registration.\"fold\" = [foldlookup[scopid] for scopid=sprot_by_scop2sf.\"scop-id\"]\n",
    "writeframe(\"outputs/sprot_scop_registration.df\", sprot_scop_registration)"
   ]
  },
  {
   "cell_type": "markdown",
   "id": "ea10c163-ee28-4340-ad40-8c6562d0264b",
   "metadata": {
    "jp-MarkdownHeadingCollapsed": true
   },
   "source": [
    "### Construct a derangement of the SCOP2 SF fold classification of Swiss-Prot.\n",
    "A derangement is a permutation that has no fixed points: **(1, 2, 3, 4) -> (3, 1, 4, 2)** is a derangement; **(1, 2, 3, 4) -> (3, 2, 4, 1)** is not. \n",
    "\n",
    "Construct a derangement $\\rho$ with respect to the fold classification such that all pairs of sequences $(s_i, s_{\\rho(i)})$ between Swiss-Prot and its reordering have distinct folds."
   ]
  },
  {
   "cell_type": "code",
   "execution_count": null,
   "id": "90e60680-4913-4d99-855d-21190f8ad51a",
   "metadata": {},
   "outputs": [],
   "source": [
    "sprot_scop_registration = readframe(\"outputs/sprot_scop_registration.df\")\n",
    "# the derangement is constructed from a vector of integers.\n",
    "# assign indices to each fold identified with a Swiss-Prot sequence. \n",
    "unique_folds = unique(sprot_by_scop2sf.\"fold\")\n",
    "indexlookup = Dict(Pair.(unique_folds, 1:length(unique_folds)))\n",
    "# then generate a vector of integers mapping sprot_scop index to fold index.\n",
    "sprot_scop_fold_indices = [indexlookup[fold] for fold=sprot_by_scop2sf.\"fold\"]\n",
    "# construct a deragenment of the sprot_scop fold sequence.\n",
    "ρ = derangement(sprot_scop_fold_indices, weighted=true)\n",
    "# and permute sprot by the same derangement.\n",
    "sprot = readfasta(\"data/sprot.fa\")\n",
    "sprot_scop = [sprot[i] for i=sprot_by_scop2sf.\"sprot-index\"]\n",
    "reorder = sprot_scop[ρ]\n",
    "writefasta(\"data/reorder_sprot_scop.fa\", reorder)"
   ]
  },
  {
   "cell_type": "markdown",
   "id": "476df617-36f7-4c36-b052-c384909f14bb",
   "metadata": {},
   "source": [
    "### Paired alignment with BLAST\n",
    "With each variant constructed, run the full experiment structure using the Julia wrapper for `BLAST`.\n",
    "\n",
    "<img src=\"assets/diagram.png\" width=500 alt=\"The words sprot, shuf, rev, shufrev, and random are drawn in print. Four lines are drawn between these words, representing paired alignment between the sequence sets. A purple line connects sprot to random. A blue line connects sprot to rev. An orange line connects shuf to sprot. A red line connects shuf to shufrev.\"/>\n",
    "\n",
    "##### (this takes a while...)"
   ]
  },
  {
   "cell_type": "code",
   "execution_count": null,
   "id": "896d44af-751f-43bd-8778-20921e1238a3",
   "metadata": {},
   "outputs": [],
   "source": [
    "queries = [\n",
    "    \"data/sprot_scop.fa\", \n",
    "    \"data/sprot_scop.fa\", \n",
    "    \"data/sprot_scop.fa\", \n",
    "    \"data/shuf_sprot_scop.fa\"]\n",
    "references = [\n",
    "    \"data/reorder_sprot_scop.fa\", \n",
    "    \"data/shuf_sprot_scop.fa\", \n",
    "    \"data/rev_sprot_scop.fa\", \n",
    "    \"data/rev_shuf_sprot_scop.fa\"]\n",
    "name(x) = split(split(x, '/')[2], '.')[1]\n",
    "querynames = name.(queries)\n",
    "referencenames = name.(references)\n",
    "resultnames = [\"$(qname)↔$(rname)\" for (qname, rname)=zip(querynames, referencenames)]\n",
    "resultpaths = [\"data/$(name).dlm\" for name=resultnames]\n",
    "n = length(resultpaths)\n",
    "results = search.([Pairwise()], queries, references; verbose=true, careful=true, ntasks=12)\n",
    "for i=1:n\n",
    "    result_table = parse_blastp(results[i])\n",
    "    writeframe(resultpaths[i], DataFrame(result_table, BLASTP_COLUMNS))\n",
    "end"
   ]
  },
  {
   "cell_type": "markdown",
   "id": "56f656a7-a0d5-40eb-b15a-1f2759bf268d",
   "metadata": {},
   "source": [
    "### Plot"
   ]
  },
  {
   "cell_type": "code",
   "execution_count": null,
   "id": "b023d0e9-aebd-43aa-8ea5-cf7ec77900a6",
   "metadata": {},
   "outputs": [],
   "source": [
    "using Plots\n",
    "using FASTX\n",
    "include(\"source/io.jl\")\n",
    "include(\"source/utils.jl\")\n",
    "function fig2plot!(x, label, color)\n",
    "    stephist!(x, label=label, color=color, bins=1:80)\n",
    "end\n",
    "colors = [\"purple\", \"orange\", \"blue\", \"red\"]\n",
    "results = readframe.(resultpaths)\n",
    "scores = [frame.score for frame=results]"
   ]
  },
  {
   "cell_type": "code",
   "execution_count": null,
   "id": "5ef2acf3-8e36-41b0-adee-86fed618df4f",
   "metadata": {},
   "outputs": [],
   "source": [
    "plot(xlabel=\"Score\",\n",
    "     ylabel=\"Alignments\",\n",
    "     legend=:outertop,\n",
    "     dpi=500)\n",
    "fig2plot!(scores[1], latexstring(BLAST(sprotscop, reorder(sprotscop))), colors[1])\n",
    "fig2plot!(scores[2], latexstring(BLAST(sprotscop, shuf(sprotscop))), colors[2])\n",
    "fig2plot!(scores[3], latexstring(BLAST(sprotscop, rev(sprotscop))), colors[3])\n",
    "fig2plot!(scores[4], latexstring(BLAST(shuf(sprotscop), rev(shuf(sprotscop)))), colors[4])\n",
    "plot!()"
   ]
  },
  {
   "cell_type": "code",
   "execution_count": null,
   "id": "3c8074cd",
   "metadata": {},
   "outputs": [],
   "source": [
    "#? plot without highest-scoring match for each alignment\n",
    "# revision: how many hits come from palindromic intervals"
   ]
  },
  {
   "cell_type": "markdown",
   "id": "2a692914",
   "metadata": {},
   "source": [
    "# Figure 3 - BLAST scores by sequence length"
   ]
  },
  {
   "cell_type": "code",
   "execution_count": null,
   "id": "7b92c1a2",
   "metadata": {},
   "outputs": [],
   "source": [
    "using Plots\n",
    "using FASTX\n",
    "include(\"source/io.jl\")\n",
    "include(\"source/utils.jl\")\n",
    "include(\"source/alignment.jl\")\n",
    "include(\"source/blast.jl\")"
   ]
  },
  {
   "cell_type": "markdown",
   "id": "636ef6dc-f097-4bcc-876e-830cbc74ab5c",
   "metadata": {},
   "source": [
    "### Mask repetitive regions in Swiss-Prot using tantan\n",
    "Rather than using lowercase letters for masks, configure tantan to mask with 'X' characters.\n",
    "\n",
    "```\n",
    "tantan -x X data/sprot.fa > data/masked_sprot.fa\n",
    "```"
   ]
  },
  {
   "cell_type": "markdown",
   "id": "d5b8e779-db5f-4ac5-be17-7a9aeac53408",
   "metadata": {},
   "source": [
    "### Masked paired alignment with BLAST"
   ]
  },
  {
   "cell_type": "code",
   "execution_count": null,
   "id": "3bec5fb7-6ef3-48f6-bbc6-f65ecced3879",
   "metadata": {},
   "outputs": [],
   "source": [
    "queries = [\n",
    "    \"data/sprot.fa\", \n",
    "    \"data/sprot.fa\",\n",
    "    \"data/masked_sprot.fa\",\n",
    "    \"data/shuf_sprot.fa\",]\n",
    "references = [\n",
    "    \"data/shuf.fa\", \n",
    "    \"data/rev_sprot.fa\", \n",
    "    \"data/rev_sprot.fa\", \n",
    "    \"data/rev_shuf_sprot.fa\"]\n",
    "name(x) = split(split(x, '/')[2], '.')[1]\n",
    "querynames = name.(queries)\n",
    "referencenames = name.(references)\n",
    "resultnames = [\"$(qname)↔$(rname)\" for (qname, rname)=zip(querynames, referencenames)]\n",
    "resultpaths = [\"data/$(name).dlm\" for name=resultnames]\n",
    "n = length(resultpaths)"
   ]
  },
  {
   "cell_type": "code",
   "execution_count": null,
   "id": "98064e42-f9b0-4974-8096-036577861b83",
   "metadata": {
    "scrolled": true
   },
   "outputs": [],
   "source": [
    "# this could take a while!\n",
    "results = search.([Pairwise()], queries, references; verbose=true, careful=true, ntasks=40)\n",
    "for i=1:n\n",
    "    result_table = parse_blastp(results[i])\n",
    "    writeframe(resultpaths[i], DataFrame(result_table, BLASTP_COLUMNS))\n",
    "end"
   ]
  },
  {
   "cell_type": "markdown",
   "id": "71dfd9d9-cd15-4c96-8578-8ebc1310b49a",
   "metadata": {},
   "source": [
    "### Plot"
   ]
  },
  {
   "cell_type": "code",
   "execution_count": null,
   "id": "96a5310e-23f7-43b3-899f-8d83f482d023",
   "metadata": {},
   "outputs": [],
   "source": [
    "function fig3plot!(x, label, color)\n",
    "    scatter!(x, label=label, color=color, bins=1:80)\n",
    "end\n",
    "querylengths = [length.(sequence.(readfasta(q))) for q=queries]\n",
    "referencelengths = [length.(sequence.(readfasta(r))) for r=references]\n",
    "geometricmeanlengths = [[geometricmean(q, r) for (q, r)=zip(qlengths, rlengths)] for (rlengths, qlengths)=zip(querylengths, referencelengths)]\n",
    "n = length(geometricmeanlengths)[1]\n",
    "colors = [\"purple\", \"orange\", \"blue\", \"red\"]\n",
    "results = readframe.(resultpaths)\n",
    "scores = [frame.score for frame=results]"
   ]
  },
  {
   "cell_type": "code",
   "execution_count": null,
   "id": "584aaf4c",
   "metadata": {},
   "outputs": [],
   "source": [
    "plot(xlabel=\"Sequence Length\",\n",
    "     ylabel=\"Average Score\",\n",
    "     legend=:outertop,\n",
    "     dpi=500)\n",
    "fig3plot!(scores[1], latexstring(BLAST(sprotall, shuf(sprotall))), colors[1])\n",
    "fig3plot!(scores[2], latexstring(BLAST(sprotall, rev(sprotall))), colors[2])\n",
    "fig3plot!(scores[3], latexstring(BLAST(mask(sprotall), rev(sprotall))), colors[3])\n",
    "fig3plot!(scores[4], latexstring(BLAST(shuf(sprotall), rev(shuf(sprotall)))), colors[4])\n",
    "plot!()"
   ]
  },
  {
   "cell_type": "markdown",
   "id": "cf288052",
   "metadata": {
    "jp-MarkdownHeadingCollapsed": true
   },
   "source": [
    "# Figure 4 - Alignments to reversed homologs"
   ]
  },
  {
   "cell_type": "code",
   "execution_count": null,
   "id": "de325108",
   "metadata": {},
   "outputs": [],
   "source": [
    "using FASTX: sequence\n",
    "include(\"source/io.jl\")\n",
    "include(\"source/mutation.jl\")\n",
    "include(\"source/alignment.jl\")\n",
    "include(\"source/io.jl\")\n",
    "function fig4alignment(queries, references)\n",
    "    align(Pairwise(),\n",
    "        queries,\n",
    "        references;\n",
    "        verbose=true, formatter=x::PairwiseAlignmentResult -> score(x))\n",
    "end\n",
    "function fig4alignment_to_mutated(queries, references; pctid=-1.0)\n",
    "    alignment(queries, mutate(references, bl90; pctid=pctid, verbose=true))\n",
    "end"
   ]
  },
  {
   "cell_type": "markdown",
   "id": "f5a30430-6812-439a-8d50-60a686ea3ea7",
   "metadata": {
    "jp-MarkdownHeadingCollapsed": true
   },
   "source": [
    "### BLOSUM90 variants and simulating alignment to homologs"
   ]
  },
  {
   "cell_type": "code",
   "execution_count": null,
   "id": "881d1596",
   "metadata": {},
   "outputs": [],
   "source": [
    "sprot = sequence.(readfasta(\"data/sprot.fa\"))\n",
    "shuf_sprot = sequence.(readfasta(\"data/shuf_sprot.fa\"))\n",
    "rev_shuf_sprot = sequence.(readfasta(\"data/rev_shuf_sprot.fa\"));\n",
    "bl90 = parse_score_matrix_distribution(\"data/score-matrix-distributions/out/blosum90.out\");"
   ]
  },
  {
   "cell_type": "code",
   "execution_count": null,
   "id": "23967f23",
   "metadata": {
    "scrolled": true
   },
   "outputs": [],
   "source": [
    "aln_shuf = fig4alignment(shuf_sprot, sprot)\n",
    "aln_shufrev = fig4alignment(shuf_sprot, rev_shuf_sprot)\n",
    "aln_shufrevmut46 = fig4alignment_to_mutated(shuf_sprot, rev_shuf_sprot)\n",
    "aln_shufrevmut50 = fig4alignment_to_mutated(shuf_sprot, rev_shuf_sprot; pctid=0.5)\n",
    "aln_shufrevmut60 = fig4alignment_to_mutated(shuf_sprot, rev_shuf_sprot; pctid=0.6)\n",
    "aln_shufrevmut70 = fig4alignment_to_mutated(shuf_sprot, rev_shuf_sprot; pctid=0.7)\n",
    "aln_shufrevmut80 = fig4alignment_to_mutated(shuf_sprot, rev_shuf_sprot; pctid=0.8)\n",
    "aln_shufrevmut90 = fig4alignment_to_mutated(shuf_sprot, rev_shuf_sprot; pctid=0.9)"
   ]
  },
  {
   "cell_type": "markdown",
   "id": "40ce9388-e28d-41cb-a26d-15ec1dc8045d",
   "metadata": {
    "jp-MarkdownHeadingCollapsed": true
   },
   "source": [
    "### Plot"
   ]
  },
  {
   "cell_type": "code",
   "execution_count": null,
   "id": "8484a3df-a4c2-4379-9dcd-63ef3b39280c",
   "metadata": {},
   "outputs": [],
   "source": [
    "# box plots"
   ]
  },
  {
   "cell_type": "markdown",
   "id": "011324b2",
   "metadata": {
    "jp-MarkdownHeadingCollapsed": true
   },
   "source": [
    "# Figure 5 - LPS, LCS in Swiss-Prot"
   ]
  },
  {
   "cell_type": "code",
   "execution_count": null,
   "id": "84f20676",
   "metadata": {},
   "outputs": [],
   "source": [
    "include(\"source/io.jl\")\n",
    "include(\"source/mask.jl\")\n",
    "include(\"source/palindrome.jl\")\n",
    "include(\"source/alignment.jl\")\n",
    "shuf_sprot = readsequences(\"data/shuf_sprot.fa\")\n",
    "sprot = readsequences(\"data/sprot.fa\");"
   ]
  },
  {
   "cell_type": "markdown",
   "id": "7660f5c2-820a-4ef7-967e-89826e150779",
   "metadata": {
    "jp-MarkdownHeadingCollapsed": true
   },
   "source": [
    "### Splice repetitive regions from Swiss-Prot \n",
    "Splice masked characters ('X') from `data/masked_sprot.fa`."
   ]
  },
  {
   "cell_type": "code",
   "execution_count": null,
   "id": "93fb4030",
   "metadata": {},
   "outputs": [],
   "source": [
    "hardmasked_sprot = hardmask.(readsequences(\"data/masked_sprot.fa\"));"
   ]
  },
  {
   "cell_type": "markdown",
   "id": "98f4ccb5-53fc-4f97-a8c5-c0de79c6d727",
   "metadata": {
    "jp-MarkdownHeadingCollapsed": true
   },
   "source": [
    "### Generate LPS and LCS \n",
    "#### (using BioAlignments.jl for gapless exact alignment)"
   ]
  },
  {
   "cell_type": "code",
   "execution_count": null,
   "id": "ddecc331-7d50-4901-9e18-adeaddadb89f",
   "metadata": {},
   "outputs": [],
   "source": [
    "shuf_lps = interval_length.(longestpalindromicsubstring.(shuf_sprot))\n",
    "sprot_lps = interval_length.(longestpalindromicsubstring.(sprot))\n",
    "masked_lps = interval_length.(longestpalindromicsubstring.(hardmasked_sprot))\n",
    "lcs = align(Pairwise(),\n",
    "    sprot,\n",
    "    shuf_sprot;\n",
    "    schema=SUBSTRING_ALIGNMENT_SCHEMA, \n",
    "    formatter=x::PairwiseAlignmentResult -> score(x),\n",
    "    verbose=true,)"
   ]
  },
  {
   "cell_type": "markdown",
   "id": "20e65b36-df24-4780-8e6f-81af802936bb",
   "metadata": {
    "jp-MarkdownHeadingCollapsed": true
   },
   "source": [
    "### Plot"
   ]
  },
  {
   "cell_type": "code",
   "execution_count": null,
   "id": "c0b8f015-eee5-4108-b187-dc821ea479d6",
   "metadata": {},
   "outputs": [],
   "source": [
    "# scatter plots"
   ]
  },
  {
   "cell_type": "markdown",
   "id": "763386be",
   "metadata": {
    "jp-MarkdownHeadingCollapsed": true
   },
   "source": [
    "# Figure 6 - LPS, LCS in DNA "
   ]
  },
  {
   "cell_type": "code",
   "execution_count": null,
   "id": "961da083",
   "metadata": {},
   "outputs": [],
   "source": [
    "using Plots\n",
    "using DataFrames\n",
    "using DelimitedFiles\n",
    "using StringAlgorithms\n",
    "using LaTeXStrings\n",
    "include(\"source/utils.jl\")\n",
    "include(\"source/io.jl\")\n",
    "include(\"source/palindrome.jl\")\n",
    "include(\"source/alignment.jl\")\n",
    "include(\"source/chromosome.jl\")"
   ]
  },
  {
   "cell_type": "markdown",
   "id": "3dd7f10a",
   "metadata": {
    "jp-MarkdownHeadingCollapsed": true
   },
   "source": [
    "### Human Chromosome 22\n",
    "Retrieve chromosome 22 on NCBI Nucleotide.\n",
    "- <a href=\"https://www.ncbi.nlm.nih.gov/nuccore/NC_000022?report=fasta\">GRCh38.p14 Primary Assembly /  NC_000022.11</a>\n",
    "\n",
    "Download the sequence file in FASTA format using the `Send to` dropdown menu.\n",
    "<img src=\"assets/ncbinucleotidesendto.png\"/>"
   ]
  },
  {
   "cell_type": "markdown",
   "id": "e1b0da56",
   "metadata": {
    "jp-MarkdownHeadingCollapsed": true
   },
   "source": [
    "### NCBI Gene Annotations\n",
    "Retrieve annotations for chromosome 22 e.g., using the NCBI Gene queries from <a href=\"https://en.wikipedia.org/wiki/Chromosome_22#cite_note-NCBI_coding-9\">Wikipedia</a>.\n",
    "- <a href=\"https://www.ncbi.nlm.nih.gov/gene?term=22%5BCHR%5D%20AND%20%22Homo%20sapiens%22%5BOrganism%5D%20AND%20%28%22genetype%20protein%20coding%22%5BProperties%5D%20AND%20alive%5Bprop%5D%29&cmd=DetailsSearch\"> Protein-coding gene annotations </a>\n",
    "- <a href=\"https://www.ncbi.nlm.nih.gov/gene?term=22%5BCHR%5D%20AND%20%22Homo%20sapiens%22%5BOrganism%5D%20AND%20%28%28%22genetype%20miscrna%22%5BProperties%5D%20OR%20%22genetype%20ncrna%22%5BProperties%5D%20OR%20%22genetype%20rrna%22%5BProperties%5D%20OR%20%22genetype%20trna%22%5BProperties%5D%20OR%20%22genetype%20scrna%22%5BProperties%5D%20OR%20%22genetype%20snrna%22%5BProperties%5D%20OR%20%22genetype%20snorna%22%5BProperties%5D%29%20NOT%20%22genetype%20protein%20coding%22%5BProperties%5D%20AND%20alive%5Bprop%5D%29&cmd=DetailsSearch\"> Noncoding RNA annotations </a>\n",
    "- <a href=\"https://www.ncbi.nlm.nih.gov/gene?term=22%5BCHR%5D%20AND%20%22Homo%20sapiens%22%5BOrganism%5D%20AND%20%28%22genetype%20pseudo%22%5BProperties%5D%20AND%20alive%5Bprop%5D%29&cmd=DetailsSearch\"> Pseudogene annotations </a>\n",
    "    \n",
    "Download each annotation file in tabular text format using the `Send to` dropdown menu.\n",
    "<img src=\"assets/ncbigenesendto.png\"/>"
   ]
  },
  {
   "cell_type": "markdown",
   "id": "6e4b504f-32ba-4070-9638-248acf6057e8",
   "metadata": {
    "jp-MarkdownHeadingCollapsed": true
   },
   "source": [
    "### Masking with tantan\n",
    "Run `tantan` on `data/ncbi_chr22_sequence.fasta` to mask repetitive and low-complexity regions; store the masked file in `data/ncbi_chr22_masked_sequence.fasta`. Rather than using lowercase letters for masks, configure tantan to mask with 'N' characters with the `-x N` argument. The proceeding script will automatically remove these along with the other 'N' characters already present in the chromosome.\n",
    "\n",
    "```\n",
    "tantan -x N data/ncbi_chr22_sequence.fasta > data/ncbi_chr22_masked_sequence.fasta\n",
    "```"
   ]
  },
  {
   "cell_type": "markdown",
   "id": "211a1172",
   "metadata": {},
   "source": [
    "### Distribution of LPS in chromosome 22"
   ]
  },
  {
   "cell_type": "code",
   "execution_count": null,
   "id": "c7fe909b",
   "metadata": {},
   "outputs": [],
   "source": [
    "chromosome = loadchromosome(\"data/ncbi_chr22_sequence.fasta\")\n",
    "masked_chromosome = loadchromosome(\"data/ncbi_chr22_masked_sequence.fasta\")\n",
    "protein_annotation = loadannotation(\"data/ncbi_chr22_protein.txt\")\n",
    "rna_annotation = loadannotation(\"data/ncbi_chr22_rna.txt\")\n",
    "pseudogene_annotation = loadannotation(\"data/ncbi_chr22_pseudo.txt\")\n",
    "#\n",
    "protein = annotate(chromosome, protein_annotation)\n",
    "println(length(protein))\n",
    "rna = annotate(chromosome, rna_annotation)\n",
    "println(length(rna))\n",
    "pseudogene = annotate(chromosome, pseudogene_annotation)\n",
    "println(length(pseudogene))\n",
    "#\n",
    "masked_protein = annotate(masked_chromosome, protein_annotation)\n",
    "println(length(masked_protein))\n",
    "masked_rna = annotate(masked_chromosome, rna_annotation)\n",
    "println(length(masked_rna))\n",
    "masked_pseudogene = annotate(masked_chromosome, pseudogene_annotation)\n",
    "println(length(masked_pseudogene))\n",
    "#\n",
    "shuf_protein = shufflefast.(protein)\n",
    "println(length(shuf_protein))\n",
    "shuf_rna = shufflefast.(rna)\n",
    "println(length(shuf_rna))\n",
    "shuf_pseudogene = shufflefast.(pseudogene);\n",
    "println(length(shuf_pseudogene))"
   ]
  },
  {
   "cell_type": "code",
   "execution_count": null,
   "id": "4bc068ce",
   "metadata": {
    "scrolled": true
   },
   "outputs": [],
   "source": [
    "function record_lps(pathtodlm::AbstractString, sequences)\n",
    "    sequencelengths = length.(sequences)\n",
    "    lpslengths = maximum.(manacher.(sequences))\n",
    "    frame = DataFrame(hcat(sequencelengths, lpslengths), [\"Sequence\", \"LPS\"])\n",
    "    writeframe(pathtodlm, frame)\n",
    "end\n",
    "lpsoutputpaths = [\"outputs/fig6_lps_chr22protein.dlm\",\n",
    "    \"outputs/fig6_lps_chr22rna.dlm\",\n",
    "    \"outputs/fig6_lps_chr22pseudogene.dlm\",\n",
    "    \"outputs/fig6_lps_masked_chr22protein.dlm\",\n",
    "    \"outputs/fig6_lps_masked_chr22rna.dlm\",\n",
    "    \"outputs/fig6_lps_masked_chr22pseudogene.dlm\",\n",
    "    \"outputs/fig6_lps_shuf_chr22protein.dlm\",\n",
    "    \"outputs/fig6_lps_shuf_chr22rna.dlm\",\n",
    "    \"outputs/fig6_lps_shuf_chr22pseudogene.dlm\"]\n",
    "record_lps.(lpsoutputpaths,\n",
    "    [protein,\n",
    "    rna,\n",
    "    pseudogene,\n",
    "    masked_protein,\n",
    "    masked_rna,\n",
    "    masked_pseudogene,\n",
    "    shuf_protein,\n",
    "    shuf_rna,\n",
    "    shuf_pseudogene])"
   ]
  },
  {
   "cell_type": "markdown",
   "id": "0bfa9f57",
   "metadata": {},
   "source": [
    "### Distribution of random LCS in chromosome 22"
   ]
  },
  {
   "cell_type": "code",
   "execution_count": null,
   "id": "93905734",
   "metadata": {},
   "outputs": [],
   "source": [
    "function record_lcs(pathtodlm::AbstractString, queries, targets)\n",
    "    querylengths = length.(queries)\n",
    "    targetlengths = length.(targets)\n",
    "    sequencelengths = sqrt.(querylengths .* targetlengths)\n",
    "    lcs = longestcommonsubstring.(queries, targets)\n",
    "    lcslengths = length.(first.(lcs))\n",
    "    frame = DataFrame(hcat(querylengths, targetlengths, sequencelengths, lcslengths), [\"Query\", \"Target\", \"Geometric\", \"LCS\"])\n",
    "    writeframe(pathtodlm, frame)\n",
    "end\n",
    "lcsoutputpaths = [\"outputs/fig6_lcs_chr22protein.dlm\",\n",
    "    \"outputs/fig6_lcs_chr22rna.dlm\",\n",
    "    \"outputs/fig6_lcs_chr22pseudogene.dlm\"]\n",
    "queries = [protein, rna, pseudogene]\n",
    "targets = [shuf_protein, shuf_rna, shuf_pseudogene]\n",
    "record_lcs.(lcsoutputpaths, queries, targets)"
   ]
  },
  {
   "cell_type": "markdown",
   "id": "22c3f652",
   "metadata": {
    "jp-MarkdownHeadingCollapsed": true
   },
   "source": [
    "### Plot"
   ]
  },
  {
   "cell_type": "code",
   "execution_count": null,
   "id": "2ce66a56",
   "metadata": {},
   "outputs": [],
   "source": [
    "lps = readframe.(lpsoutputpaths)\n",
    "lps_titles = latexstring.(avg.(LPS.([\n",
    "    chr22protein,\n",
    "    chr22pseudo,\n",
    "    chr22rna,\n",
    "    mask(chr22protein),\n",
    "    mask(chr22pseudo),\n",
    "    mask(chr22rna),\n",
    "    shuf(chr22protein),\n",
    "    shuf(chr22pseudo),\n",
    "    shuf(chr22rna),\n",
    "])))\n",
    "lps_colors = [:blue, :blue2, :blue3, :green, :green2, :green3, :red, :red2, :red3, ]\n",
    "lps_markers = [:dtriangle, :utriangle, :rtriangle, :star6, :star7, :star8, :+, :x, :star4, ]\n",
    "lcs = readframe.(lcsoutputpaths)\n",
    "lcs_titles = latexstring.(avg.(LCS.([chr22protein,chr22pseudo,chr22rna],\n",
    "                                shuf.([chr22protein,chr22pseudo,chr22rna]))))\n",
    "lcs_colors = [:darkorange1, :darkorange2, :darkorange3]\n",
    "lcs_markers = [:diamond, :rect, :pixel]"
   ]
  },
  {
   "cell_type": "code",
   "execution_count": null,
   "id": "762cb0b0",
   "metadata": {},
   "outputs": [],
   "source": [
    "function fig6_lps(result, title, color, marker)\n",
    "    scatter!(result.Sequence, result.LPS; color=color, marker=marker, label=title,\n",
    "        markerstrokecolor=color, markershape=marker, ms=2, ma=0.4)\n",
    "end\n",
    "function fig6_lcs(result, title, color, marker)\n",
    "    scatter!(result.Geometric, result.LCS; color=color, marker=marker, label=title,\n",
    "        markerstrokecolor=color, markershape=marker, ms=2, ma=0.4)\n",
    "end\n",
    "plot(ylabel=\"Substring length\",\n",
    "     xlabel=\"Sequence length\",\n",
    "     xscale=:log,\n",
    "     legend=:outertop,\n",
    "     dpi=500)\n",
    "fig6_lps.(reverse.([lps, lps_titles, lps_colors, lps_markers])...)\n",
    "savefig(\"figures/fig6a.png\")\n",
    "plot!()"
   ]
  },
  {
   "cell_type": "code",
   "execution_count": null,
   "id": "c78c3125",
   "metadata": {},
   "outputs": [],
   "source": [
    "function fig6b_lps(result, title, color, marker)\n",
    "    histogram!(result.Sequence, result.LPS; color=color, label=title,\n",
    "        markerstrokecolor=color, markershape=marker, ms=2, ma=0.4, bins=15)\n",
    "end\n",
    "function fig6b_lcs(result, title, color, marker)\n",
    "    histogram!(result.Geometric, result.LCS; color=color, label=title,\n",
    "        markerstrokecolor=color, markershape=marker, ms=2, ma=0.4, bins=15)\n",
    "end\n",
    "plot(ylabel=\"Average Substring length\",\n",
    "     xlabel=\"Sequence length\",\n",
    "     xscale=:log,\n",
    "     legend=:outertop,\n",
    "     dpi=500)\n",
    "fig6b_lps.(lps[7:9], lps_titles[7:9], lps_colors[7:9], lps_markers[7:9])\n",
    "fig6b_lcs.(lcs, lcs_titles, lcs_colors, lcs_markers)\n",
    "savefig(\"figures/fig6b.png\")\n",
    "plot!()"
   ]
  },
  {
   "cell_type": "raw",
   "id": "161301d2-b921-4600-b245-d1bd7a161e79",
   "metadata": {},
   "source": [
    "[:+, :auto, :circle, :cross, :diamond, :dtriangle, :heptagon, :hexagon, :hline, :ltriangle, :none, :octagon, :pentagon, :pixel, :rect, :rtriangle, :star4, :star5, :star6, :star7, :star8, :utriangle, :vline, :x, :xcross]"
   ]
  },
  {
   "cell_type": "raw",
   "id": "db54f6f9",
   "metadata": {},
   "source": [
    "plot(ylabel=\"Average LPS length\", \n",
    "     xlabel=\"Sequence length\",\n",
    "     xscale=:log,\n",
    "     legend=:outertop,\n",
    "     dpi=500)\n",
    "subset = 1:length(seqlengths_and_palindromes)\n",
    "plot_distribution_table!.(seqlengths_and_palindromes[subset], labels[subset], colors[subset], markers[subset])\n",
    "savefig(\"figures/fig6_chr22palindromes.png\")\n",
    "plot!()"
   ]
  },
  {
   "cell_type": "markdown",
   "id": "6349462c",
   "metadata": {
    "jp-MarkdownHeadingCollapsed": true
   },
   "source": [
    "# Figure 7 - LPS, LCS in tryptic peptides of Swiss-Prot"
   ]
  },
  {
   "cell_type": "code",
   "execution_count": null,
   "id": "abdb0343",
   "metadata": {},
   "outputs": [],
   "source": [
    "include(\"source/utils.jl\")\n",
    "include(\"source/mask.jl\")\n",
    "include(\"source/io.jl\")\n",
    "include(\"source/alignment.jl\")\n",
    "include(\"source/palindrome.jl\")\n",
    "include(\"source/trypsin.jl\")\n",
    "using Plots\n",
    "using DataFrames\n",
    "using DelimitedFiles\n",
    "using StatsBase"
   ]
  },
  {
   "cell_type": "markdown",
   "id": "17390c54",
   "metadata": {
    "jp-MarkdownHeadingCollapsed": true
   },
   "source": [
    "### Generate LPS distributions of tryptic peptides"
   ]
  },
  {
   "cell_type": "code",
   "execution_count": null,
   "id": "84e0bc64",
   "metadata": {},
   "outputs": [],
   "source": [
    "shuf_sprot = readsequences(\"data/shuf_sprot.fa\")\n",
    "sprot = readsequences(\"data/sprot.fa\")\n",
    "hardmasked_sprot = hardmask.(readsequences(\"data/masked_sprot.fa\"))\n",
    "minlength = 5\n",
    "maxlength = 50;\n",
    "newLPSdist() = zeros(Int, (maxlength, maxlength))\n",
    "newLCSdist() = zeros(Int, (maxlength + 1, maxlength + 1))"
   ]
  },
  {
   "cell_type": "code",
   "execution_count": null,
   "id": "bd77ed48",
   "metadata": {},
   "outputs": [],
   "source": [
    "# tryptic LPS in shuf(sprot)\n",
    "shuf_sprot_dist = newLPSdist()\n",
    "trypticLPSdistribution!(shuf_sprot_dist, shuf_sprot, minlength, maxlength; verbose=true)\n",
    "writetable(\"outputs/fig7_trypticLPS_shuf_sprot.dlm\", shuf_sprot_dist)\n",
    "# tryptic LPS in sprot\n",
    "sprot_dist = newLPSdist()\n",
    "trypticLPSdistribution!(sprot_dist, sprot, minlength, maxlength; verbose=true)\n",
    "writetable(\"outputs/fig7_trypticLPS_sprot.dlm\", sprot_dist)\n",
    "# tryptic LPS in masked(sprot)\n",
    "hardmasked_sprot_dist = newLPSdist()\n",
    "trypticLPSdistribution!(hardmasked_sprot_dist, hardmasked_sprot, minlength, maxlength; verbose=true)\n",
    "writetable(\"outputs/fig7_trypticLPS_masked_sprot.dlm\", hardmasked_sprot_dist)\n",
    "# LCS between tryptic peptides and shuffled tryptic peptides\n",
    "lcs_dist = newLCSdist()\n",
    "trypticLCSdistribution!(lcs_dist, sprot, minlength, maxlength; verbose=true)\n",
    "writetable(\"outputs/fig7_trypticLCS_sprot.dlm\", lcs_dist)\n",
    "# LCS between random tryptic peptides within the same sequence\n",
    "lcs2_dist = newLCSdist()\n",
    "trypticLCS2distribution!(lcs2_dist, sprot, minlength, maxlength; verbose=true)\n",
    "writetable(\"outputs/fig7_trypticLCS2_sprot.dlm\", lcs2_dist)"
   ]
  },
  {
   "cell_type": "markdown",
   "id": "d5193eea",
   "metadata": {},
   "source": [
    "### Plot"
   ]
  },
  {
   "cell_type": "code",
   "execution_count": null,
   "id": "10523a87",
   "metadata": {},
   "outputs": [],
   "source": [
    "minlength = 5\n",
    "maxlength = 50\n",
    "function plot_LPS_distribution_matrix!(distribution::Matrix{Int}, label)\n",
    "    global minlength, maxlength\n",
    "    @assert maxlength == size(distribution)[1]\n",
    "    distribution = maxlength .* distribution ./ sum(distribution)\n",
    "    # calculate mean length palindrome for each sequence length\n",
    "    avg_lps = [sum(collect(1:maxlength) .* distribution[seq, :]) for seq=minlength:maxlength]\n",
    "    plot!(minlength:maxlength, avg_lps, label=label)\n",
    "end\n",
    "function plot_LCS_distribution_matrix!(distribution::Matrix{Int}, label)\n",
    "    global minlength, maxlength\n",
    "    @assert maxlength == size(distribution)[1]\n",
    "    distribution = maxlength .* distribution ./ sum(distribution)\n",
    "    # calculate mean length palindrome for each sequence length\n",
    "    avg_lcs = [sum(collect(1:maxlength) .* distribution[seq, :]) - 1 for seq=minlength:maxlength]\n",
    "    plot!(minlength:maxlength, avg_lcs, label=label)\n",
    "end\n",
    "function plot_difference!(dist_A::Matrix{Int}, dist_B::Matrix{Int}, label)\n",
    "    global minlength, maxlength\n",
    "    @assert maxlength == size(dist_A)[1] == size(dist_B)[1]\n",
    "    dist_A = maxlength .* dist_A ./ sum(dist_A)\n",
    "    dist_B = maxlength .* dist_B ./ sum(dist_B)\n",
    "    avg_pal_A =  [sum(collect(1:maxlength) .* dist_A[seq, :]) for seq=minlength:maxlength]\n",
    "    avg_pal_B =  [sum(collect(1:maxlength) .* dist_B[seq, :]) for seq=minlength:maxlength]\n",
    "    plot!(minlength:maxlength, avg_pal_A .- avg_pal_B, label=label)\n",
    "end\n",
    "trypticlpslabel(x) = latexstring(avg(LPS(tryptic(x))))\n",
    "trypticlcslabel(x, y) = latexstring(avg(LCS(tryptic(x), tryptic(y))))\n",
    "meandifflabel(x) = latexstring(avg(diff(LPS(tryptic(x)), LPS(permute(tryptic(x))))));"
   ]
  },
  {
   "cell_type": "code",
   "execution_count": null,
   "id": "d5339082",
   "metadata": {},
   "outputs": [],
   "source": [
    "shuf_dist = readdlm(\"outputs/fig7_trypticLPS_shuf_sprot.dlm\", Int)\n",
    "sprot_dist = readdlm(\"outputs/fig7_trypticLPS_sprot.dlm\", Int)\n",
    "hardmaskedsprot_dist = readdlm(\"outputs/fig7_trypticLPS_masked_sprot.dlm\", Int)\n",
    "lcs_dist = readdlm(\"outputs/fig7_trypticLCS_sprot.dlm\", Int)\n",
    "lcs2_dist = readdlm(\"outputs/fig7_trypticLCS2_sprot.dlm\", Int)"
   ]
  },
  {
   "cell_type": "code",
   "execution_count": null,
   "id": "c1f9915e",
   "metadata": {},
   "outputs": [],
   "source": [
    "plot(yrange=(1.5, 4.5),\n",
    "     xlabel=\"Sequence length\",\n",
    "     xrange=(5, 50),\n",
    "     xticks=([5, 10, 25, 50], [5, 10, 25, 50]),\n",
    "     xscale=:log2,\n",
    "     legend=:outertop,\n",
    "     dpi=500)\n",
    "plot_LPS_distribution_matrix!(shuf_sprot_dist, trypticlpslabel(shuf(sprotall)))\n",
    "plot_LPS_distribution_matrix!(sprot_dist, trypticlpslabel(sprotall))\n",
    "plot_LPS_distribution_matrix!(hardmasked_sprot_dist, trypticlpslabel(mask(sprotall)))\n",
    "plot_LCS_distribution_matrix!(lcs_dist, trypticlcslabel(sprotall, shuf(sprotall)))\n",
    "plot_LCS_distribution_matrix!(lcs2_dist, trypticlcslabel(sprotall, shuf(sprotall)))\n",
    "savefig(\"figures/fig7_trypticpeptides.png\")\n",
    "plot!()"
   ]
  },
  {
   "cell_type": "markdown",
   "id": "6fc341b5",
   "metadata": {},
   "source": [
    "# A Better Benchmark?"
   ]
  }
 ],
 "metadata": {
  "kernelspec": {
   "display_name": "Julia 12 Threads 1.8.5",
   "language": "julia",
   "name": "julia-12-threads-1.8"
  },
  "language_info": {
   "file_extension": ".jl",
   "mimetype": "application/julia",
   "name": "julia",
   "version": "1.8.5"
  }
 },
 "nbformat": 4,
 "nbformat_minor": 5
}
