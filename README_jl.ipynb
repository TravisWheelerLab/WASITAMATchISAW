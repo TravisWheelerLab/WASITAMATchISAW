{
 "cells": [
  {
   "cell_type": "markdown",
   "id": "4afbd229",
   "metadata": {},
   "source": [
    "# Figure 1\n",
    "## Methods\n",
    "* wget\n",
    "* BLAST\n",
    "* BioAlignments.jl\n",
    "* WASITAMATchISAW.jl\n",
    "\n",
    "### a) Download Swiss-Prot and SCOP2\n",
    "* Download Swiss-Prot\n",
    "    * https://www.uniprot.org/help/downloads\n",
    "    * unzip the .gz archive.\n",
    "* Download SCOP2 superfamily representatives\n",
    "    * https://scop.mrc-lmb.cam.ac.uk/download\n",
    "    * right-click and \"Save Page as...\"\n",
    "    \n",
    "Both files should be in the FASTA format, e.g.:\n",
    "\n",
    "`/home/georgeglidden/Downloads/scop_sf_represeq_lib_latest.fa`\n",
    "\n",
    "`/home/georgeglidden/Downloads/uniprot_sprot.fasta`\n",
    "\n",
    "Create a data folder for the FASTA files, e.g.:\n",
    "\n",
    "`cd /home/georgeglidden/Desktop/WASITAMATchISAW/`\n",
    "\n",
    "`mkdir data/`\n",
    "\n",
    "`mv /home/georgeglidden/Downloads/scop_sf_represent_lib_latest.fa data/scop2sf.fa`\n",
    "\n",
    "`mv /home/georgeglidden/Downloads/uniprot_sprot.fasta data/sprot.fa`\n",
    "\n",
    "A subdirectory for the BLAST database will also be necessary:\n",
    "\n",
    "`mkdir data/scop2sfdb`\n",
    "\n",
    "Eventually, the outputs directory will also be needed:\n",
    "\n",
    "`mkdir outputs`"
   ]
  },
  {
   "cell_type": "markdown",
   "id": "b8f617eb",
   "metadata": {},
   "source": [
    "### b) Register Swiss-Prot to SCOP2 superfamily representatives\n",
    "Make a database for SCOP2 \n",
    "\n",
    "`makeblastdb -in data/scop2sf.fa -db data/scop2sfdb/scop2sf -dbtype prot -out data/scop2sfdb/scop2sf -title data/scop2sfdb/scop2sf`\n",
    "\n",
    "Collect alignments between Swiss-Prot and SCOP2\n",
    "\n",
    "`blastp -query data/sprot.fa /data/scop2sfdb/scop2sf -word_size 4 -outfmt 7 -num_threads 12 > outputs/sprot_scop2.txt`"
   ]
  },
  {
   "cell_type": "code",
   "execution_count": null,
   "id": "56183b32",
   "metadata": {},
   "outputs": [],
   "source": [
    "# locate datasets\n",
    "pathtoscop2sf = \"data/scop2sf.fa\"\n",
    "pathtosprot = \"data/sprot.fa\"\n",
    "# make a database for SCOP2.\n",
    "pathtoscop2sfdb = \"data/scop2sfdb/scop2sf\"\n",
    "include(\"source/blast.jl\")\n",
    "using .BLAST\n",
    "BLAST.makeblastdb(pathtoscop2sf, pathtoscop2sfdb)"
   ]
  },
  {
   "cell_type": "code",
   "execution_count": null,
   "id": "d5a674a6",
   "metadata": {},
   "outputs": [],
   "source": [
    "# collect alignments between Swiss-Prot and SCOP2.\n",
    "# THIS CELL MAY TAKE SEVERAL HOURS TO COMPUTE\n",
    "sprot_scop2sf_alignment = BLAST.blastp(pathtosprot, pathtoscop2sfdb, numthreads=12)"
   ]
  },
  {
   "cell_type": "code",
   "execution_count": null,
   "id": "f019cd81",
   "metadata": {},
   "outputs": [],
   "source": [
    "# clean up the database\n",
    "BLAST.cleanup_makeblastdb(pathtoscop2sfdb)\n",
    "# parse BLAST output table to a DataFrame\n",
    "# write to outputs/"
   ]
  },
  {
   "cell_type": "markdown",
   "id": "57d07615",
   "metadata": {},
   "source": [
    "### c) Restrict Swiss-Prot by SCOP2 superfamily pctid"
   ]
  },
  {
   "cell_type": "code",
   "execution_count": null,
   "id": "a59db572",
   "metadata": {},
   "outputs": [],
   "source": [
    "# load Swiss-Prot / SCOP2 alignment output into a DataFrame"
   ]
  },
  {
   "cell_type": "code",
   "execution_count": 8,
   "id": "24fee427",
   "metadata": {},
   "outputs": [],
   "source": [
    "# calculate percent ID for each alignment\n",
    "# restrict Swiss-Prot to the sequences with greater than 95% percent identity to a SCOP2 superfamily representative sequence"
   ]
  },
  {
   "cell_type": "markdown",
   "id": "26905eab",
   "metadata": {},
   "source": [
    "### d) Plot lengths distribution "
   ]
  },
  {
   "cell_type": "code",
   "execution_count": 10,
   "id": "3ebbe908",
   "metadata": {},
   "outputs": [],
   "source": [
    "# calculate lengths distribution for Swiss-Prot and Swiss-Prot |{>=95} SCOP2\n",
    "# save to CSVs"
   ]
  },
  {
   "cell_type": "raw",
   "id": "9ccb9197",
   "metadata": {},
   "source": [
    "b = 50\n",
    "plt.figure(dpi=800)\n",
    "plt.hist(sprot_lengths, color=\"#00008b\", bins=b, label=\"Swiss-Prot\");\n",
    "plt.hist(restricted_sprot_lengths, color=\"#ff7f50\", bins=b, label=\"Swiss-Prot restricted by 95% identity to SCOP2\");\n",
    "plt.legend()\n",
    "plt.xlabel(\"Sequence Length\")\n",
    "plt.ylabel(\"Occurrences\")\n",
    "plt.savefig(\"fig1\")"
   ]
  },
  {
   "cell_type": "raw",
   "id": "fecbf77c",
   "metadata": {},
   "source": [
    "plt.figure(dpi=800)\n",
    "plt.hist(primary_score_distributions,\n",
    "         color=primary_colors,\n",
    "         label=primary_labels,\n",
    "         range=[0, 100], bins=100, histtype=\"step\");\n",
    "plt.legend()\n",
    "plt.xlabel(\"BLAST Score\")\n",
    "plt.ylabel(\"Occurrences\")\n",
    "plt.savefig(\"fig2a\")"
   ]
  },
  {
   "cell_type": "raw",
   "id": "874e5a01",
   "metadata": {},
   "source": [
    "plt.figure(dpi=800)\n",
    "plt.hist(alignments[2:], \n",
    "         color=colors[2:],\n",
    "         label=alignment_labels[2:],\n",
    "         range=[0, 100], bins=100, histtype=\"step\")\n",
    "plt.legend()\n",
    "plt.xlabel(\"BLAST Score\")\n",
    "plt.ylabel(\"Occurrences\")\n",
    "plt.savefig(\"fig2b\")"
   ]
  },
  {
   "cell_type": "raw",
   "id": "a4d73f9f",
   "metadata": {},
   "source": [
    "plt.figure(dpi=800)\n",
    "plt.hist(filtered_alignments[2:],\n",
    "         color=colors[2:],\n",
    "         label=alignment_labels[2:],\n",
    "         range=[0, 100], bins=100, histtype=\"step\")\n",
    "plt.legend()\n",
    "plt.xlabel(\"BLAST Score\")\n",
    "plt.ylabel(\"Occurrences\")\n",
    "plt.savefig(\"fig2c\")"
   ]
  },
  {
   "cell_type": "raw",
   "id": "f30cdb43",
   "metadata": {},
   "source": [
    "fig, ax = plt.subplots(dpi=800)\n",
    "for i in [2, 3, 0, 1]:\n",
    "    scores_by_length, bounds = score_by_length_geoavg(primary_df[i])\n",
    "    plt.scatter(range(bounds[0], bounds[1] + 1), [np.mean(x) for x in scores_by_length],\n",
    "                s=1, alpha=0.3, color = primary_colors[i], label = primary_labels[i], marker = primary_markers[i])\n",
    "ax.set_xlim(40, 1010)\n",
    "ax.set_ylim(15, 60)\n",
    "plt.xlabel(\"Sequence Length\")\n",
    "plt.ylabel(\"Mean BLAST Score\")\n",
    "leg = plt.legend()\n",
    "for lh in leg.legendHandles: \n",
    "    lh.set_alpha(1)\n",
    "    lh.set\n",
    "plt.xscale(\"log\")\n",
    "plt.savefig(\"fig3a\")"
   ]
  },
  {
   "cell_type": "raw",
   "id": "be861b75",
   "metadata": {},
   "source": [
    "fig, ax = plt.subplots(dpi=800)\n",
    "plt.scatter(y = [mean(c) for c in sprotrev_by_length], x = list(range(2000)),\n",
    "           s=1, alpha=0.2, color=\"blue\", label=\"sprot$_{all}$↔rev$_{all}$\", marker='^')\n",
    "plt.scatter(y = [mean(c) for c in shufrev_by_length], x = list(range(2000)),\n",
    "           s=1, alpha=0.2, color=\"red\", label=\"shuf$_{all}$↔shuf_rev$_{all}$\", marker='o')\n",
    "leg = plt.legend()\n",
    "for lh in leg.legendHandles: \n",
    "    lh.set_alpha(1)\n",
    "ax.set_xlim(50, 2000)\n",
    "ax.set_ylim(20, 100)\n",
    "plt.xlabel(\"Sequence Length\")\n",
    "plt.ylabel(\"BLAST Score\")\n",
    "plt.xscale(\"log\")\n",
    "plt.savefig(\"fig3b\")"
   ]
  },
  {
   "cell_type": "raw",
   "id": "f81617ce",
   "metadata": {},
   "source": [
    "fig, ax = plt.subplots(dpi=800)\n",
    "plt.scatter(y = [mean(c) for c in hardmasked_by_length], x = list(range(2000)),\n",
    "           s=1, alpha=0.2, color=\"#0eff0e\", label=\"masked sprot$_{all}$↔rev$_{all}$\", marker='*')\n",
    "plt.scatter(y = [mean(c) for c in shufrev_by_length], x = list(range(2000)),\n",
    "           s=1, alpha=0.2, color=\"red\", label=\"shuf$_{all}$↔shuf_rev$_{all}$\", marker='o')\n",
    "#plt.scatter(y = [mean(c) for c in sprotrev_by_length], x = list(range(2000)),\n",
    "#           s=1, alpha=0.2, color=\"blue\", label=\"sprot$_{all}$↔rev$_{all}$\", marker='^')\n",
    "leg = plt.legend()\n",
    "for lh in leg.legendHandles: \n",
    "    lh.set_alpha(1)\n",
    "    lh.set\n",
    "for lh in leg.legendHandles: \n",
    "    lh.set_alpha(1)\n",
    "ax.set_xlim(50, 2000)\n",
    "ax.set_ylim(20, 100)\n",
    "plt.xlabel(\"Sequence Length\")\n",
    "plt.ylabel(\"BLAST Score\")\n",
    "plt.xscale(\"log\")\n",
    "plt.savefig(\"fig3c\")"
   ]
  },
  {
   "cell_type": "raw",
   "id": "8c6bd3a8",
   "metadata": {},
   "source": [
    "plt.figure(dpi=800)\n",
    "bl90_score_distributions = [df[\"score\"].tolist() for df in bl90_frames]\n",
    "box = plt.boxplot(bl90_score_distributions,\n",
    "            labels = bl90_labels,\n",
    "            showfliers=False,\n",
    "            patch_artist=True)\n",
    "for x,c in zip(box[\"boxes\"], bl90_colors):\n",
    "    x.set_facecolor(c)\n",
    "plt.tight_layout()\n",
    "plt.savefig(\"fig4\")"
   ]
  },
  {
   "cell_type": "raw",
   "id": "5ad6ff1c",
   "metadata": {},
   "source": [
    "fig, (ax2, ax1) = plt.subplots(1, 2, dpi=800, figsize=(12, 4))\n",
    "#ax1.scatter(range(2000), mean_sprotpal, label=\"sprot$_{all}$ max palindrome\", marker='^', color=\"blue\",\n",
    "#           s=1, alpha=0.2)\n",
    "ax1.plot(range(1, 2000), [2 * log(x, 1 / sprot_lambda2) + 1 for x in range(1, 2000)],\n",
    "        label=\"2 log n / log (1/λ₂) + 1\",\n",
    "        color=\"red\",\n",
    "        linewidth=1)\n",
    "ax1.scatter(range(2000), mean_shufpal, label=\"shuf$_{all}$ max palindrome\", marker='^', color=\"red\",\n",
    "           s=1, alpha=0.2)\n",
    "ax1.scatter(range(2000), mean_sprot_mpal, label=\"masked sprot$_{all}$ max palindrome\", marker='*', color=\"#0cff0c\",\n",
    "           s=1, alpha=0.2)\n",
    "ax1.set_xlim(50, 2000)\n",
    "ax1.set_ylim(2, 12)\n",
    "leg = ax1.legend()\n",
    "for lh in leg.legendHandles: \n",
    "    lh.set_alpha(1)\n",
    "ax1.set_xscale(\"log\")\n",
    "ax1.set_xlabel(\"Sequence Length\")\n",
    "ax1.set_ylabel(\"Average Substring Length\")\n",
    "ax2.scatter(range(2000), mean_sprotpal, label=\"sprot$_{all}$ max palindrome\", marker='^', color=\"blue\",\n",
    "           s=1, alpha=0.2)\n",
    "ax2.plot(range(1, 2000), [2 * log(x, 1 / sprot_lambda2) + 1 for x in range(1, 2000)],\n",
    "        label=\"2 log n / log (1/λ₂) + 1\",\n",
    "        color=\"red\",\n",
    "        linewidth=1)\n",
    "ax2.scatter(range(2000), mean_shufpal, label=\"shuf$_{all}$ max palindrome\", marker='o', color=\"red\",\n",
    "          s=1, alpha=0.2)\n",
    "ax2.plot(range(1, 2000), [2 * log(x, 1 / sprot_lambda2) for x in range(1, 2000)],\n",
    "        label=\"2 log n / log (1/λ₂)\",\n",
    "        color=\"maroon\",\n",
    "        linewidth=1)\n",
    "ax2.scatter(range(2000), mean_lcs, label=\"LCS(sprot$_{all}$, shuf$_{all}$)\", marker='s', color=\"maroon\",\n",
    "           s=1, alpha=0.2)\n",
    "ax2.set_xlim(50, 2000)\n",
    "ax2.set_ylim(2, 12)\n",
    "leg = ax2.legend()\n",
    "for lh in leg.legendHandles: \n",
    "    lh.set_alpha(1)\n",
    "ax2.set_xscale(\"log\")\n",
    "ax2.set_xlabel(\"Sequence Length\")\n",
    "ax2.set_ylabel(\"Average Substring Length\")\n",
    "plt.savefig(\"fig5\")"
   ]
  }
 ],
 "metadata": {
  "kernelspec": {
   "display_name": "Julia 1.8.5",
   "language": "julia",
   "name": "julia-1.8"
  },
  "language_info": {
   "file_extension": ".jl",
   "mimetype": "application/julia",
   "name": "julia",
   "version": "1.8.5"
  }
 },
 "nbformat": 4,
 "nbformat_minor": 5
}
