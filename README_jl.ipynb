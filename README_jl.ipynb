{
 "cells": [
  {
   "cell_type": "markdown",
   "id": "3756ceb7",
   "metadata": {
    "jp-MarkdownHeadingCollapsed": true
   },
   "source": [
    "# Figure 1 - Sequence length distributions"
   ]
  },
  {
   "cell_type": "code",
   "execution_count": null,
   "id": "0d051af0",
   "metadata": {},
   "outputs": [],
   "source": [
    "using BioAlignments\n",
    "using FASTX\n",
    "using ProgressMeter\n",
    "using Printf\n",
    "using CSV\n",
    "include(\"source/utils.jl\")\n",
    "include(\"source/io.jl\")\n",
    "include(\"source/alignment.jl\")\n",
    "include(\"source/pctid.jl\")"
   ]
  },
  {
   "cell_type": "markdown",
   "id": "eb2f1560",
   "metadata": {
    "jp-MarkdownHeadingCollapsed": true
   },
   "source": [
    "### SCOP2 superfamily representative sequences\n",
    "Download the SCOP2 superfamily representative sequences into the `data/` directory.\n",
    "\n",
    "```\n",
    "cd data\n",
    "wget https://scop.mrc-lmb.cam.ac.uk/files/scop_sf_represeq_lib_latest.fa\n",
    "```\n",
    "\n",
    "For convenience, rename the file.\n",
    "\n",
    "```\n",
    "mv scop_sf_represeq_lib_latest.fa scop.fa\n",
    "```"
   ]
  },
  {
   "cell_type": "markdown",
   "id": "6d1dd91e",
   "metadata": {},
   "source": [
    "### Swiss-Prot\n",
    "Download and unzip Swiss-Prot.\n",
    "\n",
    "```\n",
    "wget https://ftp.uniprot.org/pub/databases/uniprot/current_release/knowledgebase/complete/uniprot_sprot.fasta.gz\n",
    "gzip -d uniprot_sprot.fasta.gz\n",
    "mv uniprot_sprot.fasta data/sprot.fa\n",
    "```\n",
    "\n",
    "Filter Swiss-Prot to exclude any sequences exceeding 2000 peptides and those with 'X' characters."
   ]
  },
  {
   "cell_type": "code",
   "execution_count": null,
   "id": "60410240",
   "metadata": {},
   "outputs": [],
   "source": [
    "sprot = readsequences(\"data/sprot.fa\")\n",
    "sprot = [seq for seq=sprot if length(seq) < 2000 && !occursin('X', seq)]\n",
    "writesequences(\"data/sprot.fa\", sprot)"
   ]
  },
  {
   "cell_type": "markdown",
   "id": "39492a78",
   "metadata": {},
   "source": [
    "### Many-to-many alignment with BLAST\n",
    "Construct a BLAST database from the SCOP2 superfamily representatives. First create a subdirectory `data/scopdb` to contain the files, then run `makeblastdb` to generate the database. \n",
    "\n",
    "```\n",
    "mkdir scopdb\n",
    "makeblastdb -dbtype prot -in scop.fa -out scopdb/scopsf -title scopsf\n",
    "```\n",
    "\n",
    "Align Swiss-Prot against the SCOP2 superfamily representative sequences. Set `num_threads` for your system.\n",
    "\n",
    "```\n",
    "cd ..\n",
    "mkdir outputs\n",
    "blastp -query data/sprot.fa -db data/scopdb/scop -outfmt \"6 qseqid qstart qend sseqid sstart send\" -num_threads 12 > outputs/sprot_scopsf.out\n",
    "```"
   ]
  },
  {
   "cell_type": "markdown",
   "id": "09ef7813-78ec-4920-8c6a-959b34379895",
   "metadata": {},
   "source": [
    "### Filter Swiss-Prot to sequences with >=95% identity to a representative sequence in the SCOP2 superfamily\n",
    "First, map Swiss-Prot sequence ids to their index in the record and likewise for the SCOP2 SF sequences"
   ]
  },
  {
   "cell_type": "code",
   "execution_count": null,
   "id": "4806504d-99d5-4e1e-a692-d03c6375fff8",
   "metadata": {},
   "outputs": [],
   "source": [
    "sprot = readfasta(\"data/sprot.fa\")\n",
    "sprotids = record_id.(sprot)\n",
    "lookup_sprot_index = Dict(sprotids[i] => i for i=1:length(sprotids))\n",
    "scop = readfasta(\"data/scop.fa\")\n",
    "scopids = record_id.(scop)\n",
    "lookup_scop_index = Dict(scopids[i] => i for i=1:length(scopids))"
   ]
  },
  {
   "cell_type": "markdown",
   "id": "f295db88",
   "metadata": {},
   "source": [
    "Read the search results. Column names can be parsed from BLAST's `-outfmt` argument."
   ]
  },
  {
   "cell_type": "code",
   "execution_count": null,
   "id": "2bf517a9-4fa6-4d16-a34e-6ff77b37bd14",
   "metadata": {
    "scrolled": true
   },
   "outputs": [],
   "source": [
    "columns = split(\"6 qseqid qstart qend sseqid sstart send\", ' ')[2:end]\n",
    "outputs = readtable(\"outputs/sprot_scopsf.out\", columns)\n",
    "m = size(outputs)[1]"
   ]
  },
  {
   "cell_type": "markdown",
   "id": "77b355a4",
   "metadata": {},
   "source": [
    "We could have configured the BLASTP output table to include percent IDs. But BLAST calculates `(alignment_length - gaps) / alignment_length`, whereas we want to calculate `(alignment_length - mismatches - gaps) / alignment_length`. We'll need to rerun alignments using BioAlignment.jl's global alignment."
   ]
  },
  {
   "cell_type": "code",
   "execution_count": null,
   "id": "ebaf98f8-a289-406d-a5c1-a35562461184",
   "metadata": {},
   "outputs": [],
   "source": [
    "qsubstrings = (FASTX.sequence(sprot[lookup_sprot_index[outputs.qseqid[i]]])[outputs.qstart[i]:outputs.qend[i]] \n",
    "    for i=1:m)\n",
    "ssubstrings = (FASTX.sequence(scop[lookup_scop_index[outputs.sseqid[i]]])[outputs.sstart[i]:outputs.send[i]] \n",
    "    for i=1:m)\n",
    "pctid = align(Pairwise(), \n",
    "    qsubstrings, \n",
    "    ssubstrings, \n",
    "    model=GlobalAlignment(),\n",
    "    verbose=true,\n",
    "    formatter=x::PairwiseAlignmentResult -> percentid(x));"
   ]
  },
  {
   "cell_type": "markdown",
   "id": "250a9cc9",
   "metadata": {},
   "source": [
    "Organize the results and filter alignments for percent identity exceeding $95$."
   ]
  },
  {
   "cell_type": "code",
   "execution_count": null,
   "id": "bbef26c9-a931-4f63-853e-87a73a24a807",
   "metadata": {
    "scrolled": true
   },
   "outputs": [],
   "source": [
    "n = length(sprot)\n",
    "sprot_pct = zeros(AbstractFloat, n)\n",
    "sprot_rep = zeros(Int, n)\n",
    "for i=1:m\n",
    "    pct = pctid[i]\n",
    "    sprotidx = lookup_sprot_index[outputs.qseqid[i]]\n",
    "    scopid = outputs.sseqid[i]\n",
    "    if pct >= 0.95\n",
    "        if pct > sprot_pct[sprotidx]\n",
    "            sprot_pct[sprotidx] = pct\n",
    "            sprot_rep[sprotidx] = scopid\n",
    "        end=-\n",
    "    end\n",
    "end\n",
    "represented_sprotidx = [i for i=1:n if sprot_pct[i] >= 0.95]\n",
    "represented_sprotid = [sprotids[i] for i=represented_sprotidx]\n",
    "represented_scopidx = [lookup_scop_index[sprot_rep[i]] for i=represented_sprotidx]\n",
    "represented_scopid = [scopids[i] for i=represented_scopidx]\n",
    "represented_pct = [sprot_pct[i] for i=represented_sprotidx]"
   ]
  },
  {
   "cell_type": "markdown",
   "id": "6fc9c457",
   "metadata": {},
   "source": [
    "Now that Swiss-Prot has been registered to the SCOP2 superfamily representative sequences, write the table to `outputs/`."
   ]
  },
  {
   "cell_type": "code",
   "execution_count": null,
   "id": "3ae1c823",
   "metadata": {},
   "outputs": [],
   "source": [
    "columns = [\"sprot-index\", \"sprot-id\", \"scop-index\", \"scop-id\", \"percent identity\"]\n",
    "sprot_scop_registration = DataFrame(\n",
    "    zip(represented_sprotidx, represented_sprotid, represented_scopidx, represented_scopid, represented_pct), \n",
    "    columns)\n",
    "writeframe(\"outputs/sprot_scop_registration.df\", sprot_scop_registration)"
   ]
  },
  {
   "cell_type": "markdown",
   "id": "95f04880",
   "metadata": {},
   "source": [
    "Also record the restriction of Swiss-Prot to sequences with $95\\%$ identity to SCOP2 SF."
   ]
  },
  {
   "cell_type": "code",
   "execution_count": null,
   "id": "1a8004e2",
   "metadata": {},
   "outputs": [],
   "source": [
    "sprot_scop_registration = readframe(\"outputs/sprot_scop_registration.df\")\n",
    "sprot_scop = [sprot[i] for i=sprot_by_scop2sf.\"sprot-index\"]\n",
    "writefasta(\"data/sprot_scop.fa\", sprot_scop)"
   ]
  },
  {
   "cell_type": "markdown",
   "id": "6c10a51e-47ee-4149-8aa9-9222f980aaf7",
   "metadata": {},
   "source": [
    "### Plot"
   ]
  },
  {
   "cell_type": "code",
   "execution_count": null,
   "id": "6db2e9ce-e26d-42be-b364-585727dfe71e",
   "metadata": {},
   "outputs": [],
   "source": [
    "plot(xlabel=\"Sequence length\",\n",
    "     ylabel=\"Occurrences\",\n",
    "     xrange=[50, 2000],\n",
    "     xscale=:log,\n",
    "     xticks=maketicks([50, 100, 200, 500, 1000, 2000]),\n",
    "     legend=:topright,\n",
    "     dpi=500)\n",
    "histogram!(length.(FASTX.sequence.(sprot)), label=latexstring(sprotall))\n",
    "histogram!(length.(FASTX.sequence.([sprot[i] for i=sprot_by_scop2sf.\"sprot-index\"])), label=latexstring(sprotscop))\n",
    "savefig(\"figures/fig1_sprotlengths.png\")\n",
    "plot!()"
   ]
  },
  {
   "cell_type": "markdown",
   "id": "fcd6601a",
   "metadata": {},
   "source": [
    "# Figure 2 - BLAST score distributions between Swiss-Prot variants"
   ]
  },
  {
   "cell_type": "code",
   "execution_count": null,
   "id": "86248c15",
   "metadata": {},
   "outputs": [],
   "source": [
    "using Plots\n",
    "include(\"source/io.jl\")\n",
    "include(\"source/utils.jl\")\n",
    "include(\"source/derangement.jl\")\n",
    "include(\"source/alignment.jl\")\n",
    "include(\"source/blast.jl\")"
   ]
  },
  {
   "cell_type": "markdown",
   "id": "952a3f06-72bf-4b85-80ba-eb500c327246",
   "metadata": {
    "jp-MarkdownHeadingCollapsed": true
   },
   "source": [
    "### Shuffling and reversing \n",
    "The command `esl-shuffle input.fa > output.fa` shuffles each sequence in a FASTA record in `input.fa` and writes to `output.fa`. Using the `-r` flag, `esl-shuffle -r input.fa > output.fa` reverses each sequence. Generate the shuffled and reversed variants using EASEL.\n",
    "\n",
    "```\n",
    "esl-shuffle data/sprot.fa > data/shuf_sprot.fa\n",
    "esl-shuffle -r data/sprot.fa > data/rev_sprot.fa\n",
    "esl-shuffle -r data/shuf_sprot.fa > data/rev_shuf_sprot.fa\n",
    "\n",
    "esl-shuffle data/sprot_scop.fa > data/shuf_sprot_scop.fa\n",
    "esl-shuffle data/sprot_scop.fa -r > data/rev_sprot_scop.fa\n",
    "esl-shuffle -r data/shuf_sprot_scop.fa > data/rev_shuf_sprot_scop.fa\n",
    "```"
   ]
  },
  {
   "cell_type": "markdown",
   "id": "51971b68",
   "metadata": {},
   "source": [
    "Alternatively, generate the variants using Julia."
   ]
  },
  {
   "cell_type": "code",
   "execution_count": null,
   "id": "ddf0a297",
   "metadata": {},
   "outputs": [],
   "source": [
    "sprot = readsequences(\"data/sprot.fa\")\n",
    "rev_sprot = reverse.(sprot)\n",
    "writesequences(\"data/rev_sprot.fa\", rev_sprot)\n",
    "shuf_sprot = shufflefast.(sprot)\n",
    "writesequences(\"data/shuf_sprot.fa\", shuf_sprot)\n",
    "rev_shuf_sprot = reverse.(shuf_sprot)\n",
    "writesequences(\"data/rev_shuf_sprot.fa\", rev_shuf_sprot)"
   ]
  },
  {
   "cell_type": "code",
   "execution_count": null,
   "id": "6b9cb6f7",
   "metadata": {},
   "outputs": [],
   "source": [
    "sprot_scop = readsequences(\"data/sprot_scop.fa\")\n",
    "rev_sprot_scop = reverse.(sprot_scop)\n",
    "writesequences(\"data/rev_sprot.fa\", rev_sprot_scop)\n",
    "shuf_sprot_scop = shufflefast.(sprot_scop)\n",
    "writesequences(\"data/shuf_sprot.fa\", shuf_sprot_scop)\n",
    "rev_shuf_sprot_scop = reverse.(shuf_sprot_scop)\n",
    "writesequences(\"data/rev_shuf_sprot.fa\", rev_shuf_sprot_scop)"
   ]
  },
  {
   "cell_type": "markdown",
   "id": "a1050fd5-0e88-491c-945a-f87459b1802c",
   "metadata": {
    "jp-MarkdownHeadingCollapsed": true
   },
   "source": [
    "### Classify Swiss-Prot sequences by their SCOP2 fold\n",
    "Download the SCOP2 classification table.\n",
    "\n",
    "```\n",
    "cd data\n",
    "wget http://scop.mrc-lmb.cam.ac.uk/files/scop-cla-latest.txt\n",
    "```\n",
    "\n",
    "If the cells for Figure 1 have not yet been run, run them now. The following cell requires `outputs/sprot_by_scop2sf.df`.\n",
    "\n",
    "Pair each sequence in `data/sprot_scop.fa` to its SCOP2 superfamily representative. Assign the Swiss-Prot sequence the fold of its SCOP2 superfamily representative and store these in a CSV.\n"
   ]
  },
  {
   "cell_type": "code",
   "execution_count": null,
   "id": "0c3c82cd-f39e-47d3-aae3-bebf21be3fb4",
   "metadata": {
    "scrolled": true
   },
   "outputs": [],
   "source": [
    "scoptable = readscopclass(\"data/scop-cla-latest.txt\")\n",
    "foldlookup = Dict(Pair.(parse.(Int, scoptable.\"SF-DOMID\"), scoptable.\"CF\"));\n",
    "sprot_scop_registration = readframe(\"outputs/sprot_scop_registration.df\")\n",
    "sprot_scop_registration.\"fold\" = [foldlookup[scopid] for scopid=sprot_by_scop2sf.\"scop-id\"]\n",
    "writeframe(\"outputs/sprot_scop_registration.df\", sprot_scop_registration)"
   ]
  },
  {
   "cell_type": "markdown",
   "id": "ea10c163-ee28-4340-ad40-8c6562d0264b",
   "metadata": {
    "jp-MarkdownHeadingCollapsed": true
   },
   "source": [
    "### Construct a derangement of the SCOP2 SF fold classification of Swiss-Prot.\n",
    "A derangement is a permutation that has no fixed points: **(1, 2, 3, 4) -> (3, 1, 4, 2)** is a derangement; **(1, 2, 3, 4) -> (3, 2, 4, 1)** is not. \n",
    "\n",
    "Construct a derangement $\\rho$ with respect to the fold classification such that all pairs of sequences $(s_i, s_{\\rho(i)})$ between Swiss-Prot and its reordering have distinct folds."
   ]
  },
  {
   "cell_type": "code",
   "execution_count": null,
   "id": "90e60680-4913-4d99-855d-21190f8ad51a",
   "metadata": {},
   "outputs": [],
   "source": [
    "sprot_scop_registration = readframe(\"outputs/sprot_scop_registration.df\")\n",
    "# the derangement is constructed from a vector of integers.\n",
    "# assign indices to each fold identified with a Swiss-Prot sequence. \n",
    "unique_folds = unique(sprot_by_scop2sf.\"fold\")\n",
    "indexlookup = Dict(Pair.(unique_folds, 1:length(unique_folds)))\n",
    "# then generate a vector of integers mapping sprot_scop index to fold index.\n",
    "sprot_scop_fold_indices = [indexlookup[fold] for fold=sprot_by_scop2sf.\"fold\"]\n",
    "# construct a deragenment of the sprot_scop fold sequence.\n",
    "ρ = derangement(sprot_scop_fold_indices, weighted=true)\n",
    "# and permute sprot by the same derangement.\n",
    "sprot = readfasta(\"data/sprot.fa\")\n",
    "sprot_scop = [sprot[i] for i=sprot_by_scop2sf.\"sprot-index\"]\n",
    "reorder = sprot_scop[ρ]\n",
    "writefasta(\"data/reorder_sprot_scop.fa\", reorder)"
   ]
  },
  {
   "cell_type": "markdown",
   "id": "476df617-36f7-4c36-b052-c384909f14bb",
   "metadata": {},
   "source": [
    "### Paired alignment with BLAST\n",
    "With each variant constructed, run the full experiment structure using the Julia wrapper for `BLAST`.\n",
    "\n",
    "<img src=\"assets/diagram.png\" width=500 alt=\"The words sprot, shuf, rev, shufrev, and random are drawn in print. Four lines are drawn between these words, representing paired alignment between the sequence sets. A purple line connects sprot to random. A blue line connects sprot to rev. An orange line connects shuf to sprot. A red line connects shuf to shufrev.\"/>\n",
    "\n",
    "##### (this takes a while...)"
   ]
  },
  {
   "cell_type": "code",
   "execution_count": null,
   "id": "896d44af-751f-43bd-8778-20921e1238a3",
   "metadata": {},
   "outputs": [],
   "source": [
    "queries = [\n",
    "    \"data/sprot_scop.fa\", \n",
    "    \"data/sprot_scop.fa\", \n",
    "    \"data/sprot_scop.fa\", \n",
    "    \"data/shuf_sprot_scop.fa\"]\n",
    "references = [\n",
    "    \"data/reorder_sprot_scop.fa\", \n",
    "    \"data/shuf_sprot_scop.fa\", \n",
    "    \"data/rev_sprot_scop.fa\", \n",
    "    \"data/rev_shuf_sprot_scop.fa\"]\n",
    "name(x) = split(split(x, '/')[2], '.')[1]\n",
    "querynames = name.(queries)\n",
    "referencenames = name.(references)\n",
    "resultnames = [\"$(qname)↔$(rname)\" for (qname, rname)=zip(querynames, referencenames)]\n",
    "resultpaths = [\"data/$(name).dlm\" for name=resultnames]\n",
    "n = length(resultpaths)\n",
    "results = search.([Pairwise()], queries, references; verbose=true, careful=true, ntasks=12)\n",
    "for i=1:n\n",
    "    result_table = parse_blastp(results[i])\n",
    "    writeframe(resultpaths[i], DataFrame(result_table, BLASTP_COLUMNS))\n",
    "end"
   ]
  },
  {
   "cell_type": "markdown",
   "id": "56f656a7-a0d5-40eb-b15a-1f2759bf268d",
   "metadata": {},
   "source": [
    "### Plot"
   ]
  },
  {
   "cell_type": "code",
   "execution_count": null,
   "id": "b023d0e9-aebd-43aa-8ea5-cf7ec77900a6",
   "metadata": {},
   "outputs": [],
   "source": [
    "using Plots\n",
    "using FASTX\n",
    "include(\"source/io.jl\")\n",
    "include(\"source/utils.jl\")\n",
    "function fig2plot!(x, label, color)\n",
    "    stephist!(x, label=label, color=color, bins=1:80)\n",
    "end\n",
    "colors = [\"purple\", \"orange\", \"blue\", \"red\"]\n",
    "results = readframe.(resultpaths)\n",
    "scores = [frame.score for frame=results]"
   ]
  },
  {
   "cell_type": "code",
   "execution_count": null,
   "id": "5ef2acf3-8e36-41b0-adee-86fed618df4f",
   "metadata": {},
   "outputs": [],
   "source": [
    "plot(xlabel=\"Score\",\n",
    "     ylabel=\"Alignments\",\n",
    "     legend=:outertop,\n",
    "     dpi=500)\n",
    "fig2plot!(scores[1], latexstring(BLAST(sprotscop, reorder(sprotscop))), colors[1])\n",
    "fig2plot!(scores[2], latexstring(BLAST(sprotscop, shuf(sprotscop))), colors[2])\n",
    "fig2plot!(scores[3], latexstring(BLAST(sprotscop, rev(sprotscop))), colors[3])\n",
    "fig2plot!(scores[4], latexstring(BLAST(shuf(sprotscop), rev(shuf(sprotscop)))), colors[4])\n",
    "plot!()"
   ]
  },
  {
   "cell_type": "code",
   "execution_count": null,
   "id": "3c8074cd",
   "metadata": {},
   "outputs": [],
   "source": [
    "#? plot without highest-scoring match for each alignment\n",
    "# revision: how many hits come from palindromic intervals"
   ]
  },
  {
   "cell_type": "markdown",
   "id": "2a692914",
   "metadata": {},
   "source": [
    "# Figure 3 - BLAST scores by sequence length"
   ]
  },
  {
   "cell_type": "code",
   "execution_count": null,
   "id": "7b92c1a2",
   "metadata": {},
   "outputs": [],
   "source": [
    "using Plots\n",
    "using FASTX\n",
    "include(\"source/io.jl\")\n",
    "include(\"source/utils.jl\")\n",
    "include(\"source/alignment.jl\")\n",
    "include(\"source/blast.jl\")"
   ]
  },
  {
   "cell_type": "markdown",
   "id": "636ef6dc-f097-4bcc-876e-830cbc74ab5c",
   "metadata": {},
   "source": [
    "### Mask repetitive regions in Swiss-Prot using tantan\n",
    "Rather than using lowercase letters for masks, configure tantan to mask with 'X' characters.\n",
    "\n",
    "```\n",
    "tantan -x X data/sprot.fa > data/masked_sprot.fa\n",
    "```"
   ]
  },
  {
   "cell_type": "markdown",
   "id": "d5b8e779-db5f-4ac5-be17-7a9aeac53408",
   "metadata": {},
   "source": [
    "### Masked paired alignment with BLAST"
   ]
  },
  {
   "cell_type": "code",
   "execution_count": null,
   "id": "3bec5fb7-6ef3-48f6-bbc6-f65ecced3879",
   "metadata": {},
   "outputs": [],
   "source": [
    "queries = [\n",
    "    \"data/sprot.fa\", \n",
    "    \"data/sprot.fa\",\n",
    "    \"data/masked_sprot.fa\",\n",
    "    \"data/shuf_sprot.fa\",]\n",
    "references = [\n",
    "    \"data/shuf.fa\", \n",
    "    \"data/rev_sprot.fa\", \n",
    "    \"data/rev_sprot.fa\", \n",
    "    \"data/rev_shuf_sprot.fa\"]\n",
    "name(x) = split(split(x, '/')[2], '.')[1]\n",
    "querynames = name.(queries)\n",
    "referencenames = name.(references)\n",
    "resultnames = [\"$(qname)↔$(rname)\" for (qname, rname)=zip(querynames, referencenames)]\n",
    "resultpaths = [\"data/$(name).dlm\" for name=resultnames]\n",
    "n = length(resultpaths)"
   ]
  },
  {
   "cell_type": "code",
   "execution_count": null,
   "id": "98064e42-f9b0-4974-8096-036577861b83",
   "metadata": {
    "scrolled": true
   },
   "outputs": [],
   "source": [
    "# this could take a while!\n",
    "results = search.([Pairwise()], queries, references; verbose=true, careful=true, ntasks=40)\n",
    "for i=1:n\n",
    "    result_table = parse_blastp(results[i])\n",
    "    writeframe(resultpaths[i], DataFrame(result_table, BLASTP_COLUMNS))\n",
    "end"
   ]
  },
  {
   "cell_type": "markdown",
   "id": "71dfd9d9-cd15-4c96-8578-8ebc1310b49a",
   "metadata": {},
   "source": [
    "### Plot"
   ]
  },
  {
   "cell_type": "code",
   "execution_count": null,
   "id": "96a5310e-23f7-43b3-899f-8d83f482d023",
   "metadata": {},
   "outputs": [],
   "source": [
    "function fig3plot!(x, label, color)\n",
    "    scatter!(x, label=label, color=color, bins=1:80)\n",
    "end\n",
    "querylengths = [length.(sequence.(readfasta(q))) for q=queries]\n",
    "referencelengths = [length.(sequence.(readfasta(r))) for r=references]\n",
    "geometricmeanlengths = [[geometricmean(q, r) for (q, r)=zip(qlengths, rlengths)] for (rlengths, qlengths)=zip(querylengths, referencelengths)]\n",
    "n = length(geometricmeanlengths)[1]\n",
    "colors = [\"purple\", \"orange\", \"blue\", \"red\"]\n",
    "results = readframe.(resultpaths)\n",
    "scores = [frame.score for frame=results]"
   ]
  },
  {
   "cell_type": "code",
   "execution_count": null,
   "id": "584aaf4c",
   "metadata": {},
   "outputs": [],
   "source": [
    "plot(xlabel=\"Sequence Length\",\n",
    "     ylabel=\"Average Score\",\n",
    "     legend=:outertop,\n",
    "     dpi=500)\n",
    "fig3plot!(scores[1], latexstring(BLAST(sprotall, shuf(sprotall))), colors[1])\n",
    "fig3plot!(scores[2], latexstring(BLAST(sprotall, rev(sprotall))), colors[2])\n",
    "fig3plot!(scores[3], latexstring(BLAST(mask(sprotall), rev(sprotall))), colors[3])\n",
    "fig3plot!(scores[4], latexstring(BLAST(shuf(sprotall), rev(shuf(sprotall)))), colors[4])\n",
    "plot!()"
   ]
  },
  {
   "cell_type": "markdown",
   "id": "cf288052",
   "metadata": {
    "jp-MarkdownHeadingCollapsed": true
   },
   "source": [
    "# Figure 4 - Alignments to reversed homologs"
   ]
  },
  {
   "cell_type": "code",
   "execution_count": null,
   "id": "de325108",
   "metadata": {},
   "outputs": [],
   "source": [
    "using FASTX: sequence\n",
    "include(\"source/io.jl\")\n",
    "include(\"source/mutation.jl\")\n",
    "include(\"source/alignment.jl\")\n",
    "include(\"source/io.jl\")\n",
    "function fig4alignment(queries, references)\n",
    "    align(Pairwise(),\n",
    "        queries,\n",
    "        references;\n",
    "        verbose=true, formatter=x::PairwiseAlignmentResult -> score(x))\n",
    "end\n",
    "function fig4alignment_to_mutated(queries, references; pctid=-1.0)\n",
    "    alignment(queries, mutate(references, bl90; pctid=pctid, verbose=true))\n",
    "end"
   ]
  },
  {
   "cell_type": "markdown",
   "id": "f5a30430-6812-439a-8d50-60a686ea3ea7",
   "metadata": {
    "jp-MarkdownHeadingCollapsed": true
   },
   "source": [
    "### BLOSUM90 variants and simulating alignment to homologs"
   ]
  },
  {
   "cell_type": "code",
   "execution_count": null,
   "id": "881d1596",
   "metadata": {},
   "outputs": [],
   "source": [
    "sprot = sequence.(readfasta(\"data/sprot.fa\"))\n",
    "shuf_sprot = sequence.(readfasta(\"data/shuf_sprot.fa\"))\n",
    "rev_shuf_sprot = sequence.(readfasta(\"data/rev_shuf_sprot.fa\"));\n",
    "bl90 = parse_score_matrix_distribution(\"data/score-matrix-distributions/out/blosum90.out\");"
   ]
  },
  {
   "cell_type": "code",
   "execution_count": null,
   "id": "23967f23",
   "metadata": {
    "scrolled": true
   },
   "outputs": [],
   "source": [
    "aln_shuf = fig4alignment(shuf_sprot, sprot)\n",
    "aln_shufrev = fig4alignment(shuf_sprot, rev_shuf_sprot)\n",
    "aln_shufrevmut46 = fig4alignment_to_mutated(shuf_sprot, rev_shuf_sprot)\n",
    "aln_shufrevmut50 = fig4alignment_to_mutated(shuf_sprot, rev_shuf_sprot; pctid=0.5)\n",
    "aln_shufrevmut60 = fig4alignment_to_mutated(shuf_sprot, rev_shuf_sprot; pctid=0.6)\n",
    "aln_shufrevmut70 = fig4alignment_to_mutated(shuf_sprot, rev_shuf_sprot; pctid=0.7)\n",
    "aln_shufrevmut80 = fig4alignment_to_mutated(shuf_sprot, rev_shuf_sprot; pctid=0.8)\n",
    "aln_shufrevmut90 = fig4alignment_to_mutated(shuf_sprot, rev_shuf_sprot; pctid=0.9)"
   ]
  },
  {
   "cell_type": "markdown",
   "id": "40ce9388-e28d-41cb-a26d-15ec1dc8045d",
   "metadata": {
    "jp-MarkdownHeadingCollapsed": true
   },
   "source": [
    "### Plot"
   ]
  },
  {
   "cell_type": "code",
   "execution_count": null,
   "id": "8484a3df-a4c2-4379-9dcd-63ef3b39280c",
   "metadata": {},
   "outputs": [],
   "source": [
    "# box plots"
   ]
  },
  {
   "cell_type": "markdown",
   "id": "011324b2",
   "metadata": {
    "jp-MarkdownHeadingCollapsed": true
   },
   "source": [
    "# Figure 5 - LPS, LCS in Swiss-Prot"
   ]
  },
  {
   "cell_type": "code",
   "execution_count": null,
   "id": "84f20676",
   "metadata": {},
   "outputs": [],
   "source": [
    "include(\"source/io.jl\")\n",
    "include(\"source/mask.jl\")\n",
    "include(\"source/palindrome.jl\")\n",
    "include(\"source/alignment.jl\")\n",
    "shuf_sprot = readsequences(\"data/shuf_sprot.fa\")\n",
    "sprot = readsequences(\"data/sprot.fa\");"
   ]
  },
  {
   "cell_type": "markdown",
   "id": "7660f5c2-820a-4ef7-967e-89826e150779",
   "metadata": {
    "jp-MarkdownHeadingCollapsed": true
   },
   "source": [
    "### Splice repetitive regions from Swiss-Prot \n",
    "Splice masked characters ('X') from `data/masked_sprot.fa`."
   ]
  },
  {
   "cell_type": "code",
   "execution_count": null,
   "id": "93fb4030",
   "metadata": {},
   "outputs": [],
   "source": [
    "hardmasked_sprot = hardmask.(readsequences(\"data/masked_sprot.fa\"));"
   ]
  },
  {
   "cell_type": "markdown",
   "id": "98f4ccb5-53fc-4f97-a8c5-c0de79c6d727",
   "metadata": {
    "jp-MarkdownHeadingCollapsed": true
   },
   "source": [
    "### Generate LPS and LCS \n",
    "#### (using BioAlignments.jl for gapless exact alignment)"
   ]
  },
  {
   "cell_type": "code",
   "execution_count": null,
   "id": "ddecc331-7d50-4901-9e18-adeaddadb89f",
   "metadata": {},
   "outputs": [],
   "source": [
    "shuf_lps = interval_length.(longestpalindromicsubstring.(shuf_sprot))\n",
    "sprot_lps = interval_length.(longestpalindromicsubstring.(sprot))\n",
    "masked_lps = interval_length.(longestpalindromicsubstring.(hardmasked_sprot))\n",
    "lcs = align(Pairwise(),\n",
    "    sprot,\n",
    "    shuf_sprot;\n",
    "    schema=SUBSTRING_ALIGNMENT_SCHEMA, \n",
    "    formatter=x::PairwiseAlignmentResult -> score(x),\n",
    "    verbose=true,)"
   ]
  },
  {
   "cell_type": "markdown",
   "id": "20e65b36-df24-4780-8e6f-81af802936bb",
   "metadata": {
    "jp-MarkdownHeadingCollapsed": true
   },
   "source": [
    "### Plot"
   ]
  },
  {
   "cell_type": "code",
   "execution_count": null,
   "id": "c0b8f015-eee5-4108-b187-dc821ea479d6",
   "metadata": {},
   "outputs": [],
   "source": [
    "# scatter plots"
   ]
  },
  {
   "cell_type": "markdown",
   "id": "763386be",
   "metadata": {
    "jp-MarkdownHeadingCollapsed": true
   },
   "source": [
    "# Figure 6 - LPS, LCS in DNA "
   ]
  },
  {
   "cell_type": "code",
   "execution_count": null,
   "id": "961da083",
   "metadata": {},
   "outputs": [],
   "source": [
    "using Plots\n",
    "using DataFrames\n",
    "using DelimitedFiles\n",
    "using StringAlgorithms\n",
    "using LaTeXStrings\n",
    "include(\"source/utils.jl\")\n",
    "include(\"source/io.jl\")\n",
    "include(\"source/palindrome.jl\")\n",
    "include(\"source/alignment.jl\")\n",
    "include(\"source/chromosome.jl\")"
   ]
  },
  {
   "cell_type": "markdown",
   "id": "3dd7f10a",
   "metadata": {
    "jp-MarkdownHeadingCollapsed": true
   },
   "source": [
    "### Human Chromosome 22\n",
    "Retrieve chromosome 22 on NCBI Nucleotide.\n",
    "- <a href=\"https://www.ncbi.nlm.nih.gov/nuccore/NC_000022?report=fasta\">GRCh38.p14 Primary Assembly /  NC_000022.11</a>\n",
    "\n",
    "Download the sequence file in FASTA format using the `Send to` dropdown menu.\n",
    "<img src=\"assets/ncbinucleotidesendto.png\"/>"
   ]
  },
  {
   "cell_type": "markdown",
   "id": "e1b0da56",
   "metadata": {
    "jp-MarkdownHeadingCollapsed": true
   },
   "source": [
    "### NCBI Gene Annotations\n",
    "Retrieve annotations for chromosome 22 e.g., using the NCBI Gene queries from <a href=\"https://en.wikipedia.org/wiki/Chromosome_22#cite_note-NCBI_coding-9\">Wikipedia</a>.\n",
    "- <a href=\"https://www.ncbi.nlm.nih.gov/gene?term=22%5BCHR%5D%20AND%20%22Homo%20sapiens%22%5BOrganism%5D%20AND%20%28%22genetype%20protein%20coding%22%5BProperties%5D%20AND%20alive%5Bprop%5D%29&cmd=DetailsSearch\"> Protein-coding gene annotations </a>\n",
    "- <a href=\"https://www.ncbi.nlm.nih.gov/gene?term=22%5BCHR%5D%20AND%20%22Homo%20sapiens%22%5BOrganism%5D%20AND%20%28%28%22genetype%20miscrna%22%5BProperties%5D%20OR%20%22genetype%20ncrna%22%5BProperties%5D%20OR%20%22genetype%20rrna%22%5BProperties%5D%20OR%20%22genetype%20trna%22%5BProperties%5D%20OR%20%22genetype%20scrna%22%5BProperties%5D%20OR%20%22genetype%20snrna%22%5BProperties%5D%20OR%20%22genetype%20snorna%22%5BProperties%5D%29%20NOT%20%22genetype%20protein%20coding%22%5BProperties%5D%20AND%20alive%5Bprop%5D%29&cmd=DetailsSearch\"> Noncoding RNA annotations </a>\n",
    "- <a href=\"https://www.ncbi.nlm.nih.gov/gene?term=22%5BCHR%5D%20AND%20%22Homo%20sapiens%22%5BOrganism%5D%20AND%20%28%22genetype%20pseudo%22%5BProperties%5D%20AND%20alive%5Bprop%5D%29&cmd=DetailsSearch\"> Pseudogene annotations </a>\n",
    "    \n",
    "Download each annotation file in tabular text format using the `Send to` dropdown menu.\n",
    "<img src=\"assets/ncbigenesendto.png\"/>"
   ]
  },
  {
   "cell_type": "markdown",
   "id": "6e4b504f-32ba-4070-9638-248acf6057e8",
   "metadata": {
    "jp-MarkdownHeadingCollapsed": true
   },
   "source": [
    "### Masking with tantan\n",
    "Run `tantan` on `data/ncbi_chr22_sequence.fasta` to mask repetitive and low-complexity regions; store the masked file in `data/ncbi_chr22_masked_sequence.fasta`. Rather than using lowercase letters for masks, configure tantan to mask with 'N' characters with the `-x N` argument. The proceeding script will automatically remove these along with the other 'N' characters already present in the chromosome.\n",
    "\n",
    "```\n",
    "tantan -x N data/ncbi_chr22_sequence.fasta > data/ncbi_chr22_masked_sequence.fasta\n",
    "```"
   ]
  },
  {
   "cell_type": "markdown",
   "id": "211a1172",
   "metadata": {},
   "source": [
    "### Distribution of LPS in chromosome 22"
   ]
  },
  {
   "cell_type": "code",
   "execution_count": null,
   "id": "c7fe909b",
   "metadata": {},
   "outputs": [],
   "source": [
    "chromosome = loadchromosome(\"data/ncbi_chr22_sequence.fasta\")\n",
    "masked_chromosome = loadchromosome(\"data/ncbi_chr22_masked_sequence.fasta\")\n",
    "protein_annotation = loadannotation(\"data/ncbi_chr22_protein.txt\")\n",
    "rna_annotation = loadannotation(\"data/ncbi_chr22_rna.txt\")\n",
    "pseudogene_annotation = loadannotation(\"data/ncbi_chr22_pseudo.txt\")\n",
    "#\n",
    "protein = annotate(chromosome, protein_annotation)\n",
    "println(length(protein))\n",
    "rna = annotate(chromosome, rna_annotation)\n",
    "println(length(rna))\n",
    "pseudogene = annotate(chromosome, pseudogene_annotation)\n",
    "println(length(pseudogene))\n",
    "#\n",
    "masked_protein = annotate(masked_chromosome, protein_annotation)\n",
    "println(length(masked_protein))\n",
    "masked_rna = annotate(masked_chromosome, rna_annotation)\n",
    "println(length(masked_rna))\n",
    "masked_pseudogene = annotate(masked_chromosome, pseudogene_annotation)\n",
    "println(length(masked_pseudogene))\n",
    "#\n",
    "shuf_protein = shufflefast.(protein)\n",
    "println(length(shuf_protein))\n",
    "shuf_rna = shufflefast.(rna)\n",
    "println(length(shuf_rna))\n",
    "shuf_pseudogene = shufflefast.(pseudogene);\n",
    "println(length(shuf_pseudogene))"
   ]
  },
  {
   "cell_type": "code",
   "execution_count": null,
   "id": "4bc068ce",
   "metadata": {
    "scrolled": true
   },
   "outputs": [],
   "source": [
    "function record_lps(pathtodlm::AbstractString, sequences)\n",
    "    sequencelengths = length.(sequences)\n",
    "    lpslengths = maximum.(manacher.(sequences))\n",
    "    frame = DataFrame(hcat(sequencelengths, lpslengths), [\"Sequence\", \"LPS\"])\n",
    "    writeframe(pathtodlm, frame)\n",
    "end\n",
    "lpsoutputpaths = [\"outputs/fig6_lps_chr22protein.dlm\",\n",
    "    \"outputs/fig6_lps_chr22rna.dlm\",\n",
    "    \"outputs/fig6_lps_chr22pseudogene.dlm\",\n",
    "    \"outputs/fig6_lps_masked_chr22protein.dlm\",\n",
    "    \"outputs/fig6_lps_masked_chr22rna.dlm\",\n",
    "    \"outputs/fig6_lps_masked_chr22pseudogene.dlm\",\n",
    "    \"outputs/fig6_lps_shuf_chr22protein.dlm\",\n",
    "    \"outputs/fig6_lps_shuf_chr22rna.dlm\",\n",
    "    \"outputs/fig6_lps_shuf_chr22pseudogene.dlm\"]\n",
    "record_lps.(lpsoutputpaths,\n",
    "    [protein,\n",
    "    rna,\n",
    "    pseudogene,\n",
    "    masked_protein,\n",
    "    masked_rna,\n",
    "    masked_pseudogene,\n",
    "    shuf_protein,\n",
    "    shuf_rna,\n",
    "    shuf_pseudogene])"
   ]
  },
  {
   "cell_type": "markdown",
   "id": "0bfa9f57",
   "metadata": {},
   "source": [
    "### Distribution of random LCS in chromosome 22"
   ]
  },
  {
   "cell_type": "code",
   "execution_count": null,
   "id": "93905734",
   "metadata": {},
   "outputs": [],
   "source": [
    "function record_lcs(pathtodlm::AbstractString, queries, targets)\n",
    "    querylengths = length.(queries)\n",
    "    targetlengths = length.(targets)\n",
    "    sequencelengths = sqrt.(querylengths .* targetlengths)\n",
    "    lcs = longestcommonsubstring.(queries, targets)\n",
    "    lcslengths = length.(first.(lcs))\n",
    "    frame = DataFrame(hcat(querylengths, targetlengths, sequencelengths, lcslengths), [\"Query\", \"Target\", \"Geometric\", \"LCS\"])\n",
    "    writeframe(pathtodlm, frame)\n",
    "end\n",
    "lcsoutputpaths = [\"outputs/fig6_lcs_chr22protein.dlm\",\n",
    "    \"outputs/fig6_lcs_chr22rna.dlm\",\n",
    "    \"outputs/fig6_lcs_chr22pseudogene.dlm\"]\n",
    "queries = [protein, rna, pseudogene]\n",
    "targets = [shuf_protein, shuf_rna, shuf_pseudogene]\n",
    "record_lcs.(lcsoutputpaths, queries, targets)"
   ]
  },
  {
   "cell_type": "markdown",
   "id": "22c3f652",
   "metadata": {
    "jp-MarkdownHeadingCollapsed": true
   },
   "source": [
    "### Plot"
   ]
  },
  {
   "cell_type": "code",
   "execution_count": null,
   "id": "2ce66a56",
   "metadata": {},
   "outputs": [],
   "source": [
    "lps = readframe.(lpsoutputpaths)\n",
    "lps_titles = latexstring.(avg.(LPS.([\n",
    "    chr22protein,\n",
    "    chr22pseudo,\n",
    "    chr22rna,\n",
    "    mask(chr22protein),\n",
    "    mask(chr22pseudo),\n",
    "    mask(chr22rna),\n",
    "    shuf(chr22protein),\n",
    "    shuf(chr22pseudo),\n",
    "    shuf(chr22rna),\n",
    "])))\n",
    "lps_colors = [:blue, :blue2, :blue3, :green, :green2, :green3, :red, :red2, :red3, ]\n",
    "lps_markers = [:dtriangle, :utriangle, :rtriangle, :star6, :star7, :star8, :+, :x, :star4, ]\n",
    "lcs = readframe.(lcsoutputpaths)\n",
    "lcs_titles = latexstring.(avg.(LCS.([chr22protein,chr22pseudo,chr22rna],\n",
    "                                shuf.([chr22protein,chr22pseudo,chr22rna]))))\n",
    "lcs_colors = [:darkorange1, :darkorange2, :darkorange3]\n",
    "lcs_markers = [:diamond, :rect, :pixel]"
   ]
  },
  {
   "cell_type": "code",
   "execution_count": null,
   "id": "762cb0b0",
   "metadata": {},
   "outputs": [],
   "source": [
    "function fig6_lps(result, title, color, marker)\n",
    "    scatter!(result.Sequence, result.LPS; color=color, marker=marker, label=title,\n",
    "        markerstrokecolor=color, markershape=marker, ms=2, ma=0.4)\n",
    "end\n",
    "function fig6_lcs(result, title, color, marker)\n",
    "    scatter!(result.Geometric, result.LCS; color=color, marker=marker, label=title,\n",
    "        markerstrokecolor=color, markershape=marker, ms=2, ma=0.4)\n",
    "end\n",
    "plot(ylabel=\"Substring length\",\n",
    "     xlabel=\"Sequence length\",\n",
    "     xscale=:log,\n",
    "     legend=:outertop,\n",
    "     dpi=500)\n",
    "fig6_lps.(reverse.([lps, lps_titles, lps_colors, lps_markers])...)\n",
    "savefig(\"figures/fig6a.png\")\n",
    "plot!()"
   ]
  },
  {
   "cell_type": "code",
   "execution_count": null,
   "id": "c78c3125",
   "metadata": {},
   "outputs": [],
   "source": [
    "function fig6b_lps(result, title, color, marker)\n",
    "    histogram!(result.Sequence, result.LPS; color=color, label=title,\n",
    "        markerstrokecolor=color, markershape=marker, ms=2, ma=0.4, bins=15)\n",
    "end\n",
    "function fig6b_lcs(result, title, color, marker)\n",
    "    histogram!(result.Geometric, result.LCS; color=color, label=title,\n",
    "        markerstrokecolor=color, markershape=marker, ms=2, ma=0.4, bins=15)\n",
    "end\n",
    "plot(ylabel=\"Average Substring length\",\n",
    "     xlabel=\"Sequence length\",\n",
    "     xscale=:log,\n",
    "     legend=:outertop,\n",
    "     dpi=500)\n",
    "fig6b_lps.(lps[7:9], lps_titles[7:9], lps_colors[7:9], lps_markers[7:9])\n",
    "fig6b_lcs.(lcs, lcs_titles, lcs_colors, lcs_markers)\n",
    "savefig(\"figures/fig6b.png\")\n",
    "plot!()"
   ]
  },
  {
   "cell_type": "raw",
   "id": "161301d2-b921-4600-b245-d1bd7a161e79",
   "metadata": {},
   "source": [
    "[:+, :auto, :circle, :cross, :diamond, :dtriangle, :heptagon, :hexagon, :hline, :ltriangle, :none, :octagon, :pentagon, :pixel, :rect, :rtriangle, :star4, :star5, :star6, :star7, :star8, :utriangle, :vline, :x, :xcross]"
   ]
  },
  {
   "cell_type": "raw",
   "id": "db54f6f9",
   "metadata": {},
   "source": [
    "plot(ylabel=\"Average LPS length\", \n",
    "     xlabel=\"Sequence length\",\n",
    "     xscale=:log,\n",
    "     legend=:outertop,\n",
    "     dpi=500)\n",
    "subset = 1:length(seqlengths_and_palindromes)\n",
    "plot_distribution_table!.(seqlengths_and_palindromes[subset], labels[subset], colors[subset], markers[subset])\n",
    "savefig(\"figures/fig6_chr22palindromes.png\")\n",
    "plot!()"
   ]
  },
  {
   "cell_type": "markdown",
   "id": "6349462c",
   "metadata": {
    "jp-MarkdownHeadingCollapsed": true
   },
   "source": [
    "# Figure 7 - LPS, LCS in tryptic peptides of Swiss-Prot"
   ]
  },
  {
   "cell_type": "code",
   "execution_count": 26,
   "id": "abdb0343",
   "metadata": {},
   "outputs": [
    {
     "name": "stderr",
     "output_type": "stream",
     "text": [
      "WARNING: redefinition of constant SUBSTRING_ALIGNMENT_SCHEMA. This may fail, cause incorrect answers, or produce other errors.\n"
     ]
    }
   ],
   "source": [
    "include(\"source/utils.jl\")\n",
    "include(\"source/mask.jl\")\n",
    "include(\"source/io.jl\")\n",
    "include(\"source/alignment.jl\")\n",
    "include(\"source/palindrome.jl\")\n",
    "include(\"source/trypsin.jl\")\n",
    "using Plots\n",
    "using DataFrames\n",
    "using DelimitedFiles\n",
    "using StatsBase"
   ]
  },
  {
   "cell_type": "markdown",
   "id": "17390c54",
   "metadata": {
    "jp-MarkdownHeadingCollapsed": true
   },
   "source": [
    "### Generate LPS distributions of tryptic peptides"
   ]
  },
  {
   "cell_type": "code",
   "execution_count": 16,
   "id": "84e0bc64",
   "metadata": {},
   "outputs": [
    {
     "data": {
      "text/plain": [
       "newLCSdist (generic function with 1 method)"
      ]
     },
     "execution_count": 16,
     "metadata": {},
     "output_type": "execute_result"
    }
   ],
   "source": [
    "shuf_sprot = readsequences(\"data/shuf_sprot.fa\")\n",
    "sprot = readsequences(\"data/sprot.fa\")\n",
    "hardmasked_sprot = hardmask.(readsequences(\"data/masked_sprot.fa\"))\n",
    "minlength = 5\n",
    "maxlength = 100;\n",
    "newLPSdist() = zeros(Int, (maxlength, maxlength))\n",
    "newLCSdist() = zeros(Int, (maxlength + 1, maxlength + 1))"
   ]
  },
  {
   "cell_type": "code",
   "execution_count": 18,
   "id": "bd77ed48",
   "metadata": {
    "scrolled": true
   },
   "outputs": [
    {
     "name": "stderr",
     "output_type": "stream",
     "text": [
      "\u001b[32mDigesting (LPS)... 100%|█████████████████████████████████| Time: 0:02:18\u001b[39m\n"
     ]
    }
   ],
   "source": [
    "# tryptic LPS in shuf(sprot)\n",
    "shuf_sprot_dist = newLPSdist()\n",
    "trypticLPSdistribution!(shuf_sprot_dist, shuf_sprot, minlength, maxlength; verbose=true)\n",
    "writetable(\"outputs/fig7_trypticLPS_shuf_sprot.dlm\", shuf_sprot_dist)"
   ]
  },
  {
   "cell_type": "code",
   "execution_count": 19,
   "id": "eafab576",
   "metadata": {},
   "outputs": [
    {
     "name": "stderr",
     "output_type": "stream",
     "text": [
      "\u001b[32mDigesting (LPS)... 100%|█████████████████████████████████| Time: 0:02:17\u001b[39m\n"
     ]
    }
   ],
   "source": [
    "# tryptic LPS in sprot\n",
    "sprot_dist = newLPSdist()\n",
    "trypticLPSdistribution!(sprot_dist, sprot, minlength, maxlength; verbose=true)\n",
    "writetable(\"outputs/fig7_trypticLPS_sprot.dlm\", sprot_dist)"
   ]
  },
  {
   "cell_type": "code",
   "execution_count": 20,
   "id": "82da1fbb",
   "metadata": {},
   "outputs": [
    {
     "name": "stderr",
     "output_type": "stream",
     "text": [
      "\u001b[32mDigesting (LPS)... 100%|█████████████████████████████████| Time: 0:02:08\u001b[39m\n"
     ]
    }
   ],
   "source": [
    "# tryptic LPS in masked(sprot)\n",
    "hardmasked_sprot_dist = newLPSdist()\n",
    "trypticLPSdistribution!(hardmasked_sprot_dist, hardmasked_sprot, minlength, maxlength; verbose=true)\n",
    "writetable(\"outputs/fig7_trypticLPS_masked_sprot.dlm\", hardmasked_sprot_dist)"
   ]
  },
  {
   "cell_type": "code",
   "execution_count": 21,
   "id": "4c70f968",
   "metadata": {},
   "outputs": [
    {
     "name": "stderr",
     "output_type": "stream",
     "text": [
      "\u001b[32mDigesting (LCS)... 100%|█████████████████████████████████| Time: 0:25:28\u001b[39m\n"
     ]
    }
   ],
   "source": [
    "# LCS between tryptic peptides and shuffled tryptic peptides\n",
    "lcs_dist = newLCSdist()\n",
    "trypticLCSdistribution!(lcs_dist, sprot, minlength, maxlength; verbose=true)\n",
    "writetable(\"outputs/fig7_trypticLCS_sprot.dlm\", lcs_dist)"
   ]
  },
  {
   "cell_type": "code",
   "execution_count": 22,
   "id": "60a18683",
   "metadata": {},
   "outputs": [
    {
     "name": "stderr",
     "output_type": "stream",
     "text": [
      "\u001b[32mDigesting (LCS2)... 100%|████████████████████████████████| Time: 0:21:18\u001b[39m\u0000\u0000\u0000\u0000\u0000\u0000\u0000\u0000\u0000\u0000\u0000\u0000\u0000\u0000\u0000\u0000\u0000\u0000\u0000\u0000\u0000\u0000\u0000\u0000\u0000\u0000\u0000\u0000\u0000\u0000\u0000\u0000\u0000\u0000\u0000\u0000\u0000\u0000\u0000\u0000\u0000\u0000\u0000\u0000\u0000\u0000\u0000\u0000\u0000\u0000\u0000\u0000\u0000\u0000\u0000\u0000\u0000\u0000\u0000\u0000\u0000\u0000\n"
     ]
    }
   ],
   "source": [
    "# LCS between random tryptic peptides within the same sequence\n",
    "lcs2_dist = newLCSdist()\n",
    "trypticLCS2distribution!(lcs2_dist, sprot, minlength, maxlength; verbose=true)\n",
    "writetable(\"outputs/fig7_trypticLCS2_sprot.dlm\", lcs2_dist)"
   ]
  },
  {
   "cell_type": "markdown",
   "id": "d5193eea",
   "metadata": {},
   "source": [
    "### Plot"
   ]
  },
  {
   "cell_type": "code",
   "execution_count": 27,
   "id": "10523a87",
   "metadata": {},
   "outputs": [],
   "source": [
    "minlength = 5\n",
    "maxlength = 100\n",
    "function plot_LPS_distribution_matrix!(distribution::Matrix{Int}, label)\n",
    "    global minlength, maxlength\n",
    "    @assert maxlength == size(distribution)[1]\n",
    "    distribution = maxlength .* distribution ./ sum(distribution)\n",
    "    # calculate mean length palindrome for each sequence length\n",
    "    avg_lps = [sum(collect(1:maxlength) .* distribution[seq, :]) for seq=minlength:maxlength]\n",
    "    plot!(minlength:maxlength, avg_lps, label=label)\n",
    "end\n",
    "function plot_LCS_distribution_matrix!(distribution::Matrix{Int}, label)\n",
    "    global minlength, maxlength\n",
    "    @assert maxlength == size(distribution)[1] - 1\n",
    "    distribution = maxlength .* distribution ./ sum(distribution)\n",
    "    # calculate mean length palindrome for each sequence length\n",
    "    avg_lcs = [sum(collect(1:maxlength+1) .* distribution[seq, :]) - 1 for seq=minlength:maxlength]\n",
    "    plot!(minlength:maxlength, avg_lcs, label=label)\n",
    "end\n",
    "function plot_difference!(dist_A::Matrix{Int}, dist_B::Matrix{Int}, label)\n",
    "    global minlength, maxlength\n",
    "    @assert maxlength == size(dist_A)[1] == size(dist_B)[1]\n",
    "    dist_A = maxlength .* dist_A ./ sum(dist_A)\n",
    "    dist_B = maxlength .* dist_B ./ sum(dist_B)\n",
    "    avg_pal_A =  [sum(collect(1:maxlength) .* dist_A[seq, :]) for seq=minlength:maxlength]\n",
    "    avg_pal_B =  [sum(collect(1:maxlength) .* dist_B[seq, :]) for seq=minlength:maxlength]\n",
    "    plot!(minlength:maxlength, avg_pal_A .- avg_pal_B, label=label)\n",
    "end\n",
    "trypticlpslabel(x) = latexstring(LPS(tryptic(x)))\n",
    "trypticlcslabel(x, y) = latexstring(LCS(tryptic(x), tryptic(y)))\n",
    "meandifflabel(x) = latexstring(diff(LPS(tryptic(x)), LPS(permute(tryptic(x)))));"
   ]
  },
  {
   "cell_type": "code",
   "execution_count": 28,
   "id": "d5339082",
   "metadata": {},
   "outputs": [
    {
     "data": {
      "text/plain": [
       "101×101 Matrix{Int64}:\n",
       "     0        0        0       0  …  0  0  0  0  0  0  0  0  0  0  0  0\n",
       "     0        0        0       0     0  0  0  0  0  0  0  0  0  0  0  0\n",
       "     0        0        0       0     0  0  0  0  0  0  0  0  0  0  0  0\n",
       "     0        0        0       0     0  0  0  0  0  0  0  0  0  0  0  0\n",
       " 14011  1178863  1206830  127695     0  0  0  0  0  0  0  0  0  0  0  0\n",
       "  8836   993800  1285411  159135  …  0  0  0  0  0  0  0  0  0  0  0  0\n",
       "  5999   901477  1426285  197069     0  0  0  0  0  0  0  0  0  0  0  0\n",
       "  4181   782446  1466537  223909     0  0  0  0  0  0  0  0  0  0  0  0\n",
       "  2970   679546  1482841  245777     0  0  0  0  0  0  0  0  0  0  0  0\n",
       "  2105   608161  1502184  271895     0  0  0  0  0  0  0  0  0  0  0  0\n",
       "  1478   551035  1544213  301409  …  0  0  0  0  0  0  0  0  0  0  0  0\n",
       "  1137   494427  1531405  320038     0  0  0  0  0  0  0  0  0  0  0  0\n",
       "   875   449407  1534264  342265     0  0  0  0  0  0  0  0  0  0  0  0\n",
       "     ⋮                            ⋱     ⋮              ⋮              ⋮\n",
       "     1    18915   639550  936670     0  0  0  0  0  0  0  0  0  0  0  0\n",
       "     0    18490   626866  930154  …  0  0  0  0  0  0  0  0  0  0  0  0\n",
       "     0    18173   625283  938675     0  0  0  0  0  0  0  0  0  0  0  0\n",
       "     1    17292   616579  930760     0  0  0  0  0  0  0  0  0  0  0  0\n",
       "     0    17016   610520  933491     0  0  0  0  0  0  0  0  0  0  0  0\n",
       "     1    16380   599580  926379     0  0  0  0  0  0  0  0  0  0  0  0\n",
       "     1    16339   592082  929382  …  0  0  0  0  0  0  0  0  0  0  0  0\n",
       "     0    15776   592042  936026     0  0  0  0  0  0  0  0  0  0  0  0\n",
       "     0    15404   582134  932831     0  0  0  0  0  0  0  0  0  0  0  0\n",
       "     0    15122   575602  930060     0  0  0  0  0  0  0  0  0  0  0  0\n",
       "     2    14668   570085  933223     0  0  0  0  0  0  0  0  0  0  0  0\n",
       "     0        0        0       0  …  0  0  0  0  0  0  0  0  0  0  0  0"
      ]
     },
     "execution_count": 28,
     "metadata": {},
     "output_type": "execute_result"
    }
   ],
   "source": [
    "shuf_dist = readdlm(\"outputs/fig7_trypticLPS_shuf_sprot.dlm\", Int)\n",
    "sprot_dist = readdlm(\"outputs/fig7_trypticLPS_sprot.dlm\", Int)\n",
    "hardmaskedsprot_dist = readdlm(\"outputs/fig7_trypticLPS_masked_sprot.dlm\", Int)\n",
    "lcs_dist = readdlm(\"outputs/fig7_trypticLCS_sprot.dlm\", Int)\n",
    "lcs2_dist = readdlm(\"outputs/fig7_trypticLCS2_sprot.dlm\", Int)"
   ]
  },
  {
   "cell_type": "code",
   "execution_count": 29,
   "id": "c1f9915e",
   "metadata": {},
   "outputs": [
    {
     "data": {
      "image/svg+xml": [
       "<?xml version=\"1.0\" encoding=\"utf-8\"?>\n",
       "<svg xmlns=\"http://www.w3.org/2000/svg\" xmlns:xlink=\"http://www.w3.org/1999/xlink\" width=\"600\" height=\"400\" viewBox=\"0 0 2400 1600\">\n",
       "<defs>\n",
       "  <clipPath id=\"clip160\">\n",
       "    <rect x=\"0\" y=\"0\" width=\"2400\" height=\"1600\"/>\n",
       "  </clipPath>\n",
       "</defs>\n",
       "<path clip-path=\"url(#clip160)\" d=\"M0 1600 L2400 1600 L2400 0 L0 0  Z\" fill=\"#ffffff\" fill-rule=\"evenodd\" fill-opacity=\"1\"/>\n",
       "<defs>\n",
       "  <clipPath id=\"clip161\">\n",
       "    <rect x=\"480\" y=\"0\" width=\"1681\" height=\"1600\"/>\n",
       "  </clipPath>\n",
       "</defs>\n",
       "<path clip-path=\"url(#clip160)\" d=\"M156.922 1423.18 L2352.76 1423.18 L2352.76 404.149 L156.922 404.149  Z\" fill=\"#ffffff\" fill-rule=\"evenodd\" fill-opacity=\"1\"/>\n",
       "<defs>\n",
       "  <clipPath id=\"clip162\">\n",
       "    <rect x=\"156\" y=\"404\" width=\"2197\" height=\"1020\"/>\n",
       "  </clipPath>\n",
       "</defs>\n",
       "<polyline clip-path=\"url(#clip162)\" style=\"stroke:#000000; stroke-linecap:round; stroke-linejoin:round; stroke-width:2; stroke-opacity:0.1; fill:none\" points=\"156.922,1423.18 156.922,404.149 \"/>\n",
       "<polyline clip-path=\"url(#clip162)\" style=\"stroke:#000000; stroke-linecap:round; stroke-linejoin:round; stroke-width:2; stroke-opacity:0.1; fill:none\" points=\"817.934,1423.18 817.934,404.149 \"/>\n",
       "<polyline clip-path=\"url(#clip162)\" style=\"stroke:#000000; stroke-linecap:round; stroke-linejoin:round; stroke-width:2; stroke-opacity:0.1; fill:none\" points=\"1691.74,1423.18 1691.74,404.149 \"/>\n",
       "<polyline clip-path=\"url(#clip162)\" style=\"stroke:#000000; stroke-linecap:round; stroke-linejoin:round; stroke-width:2; stroke-opacity:0.1; fill:none\" points=\"2352.76,1423.18 2352.76,404.149 \"/>\n",
       "<polyline clip-path=\"url(#clip160)\" style=\"stroke:#000000; stroke-linecap:round; stroke-linejoin:round; stroke-width:4; stroke-opacity:1; fill:none\" points=\"156.922,1423.18 2352.76,1423.18 \"/>\n",
       "<polyline clip-path=\"url(#clip160)\" style=\"stroke:#000000; stroke-linecap:round; stroke-linejoin:round; stroke-width:4; stroke-opacity:1; fill:none\" points=\"156.922,1423.18 156.922,1409.18 \"/>\n",
       "<polyline clip-path=\"url(#clip160)\" style=\"stroke:#000000; stroke-linecap:round; stroke-linejoin:round; stroke-width:4; stroke-opacity:1; fill:none\" points=\"817.934,1423.18 817.934,1409.18 \"/>\n",
       "<polyline clip-path=\"url(#clip160)\" style=\"stroke:#000000; stroke-linecap:round; stroke-linejoin:round; stroke-width:4; stroke-opacity:1; fill:none\" points=\"1691.74,1423.18 1691.74,1409.18 \"/>\n",
       "<polyline clip-path=\"url(#clip160)\" style=\"stroke:#000000; stroke-linecap:round; stroke-linejoin:round; stroke-width:4; stroke-opacity:1; fill:none\" points=\"2352.76,1423.18 2352.76,1409.18 \"/>\n",
       "<path clip-path=\"url(#clip160)\" d=\"M147.2 1451.02 L165.557 1451.02 L165.557 1454.96 L151.483 1454.96 L151.483 1463.43 Q152.501 1463.08 153.52 1462.92 Q154.538 1462.73 155.557 1462.73 Q161.344 1462.73 164.723 1465.9 Q168.103 1469.08 168.103 1474.49 Q168.103 1480.07 164.631 1483.17 Q161.158 1486.25 154.839 1486.25 Q152.663 1486.25 150.395 1485.88 Q148.149 1485.51 145.742 1484.77 L145.742 1480.07 Q147.825 1481.2 150.047 1481.76 Q152.27 1482.32 154.746 1482.32 Q158.751 1482.32 161.089 1480.21 Q163.427 1478.1 163.427 1474.49 Q163.427 1470.88 161.089 1468.77 Q158.751 1466.67 154.746 1466.67 Q152.871 1466.67 150.996 1467.08 Q149.145 1467.5 147.2 1468.38 L147.2 1451.02 Z\" fill=\"#000000\" fill-rule=\"nonzero\" fill-opacity=\"1\" /><path clip-path=\"url(#clip160)\" d=\"M792.622 1481.64 L800.261 1481.64 L800.261 1455.28 L791.95 1456.95 L791.95 1452.69 L800.214 1451.02 L804.89 1451.02 L804.89 1481.64 L812.529 1481.64 L812.529 1485.58 L792.622 1485.58 L792.622 1481.64 Z\" fill=\"#000000\" fill-rule=\"nonzero\" fill-opacity=\"1\" /><path clip-path=\"url(#clip160)\" d=\"M831.973 1454.1 Q828.362 1454.1 826.534 1457.66 Q824.728 1461.2 824.728 1468.33 Q824.728 1475.44 826.534 1479.01 Q828.362 1482.55 831.973 1482.55 Q835.608 1482.55 837.413 1479.01 Q839.242 1475.44 839.242 1468.33 Q839.242 1461.2 837.413 1457.66 Q835.608 1454.1 831.973 1454.1 M831.973 1450.39 Q837.784 1450.39 840.839 1455 Q843.918 1459.58 843.918 1468.33 Q843.918 1477.06 840.839 1481.67 Q837.784 1486.25 831.973 1486.25 Q826.163 1486.25 823.085 1481.67 Q820.029 1477.06 820.029 1468.33 Q820.029 1459.58 823.085 1455 Q826.163 1450.39 831.973 1450.39 Z\" fill=\"#000000\" fill-rule=\"nonzero\" fill-opacity=\"1\" /><path clip-path=\"url(#clip160)\" d=\"M1671.02 1481.64 L1687.33 1481.64 L1687.33 1485.58 L1665.39 1485.58 L1665.39 1481.64 Q1668.05 1478.89 1672.64 1474.26 Q1677.24 1469.61 1678.42 1468.27 Q1680.67 1465.74 1681.55 1464.01 Q1682.45 1462.25 1682.45 1460.56 Q1682.45 1457.8 1680.51 1456.07 Q1678.58 1454.33 1675.48 1454.33 Q1673.28 1454.33 1670.83 1455.09 Q1668.4 1455.86 1665.62 1457.41 L1665.62 1452.69 Q1668.45 1451.55 1670.9 1450.97 Q1673.35 1450.39 1675.39 1450.39 Q1680.76 1450.39 1683.95 1453.08 Q1687.15 1455.77 1687.15 1460.26 Q1687.15 1462.39 1686.34 1464.31 Q1685.55 1466.2 1683.45 1468.8 Q1682.87 1469.47 1679.77 1472.69 Q1676.66 1475.88 1671.02 1481.64 Z\" fill=\"#000000\" fill-rule=\"nonzero\" fill-opacity=\"1\" /><path clip-path=\"url(#clip160)\" d=\"M1697.2 1451.02 L1715.55 1451.02 L1715.55 1454.96 L1701.48 1454.96 L1701.48 1463.43 Q1702.5 1463.08 1703.51 1462.92 Q1704.53 1462.73 1705.55 1462.73 Q1711.34 1462.73 1714.72 1465.9 Q1718.1 1469.08 1718.1 1474.49 Q1718.1 1480.07 1714.63 1483.17 Q1711.15 1486.25 1704.83 1486.25 Q1702.66 1486.25 1700.39 1485.88 Q1698.14 1485.51 1695.74 1484.77 L1695.74 1480.07 Q1697.82 1481.2 1700.04 1481.76 Q1702.26 1482.32 1704.74 1482.32 Q1708.75 1482.32 1711.08 1480.21 Q1713.42 1478.1 1713.42 1474.49 Q1713.42 1470.88 1711.08 1468.77 Q1708.75 1466.67 1704.74 1466.67 Q1702.87 1466.67 1700.99 1467.08 Q1699.14 1467.5 1697.2 1468.38 L1697.2 1451.02 Z\" fill=\"#000000\" fill-rule=\"nonzero\" fill-opacity=\"1\" /><path clip-path=\"url(#clip160)\" d=\"M2327.46 1451.02 L2345.81 1451.02 L2345.81 1454.96 L2331.74 1454.96 L2331.74 1463.43 Q2332.76 1463.08 2333.77 1462.92 Q2334.79 1462.73 2335.81 1462.73 Q2341.6 1462.73 2344.98 1465.9 Q2348.36 1469.08 2348.36 1474.49 Q2348.36 1480.07 2344.89 1483.17 Q2341.41 1486.25 2335.09 1486.25 Q2332.92 1486.25 2330.65 1485.88 Q2328.4 1485.51 2326 1484.77 L2326 1480.07 Q2328.08 1481.2 2330.3 1481.76 Q2332.52 1482.32 2335 1482.32 Q2339.01 1482.32 2341.34 1480.21 Q2343.68 1478.1 2343.68 1474.49 Q2343.68 1470.88 2341.34 1468.77 Q2339.01 1466.67 2335 1466.67 Q2333.13 1466.67 2331.25 1467.08 Q2329.4 1467.5 2327.46 1468.38 L2327.46 1451.02 Z\" fill=\"#000000\" fill-rule=\"nonzero\" fill-opacity=\"1\" /><path clip-path=\"url(#clip160)\" d=\"M2367.57 1454.1 Q2363.96 1454.1 2362.13 1457.66 Q2360.33 1461.2 2360.33 1468.33 Q2360.33 1475.44 2362.13 1479.01 Q2363.96 1482.55 2367.57 1482.55 Q2371.2 1482.55 2373.01 1479.01 Q2374.84 1475.44 2374.84 1468.33 Q2374.84 1461.2 2373.01 1457.66 Q2371.2 1454.1 2367.57 1454.1 M2367.57 1450.39 Q2373.38 1450.39 2376.44 1455 Q2379.52 1459.58 2379.52 1468.33 Q2379.52 1477.06 2376.44 1481.67 Q2373.38 1486.25 2367.57 1486.25 Q2361.76 1486.25 2358.68 1481.67 Q2355.63 1477.06 2355.63 1468.33 Q2355.63 1459.58 2358.68 1455 Q2361.76 1450.39 2367.57 1450.39 Z\" fill=\"#000000\" fill-rule=\"nonzero\" fill-opacity=\"1\" /><path clip-path=\"url(#clip160)\" d=\"M1015.33 1522.08 L1015.33 1528.35 Q1011.67 1526.6 1008.42 1525.74 Q1005.18 1524.88 1002.15 1524.88 Q996.901 1524.88 994.036 1526.92 Q991.203 1528.96 991.203 1532.71 Q991.203 1535.87 993.081 1537.49 Q994.991 1539.08 1000.27 1540.07 L1004.16 1540.86 Q1011.35 1542.23 1014.76 1545.7 Q1018.19 1549.14 1018.19 1554.93 Q1018.19 1561.84 1013.55 1565.4 Q1008.93 1568.97 999.988 1568.97 Q996.614 1568.97 992.795 1568.2 Q989.007 1567.44 984.933 1565.94 L984.933 1559.32 Q988.848 1561.52 992.604 1562.63 Q996.36 1563.75 999.988 1563.75 Q1005.49 1563.75 1008.49 1561.58 Q1011.48 1559.42 1011.48 1555.41 Q1011.48 1551.91 1009.31 1549.93 Q1007.18 1547.96 1002.28 1546.97 L998.365 1546.21 Q991.172 1544.78 987.957 1541.72 Q984.742 1538.67 984.742 1533.22 Q984.742 1526.92 989.166 1523.29 Q993.622 1519.66 1001.42 1519.66 Q1004.76 1519.66 1008.23 1520.27 Q1011.7 1520.87 1015.33 1522.08 Z\" fill=\"#000000\" fill-rule=\"nonzero\" fill-opacity=\"1\" /><path clip-path=\"url(#clip160)\" d=\"M1058.46 1548.76 L1058.46 1551.62 L1031.53 1551.62 Q1031.91 1557.67 1035.16 1560.85 Q1038.44 1564 1044.26 1564 Q1047.64 1564 1050.79 1563.17 Q1053.97 1562.35 1057.09 1560.69 L1057.09 1566.23 Q1053.94 1567.57 1050.63 1568.27 Q1047.32 1568.97 1043.91 1568.97 Q1035.38 1568.97 1030.38 1564 Q1025.42 1559.04 1025.42 1550.57 Q1025.42 1541.82 1030.13 1536.69 Q1034.87 1531.54 1042.89 1531.54 Q1050.09 1531.54 1054.26 1536.18 Q1058.46 1540.8 1058.46 1548.76 M1052.6 1547.04 Q1052.54 1542.23 1049.9 1539.37 Q1047.29 1536.5 1042.96 1536.5 Q1038.05 1536.5 1035.09 1539.27 Q1032.17 1542.04 1031.72 1547.07 L1052.6 1547.04 Z\" fill=\"#000000\" fill-rule=\"nonzero\" fill-opacity=\"1\" /><path clip-path=\"url(#clip160)\" d=\"M1071.57 1550.25 Q1071.57 1556.71 1074.21 1560.4 Q1076.89 1564.07 1081.53 1564.07 Q1086.18 1564.07 1088.85 1560.4 Q1091.53 1556.71 1091.53 1550.25 Q1091.53 1543.79 1088.85 1540.13 Q1086.18 1536.44 1081.53 1536.44 Q1076.89 1536.44 1074.21 1540.13 Q1071.57 1543.79 1071.57 1550.25 M1091.53 1562.7 Q1089.68 1565.88 1086.85 1567.44 Q1084.05 1568.97 1080.1 1568.97 Q1073.64 1568.97 1069.57 1563.81 Q1065.52 1558.65 1065.52 1550.25 Q1065.52 1541.85 1069.57 1536.69 Q1073.64 1531.54 1080.1 1531.54 Q1084.05 1531.54 1086.85 1533.1 Q1089.68 1534.62 1091.53 1537.81 L1091.53 1532.4 L1097.38 1532.4 L1097.38 1581.6 L1091.53 1581.6 L1091.53 1562.7 Z\" fill=\"#000000\" fill-rule=\"nonzero\" fill-opacity=\"1\" /><path clip-path=\"url(#clip160)\" d=\"M1108.84 1553.98 L1108.84 1532.4 L1114.7 1532.4 L1114.7 1553.75 Q1114.7 1558.81 1116.67 1561.36 Q1118.64 1563.87 1122.59 1563.87 Q1127.33 1563.87 1130.07 1560.85 Q1132.84 1557.83 1132.84 1552.61 L1132.84 1532.4 L1138.7 1532.4 L1138.7 1568.04 L1132.84 1568.04 L1132.84 1562.57 Q1130.71 1565.82 1127.88 1567.41 Q1125.07 1568.97 1121.35 1568.97 Q1115.21 1568.97 1112.02 1565.15 Q1108.84 1561.33 1108.84 1553.98 M1123.58 1531.54 L1123.58 1531.54 Z\" fill=\"#000000\" fill-rule=\"nonzero\" fill-opacity=\"1\" /><path clip-path=\"url(#clip160)\" d=\"M1181.25 1548.76 L1181.25 1551.62 L1154.32 1551.62 Q1154.71 1557.67 1157.95 1560.85 Q1161.23 1564 1167.06 1564 Q1170.43 1564 1173.58 1563.17 Q1176.76 1562.35 1179.88 1560.69 L1179.88 1566.23 Q1176.73 1567.57 1173.42 1568.27 Q1170.11 1568.97 1166.71 1568.97 Q1158.18 1568.97 1153.18 1564 Q1148.21 1559.04 1148.21 1550.57 Q1148.21 1541.82 1152.92 1536.69 Q1157.67 1531.54 1165.69 1531.54 Q1172.88 1531.54 1177.05 1536.18 Q1181.25 1540.8 1181.25 1548.76 M1175.4 1547.04 Q1175.33 1542.23 1172.69 1539.37 Q1170.08 1536.5 1165.75 1536.5 Q1160.85 1536.5 1157.89 1539.27 Q1154.96 1542.04 1154.52 1547.07 L1175.4 1547.04 Z\" fill=\"#000000\" fill-rule=\"nonzero\" fill-opacity=\"1\" /><path clip-path=\"url(#clip160)\" d=\"M1220.5 1546.53 L1220.5 1568.04 L1214.64 1568.04 L1214.64 1546.72 Q1214.64 1541.66 1212.67 1539.14 Q1210.69 1536.63 1206.75 1536.63 Q1202 1536.63 1199.27 1539.65 Q1196.53 1542.68 1196.53 1547.9 L1196.53 1568.04 L1190.64 1568.04 L1190.64 1532.4 L1196.53 1532.4 L1196.53 1537.93 Q1198.63 1534.72 1201.46 1533.13 Q1204.33 1531.54 1208.05 1531.54 Q1214.19 1531.54 1217.35 1535.36 Q1220.5 1539.14 1220.5 1546.53 Z\" fill=\"#000000\" fill-rule=\"nonzero\" fill-opacity=\"1\" /><path clip-path=\"url(#clip160)\" d=\"M1257.83 1533.76 L1257.83 1539.24 Q1255.35 1537.87 1252.83 1537.2 Q1250.35 1536.5 1247.81 1536.5 Q1242.11 1536.5 1238.96 1540.13 Q1235.81 1543.73 1235.81 1550.25 Q1235.81 1556.78 1238.96 1560.4 Q1242.11 1564 1247.81 1564 Q1250.35 1564 1252.83 1563.33 Q1255.35 1562.63 1257.83 1561.26 L1257.83 1566.68 Q1255.38 1567.82 1252.74 1568.39 Q1250.13 1568.97 1247.17 1568.97 Q1239.12 1568.97 1234.37 1563.91 Q1229.63 1558.85 1229.63 1550.25 Q1229.63 1541.53 1234.41 1536.53 Q1239.21 1531.54 1247.55 1531.54 Q1250.26 1531.54 1252.83 1532.11 Q1255.41 1532.65 1257.83 1533.76 Z\" fill=\"#000000\" fill-rule=\"nonzero\" fill-opacity=\"1\" /><path clip-path=\"url(#clip160)\" d=\"M1298.51 1548.76 L1298.51 1551.62 L1271.58 1551.62 Q1271.96 1557.67 1275.21 1560.85 Q1278.49 1564 1284.31 1564 Q1287.69 1564 1290.84 1563.17 Q1294.02 1562.35 1297.14 1560.69 L1297.14 1566.23 Q1293.99 1567.57 1290.68 1568.27 Q1287.37 1568.97 1283.96 1568.97 Q1275.43 1568.97 1270.44 1564 Q1265.47 1559.04 1265.47 1550.57 Q1265.47 1541.82 1270.18 1536.69 Q1274.92 1531.54 1282.94 1531.54 Q1290.14 1531.54 1294.31 1536.18 Q1298.51 1540.8 1298.51 1548.76 M1292.65 1547.04 Q1292.59 1542.23 1289.95 1539.37 Q1287.34 1536.5 1283.01 1536.5 Q1278.11 1536.5 1275.15 1539.27 Q1272.22 1542.04 1271.77 1547.07 L1292.65 1547.04 Z\" fill=\"#000000\" fill-rule=\"nonzero\" fill-opacity=\"1\" /><path clip-path=\"url(#clip160)\" d=\"M1328.84 1518.52 L1334.7 1518.52 L1334.7 1568.04 L1328.84 1568.04 L1328.84 1518.52 Z\" fill=\"#000000\" fill-rule=\"nonzero\" fill-opacity=\"1\" /><path clip-path=\"url(#clip160)\" d=\"M1377.44 1548.76 L1377.44 1551.62 L1350.52 1551.62 Q1350.9 1557.67 1354.14 1560.85 Q1357.42 1564 1363.25 1564 Q1366.62 1564 1369.77 1563.17 Q1372.95 1562.35 1376.07 1560.69 L1376.07 1566.23 Q1372.92 1567.57 1369.61 1568.27 Q1366.3 1568.97 1362.9 1568.97 Q1354.37 1568.97 1349.37 1564 Q1344.4 1559.04 1344.4 1550.57 Q1344.4 1541.82 1349.12 1536.69 Q1353.86 1531.54 1361.88 1531.54 Q1369.07 1531.54 1373.24 1536.18 Q1377.44 1540.8 1377.44 1548.76 M1371.59 1547.04 Q1371.52 1542.23 1368.88 1539.37 Q1366.27 1536.5 1361.94 1536.5 Q1357.04 1536.5 1354.08 1539.27 Q1351.15 1542.04 1350.71 1547.07 L1371.59 1547.04 Z\" fill=\"#000000\" fill-rule=\"nonzero\" fill-opacity=\"1\" /><path clip-path=\"url(#clip160)\" d=\"M1416.69 1546.53 L1416.69 1568.04 L1410.83 1568.04 L1410.83 1546.72 Q1410.83 1541.66 1408.86 1539.14 Q1406.88 1536.63 1402.94 1536.63 Q1398.19 1536.63 1395.46 1539.65 Q1392.72 1542.68 1392.72 1547.9 L1392.72 1568.04 L1386.83 1568.04 L1386.83 1532.4 L1392.72 1532.4 L1392.72 1537.93 Q1394.82 1534.72 1397.65 1533.13 Q1400.52 1531.54 1404.24 1531.54 Q1410.39 1531.54 1413.54 1535.36 Q1416.69 1539.14 1416.69 1546.53 Z\" fill=\"#000000\" fill-rule=\"nonzero\" fill-opacity=\"1\" /><path clip-path=\"url(#clip160)\" d=\"M1451.83 1549.81 Q1451.83 1543.44 1449.18 1539.94 Q1446.57 1536.44 1441.83 1536.44 Q1437.12 1536.44 1434.48 1539.94 Q1431.87 1543.44 1431.87 1549.81 Q1431.87 1556.14 1434.48 1559.64 Q1437.12 1563.14 1441.83 1563.14 Q1446.57 1563.14 1449.18 1559.64 Q1451.83 1556.14 1451.83 1549.81 M1457.68 1563.62 Q1457.68 1572.72 1453.64 1577.15 Q1449.6 1581.6 1441.26 1581.6 Q1438.17 1581.6 1435.43 1581.13 Q1432.7 1580.68 1430.12 1579.72 L1430.12 1574.03 Q1432.7 1575.43 1435.21 1576.1 Q1437.73 1576.76 1440.34 1576.76 Q1446.1 1576.76 1448.96 1573.74 Q1451.83 1570.75 1451.83 1564.67 L1451.83 1561.77 Q1450.01 1564.92 1447.18 1566.48 Q1444.35 1568.04 1440.4 1568.04 Q1433.84 1568.04 1429.83 1563.05 Q1425.82 1558.05 1425.82 1549.81 Q1425.82 1541.53 1429.83 1536.53 Q1433.84 1531.54 1440.4 1531.54 Q1444.35 1531.54 1447.18 1533.1 Q1450.01 1534.66 1451.83 1537.81 L1451.83 1532.4 L1457.68 1532.4 L1457.68 1563.62 Z\" fill=\"#000000\" fill-rule=\"nonzero\" fill-opacity=\"1\" /><path clip-path=\"url(#clip160)\" d=\"M1475.54 1522.27 L1475.54 1532.4 L1487.6 1532.4 L1487.6 1536.95 L1475.54 1536.95 L1475.54 1556.3 Q1475.54 1560.66 1476.72 1561.9 Q1477.93 1563.14 1481.59 1563.14 L1487.6 1563.14 L1487.6 1568.04 L1481.59 1568.04 Q1474.81 1568.04 1472.23 1565.53 Q1469.65 1562.98 1469.65 1556.3 L1469.65 1536.95 L1465.35 1536.95 L1465.35 1532.4 L1469.65 1532.4 L1469.65 1522.27 L1475.54 1522.27 Z\" fill=\"#000000\" fill-rule=\"nonzero\" fill-opacity=\"1\" /><path clip-path=\"url(#clip160)\" d=\"M1524.94 1546.53 L1524.94 1568.04 L1519.08 1568.04 L1519.08 1546.72 Q1519.08 1541.66 1517.11 1539.14 Q1515.13 1536.63 1511.19 1536.63 Q1506.44 1536.63 1503.71 1539.65 Q1500.97 1542.68 1500.97 1547.9 L1500.97 1568.04 L1495.08 1568.04 L1495.08 1518.52 L1500.97 1518.52 L1500.97 1537.93 Q1503.07 1534.72 1505.9 1533.13 Q1508.77 1531.54 1512.49 1531.54 Q1518.63 1531.54 1521.79 1535.36 Q1524.94 1539.14 1524.94 1546.53 Z\" fill=\"#000000\" fill-rule=\"nonzero\" fill-opacity=\"1\" /><polyline clip-path=\"url(#clip162)\" style=\"stroke:#000000; stroke-linecap:round; stroke-linejoin:round; stroke-width:2; stroke-opacity:0.1; fill:none\" points=\"156.922,1423.18 2352.76,1423.18 \"/>\n",
       "<polyline clip-path=\"url(#clip162)\" style=\"stroke:#000000; stroke-linecap:round; stroke-linejoin:round; stroke-width:2; stroke-opacity:0.1; fill:none\" points=\"156.922,1253.34 2352.76,1253.34 \"/>\n",
       "<polyline clip-path=\"url(#clip162)\" style=\"stroke:#000000; stroke-linecap:round; stroke-linejoin:round; stroke-width:2; stroke-opacity:0.1; fill:none\" points=\"156.922,1083.5 2352.76,1083.5 \"/>\n",
       "<polyline clip-path=\"url(#clip162)\" style=\"stroke:#000000; stroke-linecap:round; stroke-linejoin:round; stroke-width:2; stroke-opacity:0.1; fill:none\" points=\"156.922,913.664 2352.76,913.664 \"/>\n",
       "<polyline clip-path=\"url(#clip162)\" style=\"stroke:#000000; stroke-linecap:round; stroke-linejoin:round; stroke-width:2; stroke-opacity:0.1; fill:none\" points=\"156.922,743.826 2352.76,743.826 \"/>\n",
       "<polyline clip-path=\"url(#clip162)\" style=\"stroke:#000000; stroke-linecap:round; stroke-linejoin:round; stroke-width:2; stroke-opacity:0.1; fill:none\" points=\"156.922,573.987 2352.76,573.987 \"/>\n",
       "<polyline clip-path=\"url(#clip162)\" style=\"stroke:#000000; stroke-linecap:round; stroke-linejoin:round; stroke-width:2; stroke-opacity:0.1; fill:none\" points=\"156.922,404.149 2352.76,404.149 \"/>\n",
       "<polyline clip-path=\"url(#clip160)\" style=\"stroke:#000000; stroke-linecap:round; stroke-linejoin:round; stroke-width:4; stroke-opacity:1; fill:none\" points=\"156.922,1423.18 156.922,404.149 \"/>\n",
       "<polyline clip-path=\"url(#clip160)\" style=\"stroke:#000000; stroke-linecap:round; stroke-linejoin:round; stroke-width:4; stroke-opacity:1; fill:none\" points=\"156.922,1423.18 175.82,1423.18 \"/>\n",
       "<polyline clip-path=\"url(#clip160)\" style=\"stroke:#000000; stroke-linecap:round; stroke-linejoin:round; stroke-width:4; stroke-opacity:1; fill:none\" points=\"156.922,1253.34 175.82,1253.34 \"/>\n",
       "<polyline clip-path=\"url(#clip160)\" style=\"stroke:#000000; stroke-linecap:round; stroke-linejoin:round; stroke-width:4; stroke-opacity:1; fill:none\" points=\"156.922,1083.5 175.82,1083.5 \"/>\n",
       "<polyline clip-path=\"url(#clip160)\" style=\"stroke:#000000; stroke-linecap:round; stroke-linejoin:round; stroke-width:4; stroke-opacity:1; fill:none\" points=\"156.922,913.664 175.82,913.664 \"/>\n",
       "<polyline clip-path=\"url(#clip160)\" style=\"stroke:#000000; stroke-linecap:round; stroke-linejoin:round; stroke-width:4; stroke-opacity:1; fill:none\" points=\"156.922,743.826 175.82,743.826 \"/>\n",
       "<polyline clip-path=\"url(#clip160)\" style=\"stroke:#000000; stroke-linecap:round; stroke-linejoin:round; stroke-width:4; stroke-opacity:1; fill:none\" points=\"156.922,573.987 175.82,573.987 \"/>\n",
       "<polyline clip-path=\"url(#clip160)\" style=\"stroke:#000000; stroke-linecap:round; stroke-linejoin:round; stroke-width:4; stroke-opacity:1; fill:none\" points=\"156.922,404.149 175.82,404.149 \"/>\n",
       "<path clip-path=\"url(#clip160)\" d=\"M55.5523 1436.52 L63.1911 1436.52 L63.1911 1410.16 L54.881 1411.83 L54.881 1407.57 L63.1448 1405.9 L67.8207 1405.9 L67.8207 1436.52 L75.4596 1436.52 L75.4596 1440.46 L55.5523 1440.46 L55.5523 1436.52 Z\" fill=\"#000000\" fill-rule=\"nonzero\" fill-opacity=\"1\" /><path clip-path=\"url(#clip160)\" d=\"M84.904 1434.58 L89.7882 1434.58 L89.7882 1440.46 L84.904 1440.46 L84.904 1434.58 Z\" fill=\"#000000\" fill-rule=\"nonzero\" fill-opacity=\"1\" /><path clip-path=\"url(#clip160)\" d=\"M100.02 1405.9 L118.376 1405.9 L118.376 1409.84 L104.302 1409.84 L104.302 1418.31 Q105.321 1417.96 106.339 1417.8 Q107.358 1417.61 108.376 1417.61 Q114.163 1417.61 117.543 1420.78 Q120.922 1423.96 120.922 1429.37 Q120.922 1434.95 117.45 1438.05 Q113.978 1441.13 107.658 1441.13 Q105.483 1441.13 103.214 1440.76 Q100.969 1440.39 98.5613 1439.65 L98.5613 1434.95 Q100.645 1436.08 102.867 1436.64 Q105.089 1437.2 107.566 1437.2 Q111.571 1437.2 113.908 1435.09 Q116.246 1432.98 116.246 1429.37 Q116.246 1425.76 113.908 1423.65 Q111.571 1421.55 107.566 1421.55 Q105.691 1421.55 103.816 1421.96 Q101.964 1422.38 100.02 1423.26 L100.02 1405.9 Z\" fill=\"#000000\" fill-rule=\"nonzero\" fill-opacity=\"1\" /><path clip-path=\"url(#clip160)\" d=\"M57.7745 1266.69 L74.0939 1266.69 L74.0939 1270.62 L52.1495 1270.62 L52.1495 1266.69 Q54.8115 1263.93 59.3949 1259.3 Q64.0013 1254.65 65.1819 1253.31 Q67.4272 1250.78 68.3068 1249.05 Q69.2096 1247.29 69.2096 1245.6 Q69.2096 1242.84 67.2652 1241.11 Q65.3439 1239.37 62.2421 1239.37 Q60.043 1239.37 57.5893 1240.14 Q55.1588 1240.9 52.381 1242.45 L52.381 1237.73 Q55.2051 1236.59 57.6588 1236.02 Q60.1124 1235.44 62.1495 1235.44 Q67.5198 1235.44 70.7142 1238.12 Q73.9087 1240.81 73.9087 1245.3 Q73.9087 1247.43 73.0985 1249.35 Q72.3115 1251.25 70.205 1253.84 Q69.6263 1254.51 66.5245 1257.73 Q63.4226 1260.92 57.7745 1266.69 Z\" fill=\"#000000\" fill-rule=\"nonzero\" fill-opacity=\"1\" /><path clip-path=\"url(#clip160)\" d=\"M83.9086 1264.74 L88.7928 1264.74 L88.7928 1270.62 L83.9086 1270.62 L83.9086 1264.74 Z\" fill=\"#000000\" fill-rule=\"nonzero\" fill-opacity=\"1\" /><path clip-path=\"url(#clip160)\" d=\"M108.978 1239.14 Q105.367 1239.14 103.538 1242.7 Q101.733 1246.25 101.733 1253.38 Q101.733 1260.48 103.538 1264.05 Q105.367 1267.59 108.978 1267.59 Q112.612 1267.59 114.418 1264.05 Q116.246 1260.48 116.246 1253.38 Q116.246 1246.25 114.418 1242.7 Q112.612 1239.14 108.978 1239.14 M108.978 1235.44 Q114.788 1235.44 117.844 1240.04 Q120.922 1244.63 120.922 1253.38 Q120.922 1262.1 117.844 1266.71 Q114.788 1271.29 108.978 1271.29 Q103.168 1271.29 100.089 1266.71 Q97.0335 1262.1 97.0335 1253.38 Q97.0335 1244.63 100.089 1240.04 Q103.168 1235.44 108.978 1235.44 Z\" fill=\"#000000\" fill-rule=\"nonzero\" fill-opacity=\"1\" /><path clip-path=\"url(#clip160)\" d=\"M58.7699 1096.85 L75.0892 1096.85 L75.0892 1100.78 L53.1449 1100.78 L53.1449 1096.85 Q55.8069 1094.09 60.3902 1089.46 Q64.9967 1084.81 66.1772 1083.47 Q68.4226 1080.94 69.3022 1079.21 Q70.205 1077.45 70.205 1075.76 Q70.205 1073.01 68.2606 1071.27 Q66.3393 1069.53 63.2374 1069.53 Q61.0384 1069.53 58.5847 1070.3 Q56.1541 1071.06 53.3764 1072.61 L53.3764 1067.89 Q56.2004 1066.76 58.6541 1066.18 Q61.1078 1065.6 63.1448 1065.6 Q68.5152 1065.6 71.7096 1068.28 Q74.904 1070.97 74.904 1075.46 Q74.904 1077.59 74.0939 1079.51 Q73.3068 1081.41 71.2004 1084 Q70.6217 1084.67 67.5198 1087.89 Q64.418 1091.08 58.7699 1096.85 Z\" fill=\"#000000\" fill-rule=\"nonzero\" fill-opacity=\"1\" /><path clip-path=\"url(#clip160)\" d=\"M84.904 1094.9 L89.7882 1094.9 L89.7882 1100.78 L84.904 1100.78 L84.904 1094.9 Z\" fill=\"#000000\" fill-rule=\"nonzero\" fill-opacity=\"1\" /><path clip-path=\"url(#clip160)\" d=\"M100.02 1066.22 L118.376 1066.22 L118.376 1070.16 L104.302 1070.16 L104.302 1078.63 Q105.321 1078.28 106.339 1078.12 Q107.358 1077.94 108.376 1077.94 Q114.163 1077.94 117.543 1081.11 Q120.922 1084.28 120.922 1089.69 Q120.922 1095.27 117.45 1098.38 Q113.978 1101.45 107.658 1101.45 Q105.483 1101.45 103.214 1101.08 Q100.969 1100.71 98.5613 1099.97 L98.5613 1095.27 Q100.645 1096.41 102.867 1096.96 Q105.089 1097.52 107.566 1097.52 Q111.571 1097.52 113.908 1095.41 Q116.246 1093.31 116.246 1089.69 Q116.246 1086.08 113.908 1083.98 Q111.571 1081.87 107.566 1081.87 Q105.691 1081.87 103.816 1082.29 Q101.964 1082.7 100.02 1083.58 L100.02 1066.22 Z\" fill=\"#000000\" fill-rule=\"nonzero\" fill-opacity=\"1\" /><path clip-path=\"url(#clip160)\" d=\"M67.9133 912.31 Q71.2698 913.028 73.1448 915.296 Q75.0429 917.565 75.0429 920.898 Q75.0429 926.014 71.5244 928.815 Q68.0059 931.616 61.5245 931.616 Q59.3486 931.616 57.0338 931.176 Q54.7421 930.759 52.2884 929.903 L52.2884 925.389 Q54.2328 926.523 56.5477 927.102 Q58.8625 927.68 61.3856 927.68 Q65.7837 927.68 68.0754 925.944 Q70.3902 924.208 70.3902 920.898 Q70.3902 917.842 68.2374 916.129 Q66.1078 914.393 62.2884 914.393 L58.2606 914.393 L58.2606 910.551 L62.4735 910.551 Q65.9226 910.551 67.7513 909.185 Q69.58 907.796 69.58 905.204 Q69.58 902.542 67.6819 901.13 Q65.8069 899.694 62.2884 899.694 Q60.3671 899.694 58.168 900.111 Q55.969 900.528 53.3301 901.407 L53.3301 897.241 Q55.9921 896.5 58.3069 896.13 Q60.6449 895.759 62.705 895.759 Q68.0291 895.759 71.1309 898.19 Q74.2327 900.597 74.2327 904.718 Q74.2327 907.588 72.5892 909.579 Q70.9457 911.546 67.9133 912.31 Z\" fill=\"#000000\" fill-rule=\"nonzero\" fill-opacity=\"1\" /><path clip-path=\"url(#clip160)\" d=\"M83.9086 925.065 L88.7928 925.065 L88.7928 930.944 L83.9086 930.944 L83.9086 925.065 Z\" fill=\"#000000\" fill-rule=\"nonzero\" fill-opacity=\"1\" /><path clip-path=\"url(#clip160)\" d=\"M108.978 899.463 Q105.367 899.463 103.538 903.028 Q101.733 906.569 101.733 913.699 Q101.733 920.805 103.538 924.37 Q105.367 927.912 108.978 927.912 Q112.612 927.912 114.418 924.37 Q116.246 920.805 116.246 913.699 Q116.246 906.569 114.418 903.028 Q112.612 899.463 108.978 899.463 M108.978 895.759 Q114.788 895.759 117.844 900.366 Q120.922 904.949 120.922 913.699 Q120.922 922.426 117.844 927.032 Q114.788 931.616 108.978 931.616 Q103.168 931.616 100.089 927.032 Q97.0335 922.426 97.0335 913.699 Q97.0335 904.949 100.089 900.366 Q103.168 895.759 108.978 895.759 Z\" fill=\"#000000\" fill-rule=\"nonzero\" fill-opacity=\"1\" /><path clip-path=\"url(#clip160)\" d=\"M68.9087 742.472 Q72.2652 743.189 74.1402 745.458 Q76.0383 747.726 76.0383 751.059 Q76.0383 756.175 72.5198 758.976 Q69.0013 761.777 62.5198 761.777 Q60.3439 761.777 58.0291 761.337 Q55.7375 760.921 53.2838 760.064 L53.2838 755.55 Q55.2282 756.684 57.543 757.263 Q59.8578 757.842 62.381 757.842 Q66.7791 757.842 69.0707 756.106 Q71.3855 754.37 71.3855 751.059 Q71.3855 748.004 69.2328 746.291 Q67.1032 744.555 63.2837 744.555 L59.256 744.555 L59.256 740.712 L63.4689 740.712 Q66.918 740.712 68.7467 739.347 Q70.5754 737.958 70.5754 735.365 Q70.5754 732.703 68.6772 731.291 Q66.8022 729.856 63.2837 729.856 Q61.3624 729.856 59.1634 730.273 Q56.9643 730.689 54.3254 731.569 L54.3254 727.402 Q56.9875 726.661 59.3023 726.291 Q61.6402 725.921 63.7004 725.921 Q69.0244 725.921 72.1263 728.351 Q75.2281 730.759 75.2281 734.879 Q75.2281 737.749 73.5846 739.74 Q71.9411 741.708 68.9087 742.472 Z\" fill=\"#000000\" fill-rule=\"nonzero\" fill-opacity=\"1\" /><path clip-path=\"url(#clip160)\" d=\"M84.904 755.226 L89.7882 755.226 L89.7882 761.106 L84.904 761.106 L84.904 755.226 Z\" fill=\"#000000\" fill-rule=\"nonzero\" fill-opacity=\"1\" /><path clip-path=\"url(#clip160)\" d=\"M100.02 726.546 L118.376 726.546 L118.376 730.481 L104.302 730.481 L104.302 738.953 Q105.321 738.606 106.339 738.444 Q107.358 738.259 108.376 738.259 Q114.163 738.259 117.543 741.43 Q120.922 744.601 120.922 750.018 Q120.922 755.596 117.45 758.698 Q113.978 761.777 107.658 761.777 Q105.483 761.777 103.214 761.407 Q100.969 761.036 98.5613 760.296 L98.5613 755.596 Q100.645 756.731 102.867 757.286 Q105.089 757.842 107.566 757.842 Q111.571 757.842 113.908 755.735 Q116.246 753.629 116.246 750.018 Q116.246 746.407 113.908 744.3 Q111.571 742.194 107.566 742.194 Q105.691 742.194 103.816 742.61 Q101.964 743.027 100.02 743.907 L100.02 726.546 Z\" fill=\"#000000\" fill-rule=\"nonzero\" fill-opacity=\"1\" /><path clip-path=\"url(#clip160)\" d=\"M66.5939 560.781 L54.7884 579.23 L66.5939 579.23 L66.5939 560.781 M65.367 556.707 L71.2466 556.707 L71.2466 579.23 L76.1772 579.23 L76.1772 583.119 L71.2466 583.119 L71.2466 591.267 L66.5939 591.267 L66.5939 583.119 L50.9921 583.119 L50.9921 578.605 L65.367 556.707 Z\" fill=\"#000000\" fill-rule=\"nonzero\" fill-opacity=\"1\" /><path clip-path=\"url(#clip160)\" d=\"M83.9086 585.388 L88.7928 585.388 L88.7928 591.267 L83.9086 591.267 L83.9086 585.388 Z\" fill=\"#000000\" fill-rule=\"nonzero\" fill-opacity=\"1\" /><path clip-path=\"url(#clip160)\" d=\"M108.978 559.786 Q105.367 559.786 103.538 563.351 Q101.733 566.892 101.733 574.022 Q101.733 581.128 103.538 584.693 Q105.367 588.235 108.978 588.235 Q112.612 588.235 114.418 584.693 Q116.246 581.128 116.246 574.022 Q116.246 566.892 114.418 563.351 Q112.612 559.786 108.978 559.786 M108.978 556.082 Q114.788 556.082 117.844 560.689 Q120.922 565.272 120.922 574.022 Q120.922 582.749 117.844 587.355 Q114.788 591.938 108.978 591.938 Q103.168 591.938 100.089 587.355 Q97.0335 582.749 97.0335 574.022 Q97.0335 565.272 100.089 560.689 Q103.168 556.082 108.978 556.082 Z\" fill=\"#000000\" fill-rule=\"nonzero\" fill-opacity=\"1\" /><path clip-path=\"url(#clip160)\" d=\"M67.5893 390.943 L55.7838 409.392 L67.5893 409.392 L67.5893 390.943 M66.3624 386.869 L72.242 386.869 L72.242 409.392 L77.1725 409.392 L77.1725 413.281 L72.242 413.281 L72.242 421.429 L67.5893 421.429 L67.5893 413.281 L51.9875 413.281 L51.9875 408.767 L66.3624 386.869 Z\" fill=\"#000000\" fill-rule=\"nonzero\" fill-opacity=\"1\" /><path clip-path=\"url(#clip160)\" d=\"M84.904 415.549 L89.7882 415.549 L89.7882 421.429 L84.904 421.429 L84.904 415.549 Z\" fill=\"#000000\" fill-rule=\"nonzero\" fill-opacity=\"1\" /><path clip-path=\"url(#clip160)\" d=\"M100.02 386.869 L118.376 386.869 L118.376 390.804 L104.302 390.804 L104.302 399.276 Q105.321 398.929 106.339 398.767 Q107.358 398.582 108.376 398.582 Q114.163 398.582 117.543 401.753 Q120.922 404.924 120.922 410.341 Q120.922 415.919 117.45 419.021 Q113.978 422.1 107.658 422.1 Q105.483 422.1 103.214 421.73 Q100.969 421.359 98.5613 420.618 L98.5613 415.919 Q100.645 417.054 102.867 417.609 Q105.089 418.165 107.566 418.165 Q111.571 418.165 113.908 416.058 Q116.246 413.952 116.246 410.341 Q116.246 406.73 113.908 404.623 Q111.571 402.517 107.566 402.517 Q105.691 402.517 103.816 402.933 Q101.964 403.35 100.02 404.23 L100.02 386.869 Z\" fill=\"#000000\" fill-rule=\"nonzero\" fill-opacity=\"1\" /><polyline clip-path=\"url(#clip162)\" style=\"stroke:#009af9; stroke-linecap:round; stroke-linejoin:round; stroke-width:4; stroke-opacity:1; fill:none\" points=\"156.922,1262.03 330.791,1202.38 477.795,1148.82 605.136,1102.9 717.458,1058.69 817.934,1019.62 908.826,986.636 991.803,954.773 1068.13,927.533 1138.81,901.274 1204.6,878.88 1266.15,858.413 1323.96,840.014 1378.47,823.654 1430.03,809.029 1478.95,795.181 1525.47,781.008 1569.84,771.008 1612.23,759.474 1652.81,750.842 1691.74,742.046 1729.15,734.535 1765.14,728.987 1799.82,721.855 1833.28,716.632 1865.61,711.573 1896.88,707.696 1927.16,702.943 1956.5,699.879 1984.97,695.07 2012.62,691.126 2039.48,691.498 2065.61,688.272 2091.04,686.226 2115.81,683.788 2139.96,683.891 2163.51,680.915 2186.49,678.861 2208.93,678.78 2230.85,678.816 2252.28,678.453 2273.24,678.144 2293.75,677.736 2313.83,677.056 2333.49,677.496 2352.76,676.808 2371.64,678.626 2390.16,678.993 2408.32,678.354 2426.15,680.896 2443.65,680.42 2460.83,681.682 2477.71,681.372 2494.29,684.151 2510.6,684.908 2526.62,683.927 2542.39,687.268 2557.89,688.203 2573.15,689.294 2588.17,691.706 2602.96,691.756 2617.52,693.687 2631.86,695.803 2645.99,697.178 2659.91,698.183 2673.63,699.673 2687.16,702.537 2700.49,704.332 2713.65,704.048 2726.62,706.212 2739.42,707.797 2752.05,709.815 2764.52,710.881 2776.83,714.41 2788.97,716.025 2800.97,718.404 2812.82,720.854 2824.52,720.748 2836.08,724.595 2847.5,727.457 2858.78,729.135 2869.94,730.96 2880.96,732.575 2891.86,736.541 2902.64,736.565 2913.29,739.732 2923.83,742.367 2934.25,743.963 2944.56,745.218 2954.76,748.299 2964.85,752.275 2974.84,753.641 2984.72,755.133 2994.5,757.911 3004.18,760.992 3013.77,762.356 \"/>\n",
       "<polyline clip-path=\"url(#clip162)\" style=\"stroke:#e26f46; stroke-linecap:round; stroke-linejoin:round; stroke-width:4; stroke-opacity:1; fill:none\" points=\"156.922,1207.59 330.791,1162.33 477.795,1077.3 605.136,1040.6 717.458,1016.22 817.934,981.263 908.826,936.709 991.803,918.166 1068.13,897.988 1138.81,852.421 1204.6,847.487 1266.15,832.021 1323.96,816.478 1378.47,802.762 1430.03,785.064 1478.95,767.494 1525.47,747.366 1569.84,733.584 1612.23,737.517 1652.81,708.021 1691.74,710.136 1729.15,692.624 1765.14,695.517 1799.82,664.128 1833.28,683.571 1865.61,668.267 1896.88,663.736 1927.16,672.272 1956.5,661.448 1984.97,644.609 2012.62,661.109 2039.48,645.983 2065.61,644.559 2091.04,646.111 2115.81,645.664 2139.96,652.528 2163.51,648.605 2186.49,637.94 2208.93,643.8 2230.85,641.471 2252.28,644.993 2273.24,640.707 2293.75,633.703 2313.83,635.402 2333.49,640.003 2352.76,624.261 2371.64,631.116 2390.16,631.051 2408.32,633.343 2426.15,637.331 2443.65,630.135 2460.83,628.105 2477.71,641.989 2494.29,644.571 2510.6,636.478 2526.62,634.249 2542.39,652.232 2557.89,647.739 2573.15,649.627 2588.17,642.334 2602.96,635.808 2617.52,646.569 2631.86,647.743 2645.99,649.259 2659.91,645.673 2673.63,657.558 2687.16,653.243 2700.49,661.965 2713.65,660.706 2726.62,656.941 2739.42,666.887 2752.05,660.575 2764.52,664.026 2776.83,669.917 2788.97,671.813 2800.97,670.099 2812.82,675.302 2824.52,672.589 2836.08,674.084 2847.5,653.182 2858.78,682.319 2869.94,686.708 2880.96,676.948 2891.86,694.014 2902.64,689.711 2913.29,682.056 2923.83,693.262 2934.25,685.175 2944.56,696.733 2954.76,694.292 2964.85,704.659 2974.84,703.418 2984.72,700.095 2994.5,704.159 3004.18,709.437 3013.77,706.481 \"/>\n",
       "<polyline clip-path=\"url(#clip162)\" style=\"stroke:#3da44d; stroke-linecap:round; stroke-linejoin:round; stroke-width:4; stroke-opacity:1; fill:none\" points=\"156.922,1214.3 330.791,1182.77 477.795,1092.61 605.136,1062.47 717.458,1035.59 817.934,1002.86 908.826,952.471 991.803,939.075 1068.13,914.361 1138.81,874.618 1204.6,865.941 1266.15,850.173 1323.96,827.153 1378.47,820.394 1430.03,798.167 1478.95,776.337 1525.47,752.705 1569.84,738.926 1612.23,732.768 1652.81,706.035 1691.74,699.577 1729.15,676.529 1765.14,673.85 1799.82,654.954 1833.28,654.013 1865.61,634.844 1896.88,622.354 1927.16,627.403 1956.5,610.702 1984.97,590.581 2012.62,596.384 2039.48,576.913 2065.61,575.493 2091.04,567.141 2115.81,555.367 2139.96,558.853 2163.51,548.638 2186.49,533.836 2208.93,529.651 2230.85,522.631 2252.28,516.08 2273.24,510.178 2293.75,499.796 2313.83,492.321 2333.49,490.751 2352.76,466.441 2371.64,459.386 2390.16,456.367 2408.32,451.525 2426.15,446.681 2443.65,434.167 2460.83,439.236 2477.71,431.286 2494.29,429.591 2510.6,416.023 2526.62,405.918 2542.39,416.578 2557.89,409.144 2573.15,400.444 2588.17,387.693 2602.96,374.173 2617.52,383.322 2631.86,372.778 2645.99,366.537 2659.91,360.245 2673.63,366.816 2687.16,356.023 2700.49,353.753 2713.65,348.755 2726.62,342.347 2739.42,349.537 2752.05,324.835 2764.52,329.421 2776.83,332.398 2788.97,323.885 2800.97,319.931 2812.82,312.826 2824.52,303.04 2836.08,298.848 2847.5,283.97 2858.78,292.844 2869.94,295.154 2880.96,279.727 2891.86,290.322 2902.64,277.396 2913.29,272.413 2923.83,269.533 2934.25,252.099 2944.56,270.639 2954.76,261.204 2964.85,264.542 2974.84,263.904 2984.72,248.921 2994.5,245.117 3004.18,247.246 3013.77,238.971 \"/>\n",
       "<polyline clip-path=\"url(#clip162)\" style=\"stroke:#c271d2; stroke-linecap:round; stroke-linejoin:round; stroke-width:4; stroke-opacity:1; fill:none\" points=\"156.922,955.707 330.791,972.05 477.795,907.239 605.136,914.593 717.458,934.764 817.934,932.397 908.826,911.309 991.803,925.052 1068.13,926.1 1138.81,897.366 1204.6,909.008 1266.15,917.348 1323.96,916.665 1378.47,919.76 1430.03,912.916 1478.95,908.999 1525.47,894.766 1569.84,892.549 1612.23,907.994 1652.81,885.458 1691.74,897.527 1729.15,887.01 1765.14,893.842 1799.82,867.865 1833.28,898.378 1865.61,885.043 1896.88,883.207 1927.16,898.768 1956.5,890.123 1984.97,877.728 2012.62,898.714 2039.48,885.13 2065.61,886.552 2091.04,892.725 2115.81,894.518 2139.96,902.592 2163.51,901.8 2186.49,892.351 2208.93,899.184 2230.85,900.499 2252.28,903.875 2273.24,902.842 2293.75,895.888 2313.83,897.398 2333.49,903.713 2352.76,890.123 2371.64,896.218 2390.16,899.283 2408.32,901.814 2426.15,907.838 2443.65,900.083 2460.83,898.783 2477.71,915.125 2494.29,921.932 2510.6,912.183 2526.62,910.576 2542.39,931.453 2557.89,926.321 2573.15,930.216 2588.17,923.603 2602.96,915.563 2617.52,928.591 2631.86,930.914 2645.99,933.095 2659.91,928.857 2673.63,944.311 2687.16,940.174 2700.49,949.801 2713.65,949.141 2726.62,947.995 2739.42,959.719 2752.05,953.976 2764.52,957.874 2776.83,963.149 2788.97,967.226 2800.97,967.483 2812.82,972.197 2824.52,971.962 2836.08,973.604 2847.5,951.332 2858.78,983.404 2869.94,989.465 2880.96,980.129 2891.86,998.796 2902.64,994.794 2913.29,988.213 2923.83,1001.39 2934.25,993.159 2944.56,1005.21 2954.76,1005.61 2964.85,1016.93 2974.84,1017.17 2984.72,1011.11 2994.5,1018.47 3004.18,1023.63 3013.77,1023.39 \"/>\n",
       "<polyline clip-path=\"url(#clip162)\" style=\"stroke:#ac8d18; stroke-linecap:round; stroke-linejoin:round; stroke-width:4; stroke-opacity:1; fill:none\" points=\"156.922,1138.05 330.791,1135.83 477.795,1065.5 605.136,1063.49 717.458,1073.61 817.934,1066.83 908.826,1042.63 991.803,1052.36 1068.13,1049.67 1138.81,1021.56 1204.6,1029.57 1266.15,1035.54 1323.96,1033.95 1378.47,1035.68 1430.03,1028.11 1478.95,1024.2 1525.47,1009.75 1569.84,1007.17 1612.23,1021.24 1652.81,1000.09 1691.74,1010.72 1729.15,1001.31 1765.14,1007.56 1799.82,982.872 1833.28,1012.5 1865.61,1000.15 1896.88,998.354 1927.16,1014.2 1956.5,1006.83 1984.97,995.781 2012.62,1015.69 2039.48,1004.36 2065.61,1005.47 2091.04,1012.58 2115.81,1015.3 2139.96,1024 2163.51,1023.95 2186.49,1016.15 2208.93,1023.56 2230.85,1025.6 2252.28,1029.82 2273.24,1030.24 2293.75,1024.53 2313.83,1027.18 2333.49,1033.88 2352.76,1022.38 2371.64,1029.06 2390.16,1033 2408.32,1036.08 2426.15,1042.64 2443.65,1036.17 2460.83,1036.24 2477.71,1052.37 2494.29,1059.56 2510.6,1051.62 2526.62,1051.1 2542.39,1070.78 2557.89,1066.71 2573.15,1070.77 2588.17,1065.74 2602.96,1059.26 2617.52,1071.92 2631.86,1074.82 2645.99,1077.38 2659.91,1074.04 2673.63,1089.08 2687.16,1086.05 2700.49,1094.81 2713.65,1095 2726.62,1094.36 2739.42,1105.41 2752.05,1101.37 2764.52,1105.19 2776.83,1110.31 2788.97,1114.44 2800.97,1115.41 2812.82,1119.61 2824.52,1120.03 2836.08,1121.86 2847.5,1102.49 2858.78,1131.24 2869.94,1137.41 2880.96,1129.55 2891.86,1146.33 2902.64,1142.82 2913.29,1137.43 2923.83,1149.63 2934.25,1142.61 2944.56,1153.86 2954.76,1154.21 2964.85,1164.71 2974.84,1165.2 2984.72,1159.88 2994.5,1166.79 3004.18,1171.71 3013.77,1171.8 \"/>\n",
       "<path clip-path=\"url(#clip160)\" d=\"M620.838 358.284 L1888.84 358.284 L1888.84 47.2441 L620.838 47.2441  Z\" fill=\"#ffffff\" fill-rule=\"evenodd\" fill-opacity=\"1\"/>\n",
       "<polyline clip-path=\"url(#clip160)\" style=\"stroke:#000000; stroke-linecap:round; stroke-linejoin:round; stroke-width:4; stroke-opacity:1; fill:none\" points=\"620.838,358.284 1888.84,358.284 1888.84,47.2441 620.838,47.2441 620.838,358.284 \"/>\n",
       "<polyline clip-path=\"url(#clip160)\" style=\"stroke:#009af9; stroke-linecap:round; stroke-linejoin:round; stroke-width:4; stroke-opacity:1; fill:none\" points=\"645.236,99.0841 791.625,99.0841 \"/>\n",
       "<path clip-path=\"url(#clip160)\" d=\"M844.997 97.8191 L843.498 110.959 L816.023 110.959 L816.023 108.711 L821.199 108.711 L821.199 80.2991 L816.023 80.2991 L816.023 78.0506 Q817.85 78.1911 824.806 78.1911 Q832.372 78.1911 834.48 78.0506 L834.48 80.2991 L828.015 80.2991 L828.015 108.711 L832.957 108.711 Q834.738 108.711 836.19 108.266 Q837.642 107.797 838.579 107.165 Q839.539 106.509 840.289 105.431 Q841.062 104.354 841.436 103.534 Q841.835 102.691 842.139 101.403 Q842.444 100.115 842.537 99.5055 Q842.631 98.8731 842.748 97.8191 L844.997 97.8191 Z\" fill=\"#000000\" fill-rule=\"nonzero\" fill-opacity=\"1\" /><path clip-path=\"url(#clip160)\" d=\"M881.609 87.3961 Q881.609 90.1365 879.923 92.2446 Q878.26 94.3292 875.472 95.4066 Q872.709 96.484 869.359 96.484 L860.88 96.484 L860.88 108.711 L866.057 108.711 L866.057 110.959 Q864.23 110.819 857.461 110.819 Q850.715 110.819 848.888 110.959 L848.888 108.711 L854.064 108.711 L854.064 80.2991 L848.888 80.2991 L848.888 78.0506 L868.891 78.0506 Q874.723 78.0506 878.166 80.6973 Q881.609 83.344 881.609 87.3961 M874.255 87.3961 Q874.255 86.6232 874.231 86.2484 Q874.231 85.8502 874.161 85.1241 Q874.114 84.398 873.973 84.0233 Q873.856 83.6251 873.622 83.0395 Q873.388 82.454 873.013 82.1261 Q872.662 81.7747 872.123 81.3765 Q871.584 80.9784 870.882 80.791 Q870.179 80.5802 869.195 80.4396 Q868.235 80.2991 867.064 80.2991 L860.599 80.2991 L860.599 94.5165 L867.017 94.5165 Q868.188 94.5165 869.148 94.376 Q870.132 94.2355 870.835 94.0247 Q871.561 93.8139 872.1 93.4157 Q872.662 93.0175 873.013 92.6896 Q873.364 92.3383 873.599 91.7527 Q873.856 91.1671 873.973 90.7689 Q874.114 90.3708 874.161 89.6681 Q874.231 88.942 874.231 88.5438 Q874.255 88.1456 874.255 87.3961 Z\" fill=\"#000000\" fill-rule=\"nonzero\" fill-opacity=\"1\" /><path clip-path=\"url(#clip160)\" d=\"M917.019 101.215 Q917.019 103.136 916.41 104.893 Q915.801 106.649 914.559 108.172 Q913.318 109.671 911.14 110.584 Q908.961 111.498 906.127 111.498 Q904.815 111.498 903.434 111.334 Q902.052 111.193 900.014 110.561 Q897.976 109.929 896.524 108.851 L894.322 111.053 Q894.088 111.264 893.994 111.31 Q893.901 111.381 893.76 111.428 Q893.62 111.498 893.409 111.498 Q892.987 111.498 892.8 111.31 Q892.612 111.146 892.566 110.936 Q892.542 110.701 892.542 110.139 L892.542 101.403 Q892.542 100.513 892.706 100.278 Q892.87 100.021 893.69 100.021 Q894.439 100.021 894.58 100.232 Q894.744 100.419 894.791 101.122 Q894.884 102.832 895.493 104.19 Q896.102 105.549 897.086 106.415 Q898.093 107.258 899.218 107.844 Q900.342 108.429 901.653 108.711 Q902.989 108.992 904.019 109.109 Q905.073 109.226 906.127 109.226 Q907.907 109.226 909.195 108.687 Q910.484 108.148 911.116 107.282 Q911.772 106.392 912.053 105.502 Q912.358 104.588 912.358 103.628 Q912.358 101.356 910.437 99.4353 Q909.687 98.7326 908.75 98.4281 Q907.814 98.1236 904.347 97.3741 Q899.967 96.4138 898.374 95.8048 Q896.782 95.1958 895.142 93.5562 Q892.542 90.8392 892.542 87.1619 Q892.542 85.2413 893.198 83.5314 Q893.877 81.8216 895.165 80.4631 Q896.454 79.1046 898.538 78.3316 Q900.646 77.5353 903.293 77.5353 Q908.165 77.5353 911.491 80.1586 L913.646 78.0506 Q914.067 77.6758 914.184 77.6055 Q914.325 77.5353 914.606 77.5353 Q915.215 77.5353 915.332 77.8163 Q915.473 78.074 915.473 78.8703 L915.473 87.6538 Q915.473 88.5438 915.309 88.778 Q915.145 88.9888 914.325 88.9888 Q913.599 88.9888 913.435 88.8249 Q913.271 88.6375 913.13 87.7475 Q912.803 85.8502 912.03 84.398 Q911.28 82.9459 910.32 82.0558 Q909.359 81.1657 908.118 80.6036 Q906.9 80.018 905.729 79.8072 Q904.581 79.5964 903.34 79.5964 Q901.63 79.5964 900.365 80.0883 Q899.1 80.5568 898.445 81.3531 Q897.812 82.1495 897.508 82.9693 Q897.203 83.7891 897.203 84.6323 Q897.203 86.6232 898.632 87.9348 Q900.061 89.2465 901.794 89.6212 L908.75 91.0969 Q912.17 91.823 914.583 94.6102 Q917.019 97.3741 917.019 101.215 Z\" fill=\"#000000\" fill-rule=\"nonzero\" fill-opacity=\"1\" /><path clip-path=\"url(#clip160)\" d=\"M922.879 122.951 L922.879 74.9822 L930.117 74.9822 L930.117 76.0831 L926.088 76.0831 L926.088 121.851 L930.117 121.851 L930.117 122.951 L922.879 122.951 Z\" fill=\"#000000\" fill-rule=\"nonzero\" fill-opacity=\"1\" /><path clip-path=\"url(#clip160)\" d=\"M953.385 105.01 Q953.385 107.727 951.816 109.483 Q950.27 111.24 947.6 111.24 Q946.476 111.24 945.492 111.1 Q944.508 110.959 943.454 110.537 Q942.424 110.116 941.674 109.46 Q940.948 108.781 940.479 107.657 Q940.011 106.532 940.011 105.057 L940.011 91.9166 L936.076 91.9166 L936.076 90.1834 Q937.786 90.1365 939.168 89.2933 Q940.573 88.4501 941.416 87.0916 Q942.283 85.7097 942.728 84.0467 Q943.196 82.3603 943.22 80.5099 L945.468 80.5099 L945.468 89.6681 L952.472 89.6681 L952.472 91.9166 L945.468 91.9166 L945.468 105.15 Q945.468 109.32 948.256 109.32 Q949.403 109.32 950.27 108.242 Q951.137 107.165 951.137 104.916 L951.137 102.48 L953.385 102.48 L953.385 105.01 Z\" fill=\"#000000\" fill-rule=\"nonzero\" fill-opacity=\"1\" /><path clip-path=\"url(#clip160)\" d=\"M976.139 93.2986 Q976.139 94.6571 975.249 95.4534 Q974.359 96.2264 973.211 96.2264 Q972.064 96.2264 971.174 95.4534 Q970.284 94.6805 970.284 93.2986 Q970.284 92.6896 970.494 92.1509 Q970.729 91.5887 970.963 91.3311 L971.197 91.0969 Q969.815 91.0969 968.738 91.7527 Q967.66 92.3851 967.004 93.3688 Q966.349 94.3526 965.927 95.6408 Q965.505 96.9056 965.341 98.0533 Q965.201 99.201 965.201 100.302 L965.201 108.711 L969.37 108.711 L969.37 110.959 Q967.637 110.819 962.765 110.819 L956.722 110.959 L956.722 108.711 L960.025 108.711 L960.025 93.8841 Q960.025 92.5256 959.533 92.268 Q959.041 92.0103 956.722 92.0103 L956.722 89.7618 L964.686 89.3636 L964.686 94.7976 Q966.677 89.3636 971.057 89.3636 Q973.071 89.3636 974.593 90.441 Q976.139 91.495 976.139 93.2986 Z\" fill=\"#000000\" fill-rule=\"nonzero\" fill-opacity=\"1\" /><path clip-path=\"url(#clip160)\" d=\"M1008.15 91.9166 Q1006.68 91.9166 1005.93 92.0572 Q1005.18 92.1743 1004.99 92.3383 Q1004.8 92.5022 1004.59 92.9238 L994.286 114.847 Q993.185 117.189 991.124 118.876 Q989.087 120.562 986.51 120.562 Q984.355 120.562 982.856 119.251 Q981.381 117.962 981.381 116.135 Q981.381 114.824 982.2 114.074 Q983.02 113.348 984.121 113.348 Q985.339 113.348 986.112 114.121 Q986.908 114.894 986.908 116.089 Q986.908 116.862 986.58 117.447 Q986.252 118.056 985.948 118.267 Q985.667 118.501 985.362 118.642 Q985.854 118.829 986.51 118.829 Q987.494 118.829 988.337 118.431 Q989.204 118.056 989.766 117.541 Q990.351 117.049 990.937 116.159 Q991.522 115.292 991.804 114.73 Q992.085 114.191 992.506 113.254 L993.607 110.959 L984.636 91.9166 L981.568 91.9166 L981.568 89.6681 L987.049 89.8086 L992.998 89.6681 L992.998 91.9166 L990.398 91.9166 L996.488 104.869 L1002.02 93.0643 L1002.25 92.5022 Q1002.25 92.2446 1001.69 92.104 Q1001.13 91.9401 1000.56 91.9401 L1000 91.9166 L1000 89.6681 L1004.36 89.8086 Q1006.42 89.8086 1008.15 89.6681 L1008.15 91.9166 Z\" fill=\"#000000\" fill-rule=\"nonzero\" fill-opacity=\"1\" /><path clip-path=\"url(#clip160)\" d=\"M1036.06 100.255 Q1036.06 105.244 1032.71 108.242 Q1029.39 111.24 1023.98 111.24 Q1020.46 111.24 1017.84 109.085 L1017.84 118.009 L1021.14 118.009 L1021.14 120.258 L1015.1 120.117 L1009.06 120.258 L1009.06 118.009 L1012.36 118.009 L1012.36 93.8373 Q1012.36 92.5022 1011.87 92.268 Q1011.38 92.0103 1009.06 92.0103 L1009.06 89.7618 L1017.54 89.3636 L1017.54 91.7293 Q1018.68 90.8392 1020.53 90.1131 Q1022.41 89.3636 1024.8 89.3636 Q1029.93 89.3636 1033 92.4085 Q1036.06 95.43 1036.06 100.255 M1029.93 100.255 Q1029.93 95.9219 1028.24 93.6031 Q1026.58 91.2842 1024.02 91.2842 Q1022.85 91.2842 1021.33 91.7761 Q1019.81 92.268 1018.54 93.5562 Q1018.03 94.0715 1017.94 94.2823 Q1017.84 94.4931 1017.84 95.1724 L1017.84 105.338 Q1017.84 106.064 1017.89 106.275 Q1017.96 106.462 1018.36 106.93 Q1020.51 109.53 1023.44 109.53 Q1024.66 109.53 1025.76 109.015 Q1026.88 108.5 1027.84 107.446 Q1028.8 106.392 1029.37 104.541 Q1029.93 102.691 1029.93 100.255 Z\" fill=\"#000000\" fill-rule=\"nonzero\" fill-opacity=\"1\" /><path clip-path=\"url(#clip160)\" d=\"M1059.03 105.01 Q1059.03 107.727 1057.46 109.483 Q1055.91 111.24 1053.24 111.24 Q1052.12 111.24 1051.13 111.1 Q1050.15 110.959 1049.09 110.537 Q1048.06 110.116 1047.31 109.46 Q1046.59 108.781 1046.12 107.657 Q1045.65 106.532 1045.65 105.057 L1045.65 91.9166 L1041.72 91.9166 L1041.72 90.1834 Q1043.43 90.1365 1044.81 89.2933 Q1046.21 88.4501 1047.06 87.0916 Q1047.92 85.7097 1048.37 84.0467 Q1048.84 82.3603 1048.86 80.5099 L1051.11 80.5099 L1051.11 89.6681 L1058.11 89.6681 L1058.11 91.9166 L1051.11 91.9166 L1051.11 105.15 Q1051.11 109.32 1053.9 109.32 Q1055.04 109.32 1055.91 108.242 Q1056.78 107.165 1056.78 104.916 L1056.78 102.48 L1059.03 102.48 L1059.03 105.01 Z\" fill=\"#000000\" fill-rule=\"nonzero\" fill-opacity=\"1\" /><path clip-path=\"url(#clip160)\" d=\"M1073.84 110.959 L1068.22 110.819 L1062.36 110.959 L1062.36 108.711 L1065.69 108.711 L1065.69 93.8841 Q1065.69 92.5256 1065.2 92.268 Q1064.7 92.0103 1062.5 92.0103 L1062.5 89.7618 L1070.87 89.3636 L1070.87 108.711 L1073.84 108.711 L1073.84 110.959 M1070.42 79.1983 Q1071.52 80.2991 1071.52 81.845 Q1071.52 83.3909 1070.42 84.4917 Q1069.34 85.5926 1067.8 85.5926 Q1066.25 85.5926 1065.15 84.4917 Q1064.05 83.3909 1064.05 81.845 Q1064.05 80.2991 1065.15 79.1983 Q1066.25 78.0974 1067.8 78.0974 Q1069.34 78.0974 1070.42 79.1983 Z\" fill=\"#000000\" fill-rule=\"nonzero\" fill-opacity=\"1\" /><path clip-path=\"url(#clip160)\" d=\"M1099.96 105.338 Q1099.96 105.525 1099.74 106.087 Q1099.56 106.626 1098.93 107.539 Q1098.32 108.453 1097.36 109.273 Q1096.42 110.069 1094.66 110.655 Q1092.93 111.24 1090.75 111.24 Q1085.29 111.24 1082.06 108.195 Q1078.85 105.15 1078.85 100.302 Q1078.85 98.147 1079.55 96.2264 Q1080.26 94.2823 1081.66 92.6896 Q1083.09 91.0969 1085.48 90.16 Q1087.89 89.2231 1090.98 89.2231 Q1099.32 89.2231 1099.32 93.6499 Q1099.32 95.0787 1098.41 95.875 Q1097.52 96.6714 1096.3 96.6714 Q1095.18 96.6714 1094.24 95.8985 Q1093.33 95.1021 1093.33 93.6499 Q1093.33 92.2914 1094.29 91.4248 Q1093.02 91.1437 1091.17 91.1437 Q1089.91 91.1437 1088.88 91.5185 Q1087.87 91.8932 1087.24 92.4319 Q1086.6 92.9472 1086.14 93.8373 Q1085.69 94.7039 1085.46 95.4066 Q1085.25 96.1093 1085.13 97.1633 Q1085.01 98.1939 1084.99 98.7092 Q1084.99 99.2244 1084.99 100.068 Q1084.99 109.32 1091.66 109.32 Q1096.04 109.32 1097.66 105.385 Q1097.85 104.893 1098.01 104.799 Q1098.18 104.682 1098.81 104.682 Q1099.16 104.682 1099.32 104.705 Q1099.51 104.705 1099.72 104.869 Q1099.96 105.033 1099.96 105.338 Z\" fill=\"#000000\" fill-rule=\"nonzero\" fill-opacity=\"1\" /><path clip-path=\"url(#clip160)\" d=\"M1103.11 98.9668 Q1103.11 90.8626 1106.13 84.3278 Q1107.42 81.5873 1109.23 79.2919 Q1111.03 76.9965 1112.22 75.9894 Q1113.42 74.9822 1113.75 74.9822 Q1114.21 74.9822 1114.24 75.4507 Q1114.24 75.6849 1113.61 76.2705 Q1105.88 84.1404 1105.9 98.9668 Q1105.9 113.84 1113.42 121.406 Q1114.24 122.225 1114.24 122.483 Q1114.24 122.951 1113.75 122.951 Q1113.42 122.951 1112.27 121.991 Q1111.12 121.031 1109.34 118.829 Q1107.56 116.627 1106.27 113.934 Q1103.11 107.399 1103.11 98.9668 Z\" fill=\"#000000\" fill-rule=\"nonzero\" fill-opacity=\"1\" /><path clip-path=\"url(#clip160)\" d=\"M1139.61 104.237 Q1139.61 105.666 1139.16 106.837 Q1138.74 107.984 1138.11 108.711 Q1137.5 109.413 1136.56 109.929 Q1135.63 110.444 1134.86 110.701 Q1134.11 110.936 1133.12 111.076 Q1132.14 111.217 1131.69 111.217 Q1131.27 111.24 1130.73 111.24 Q1127.24 111.24 1125.06 109.718 L1123.82 110.537 Q1123.12 111.029 1122.89 111.123 Q1122.68 111.24 1122.39 111.24 Q1121.79 111.24 1121.64 110.959 Q1121.53 110.701 1121.53 109.905 L1121.53 104.682 Q1121.53 103.792 1121.69 103.534 Q1121.86 103.277 1122.68 103.277 Q1123.07 103.277 1123.24 103.3 Q1123.4 103.323 1123.54 103.487 Q1123.71 103.628 1123.82 103.956 Q1124.06 104.752 1124.27 105.361 Q1124.5 105.947 1125.04 106.79 Q1125.58 107.633 1126.26 108.195 Q1126.96 108.734 1128.11 109.132 Q1129.28 109.53 1130.73 109.53 Q1131.18 109.53 1131.51 109.507 Q1131.86 109.483 1132.58 109.413 Q1133.33 109.32 1133.87 109.085 Q1134.43 108.828 1135 108.476 Q1135.58 108.102 1135.89 107.446 Q1136.21 106.79 1136.21 105.923 Q1136.21 105.127 1135.79 104.494 Q1135.39 103.839 1134.86 103.464 Q1134.32 103.089 1133.47 102.808 Q1132.63 102.504 1132.11 102.41 Q1131.6 102.293 1130.87 102.176 Q1127.13 101.496 1126.02 101.075 Q1124.6 100.56 1123.45 99.5524 Q1121.53 97.9128 1121.53 95.5237 Q1121.53 94.2355 1121.95 93.2049 Q1122.39 92.1743 1123 91.5419 Q1123.64 90.8861 1124.57 90.4176 Q1125.51 89.9492 1126.26 89.7384 Q1127.03 89.5041 1127.99 89.387 Q1128.98 89.2465 1129.4 89.2465 Q1129.84 89.2231 1130.36 89.2231 Q1133.4 89.2231 1135.21 90.1365 Q1137.08 89.2231 1137.36 89.2231 Q1137.78 89.2231 1137.97 89.4104 Q1138.16 89.5744 1138.18 89.8086 Q1138.23 90.0194 1138.23 90.5816 L1138.23 94.3994 Q1138.23 95.2895 1138.04 95.5237 Q1137.88 95.7579 1137.06 95.7579 Q1136.35 95.7579 1136.17 95.5705 Q1136 95.3832 1135.96 94.7976 Q1135.6 90.7689 1130.31 90.7689 Q1129.98 90.7689 1129.7 90.7924 Q1129.44 90.7924 1128.84 90.8626 Q1128.25 90.9095 1127.78 91.0032 Q1127.34 91.0969 1126.75 91.3311 Q1126.19 91.5419 1125.81 91.8464 Q1125.44 92.1509 1125.18 92.6427 Q1124.92 93.1346 1124.92 93.7436 Q1124.92 94.212 1125.11 94.6102 Q1125.32 95.0084 1125.56 95.2895 Q1125.81 95.5705 1126.31 95.8282 Q1126.8 96.0624 1127.13 96.203 Q1127.48 96.3435 1128.09 96.5074 Q1128.7 96.648 1128.95 96.6948 Q1129.23 96.7417 1129.82 96.8588 Q1132.96 97.3975 1134.29 97.7957 Q1135.65 98.1939 1136.96 99.1542 Q1139.61 101.239 1139.61 104.237 Z\" fill=\"#000000\" fill-rule=\"nonzero\" fill-opacity=\"1\" /><path clip-path=\"url(#clip160)\" d=\"M1170.24 110.959 L1164.17 110.819 L1158.13 110.959 L1158.13 108.711 L1161.46 108.711 L1161.46 95.7579 Q1161.46 93.158 1160.78 92.1274 Q1160.12 91.0969 1158.81 91.0969 Q1157.62 91.0969 1156.4 91.5653 Q1155.2 92.0338 1154.1 92.9238 Q1153.02 93.8139 1152.35 95.3129 Q1151.67 96.8119 1151.67 98.6857 L1151.67 108.711 L1154.97 108.711 L1154.97 110.959 L1148.93 110.819 L1142.88 110.959 L1142.88 108.711 L1146.18 108.711 L1146.18 82.1729 Q1146.18 80.8144 1145.69 80.5568 Q1145.2 80.2991 1142.88 80.2991 L1142.88 78.0506 L1151.38 77.6758 L1151.38 93.9778 L1151.43 93.9778 Q1151.9 93.1815 1152.51 92.4788 Q1153.14 91.7527 1154.1 91.0032 Q1155.09 90.2537 1156.49 89.8086 Q1157.9 89.3636 1159.54 89.3636 Q1163.26 89.3636 1165.09 90.9797 Q1166.91 92.5959 1166.91 96.2732 L1166.91 108.711 L1170.24 108.711 L1170.24 110.959 Z\" fill=\"#000000\" fill-rule=\"nonzero\" fill-opacity=\"1\" /><path clip-path=\"url(#clip160)\" d=\"M1199.04 110.959 L1190.54 111.24 L1190.54 107.516 Q1188.36 111.24 1183.63 111.24 Q1181.68 111.24 1180.23 110.983 Q1178.8 110.725 1177.54 110.092 Q1176.3 109.437 1175.64 108.172 Q1174.99 106.907 1174.99 105.057 L1174.99 93.8841 Q1174.99 92.5256 1174.49 92.268 Q1174 92.0103 1171.68 92.0103 L1171.68 89.7618 L1180.47 89.3636 L1180.47 105.736 Q1180.47 106.884 1180.54 107.469 Q1180.63 108.031 1180.98 108.593 Q1181.36 109.132 1182.15 109.343 Q1182.95 109.53 1184.31 109.53 Q1186.95 109.53 1188.59 107.75 Q1190.26 105.97 1190.26 103.042 L1190.26 93.8841 Q1190.26 92.5256 1189.74 92.268 Q1189.25 92.0103 1186.93 92.0103 L1186.93 89.7618 L1195.71 89.3636 L1195.71 106.837 Q1195.71 108.195 1196.21 108.453 Q1196.72 108.711 1199.04 108.711 L1199.04 110.959 Z\" fill=\"#000000\" fill-rule=\"nonzero\" fill-opacity=\"1\" /><path clip-path=\"url(#clip160)\" d=\"M1221.35 81.5639 Q1221.35 82.9459 1220.44 83.7422 Q1219.55 84.5386 1218.38 84.5386 Q1217.3 84.5386 1216.36 83.7656 Q1215.45 82.9927 1215.45 81.5639 Q1215.45 80.018 1216.55 79.1983 Q1216.22 79.1046 1215.73 79.1046 Q1215.26 79.1046 1214.75 79.1983 Q1214.26 79.2685 1213.53 79.6199 Q1212.8 79.9478 1212.24 80.5333 Q1211.7 81.0955 1211.3 82.2198 Q1210.91 83.3206 1210.91 84.8196 L1210.91 89.6681 L1216.69 89.6681 L1216.69 91.9166 L1211.19 91.9166 L1211.19 108.711 L1215.36 108.711 L1215.36 110.959 Q1213.62 110.819 1208.73 110.819 L1202.69 110.959 L1202.69 108.711 L1206.01 108.711 L1206.01 91.9166 L1202.4 91.9166 L1202.4 89.6681 L1206.01 89.6681 L1206.01 84.8196 Q1206.01 82.8756 1206.88 81.4 Q1207.74 79.9009 1209.2 79.0577 Q1210.65 78.2145 1212.34 77.7929 Q1214.05 77.3713 1215.9 77.3713 Q1218.52 77.3713 1219.92 78.6361 Q1221.35 79.8775 1221.35 81.5639 Z\" fill=\"#000000\" fill-rule=\"nonzero\" fill-opacity=\"1\" /><path clip-path=\"url(#clip160)\" d=\"M1243.63 81.5639 Q1243.63 82.9459 1242.72 83.7422 Q1241.83 84.5386 1240.66 84.5386 Q1239.58 84.5386 1238.64 83.7656 Q1237.73 82.9927 1237.73 81.5639 Q1237.73 80.018 1238.83 79.1983 Q1238.5 79.1046 1238.01 79.1046 Q1237.54 79.1046 1237.03 79.1983 Q1236.53 79.2685 1235.81 79.6199 Q1235.08 79.9478 1234.52 80.5333 Q1233.98 81.0955 1233.58 82.2198 Q1233.19 83.3206 1233.19 84.8196 L1233.19 89.6681 L1238.97 89.6681 L1238.97 91.9166 L1233.47 91.9166 L1233.47 108.711 L1237.64 108.711 L1237.64 110.959 Q1235.9 110.819 1231.01 110.819 L1224.96 110.959 L1224.96 108.711 L1228.29 108.711 L1228.29 91.9166 L1224.68 91.9166 L1224.68 89.6681 L1228.29 89.6681 L1228.29 84.8196 Q1228.29 82.8756 1229.16 81.4 Q1230.02 79.9009 1231.48 79.0577 Q1232.93 78.2145 1234.61 77.7929 Q1236.32 77.3713 1238.17 77.3713 Q1240.8 77.3713 1242.2 78.6361 Q1243.63 79.8775 1243.63 81.5639 Z\" fill=\"#000000\" fill-rule=\"nonzero\" fill-opacity=\"1\" /><path clip-path=\"url(#clip160)\" d=\"M1259.52 110.959 L1253.61 110.819 L1247.71 110.959 L1247.71 108.711 L1251.04 108.711 L1251.04 82.1729 Q1251.04 80.8144 1250.52 80.5568 Q1250.03 80.2991 1247.71 80.2991 L1247.71 78.0506 L1256.21 77.6758 L1256.21 108.711 L1259.52 108.711 L1259.52 110.959 Z\" fill=\"#000000\" fill-rule=\"nonzero\" fill-opacity=\"1\" /><path clip-path=\"url(#clip160)\" d=\"M1285.59 105.338 Q1285.59 105.642 1285.33 106.275 Q1285.08 106.884 1284.35 107.774 Q1283.65 108.64 1282.62 109.413 Q1281.61 110.163 1279.83 110.701 Q1278.07 111.24 1275.94 111.24 Q1270.23 111.24 1266.83 108.148 Q1263.43 105.057 1263.43 100.161 Q1263.43 97.8894 1264.21 95.9219 Q1265 93.9544 1266.45 92.4554 Q1267.91 90.9563 1270.18 90.0897 Q1272.45 89.2231 1275.26 89.2231 Q1280.23 89.2231 1282.9 91.823 Q1284 92.9238 1284.63 94.5165 Q1285.29 96.0858 1285.43 97.1399 Q1285.59 98.1939 1285.59 99.201 Q1285.59 100.091 1285.26 100.302 Q1284.96 100.513 1284.04 100.513 L1269.57 100.513 Q1269.57 101.286 1269.57 101.801 Q1269.59 102.293 1269.73 103.3 Q1269.87 104.307 1270.11 105.033 Q1270.34 105.736 1270.83 106.603 Q1271.35 107.469 1272.05 108.031 Q1272.76 108.57 1273.86 108.945 Q1274.96 109.32 1276.36 109.32 Q1278.7 109.32 1280.58 108.266 Q1282.48 107.212 1283.23 105.502 Q1283.46 104.869 1283.65 104.682 Q1283.86 104.494 1284.44 104.494 Q1285.59 104.494 1285.59 105.338 M1281.02 98.92 Q1280.81 90.9563 1275.26 90.9563 Q1274.04 90.9563 1272.8 91.5419 Q1271.56 92.1274 1270.72 93.4391 Q1270.25 94.1886 1269.99 95.2661 Q1269.73 96.3201 1269.69 96.9291 Q1269.64 97.5146 1269.57 98.92 L1281.02 98.92 Z\" fill=\"#000000\" fill-rule=\"nonzero\" fill-opacity=\"1\" /><path clip-path=\"url(#clip160)\" d=\"M1315.46 110.959 L1306.68 111.24 L1306.68 108.898 Q1303.78 111.24 1299.96 111.24 Q1294.71 111.24 1291.57 108.219 Q1288.46 105.174 1288.46 100.349 Q1288.46 95.3363 1291.81 92.3617 Q1295.18 89.3636 1300.5 89.3636 Q1304.18 89.3636 1306.96 91.5419 L1306.96 82.1729 Q1306.96 80.8144 1306.47 80.5568 Q1305.98 80.2991 1303.66 80.2991 L1303.66 78.0506 L1312.16 77.6758 L1312.16 106.837 Q1312.16 108.195 1312.65 108.453 Q1313.15 108.711 1315.46 108.711 L1315.46 110.959 M1306.68 106.017 L1306.68 94.0247 Q1305.74 92.8067 1304.29 91.9635 Q1302.84 91.0969 1300.97 91.0969 Q1299.58 91.0969 1298.18 91.6824 Q1296.77 92.2446 1295.84 93.6031 Q1295.25 94.4697 1294.95 95.7579 Q1294.67 97.0462 1294.62 97.9128 Q1294.6 98.7794 1294.6 100.349 Q1294.6 101.122 1294.6 101.567 Q1294.62 101.988 1294.67 102.855 Q1294.71 103.698 1294.81 104.237 Q1294.9 104.776 1295.11 105.549 Q1295.32 106.321 1295.6 106.813 Q1295.88 107.305 1296.33 107.891 Q1296.77 108.453 1297.34 108.781 Q1297.92 109.085 1298.69 109.32 Q1299.49 109.53 1300.45 109.53 Q1304.13 109.53 1306.68 106.017 Z\" fill=\"#000000\" fill-rule=\"nonzero\" fill-opacity=\"1\" /><path clip-path=\"url(#clip160)\" d=\"M1318.8 98.9668 Q1318.8 90.8626 1321.82 84.3278 Q1323.11 81.5873 1324.91 79.2919 Q1326.71 76.9965 1327.91 75.9894 Q1329.1 74.9822 1329.43 74.9822 Q1329.9 74.9822 1329.92 75.4507 Q1329.92 75.6849 1329.29 76.2705 Q1321.56 84.1404 1321.58 98.9668 Q1321.58 113.84 1329.1 121.406 Q1329.92 122.225 1329.92 122.483 Q1329.92 122.951 1329.43 122.951 Q1329.1 122.951 1327.95 121.991 Q1326.81 121.031 1325.03 118.829 Q1323.25 116.627 1321.96 113.934 Q1318.8 107.399 1318.8 98.9668 Z\" fill=\"#000000\" fill-rule=\"nonzero\" fill-opacity=\"1\" /><path clip-path=\"url(#clip160)\" d=\"M1352.18 93.8841 Q1352.18 95.1958 1351.53 95.8985 Q1350.87 96.5777 1349.98 96.5777 Q1349.26 96.5777 1348.86 96.1561 Q1348.48 95.7345 1348.48 95.1724 Q1348.48 94.3526 1349.14 93.6968 Q1349.82 93.0409 1350.8 93.0175 Q1350.47 92.1509 1349.61 91.6356 Q1348.74 91.0969 1347.97 90.9563 Q1347.22 90.8158 1346.47 90.8158 Q1344.99 90.8158 1343.87 91.2842 Q1342.74 91.7527 1342.18 92.4788 Q1341.62 93.1815 1341.36 93.8607 Q1341.1 94.54 1341.1 95.1255 Q1341.1 95.6408 1341.22 96.0624 Q1341.36 96.4606 1341.69 96.7651 Q1342.02 97.0462 1342.25 97.2335 Q1342.51 97.4209 1343.07 97.5849 Q1343.63 97.7488 1343.87 97.8191 Q1344.1 97.8659 1344.76 98.0065 Q1346.12 98.2876 1346.73 98.4515 Q1347.34 98.592 1348.13 98.9902 Q1348.95 99.3884 1349.56 100.021 Q1351.04 101.496 1351.04 103.534 Q1351.04 104.284 1350.78 105.197 Q1350.54 106.111 1349.86 107.258 Q1349.19 108.406 1348.16 109.32 Q1347.12 110.233 1345.34 110.865 Q1343.59 111.498 1341.39 111.498 Q1338.32 111.498 1336.42 110.21 Q1334.52 108.898 1334.52 106.837 Q1334.52 105.338 1335.34 104.518 Q1336.16 103.675 1337.22 103.675 Q1338.01 103.675 1338.51 104.12 Q1339 104.541 1339 105.338 Q1339 106.415 1338.13 107.235 Q1337.26 108.055 1335.98 107.891 Q1337.08 110.42 1341.43 110.42 Q1343.07 110.42 1344.34 109.999 Q1345.63 109.554 1346.33 108.945 Q1347.05 108.312 1347.52 107.539 Q1347.99 106.766 1348.13 106.181 Q1348.3 105.595 1348.3 105.15 Q1348.3 104.377 1347.99 103.792 Q1347.69 103.206 1347.27 102.878 Q1346.87 102.527 1346.09 102.246 Q1345.34 101.941 1344.81 101.824 Q1344.27 101.707 1343.31 101.52 Q1342.86 101.426 1342.58 101.379 Q1342.3 101.309 1341.71 101.122 Q1341.15 100.911 1340.75 100.7 Q1340.38 100.489 1339.89 100.115 Q1339.4 99.7397 1339.09 99.2947 Q1338.79 98.8497 1338.58 98.1939 Q1338.36 97.538 1338.36 96.7651 Q1338.36 96.0624 1338.58 95.2192 Q1338.81 94.376 1339.4 93.3923 Q1340 92.4085 1340.87 91.6122 Q1341.74 90.8158 1343.19 90.3005 Q1344.67 89.7618 1346.47 89.7618 Q1349.09 89.7618 1350.64 90.9797 Q1352.18 92.1743 1352.18 93.8841 Z\" fill=\"#000000\" fill-rule=\"nonzero\" fill-opacity=\"1\" /><path clip-path=\"url(#clip160)\" d=\"M1377.82 97.4209 Q1377.82 100.841 1376.09 104.143 Q1374.38 107.446 1371.68 109.483 Q1368.99 111.498 1366.25 111.498 Q1364.61 111.498 1363.51 110.608 Q1362.43 109.694 1361.84 108.406 Q1361.4 109.999 1360.44 113.817 Q1359.48 117.634 1359.48 118.009 Q1359.48 118.22 1359.53 118.314 Q1359.57 118.407 1359.78 118.525 Q1359.99 118.665 1360.51 118.712 Q1361.02 118.782 1361.89 118.782 Q1362.34 118.782 1362.5 118.782 Q1362.69 118.806 1362.85 118.923 Q1363.04 119.04 1363.04 119.297 Q1363.04 120.258 1362.17 120.258 Q1361.4 120.258 1359.81 120.188 Q1358.21 120.117 1357.42 120.117 Q1356.74 120.117 1355.38 120.188 Q1354.02 120.258 1353.39 120.258 Q1352.76 120.258 1352.76 119.696 Q1352.76 119.368 1352.85 119.157 Q1352.92 118.97 1353.11 118.876 Q1353.3 118.806 1353.46 118.782 Q1353.6 118.782 1353.88 118.782 Q1354.96 118.782 1355.43 118.595 Q1355.9 118.431 1356.06 118.08 Q1356.25 117.752 1356.46 116.815 L1361.84 95.4534 Q1362.17 94.0247 1362.17 93.0175 Q1362.17 91.7527 1361.77 91.2842 Q1361.38 90.8158 1360.67 90.8158 Q1359.46 90.8158 1358.66 92.268 Q1357.86 93.7202 1357.18 96.5309 Q1356.97 97.3038 1356.83 97.4678 Q1356.72 97.6317 1356.36 97.6317 Q1355.78 97.6083 1355.78 97.1399 Q1355.78 97.0227 1355.97 96.2732 Q1356.15 95.5003 1356.5 94.376 Q1356.88 93.2283 1357.28 92.5022 Q1357.51 92.0103 1357.72 91.6824 Q1357.93 91.3545 1358.35 90.8392 Q1358.8 90.3239 1359.43 90.0429 Q1360.06 89.7618 1360.84 89.7618 Q1362.34 89.7618 1363.58 90.6518 Q1364.82 91.5419 1365.15 93.3454 Q1366.48 91.7761 1368.12 90.7689 Q1369.76 89.7618 1371.42 89.7618 Q1374.19 89.7618 1375.99 91.9166 Q1377.82 94.0481 1377.82 97.4209 M1374.35 95.3129 Q1374.35 93.1815 1373.53 92.0103 Q1372.74 90.8158 1371.28 90.8158 Q1369.48 90.8158 1367.4 92.6427 Q1365.33 94.376 1364.91 95.9922 L1362.55 105.385 L1362.41 106.157 Q1362.41 106.298 1362.48 106.72 Q1362.57 107.118 1362.83 107.774 Q1363.11 108.429 1363.48 109.015 Q1363.88 109.577 1364.59 109.999 Q1365.31 110.42 1366.2 110.42 Q1367.63 110.42 1369.18 109.156 Q1370.75 107.891 1371.92 105.502 Q1372.64 103.956 1373.49 100.63 Q1374.35 97.2804 1374.35 95.3129 Z\" fill=\"#000000\" fill-rule=\"nonzero\" fill-opacity=\"1\" /><path clip-path=\"url(#clip160)\" d=\"M1399.06 92.877 Q1399.06 94.1184 1398.24 94.9147 Q1397.44 95.7111 1396.41 95.7111 Q1395.52 95.7111 1395.06 95.1958 Q1394.59 94.6805 1394.59 94.0247 Q1394.59 93.0878 1395.31 92.3148 Q1396.04 91.5419 1397.09 91.3779 Q1396.32 90.8158 1395.08 90.8158 Q1393.04 90.8158 1391.24 92.3851 Q1390.44 93.1112 1389.57 94.4463 Q1388.71 95.7579 1388.54 96.3201 L1387.02 102.574 Q1386.88 103.277 1386.01 106.649 Q1385.17 109.999 1385.1 110.139 Q1384.87 110.795 1384.35 111.146 Q1383.84 111.498 1383.32 111.498 Q1382.73 111.498 1382.34 111.146 Q1381.94 110.795 1381.94 110.186 Q1381.94 110.092 1382.01 109.741 Q1382.08 109.39 1382.2 108.898 Q1382.31 108.406 1382.36 108.125 L1385.15 97.0462 Q1385.66 95.0318 1385.78 94.3994 Q1385.92 93.7436 1385.92 93.0175 Q1385.92 91.7527 1385.52 91.2842 Q1385.12 90.8158 1384.42 90.8158 Q1383.2 90.8158 1382.41 92.268 Q1381.61 93.7202 1380.93 96.5309 Q1380.72 97.3038 1380.58 97.4678 Q1380.46 97.6317 1380.11 97.6317 Q1379.53 97.6083 1379.53 97.1399 Q1379.53 97.0227 1379.71 96.2732 Q1379.9 95.5003 1380.25 94.376 Q1380.63 93.2283 1381.03 92.5022 Q1381.26 92.0103 1381.47 91.6824 Q1381.68 91.3545 1382.1 90.8392 Q1382.52 90.3239 1383.16 90.0429 Q1383.79 89.7618 1384.56 89.7618 Q1386.25 89.7618 1387.44 90.7924 Q1388.66 91.823 1388.94 93.4391 Q1389.53 92.5959 1390.25 91.8698 Q1390.98 91.1203 1392.31 90.441 Q1393.65 89.7618 1395.08 89.7618 Q1396.86 89.7618 1397.96 90.6753 Q1399.06 91.5653 1399.06 92.877 Z\" fill=\"#000000\" fill-rule=\"nonzero\" fill-opacity=\"1\" /><path clip-path=\"url(#clip160)\" d=\"M1423.22 97.8659 Q1423.22 100.419 1422.1 102.949 Q1420.97 105.455 1419.17 107.329 Q1417.39 109.179 1415.05 110.35 Q1412.7 111.498 1410.36 111.498 Q1407.01 111.498 1404.83 109.226 Q1402.68 106.93 1402.68 103.37 Q1402.68 100.044 1404.53 96.8822 Q1406.4 93.6968 1409.4 91.7293 Q1412.4 89.7618 1415.54 89.7618 Q1418.84 89.7618 1421.02 91.9869 Q1423.22 94.212 1423.22 97.8659 M1419.71 95.9922 Q1419.71 93.7202 1418.61 92.268 Q1417.51 90.8158 1415.49 90.8158 Q1414.91 90.8158 1414.23 91.0032 Q1413.55 91.1671 1412.66 91.6122 Q1411.79 92.0572 1410.81 92.9941 Q1409.85 93.9076 1409 95.2192 Q1407.9 96.9525 1407.06 100.138 Q1406.24 103.3 1406.24 105.197 Q1406.24 107.82 1407.46 109.132 Q1408.68 110.42 1410.41 110.42 Q1412.1 110.42 1413.88 109.249 Q1415.68 108.055 1416.92 106.017 Q1418.16 103.909 1418.93 100.817 Q1419.71 97.702 1419.71 95.9922 Z\" fill=\"#000000\" fill-rule=\"nonzero\" fill-opacity=\"1\" /><path clip-path=\"url(#clip160)\" d=\"M1438.61 90.8158 Q1438.61 91.4716 1438.3 91.6356 Q1438 91.7761 1437.16 91.7761 L1432.66 91.7761 L1429.1 105.923 Q1428.82 107.165 1428.82 108.219 Q1428.82 109.39 1429.17 109.905 Q1429.54 110.42 1430.32 110.42 Q1431.84 110.42 1433.48 109.038 Q1435.14 107.657 1436.55 104.284 Q1436.73 103.839 1436.83 103.745 Q1436.95 103.628 1437.25 103.628 Q1437.84 103.628 1437.84 104.096 Q1437.84 104.26 1437.51 105.01 Q1437.2 105.759 1436.52 106.86 Q1435.87 107.961 1435 108.992 Q1434.16 110.022 1432.87 110.772 Q1431.58 111.498 1430.2 111.498 Q1428.26 111.498 1427.01 110.256 Q1425.8 109.015 1425.8 107.071 Q1425.8 106.439 1426.29 104.424 Q1426.78 102.386 1429.45 91.7761 L1425.21 91.7761 Q1424.63 91.7761 1424.39 91.7527 Q1424.18 91.7293 1424.02 91.6122 Q1423.88 91.4716 1423.88 91.1906 Q1423.88 90.7455 1424.06 90.5581 Q1424.25 90.3473 1424.48 90.3239 Q1424.74 90.2771 1425.33 90.2771 L1429.82 90.2771 L1431.7 82.6648 Q1431.89 81.9153 1432.35 81.4937 Q1432.85 81.0486 1433.13 81.0018 Q1433.41 80.9315 1433.62 80.9315 Q1434.25 80.9315 1434.63 81.2829 Q1435 81.6108 1435 82.2198 Q1435 82.5477 1433.03 90.2771 L1437.25 90.2771 Q1437.79 90.2771 1438 90.3005 Q1438.23 90.3239 1438.42 90.441 Q1438.61 90.5581 1438.61 90.8158 Z\" fill=\"#000000\" fill-rule=\"nonzero\" fill-opacity=\"1\" /><path clip-path=\"url(#clip160)\" d=\"M1442.36 122.483 Q1442.36 122.249 1442.97 121.663 Q1450.7 113.793 1450.7 98.9668 Q1450.7 84.0936 1443.27 76.5749 Q1442.36 75.7083 1442.36 75.4507 Q1442.36 74.9822 1442.83 74.9822 Q1443.16 74.9822 1444.3 75.9425 Q1445.47 76.9029 1447.23 79.1046 Q1449.01 81.3063 1450.32 83.9999 Q1453.49 90.5347 1453.49 98.9668 Q1453.49 107.071 1450.46 113.606 Q1449.18 116.346 1447.37 118.642 Q1445.57 120.937 1444.37 121.944 Q1443.18 122.951 1442.83 122.951 Q1442.36 122.951 1442.36 122.483 Z\" fill=\"#000000\" fill-rule=\"nonzero\" fill-opacity=\"1\" /><path clip-path=\"url(#clip160)\" d=\"M1460.77 122.483 Q1460.77 122.249 1461.38 121.663 Q1469.11 113.793 1469.11 98.9668 Q1469.11 84.0936 1461.69 76.5749 Q1460.77 75.7083 1460.77 75.4507 Q1460.77 74.9822 1461.24 74.9822 Q1461.57 74.9822 1462.72 75.9425 Q1463.89 76.9029 1465.65 79.1046 Q1467.43 81.3063 1468.74 83.9999 Q1471.9 90.5347 1471.9 98.9668 Q1471.9 107.071 1468.88 113.606 Q1467.59 116.346 1465.79 118.642 Q1463.98 120.937 1462.79 121.944 Q1461.59 122.951 1461.24 122.951 Q1460.77 122.951 1460.77 122.483 Z\" fill=\"#000000\" fill-rule=\"nonzero\" fill-opacity=\"1\" /><path clip-path=\"url(#clip160)\" d=\"M1477.27 121.851 L1481.3 121.851 L1481.3 76.0831 L1477.27 76.0831 L1477.27 74.9822 L1484.51 74.9822 L1484.51 122.951 L1477.27 122.951 L1477.27 121.851 Z\" fill=\"#000000\" fill-rule=\"nonzero\" fill-opacity=\"1\" /><polyline clip-path=\"url(#clip160)\" style=\"stroke:#e26f46; stroke-linecap:round; stroke-linejoin:round; stroke-width:4; stroke-opacity:1; fill:none\" points=\"645.236,150.924 791.625,150.924 \"/>\n",
       "<path clip-path=\"url(#clip160)\" d=\"M844.997 149.659 L843.498 162.799 L816.023 162.799 L816.023 160.551 L821.199 160.551 L821.199 132.139 L816.023 132.139 L816.023 129.891 Q817.85 130.031 824.806 130.031 Q832.372 130.031 834.48 129.891 L834.48 132.139 L828.015 132.139 L828.015 160.551 L832.957 160.551 Q834.738 160.551 836.19 160.106 Q837.642 159.637 838.579 159.005 Q839.539 158.349 840.289 157.271 Q841.062 156.194 841.436 155.374 Q841.835 154.531 842.139 153.243 Q842.444 151.955 842.537 151.346 Q842.631 150.713 842.748 149.659 L844.997 149.659 Z\" fill=\"#000000\" fill-rule=\"nonzero\" fill-opacity=\"1\" /><path clip-path=\"url(#clip160)\" d=\"M881.609 139.236 Q881.609 141.977 879.923 144.085 Q878.26 146.169 875.472 147.247 Q872.709 148.324 869.359 148.324 L860.88 148.324 L860.88 160.551 L866.057 160.551 L866.057 162.799 Q864.23 162.659 857.461 162.659 Q850.715 162.659 848.888 162.799 L848.888 160.551 L854.064 160.551 L854.064 132.139 L848.888 132.139 L848.888 129.891 L868.891 129.891 Q874.723 129.891 878.166 132.537 Q881.609 135.184 881.609 139.236 M874.255 139.236 Q874.255 138.463 874.231 138.088 Q874.231 137.69 874.161 136.964 Q874.114 136.238 873.973 135.863 Q873.856 135.465 873.622 134.88 Q873.388 134.294 873.013 133.966 Q872.662 133.615 872.123 133.217 Q871.584 132.818 870.882 132.631 Q870.179 132.42 869.195 132.28 Q868.235 132.139 867.064 132.139 L860.599 132.139 L860.599 146.357 L867.017 146.357 Q868.188 146.357 869.148 146.216 Q870.132 146.075 870.835 145.865 Q871.561 145.654 872.1 145.256 Q872.662 144.858 873.013 144.53 Q873.364 144.178 873.599 143.593 Q873.856 143.007 873.973 142.609 Q874.114 142.211 874.161 141.508 Q874.231 140.782 874.231 140.384 Q874.255 139.986 874.255 139.236 Z\" fill=\"#000000\" fill-rule=\"nonzero\" fill-opacity=\"1\" /><path clip-path=\"url(#clip160)\" d=\"M917.019 153.055 Q917.019 154.976 916.41 156.733 Q915.801 158.489 914.559 160.012 Q913.318 161.511 911.14 162.424 Q908.961 163.338 906.127 163.338 Q904.815 163.338 903.434 163.174 Q902.052 163.033 900.014 162.401 Q897.976 161.769 896.524 160.691 L894.322 162.893 Q894.088 163.104 893.994 163.15 Q893.901 163.221 893.76 163.268 Q893.62 163.338 893.409 163.338 Q892.987 163.338 892.8 163.15 Q892.612 162.986 892.566 162.776 Q892.542 162.541 892.542 161.979 L892.542 153.243 Q892.542 152.353 892.706 152.118 Q892.87 151.861 893.69 151.861 Q894.439 151.861 894.58 152.072 Q894.744 152.259 894.791 152.962 Q894.884 154.672 895.493 156.03 Q896.102 157.389 897.086 158.255 Q898.093 159.098 899.218 159.684 Q900.342 160.269 901.653 160.551 Q902.989 160.832 904.019 160.949 Q905.073 161.066 906.127 161.066 Q907.907 161.066 909.195 160.527 Q910.484 159.988 911.116 159.122 Q911.772 158.232 912.053 157.342 Q912.358 156.428 912.358 155.468 Q912.358 153.196 910.437 151.275 Q909.687 150.573 908.75 150.268 Q907.814 149.964 904.347 149.214 Q899.967 148.254 898.374 147.645 Q896.782 147.036 895.142 145.396 Q892.542 142.679 892.542 139.002 Q892.542 137.081 893.198 135.371 Q893.877 133.662 895.165 132.303 Q896.454 130.945 898.538 130.172 Q900.646 129.375 903.293 129.375 Q908.165 129.375 911.491 131.999 L913.646 129.891 Q914.067 129.516 914.184 129.446 Q914.325 129.375 914.606 129.375 Q915.215 129.375 915.332 129.656 Q915.473 129.914 915.473 130.71 L915.473 139.494 Q915.473 140.384 915.309 140.618 Q915.145 140.829 914.325 140.829 Q913.599 140.829 913.435 140.665 Q913.271 140.478 913.13 139.587 Q912.803 137.69 912.03 136.238 Q911.28 134.786 910.32 133.896 Q909.359 133.006 908.118 132.444 Q906.9 131.858 905.729 131.647 Q904.581 131.436 903.34 131.436 Q901.63 131.436 900.365 131.928 Q899.1 132.397 898.445 133.193 Q897.812 133.989 897.508 134.809 Q897.203 135.629 897.203 136.472 Q897.203 138.463 898.632 139.775 Q900.061 141.086 901.794 141.461 L908.75 142.937 Q912.17 143.663 914.583 146.45 Q917.019 149.214 917.019 153.055 Z\" fill=\"#000000\" fill-rule=\"nonzero\" fill-opacity=\"1\" /><path clip-path=\"url(#clip160)\" d=\"M922.879 174.791 L922.879 126.822 L930.117 126.822 L930.117 127.923 L926.088 127.923 L926.088 173.691 L930.117 173.691 L930.117 174.791 L922.879 174.791 Z\" fill=\"#000000\" fill-rule=\"nonzero\" fill-opacity=\"1\" /><path clip-path=\"url(#clip160)\" d=\"M953.385 156.85 Q953.385 159.567 951.816 161.323 Q950.27 163.08 947.6 163.08 Q946.476 163.08 945.492 162.94 Q944.508 162.799 943.454 162.377 Q942.424 161.956 941.674 161.3 Q940.948 160.621 940.479 159.497 Q940.011 158.372 940.011 156.897 L940.011 143.757 L936.076 143.757 L936.076 142.023 Q937.786 141.977 939.168 141.133 Q940.573 140.29 941.416 138.932 Q942.283 137.55 942.728 135.887 Q943.196 134.2 943.22 132.35 L945.468 132.35 L945.468 141.508 L952.472 141.508 L952.472 143.757 L945.468 143.757 L945.468 156.99 Q945.468 161.16 948.256 161.16 Q949.403 161.16 950.27 160.082 Q951.137 159.005 951.137 156.756 L951.137 154.32 L953.385 154.32 L953.385 156.85 Z\" fill=\"#000000\" fill-rule=\"nonzero\" fill-opacity=\"1\" /><path clip-path=\"url(#clip160)\" d=\"M976.139 145.139 Q976.139 146.497 975.249 147.293 Q974.359 148.066 973.211 148.066 Q972.064 148.066 971.174 147.293 Q970.284 146.52 970.284 145.139 Q970.284 144.53 970.494 143.991 Q970.729 143.429 970.963 143.171 L971.197 142.937 Q969.815 142.937 968.738 143.593 Q967.66 144.225 967.004 145.209 Q966.349 146.193 965.927 147.481 Q965.505 148.746 965.341 149.893 Q965.201 151.041 965.201 152.142 L965.201 160.551 L969.37 160.551 L969.37 162.799 Q967.637 162.659 962.765 162.659 L956.722 162.799 L956.722 160.551 L960.025 160.551 L960.025 145.724 Q960.025 144.366 959.533 144.108 Q959.041 143.85 956.722 143.85 L956.722 141.602 L964.686 141.204 L964.686 146.638 Q966.677 141.204 971.057 141.204 Q973.071 141.204 974.593 142.281 Q976.139 143.335 976.139 145.139 Z\" fill=\"#000000\" fill-rule=\"nonzero\" fill-opacity=\"1\" /><path clip-path=\"url(#clip160)\" d=\"M1008.15 143.757 Q1006.68 143.757 1005.93 143.897 Q1005.18 144.014 1004.99 144.178 Q1004.8 144.342 1004.59 144.764 L994.286 166.687 Q993.185 169.029 991.124 170.716 Q989.087 172.402 986.51 172.402 Q984.355 172.402 982.856 171.091 Q981.381 169.802 981.381 167.975 Q981.381 166.664 982.2 165.914 Q983.02 165.188 984.121 165.188 Q985.339 165.188 986.112 165.961 Q986.908 166.734 986.908 167.929 Q986.908 168.702 986.58 169.287 Q986.252 169.896 985.948 170.107 Q985.667 170.341 985.362 170.482 Q985.854 170.669 986.51 170.669 Q987.494 170.669 988.337 170.271 Q989.204 169.896 989.766 169.381 Q990.351 168.889 990.937 167.999 Q991.522 167.132 991.804 166.57 Q992.085 166.031 992.506 165.094 L993.607 162.799 L984.636 143.757 L981.568 143.757 L981.568 141.508 L987.049 141.649 L992.998 141.508 L992.998 143.757 L990.398 143.757 L996.488 156.709 L1002.02 144.904 L1002.25 144.342 Q1002.25 144.085 1001.69 143.944 Q1001.13 143.78 1000.56 143.78 L1000 143.757 L1000 141.508 L1004.36 141.649 Q1006.42 141.649 1008.15 141.508 L1008.15 143.757 Z\" fill=\"#000000\" fill-rule=\"nonzero\" fill-opacity=\"1\" /><path clip-path=\"url(#clip160)\" d=\"M1036.06 152.095 Q1036.06 157.084 1032.71 160.082 Q1029.39 163.08 1023.98 163.08 Q1020.46 163.08 1017.84 160.925 L1017.84 169.849 L1021.14 169.849 L1021.14 172.098 L1015.1 171.957 L1009.06 172.098 L1009.06 169.849 L1012.36 169.849 L1012.36 145.677 Q1012.36 144.342 1011.87 144.108 Q1011.38 143.85 1009.06 143.85 L1009.06 141.602 L1017.54 141.204 L1017.54 143.569 Q1018.68 142.679 1020.53 141.953 Q1022.41 141.204 1024.8 141.204 Q1029.93 141.204 1033 144.249 Q1036.06 147.27 1036.06 152.095 M1029.93 152.095 Q1029.93 147.762 1028.24 145.443 Q1026.58 143.124 1024.02 143.124 Q1022.85 143.124 1021.33 143.616 Q1019.81 144.108 1018.54 145.396 Q1018.03 145.912 1017.94 146.122 Q1017.84 146.333 1017.84 147.012 L1017.84 157.178 Q1017.84 157.904 1017.89 158.115 Q1017.96 158.302 1018.36 158.77 Q1020.51 161.37 1023.44 161.37 Q1024.66 161.37 1025.76 160.855 Q1026.88 160.34 1027.84 159.286 Q1028.8 158.232 1029.37 156.381 Q1029.93 154.531 1029.93 152.095 Z\" fill=\"#000000\" fill-rule=\"nonzero\" fill-opacity=\"1\" /><path clip-path=\"url(#clip160)\" d=\"M1059.03 156.85 Q1059.03 159.567 1057.46 161.323 Q1055.91 163.08 1053.24 163.08 Q1052.12 163.08 1051.13 162.94 Q1050.15 162.799 1049.09 162.377 Q1048.06 161.956 1047.31 161.3 Q1046.59 160.621 1046.12 159.497 Q1045.65 158.372 1045.65 156.897 L1045.65 143.757 L1041.72 143.757 L1041.72 142.023 Q1043.43 141.977 1044.81 141.133 Q1046.21 140.29 1047.06 138.932 Q1047.92 137.55 1048.37 135.887 Q1048.84 134.2 1048.86 132.35 L1051.11 132.35 L1051.11 141.508 L1058.11 141.508 L1058.11 143.757 L1051.11 143.757 L1051.11 156.99 Q1051.11 161.16 1053.9 161.16 Q1055.04 161.16 1055.91 160.082 Q1056.78 159.005 1056.78 156.756 L1056.78 154.32 L1059.03 154.32 L1059.03 156.85 Z\" fill=\"#000000\" fill-rule=\"nonzero\" fill-opacity=\"1\" /><path clip-path=\"url(#clip160)\" d=\"M1073.84 162.799 L1068.22 162.659 L1062.36 162.799 L1062.36 160.551 L1065.69 160.551 L1065.69 145.724 Q1065.69 144.366 1065.2 144.108 Q1064.7 143.85 1062.5 143.85 L1062.5 141.602 L1070.87 141.204 L1070.87 160.551 L1073.84 160.551 L1073.84 162.799 M1070.42 131.038 Q1071.52 132.139 1071.52 133.685 Q1071.52 135.231 1070.42 136.332 Q1069.34 137.433 1067.8 137.433 Q1066.25 137.433 1065.15 136.332 Q1064.05 135.231 1064.05 133.685 Q1064.05 132.139 1065.15 131.038 Q1066.25 129.937 1067.8 129.937 Q1069.34 129.937 1070.42 131.038 Z\" fill=\"#000000\" fill-rule=\"nonzero\" fill-opacity=\"1\" /><path clip-path=\"url(#clip160)\" d=\"M1099.96 157.178 Q1099.96 157.365 1099.74 157.927 Q1099.56 158.466 1098.93 159.379 Q1098.32 160.293 1097.36 161.113 Q1096.42 161.909 1094.66 162.495 Q1092.93 163.08 1090.75 163.08 Q1085.29 163.08 1082.06 160.035 Q1078.85 156.99 1078.85 152.142 Q1078.85 149.987 1079.55 148.066 Q1080.26 146.122 1081.66 144.53 Q1083.09 142.937 1085.48 142 Q1087.89 141.063 1090.98 141.063 Q1099.32 141.063 1099.32 145.49 Q1099.32 146.919 1098.41 147.715 Q1097.52 148.511 1096.3 148.511 Q1095.18 148.511 1094.24 147.738 Q1093.33 146.942 1093.33 145.49 Q1093.33 144.131 1094.29 143.265 Q1093.02 142.984 1091.17 142.984 Q1089.91 142.984 1088.88 143.358 Q1087.87 143.733 1087.24 144.272 Q1086.6 144.787 1086.14 145.677 Q1085.69 146.544 1085.46 147.247 Q1085.25 147.949 1085.13 149.003 Q1085.01 150.034 1084.99 150.549 Q1084.99 151.064 1084.99 151.908 Q1084.99 161.16 1091.66 161.16 Q1096.04 161.16 1097.66 157.225 Q1097.85 156.733 1098.01 156.639 Q1098.18 156.522 1098.81 156.522 Q1099.16 156.522 1099.32 156.545 Q1099.51 156.545 1099.72 156.709 Q1099.96 156.873 1099.96 157.178 Z\" fill=\"#000000\" fill-rule=\"nonzero\" fill-opacity=\"1\" /><path clip-path=\"url(#clip160)\" d=\"M1103.11 150.807 Q1103.11 142.703 1106.13 136.168 Q1107.42 133.427 1109.23 131.132 Q1111.03 128.837 1112.22 127.829 Q1113.42 126.822 1113.75 126.822 Q1114.21 126.822 1114.24 127.291 Q1114.24 127.525 1113.61 128.11 Q1105.88 135.98 1105.9 150.807 Q1105.9 165.68 1113.42 173.246 Q1114.24 174.065 1114.24 174.323 Q1114.24 174.791 1113.75 174.791 Q1113.42 174.791 1112.27 173.831 Q1111.12 172.871 1109.34 170.669 Q1107.56 168.467 1106.27 165.774 Q1103.11 159.239 1103.11 150.807 Z\" fill=\"#000000\" fill-rule=\"nonzero\" fill-opacity=\"1\" /><path clip-path=\"url(#clip160)\" d=\"M1136.5 145.724 Q1136.5 147.036 1135.84 147.738 Q1135.19 148.418 1134.3 148.418 Q1133.57 148.418 1133.17 147.996 Q1132.8 147.575 1132.8 147.012 Q1132.8 146.193 1133.46 145.537 Q1134.13 144.881 1135.12 144.858 Q1134.79 143.991 1133.92 143.476 Q1133.06 142.937 1132.28 142.796 Q1131.53 142.656 1130.79 142.656 Q1129.31 142.656 1128.19 143.124 Q1127.06 143.593 1126.5 144.319 Q1125.94 145.021 1125.68 145.701 Q1125.42 146.38 1125.42 146.966 Q1125.42 147.481 1125.54 147.902 Q1125.68 148.301 1126.01 148.605 Q1126.33 148.886 1126.57 149.074 Q1126.83 149.261 1127.39 149.425 Q1127.95 149.589 1128.19 149.659 Q1128.42 149.706 1129.08 149.846 Q1130.43 150.128 1131.04 150.292 Q1131.65 150.432 1132.45 150.83 Q1133.27 151.228 1133.88 151.861 Q1135.35 153.336 1135.35 155.374 Q1135.35 156.124 1135.09 157.037 Q1134.86 157.951 1134.18 159.098 Q1133.5 160.246 1132.47 161.16 Q1131.44 162.073 1129.66 162.705 Q1127.9 163.338 1125.7 163.338 Q1122.63 163.338 1120.74 162.05 Q1118.84 160.738 1118.84 158.677 Q1118.84 157.178 1119.66 156.358 Q1120.48 155.515 1121.53 155.515 Q1122.33 155.515 1122.82 155.96 Q1123.31 156.381 1123.31 157.178 Q1123.31 158.255 1122.45 159.075 Q1121.58 159.895 1120.29 159.731 Q1121.39 162.26 1125.75 162.26 Q1127.39 162.26 1128.65 161.839 Q1129.94 161.394 1130.64 160.785 Q1131.37 160.152 1131.84 159.379 Q1132.31 158.606 1132.45 158.021 Q1132.61 157.435 1132.61 156.99 Q1132.61 156.217 1132.31 155.632 Q1132 155.046 1131.58 154.718 Q1131.18 154.367 1130.41 154.086 Q1129.66 153.781 1129.12 153.664 Q1128.58 153.547 1127.62 153.36 Q1127.18 153.266 1126.9 153.219 Q1126.62 153.149 1126.03 152.962 Q1125.47 152.751 1125.07 152.54 Q1124.7 152.329 1124.2 151.955 Q1123.71 151.58 1123.41 151.135 Q1123.1 150.69 1122.89 150.034 Q1122.68 149.378 1122.68 148.605 Q1122.68 147.902 1122.89 147.059 Q1123.13 146.216 1123.71 145.232 Q1124.32 144.249 1125.19 143.452 Q1126.05 142.656 1127.51 142.14 Q1128.98 141.602 1130.79 141.602 Q1133.41 141.602 1134.95 142.82 Q1136.5 144.014 1136.5 145.724 Z\" fill=\"#000000\" fill-rule=\"nonzero\" fill-opacity=\"1\" /><path clip-path=\"url(#clip160)\" d=\"M1162.14 149.261 Q1162.14 152.681 1160.4 155.983 Q1158.69 159.286 1156 161.323 Q1153.31 163.338 1150.56 163.338 Q1148.93 163.338 1147.82 162.448 Q1146.75 161.534 1146.16 160.246 Q1145.72 161.839 1144.76 165.657 Q1143.8 169.474 1143.8 169.849 Q1143.8 170.06 1143.84 170.154 Q1143.89 170.247 1144.1 170.365 Q1144.31 170.505 1144.83 170.552 Q1145.34 170.622 1146.21 170.622 Q1146.65 170.622 1146.82 170.622 Q1147 170.646 1147.17 170.763 Q1147.36 170.88 1147.36 171.137 Q1147.36 172.098 1146.49 172.098 Q1145.72 172.098 1144.12 172.028 Q1142.53 171.957 1141.73 171.957 Q1141.06 171.957 1139.7 172.028 Q1138.34 172.098 1137.71 172.098 Q1137.07 172.098 1137.07 171.536 Q1137.07 171.208 1137.17 170.997 Q1137.24 170.81 1137.42 170.716 Q1137.61 170.646 1137.78 170.622 Q1137.92 170.622 1138.2 170.622 Q1139.28 170.622 1139.74 170.435 Q1140.21 170.271 1140.38 169.92 Q1140.56 169.592 1140.77 168.655 L1146.16 147.293 Q1146.49 145.865 1146.49 144.858 Q1146.49 143.593 1146.09 143.124 Q1145.69 142.656 1144.99 142.656 Q1143.77 142.656 1142.98 144.108 Q1142.18 145.56 1141.5 148.371 Q1141.29 149.144 1141.15 149.308 Q1141.03 149.472 1140.68 149.472 Q1140.09 149.448 1140.09 148.98 Q1140.09 148.863 1140.28 148.113 Q1140.47 147.34 1140.82 146.216 Q1141.2 145.068 1141.59 144.342 Q1141.83 143.85 1142.04 143.522 Q1142.25 143.195 1142.67 142.679 Q1143.12 142.164 1143.75 141.883 Q1144.38 141.602 1145.15 141.602 Q1146.65 141.602 1147.89 142.492 Q1149.14 143.382 1149.46 145.185 Q1150.8 143.616 1152.44 142.609 Q1154.08 141.602 1155.74 141.602 Q1158.5 141.602 1160.31 143.757 Q1162.14 145.888 1162.14 149.261 M1158.67 147.153 Q1158.67 145.021 1157.85 143.85 Q1157.05 142.656 1155.6 142.656 Q1153.8 142.656 1151.71 144.483 Q1149.65 146.216 1149.23 147.832 L1146.86 157.225 L1146.72 157.997 Q1146.72 158.138 1146.79 158.56 Q1146.89 158.958 1147.15 159.614 Q1147.43 160.269 1147.8 160.855 Q1148.2 161.417 1148.9 161.839 Q1149.63 162.26 1150.52 162.26 Q1151.95 162.26 1153.49 160.996 Q1155.06 159.731 1156.23 157.342 Q1156.96 155.796 1157.8 152.47 Q1158.67 149.12 1158.67 147.153 Z\" fill=\"#000000\" fill-rule=\"nonzero\" fill-opacity=\"1\" /><path clip-path=\"url(#clip160)\" d=\"M1183.38 144.717 Q1183.38 145.958 1182.56 146.755 Q1181.76 147.551 1180.73 147.551 Q1179.84 147.551 1179.37 147.036 Q1178.9 146.52 1178.9 145.865 Q1178.9 144.928 1179.63 144.155 Q1180.36 143.382 1181.41 143.218 Q1180.64 142.656 1179.4 142.656 Q1177.36 142.656 1175.55 144.225 Q1174.76 144.951 1173.89 146.286 Q1173.02 147.598 1172.86 148.16 L1171.34 154.414 Q1171.2 155.117 1170.33 158.489 Q1169.49 161.839 1169.42 161.979 Q1169.18 162.635 1168.67 162.986 Q1168.15 163.338 1167.64 163.338 Q1167.05 163.338 1166.65 162.986 Q1166.26 162.635 1166.26 162.026 Q1166.26 161.932 1166.33 161.581 Q1166.4 161.23 1166.51 160.738 Q1166.63 160.246 1166.68 159.965 L1169.46 148.886 Q1169.98 146.872 1170.1 146.239 Q1170.24 145.584 1170.24 144.858 Q1170.24 143.593 1169.84 143.124 Q1169.44 142.656 1168.74 142.656 Q1167.52 142.656 1166.72 144.108 Q1165.93 145.56 1165.25 148.371 Q1165.04 149.144 1164.9 149.308 Q1164.78 149.472 1164.43 149.472 Q1163.84 149.448 1163.84 148.98 Q1163.84 148.863 1164.03 148.113 Q1164.22 147.34 1164.57 146.216 Q1164.94 145.068 1165.34 144.342 Q1165.58 143.85 1165.79 143.522 Q1166 143.195 1166.42 142.679 Q1166.84 142.164 1167.47 141.883 Q1168.11 141.602 1168.88 141.602 Q1170.56 141.602 1171.76 142.632 Q1172.98 143.663 1173.26 145.279 Q1173.84 144.436 1174.57 143.71 Q1175.3 142.96 1176.63 142.281 Q1177.97 141.602 1179.4 141.602 Q1181.18 141.602 1182.28 142.515 Q1183.38 143.405 1183.38 144.717 Z\" fill=\"#000000\" fill-rule=\"nonzero\" fill-opacity=\"1\" /><path clip-path=\"url(#clip160)\" d=\"M1207.54 149.706 Q1207.54 152.259 1206.41 154.789 Q1205.29 157.295 1203.49 159.169 Q1201.71 161.019 1199.36 162.19 Q1197.02 163.338 1194.68 163.338 Q1191.33 163.338 1189.15 161.066 Q1187 158.77 1187 155.21 Q1187 151.884 1188.85 148.722 Q1190.72 145.537 1193.72 143.569 Q1196.72 141.602 1199.85 141.602 Q1203.16 141.602 1205.34 143.827 Q1207.54 146.052 1207.54 149.706 M1204.02 147.832 Q1204.02 145.56 1202.92 144.108 Q1201.82 142.656 1199.81 142.656 Q1199.22 142.656 1198.54 142.843 Q1197.86 143.007 1196.97 143.452 Q1196.11 143.897 1195.12 144.834 Q1194.16 145.748 1193.32 147.059 Q1192.22 148.792 1191.38 151.978 Q1190.56 155.14 1190.56 157.037 Q1190.56 159.66 1191.77 160.972 Q1192.99 162.26 1194.73 162.26 Q1196.41 162.26 1198.19 161.089 Q1200 159.895 1201.24 157.857 Q1202.48 155.749 1203.25 152.657 Q1204.02 149.542 1204.02 147.832 Z\" fill=\"#000000\" fill-rule=\"nonzero\" fill-opacity=\"1\" /><path clip-path=\"url(#clip160)\" d=\"M1222.92 142.656 Q1222.92 143.312 1222.62 143.476 Q1222.32 143.616 1221.47 143.616 L1216.98 143.616 L1213.42 157.763 Q1213.13 159.005 1213.13 160.059 Q1213.13 161.23 1213.49 161.745 Q1213.86 162.26 1214.63 162.26 Q1216.16 162.26 1217.8 160.878 Q1219.46 159.497 1220.86 156.124 Q1221.05 155.679 1221.14 155.585 Q1221.26 155.468 1221.57 155.468 Q1222.15 155.468 1222.15 155.936 Q1222.15 156.1 1221.82 156.85 Q1221.52 157.599 1220.84 158.7 Q1220.18 159.801 1219.32 160.832 Q1218.47 161.862 1217.19 162.612 Q1215.9 163.338 1214.52 163.338 Q1212.57 163.338 1211.33 162.096 Q1210.11 160.855 1210.11 158.911 Q1210.11 158.279 1210.6 156.264 Q1211.1 154.226 1213.77 143.616 L1209.53 143.616 Q1208.94 143.616 1208.71 143.593 Q1208.5 143.569 1208.33 143.452 Q1208.19 143.312 1208.19 143.031 Q1208.19 142.586 1208.38 142.398 Q1208.57 142.187 1208.8 142.164 Q1209.06 142.117 1209.64 142.117 L1214.14 142.117 L1216.02 134.505 Q1216.2 133.755 1216.67 133.334 Q1217.16 132.889 1217.44 132.842 Q1217.72 132.772 1217.94 132.772 Q1218.57 132.772 1218.94 133.123 Q1219.32 133.451 1219.32 134.06 Q1219.32 134.388 1217.35 142.117 L1221.57 142.117 Q1222.1 142.117 1222.32 142.14 Q1222.55 142.164 1222.74 142.281 Q1222.92 142.398 1222.92 142.656 Z\" fill=\"#000000\" fill-rule=\"nonzero\" fill-opacity=\"1\" /><path clip-path=\"url(#clip160)\" d=\"M1226.68 174.323 Q1226.68 174.089 1227.28 173.503 Q1235.01 165.633 1235.01 150.807 Q1235.01 135.934 1227.59 128.415 Q1226.68 127.548 1226.68 127.291 Q1226.68 126.822 1227.14 126.822 Q1227.47 126.822 1228.62 127.783 Q1229.79 128.743 1231.55 130.945 Q1233.33 133.146 1234.64 135.84 Q1237.8 142.375 1237.8 150.807 Q1237.8 158.911 1234.78 165.446 Q1233.49 168.186 1231.69 170.482 Q1229.88 172.777 1228.69 173.784 Q1227.5 174.791 1227.14 174.791 Q1226.68 174.791 1226.68 174.323 Z\" fill=\"#000000\" fill-rule=\"nonzero\" fill-opacity=\"1\" /><path clip-path=\"url(#clip160)\" d=\"M1243.17 173.691 L1247.2 173.691 L1247.2 127.923 L1243.17 127.923 L1243.17 126.822 L1250.41 126.822 L1250.41 174.791 L1243.17 174.791 L1243.17 173.691 Z\" fill=\"#000000\" fill-rule=\"nonzero\" fill-opacity=\"1\" /><polyline clip-path=\"url(#clip160)\" style=\"stroke:#3da44d; stroke-linecap:round; stroke-linejoin:round; stroke-width:4; stroke-opacity:1; fill:none\" points=\"645.236,202.764 791.625,202.764 \"/>\n",
       "<path clip-path=\"url(#clip160)\" d=\"M844.997 201.499 L843.498 214.639 L816.023 214.639 L816.023 212.391 L821.199 212.391 L821.199 183.979 L816.023 183.979 L816.023 181.731 Q817.85 181.871 824.806 181.871 Q832.372 181.871 834.48 181.731 L834.48 183.979 L828.015 183.979 L828.015 212.391 L832.957 212.391 Q834.738 212.391 836.19 211.946 Q837.642 211.477 838.579 210.845 Q839.539 210.189 840.289 209.111 Q841.062 208.034 841.436 207.214 Q841.835 206.371 842.139 205.083 Q842.444 203.795 842.537 203.186 Q842.631 202.553 842.748 201.499 L844.997 201.499 Z\" fill=\"#000000\" fill-rule=\"nonzero\" fill-opacity=\"1\" /><path clip-path=\"url(#clip160)\" d=\"M881.609 191.076 Q881.609 193.817 879.923 195.925 Q878.26 198.009 875.472 199.087 Q872.709 200.164 869.359 200.164 L860.88 200.164 L860.88 212.391 L866.057 212.391 L866.057 214.639 Q864.23 214.499 857.461 214.499 Q850.715 214.499 848.888 214.639 L848.888 212.391 L854.064 212.391 L854.064 183.979 L848.888 183.979 L848.888 181.731 L868.891 181.731 Q874.723 181.731 878.166 184.377 Q881.609 187.024 881.609 191.076 M874.255 191.076 Q874.255 190.303 874.231 189.928 Q874.231 189.53 874.161 188.804 Q874.114 188.078 873.973 187.703 Q873.856 187.305 873.622 186.72 Q873.388 186.134 873.013 185.806 Q872.662 185.455 872.123 185.057 Q871.584 184.658 870.882 184.471 Q870.179 184.26 869.195 184.12 Q868.235 183.979 867.064 183.979 L860.599 183.979 L860.599 198.197 L867.017 198.197 Q868.188 198.197 869.148 198.056 Q870.132 197.915 870.835 197.705 Q871.561 197.494 872.1 197.096 Q872.662 196.698 873.013 196.37 Q873.364 196.018 873.599 195.433 Q873.856 194.847 873.973 194.449 Q874.114 194.051 874.161 193.348 Q874.231 192.622 874.231 192.224 Q874.255 191.826 874.255 191.076 Z\" fill=\"#000000\" fill-rule=\"nonzero\" fill-opacity=\"1\" /><path clip-path=\"url(#clip160)\" d=\"M917.019 204.895 Q917.019 206.816 916.41 208.573 Q915.801 210.329 914.559 211.852 Q913.318 213.351 911.14 214.264 Q908.961 215.178 906.127 215.178 Q904.815 215.178 903.434 215.014 Q902.052 214.873 900.014 214.241 Q897.976 213.609 896.524 212.531 L894.322 214.733 Q894.088 214.944 893.994 214.99 Q893.901 215.061 893.76 215.108 Q893.62 215.178 893.409 215.178 Q892.987 215.178 892.8 214.99 Q892.612 214.826 892.566 214.616 Q892.542 214.381 892.542 213.819 L892.542 205.083 Q892.542 204.193 892.706 203.958 Q892.87 203.701 893.69 203.701 Q894.439 203.701 894.58 203.912 Q894.744 204.099 894.791 204.802 Q894.884 206.512 895.493 207.87 Q896.102 209.229 897.086 210.095 Q898.093 210.938 899.218 211.524 Q900.342 212.109 901.653 212.391 Q902.989 212.672 904.019 212.789 Q905.073 212.906 906.127 212.906 Q907.907 212.906 909.195 212.367 Q910.484 211.828 911.116 210.962 Q911.772 210.072 912.053 209.182 Q912.358 208.268 912.358 207.308 Q912.358 205.036 910.437 203.115 Q909.687 202.413 908.75 202.108 Q907.814 201.804 904.347 201.054 Q899.967 200.094 898.374 199.485 Q896.782 198.876 895.142 197.236 Q892.542 194.519 892.542 190.842 Q892.542 188.921 893.198 187.211 Q893.877 185.502 895.165 184.143 Q896.454 182.785 898.538 182.012 Q900.646 181.215 903.293 181.215 Q908.165 181.215 911.491 183.839 L913.646 181.731 Q914.067 181.356 914.184 181.286 Q914.325 181.215 914.606 181.215 Q915.215 181.215 915.332 181.496 Q915.473 181.754 915.473 182.55 L915.473 191.334 Q915.473 192.224 915.309 192.458 Q915.145 192.669 914.325 192.669 Q913.599 192.669 913.435 192.505 Q913.271 192.318 913.13 191.427 Q912.803 189.53 912.03 188.078 Q911.28 186.626 910.32 185.736 Q909.359 184.846 908.118 184.284 Q906.9 183.698 905.729 183.487 Q904.581 183.276 903.34 183.276 Q901.63 183.276 900.365 183.768 Q899.1 184.237 898.445 185.033 Q897.812 185.829 897.508 186.649 Q897.203 187.469 897.203 188.312 Q897.203 190.303 898.632 191.615 Q900.061 192.926 901.794 193.301 L908.75 194.777 Q912.17 195.503 914.583 198.29 Q917.019 201.054 917.019 204.895 Z\" fill=\"#000000\" fill-rule=\"nonzero\" fill-opacity=\"1\" /><path clip-path=\"url(#clip160)\" d=\"M922.879 226.631 L922.879 178.662 L930.117 178.662 L930.117 179.763 L926.088 179.763 L926.088 225.531 L930.117 225.531 L930.117 226.631 L922.879 226.631 Z\" fill=\"#000000\" fill-rule=\"nonzero\" fill-opacity=\"1\" /><path clip-path=\"url(#clip160)\" d=\"M953.385 208.69 Q953.385 211.407 951.816 213.163 Q950.27 214.92 947.6 214.92 Q946.476 214.92 945.492 214.78 Q944.508 214.639 943.454 214.217 Q942.424 213.796 941.674 213.14 Q940.948 212.461 940.479 211.337 Q940.011 210.212 940.011 208.737 L940.011 195.597 L936.076 195.597 L936.076 193.863 Q937.786 193.817 939.168 192.973 Q940.573 192.13 941.416 190.772 Q942.283 189.39 942.728 187.727 Q943.196 186.04 943.22 184.19 L945.468 184.19 L945.468 193.348 L952.472 193.348 L952.472 195.597 L945.468 195.597 L945.468 208.83 Q945.468 213 948.256 213 Q949.403 213 950.27 211.922 Q951.137 210.845 951.137 208.596 L951.137 206.16 L953.385 206.16 L953.385 208.69 Z\" fill=\"#000000\" fill-rule=\"nonzero\" fill-opacity=\"1\" /><path clip-path=\"url(#clip160)\" d=\"M976.139 196.979 Q976.139 198.337 975.249 199.133 Q974.359 199.906 973.211 199.906 Q972.064 199.906 971.174 199.133 Q970.284 198.36 970.284 196.979 Q970.284 196.37 970.494 195.831 Q970.729 195.269 970.963 195.011 L971.197 194.777 Q969.815 194.777 968.738 195.433 Q967.66 196.065 967.004 197.049 Q966.349 198.033 965.927 199.321 Q965.505 200.586 965.341 201.733 Q965.201 202.881 965.201 203.982 L965.201 212.391 L969.37 212.391 L969.37 214.639 Q967.637 214.499 962.765 214.499 L956.722 214.639 L956.722 212.391 L960.025 212.391 L960.025 197.564 Q960.025 196.206 959.533 195.948 Q959.041 195.69 956.722 195.69 L956.722 193.442 L964.686 193.044 L964.686 198.478 Q966.677 193.044 971.057 193.044 Q973.071 193.044 974.593 194.121 Q976.139 195.175 976.139 196.979 Z\" fill=\"#000000\" fill-rule=\"nonzero\" fill-opacity=\"1\" /><path clip-path=\"url(#clip160)\" d=\"M1008.15 195.597 Q1006.68 195.597 1005.93 195.737 Q1005.18 195.854 1004.99 196.018 Q1004.8 196.182 1004.59 196.604 L994.286 218.527 Q993.185 220.869 991.124 222.556 Q989.087 224.242 986.51 224.242 Q984.355 224.242 982.856 222.931 Q981.381 221.642 981.381 219.815 Q981.381 218.504 982.2 217.754 Q983.02 217.028 984.121 217.028 Q985.339 217.028 986.112 217.801 Q986.908 218.574 986.908 219.769 Q986.908 220.542 986.58 221.127 Q986.252 221.736 985.948 221.947 Q985.667 222.181 985.362 222.322 Q985.854 222.509 986.51 222.509 Q987.494 222.509 988.337 222.111 Q989.204 221.736 989.766 221.221 Q990.351 220.729 990.937 219.839 Q991.522 218.972 991.804 218.41 Q992.085 217.871 992.506 216.934 L993.607 214.639 L984.636 195.597 L981.568 195.597 L981.568 193.348 L987.049 193.489 L992.998 193.348 L992.998 195.597 L990.398 195.597 L996.488 208.549 L1002.02 196.744 L1002.25 196.182 Q1002.25 195.925 1001.69 195.784 Q1001.13 195.62 1000.56 195.62 L1000 195.597 L1000 193.348 L1004.36 193.489 Q1006.42 193.489 1008.15 193.348 L1008.15 195.597 Z\" fill=\"#000000\" fill-rule=\"nonzero\" fill-opacity=\"1\" /><path clip-path=\"url(#clip160)\" d=\"M1036.06 203.935 Q1036.06 208.924 1032.71 211.922 Q1029.39 214.92 1023.98 214.92 Q1020.46 214.92 1017.84 212.765 L1017.84 221.689 L1021.14 221.689 L1021.14 223.938 L1015.1 223.797 L1009.06 223.938 L1009.06 221.689 L1012.36 221.689 L1012.36 197.517 Q1012.36 196.182 1011.87 195.948 Q1011.38 195.69 1009.06 195.69 L1009.06 193.442 L1017.54 193.044 L1017.54 195.409 Q1018.68 194.519 1020.53 193.793 Q1022.41 193.044 1024.8 193.044 Q1029.93 193.044 1033 196.089 Q1036.06 199.11 1036.06 203.935 M1029.93 203.935 Q1029.93 199.602 1028.24 197.283 Q1026.58 194.964 1024.02 194.964 Q1022.85 194.964 1021.33 195.456 Q1019.81 195.948 1018.54 197.236 Q1018.03 197.752 1017.94 197.962 Q1017.84 198.173 1017.84 198.852 L1017.84 209.018 Q1017.84 209.744 1017.89 209.955 Q1017.96 210.142 1018.36 210.61 Q1020.51 213.21 1023.44 213.21 Q1024.66 213.21 1025.76 212.695 Q1026.88 212.18 1027.84 211.126 Q1028.8 210.072 1029.37 208.221 Q1029.93 206.371 1029.93 203.935 Z\" fill=\"#000000\" fill-rule=\"nonzero\" fill-opacity=\"1\" /><path clip-path=\"url(#clip160)\" d=\"M1059.03 208.69 Q1059.03 211.407 1057.46 213.163 Q1055.91 214.92 1053.24 214.92 Q1052.12 214.92 1051.13 214.78 Q1050.15 214.639 1049.09 214.217 Q1048.06 213.796 1047.31 213.14 Q1046.59 212.461 1046.12 211.337 Q1045.65 210.212 1045.65 208.737 L1045.65 195.597 L1041.72 195.597 L1041.72 193.863 Q1043.43 193.817 1044.81 192.973 Q1046.21 192.13 1047.06 190.772 Q1047.92 189.39 1048.37 187.727 Q1048.84 186.04 1048.86 184.19 L1051.11 184.19 L1051.11 193.348 L1058.11 193.348 L1058.11 195.597 L1051.11 195.597 L1051.11 208.83 Q1051.11 213 1053.9 213 Q1055.04 213 1055.91 211.922 Q1056.78 210.845 1056.78 208.596 L1056.78 206.16 L1059.03 206.16 L1059.03 208.69 Z\" fill=\"#000000\" fill-rule=\"nonzero\" fill-opacity=\"1\" /><path clip-path=\"url(#clip160)\" d=\"M1073.84 214.639 L1068.22 214.499 L1062.36 214.639 L1062.36 212.391 L1065.69 212.391 L1065.69 197.564 Q1065.69 196.206 1065.2 195.948 Q1064.7 195.69 1062.5 195.69 L1062.5 193.442 L1070.87 193.044 L1070.87 212.391 L1073.84 212.391 L1073.84 214.639 M1070.42 182.878 Q1071.52 183.979 1071.52 185.525 Q1071.52 187.071 1070.42 188.172 Q1069.34 189.273 1067.8 189.273 Q1066.25 189.273 1065.15 188.172 Q1064.05 187.071 1064.05 185.525 Q1064.05 183.979 1065.15 182.878 Q1066.25 181.777 1067.8 181.777 Q1069.34 181.777 1070.42 182.878 Z\" fill=\"#000000\" fill-rule=\"nonzero\" fill-opacity=\"1\" /><path clip-path=\"url(#clip160)\" d=\"M1099.96 209.018 Q1099.96 209.205 1099.74 209.767 Q1099.56 210.306 1098.93 211.219 Q1098.32 212.133 1097.36 212.953 Q1096.42 213.749 1094.66 214.335 Q1092.93 214.92 1090.75 214.92 Q1085.29 214.92 1082.06 211.875 Q1078.85 208.83 1078.85 203.982 Q1078.85 201.827 1079.55 199.906 Q1080.26 197.962 1081.66 196.37 Q1083.09 194.777 1085.48 193.84 Q1087.89 192.903 1090.98 192.903 Q1099.32 192.903 1099.32 197.33 Q1099.32 198.759 1098.41 199.555 Q1097.52 200.351 1096.3 200.351 Q1095.18 200.351 1094.24 199.578 Q1093.33 198.782 1093.33 197.33 Q1093.33 195.971 1094.29 195.105 Q1093.02 194.824 1091.17 194.824 Q1089.91 194.824 1088.88 195.198 Q1087.87 195.573 1087.24 196.112 Q1086.6 196.627 1086.14 197.517 Q1085.69 198.384 1085.46 199.087 Q1085.25 199.789 1085.13 200.843 Q1085.01 201.874 1084.99 202.389 Q1084.99 202.904 1084.99 203.748 Q1084.99 213 1091.66 213 Q1096.04 213 1097.66 209.065 Q1097.85 208.573 1098.01 208.479 Q1098.18 208.362 1098.81 208.362 Q1099.16 208.362 1099.32 208.385 Q1099.51 208.385 1099.72 208.549 Q1099.96 208.713 1099.96 209.018 Z\" fill=\"#000000\" fill-rule=\"nonzero\" fill-opacity=\"1\" /><path clip-path=\"url(#clip160)\" d=\"M1103.11 202.647 Q1103.11 194.543 1106.13 188.008 Q1107.42 185.267 1109.23 182.972 Q1111.03 180.677 1112.22 179.669 Q1113.42 178.662 1113.75 178.662 Q1114.21 178.662 1114.24 179.131 Q1114.24 179.365 1113.61 179.95 Q1105.88 187.82 1105.9 202.647 Q1105.9 217.52 1113.42 225.086 Q1114.24 225.905 1114.24 226.163 Q1114.24 226.631 1113.75 226.631 Q1113.42 226.631 1112.27 225.671 Q1111.12 224.711 1109.34 222.509 Q1107.56 220.307 1106.27 217.614 Q1103.11 211.079 1103.11 202.647 Z\" fill=\"#000000\" fill-rule=\"nonzero\" fill-opacity=\"1\" /><path clip-path=\"url(#clip160)\" d=\"M1164.23 214.639 L1158.18 214.499 L1152.14 214.639 L1152.14 212.391 L1155.44 212.391 L1155.44 199.438 Q1155.44 196.815 1154.76 195.807 Q1154.08 194.777 1152.75 194.777 Q1151.58 194.777 1150.36 195.245 Q1149.17 195.714 1148.07 196.604 Q1146.99 197.494 1146.29 198.993 Q1145.61 200.492 1145.61 202.366 L1145.61 212.391 L1148.93 212.391 L1148.93 214.639 L1142.89 214.499 L1136.82 214.639 L1136.82 212.391 L1140.15 212.391 L1140.15 199.438 Q1140.15 196.815 1139.47 195.807 Q1138.79 194.777 1137.46 194.777 Q1136.28 194.777 1135.07 195.245 Q1133.87 195.714 1132.77 196.604 Q1131.69 197.494 1130.99 198.993 Q1130.31 200.492 1130.31 202.366 L1130.31 212.391 L1133.61 212.391 L1133.61 214.639 L1127.57 214.499 L1121.53 214.639 L1121.53 212.391 L1124.83 212.391 L1124.83 197.564 Q1124.83 196.206 1124.34 195.948 Q1123.85 195.69 1121.53 195.69 L1121.53 193.442 L1129.77 193.044 L1129.77 198.243 Q1131.01 195.831 1133.12 194.449 Q1135.25 193.044 1138.23 193.044 Q1144.41 193.044 1145.42 197.658 Q1146.52 195.714 1148.53 194.379 Q1150.55 193.044 1153.52 193.044 Q1157.29 193.044 1159.1 194.683 Q1160.92 196.299 1160.92 199.953 L1160.92 212.391 L1164.23 212.391 L1164.23 214.639 Z\" fill=\"#000000\" fill-rule=\"nonzero\" fill-opacity=\"1\" /><path clip-path=\"url(#clip160)\" d=\"M1192.84 213.491 Q1192.84 213.913 1192.74 214.171 Q1192.65 214.405 1192.39 214.499 Q1192.16 214.592 1191.95 214.616 Q1191.73 214.639 1191.29 214.639 L1188.99 214.639 Q1187.57 214.639 1186.56 214.381 Q1185.57 214.1 1185.08 213.772 Q1184.59 213.445 1184.33 212.859 Q1184.08 212.273 1184.03 211.922 Q1184.01 211.547 1184.01 210.938 Q1183.12 212.648 1181.31 213.796 Q1179.53 214.92 1176.86 214.92 Q1175.74 214.92 1174.61 214.803 Q1173.49 214.686 1172.18 214.335 Q1170.87 213.96 1169.88 213.398 Q1168.9 212.812 1168.24 211.805 Q1167.59 210.774 1167.59 209.463 Q1167.59 202.577 1183.19 201.921 L1183.19 200.305 Q1183.19 194.636 1177.92 194.636 Q1175.99 194.636 1174.45 194.964 Q1174.59 195.058 1174.8 195.292 Q1175.01 195.526 1175.25 196.112 Q1175.5 196.698 1175.5 197.33 Q1175.5 198.759 1174.59 199.555 Q1173.7 200.351 1172.48 200.351 Q1171.36 200.351 1170.42 199.578 Q1169.51 198.782 1169.51 197.33 Q1169.51 192.903 1178.1 192.903 Q1183.28 192.903 1185.95 194.941 Q1188.64 196.955 1188.64 200.305 L1188.64 210.61 Q1188.64 211.126 1188.69 211.36 Q1188.74 211.594 1188.99 211.875 Q1189.25 212.156 1189.86 212.273 Q1190.49 212.367 1191.57 212.391 Q1191.99 212.391 1192.2 212.437 Q1192.41 212.461 1192.62 212.718 Q1192.84 212.976 1192.84 213.491 M1183.19 207.964 L1183.19 203.42 Q1182.37 203.467 1181.59 203.56 Q1180.82 203.654 1179.55 203.888 Q1178.29 204.099 1177.26 204.544 Q1176.25 204.966 1175.27 205.598 Q1174.31 206.207 1173.75 207.191 Q1173.21 208.174 1173.21 209.416 Q1173.21 211.009 1174.47 212.109 Q1175.74 213.21 1177.56 213.21 Q1178.03 213.21 1178.62 213.117 Q1179.2 213.023 1180.05 212.695 Q1180.89 212.344 1181.55 211.805 Q1182.22 211.266 1182.69 210.283 Q1183.19 209.275 1183.19 207.964 Z\" fill=\"#000000\" fill-rule=\"nonzero\" fill-opacity=\"1\" /><path clip-path=\"url(#clip160)\" d=\"M1212.2 207.917 Q1212.2 209.346 1211.76 210.517 Q1211.33 211.664 1210.7 212.391 Q1210.09 213.093 1209.16 213.609 Q1208.22 214.124 1207.45 214.381 Q1206.7 214.616 1205.71 214.756 Q1204.73 214.897 1204.28 214.897 Q1203.86 214.92 1203.32 214.92 Q1199.83 214.92 1197.66 213.398 L1196.41 214.217 Q1195.71 214.709 1195.48 214.803 Q1195.27 214.92 1194.99 214.92 Q1194.38 214.92 1194.24 214.639 Q1194.12 214.381 1194.12 213.585 L1194.12 208.362 Q1194.12 207.472 1194.28 207.214 Q1194.45 206.957 1195.27 206.957 Q1195.67 206.957 1195.83 206.98 Q1195.99 207.003 1196.13 207.167 Q1196.3 207.308 1196.41 207.636 Q1196.65 208.432 1196.86 209.041 Q1197.09 209.627 1197.63 210.47 Q1198.17 211.313 1198.85 211.875 Q1199.55 212.414 1200.7 212.812 Q1201.87 213.21 1203.32 213.21 Q1203.77 213.21 1204.1 213.187 Q1204.45 213.163 1205.17 213.093 Q1205.92 213 1206.46 212.765 Q1207.02 212.508 1207.59 212.156 Q1208.17 211.782 1208.48 211.126 Q1208.81 210.47 1208.81 209.603 Q1208.81 208.807 1208.38 208.174 Q1207.99 207.519 1207.45 207.144 Q1206.91 206.769 1206.06 206.488 Q1205.22 206.184 1204.71 206.09 Q1204.19 205.973 1203.46 205.856 Q1199.72 205.176 1198.62 204.755 Q1197.19 204.24 1196.04 203.232 Q1194.12 201.593 1194.12 199.204 Q1194.12 197.915 1194.54 196.885 Q1194.99 195.854 1195.59 195.222 Q1196.23 194.566 1197.16 194.098 Q1198.1 193.629 1198.85 193.418 Q1199.62 193.184 1200.58 193.067 Q1201.57 192.926 1201.99 192.926 Q1202.43 192.903 1202.95 192.903 Q1205.99 192.903 1207.8 193.817 Q1209.67 192.903 1209.95 192.903 Q1210.37 192.903 1210.56 193.09 Q1210.75 193.254 1210.77 193.489 Q1210.82 193.699 1210.82 194.262 L1210.82 198.079 Q1210.82 198.969 1210.63 199.204 Q1210.47 199.438 1209.65 199.438 Q1208.95 199.438 1208.76 199.251 Q1208.59 199.063 1208.55 198.478 Q1208.2 194.449 1202.9 194.449 Q1202.57 194.449 1202.29 194.472 Q1202.04 194.472 1201.43 194.543 Q1200.84 194.589 1200.37 194.683 Q1199.93 194.777 1199.34 195.011 Q1198.78 195.222 1198.41 195.526 Q1198.03 195.831 1197.77 196.323 Q1197.52 196.815 1197.52 197.424 Q1197.52 197.892 1197.7 198.29 Q1197.91 198.688 1198.15 198.969 Q1198.41 199.251 1198.9 199.508 Q1199.39 199.742 1199.72 199.883 Q1200.07 200.023 1200.68 200.187 Q1201.29 200.328 1201.54 200.375 Q1201.83 200.422 1202.41 200.539 Q1205.55 201.077 1206.88 201.476 Q1208.24 201.874 1209.55 202.834 Q1212.2 204.919 1212.2 207.917 Z\" fill=\"#000000\" fill-rule=\"nonzero\" fill-opacity=\"1\" /><path clip-path=\"url(#clip160)\" d=\"M1241.66 214.639 Q1239.2 214.499 1236.67 214.499 Q1232.94 214.499 1230.81 214.639 L1230.81 212.391 Q1232.31 212.391 1232.31 211.946 Q1232.31 211.875 1232.1 211.618 Q1231.91 211.337 1231.58 210.915 Q1231.26 210.47 1231.12 210.283 L1226.27 204.24 Q1224.91 205.2 1223.53 206.301 L1223.53 212.391 L1226.83 212.391 L1226.83 214.639 L1221.04 214.499 L1215.28 214.639 L1215.28 212.391 L1218.58 212.391 L1218.58 185.853 Q1218.58 184.494 1218.09 184.237 Q1217.6 183.979 1215.28 183.979 L1215.28 181.731 L1223.76 181.356 L1223.76 203.279 L1232.83 196.112 Q1232.59 195.878 1232.45 195.807 Q1232.33 195.714 1232.03 195.667 Q1231.75 195.597 1231.21 195.597 L1231.21 193.348 L1236.71 193.489 Q1239.17 193.489 1240.46 193.348 L1240.46 195.597 Q1238.94 195.597 1238.05 195.714 Q1237.18 195.831 1236.88 195.995 Q1236.57 196.135 1236.15 196.463 L1229.9 201.312 L1238.02 211.43 Q1238.54 212.063 1238.96 212.227 Q1239.38 212.391 1240.84 212.391 L1241.66 212.391 L1241.66 214.639 Z\" fill=\"#000000\" fill-rule=\"nonzero\" fill-opacity=\"1\" /><path clip-path=\"url(#clip160)\" d=\"M1266.92 209.018 Q1266.92 209.322 1266.66 209.955 Q1266.41 210.564 1265.68 211.454 Q1264.98 212.32 1263.95 213.093 Q1262.94 213.843 1261.16 214.381 Q1259.4 214.92 1257.27 214.92 Q1251.56 214.92 1248.16 211.828 Q1244.76 208.737 1244.76 203.841 Q1244.76 201.569 1245.54 199.602 Q1246.33 197.634 1247.78 196.135 Q1249.24 194.636 1251.51 193.77 Q1253.78 192.903 1256.59 192.903 Q1261.56 192.903 1264.23 195.503 Q1265.33 196.604 1265.96 198.197 Q1266.62 199.766 1266.76 200.82 Q1266.92 201.874 1266.92 202.881 Q1266.92 203.771 1266.59 203.982 Q1266.29 204.193 1265.37 204.193 L1250.9 204.193 Q1250.9 204.966 1250.9 205.481 Q1250.92 205.973 1251.06 206.98 Q1251.2 207.987 1251.44 208.713 Q1251.67 209.416 1252.16 210.283 Q1252.68 211.149 1253.38 211.711 Q1254.09 212.25 1255.19 212.625 Q1256.29 213 1257.69 213 Q1260.03 213 1261.91 211.946 Q1263.81 210.892 1264.56 209.182 Q1264.79 208.549 1264.98 208.362 Q1265.19 208.174 1265.77 208.174 Q1266.92 208.174 1266.92 209.018 M1262.35 202.6 Q1262.14 194.636 1256.59 194.636 Q1255.37 194.636 1254.13 195.222 Q1252.89 195.807 1252.05 197.119 Q1251.58 197.869 1251.32 198.946 Q1251.06 200 1251.02 200.609 Q1250.97 201.195 1250.9 202.6 L1262.35 202.6 Z\" fill=\"#000000\" fill-rule=\"nonzero\" fill-opacity=\"1\" /><path clip-path=\"url(#clip160)\" d=\"M1296.79 214.639 L1288.01 214.92 L1288.01 212.578 Q1285.11 214.92 1281.29 214.92 Q1276.04 214.92 1272.9 211.899 Q1269.79 208.854 1269.79 204.029 Q1269.79 199.016 1273.14 196.042 Q1276.51 193.044 1281.83 193.044 Q1285.51 193.044 1288.29 195.222 L1288.29 185.853 Q1288.29 184.494 1287.8 184.237 Q1287.31 183.979 1284.99 183.979 L1284.99 181.731 L1293.49 181.356 L1293.49 210.517 Q1293.49 211.875 1293.98 212.133 Q1294.48 212.391 1296.79 212.391 L1296.79 214.639 M1288.01 209.697 L1288.01 197.705 Q1287.07 196.487 1285.62 195.643 Q1284.17 194.777 1282.3 194.777 Q1280.91 194.777 1279.51 195.362 Q1278.1 195.925 1277.17 197.283 Q1276.58 198.15 1276.28 199.438 Q1276 200.726 1275.95 201.593 Q1275.93 202.459 1275.93 204.029 Q1275.93 204.802 1275.93 205.247 Q1275.95 205.668 1276 206.535 Q1276.04 207.378 1276.14 207.917 Q1276.23 208.456 1276.44 209.229 Q1276.65 210.001 1276.93 210.493 Q1277.21 210.985 1277.66 211.571 Q1278.1 212.133 1278.67 212.461 Q1279.25 212.765 1280.02 213 Q1280.82 213.21 1281.78 213.21 Q1285.46 213.21 1288.01 209.697 Z\" fill=\"#000000\" fill-rule=\"nonzero\" fill-opacity=\"1\" /><path clip-path=\"url(#clip160)\" d=\"M1300.13 202.647 Q1300.13 194.543 1303.15 188.008 Q1304.44 185.267 1306.24 182.972 Q1308.04 180.677 1309.24 179.669 Q1310.43 178.662 1310.76 178.662 Q1311.23 178.662 1311.25 179.131 Q1311.25 179.365 1310.62 179.95 Q1302.89 187.82 1302.91 202.647 Q1302.91 217.52 1310.43 225.086 Q1311.25 225.905 1311.25 226.163 Q1311.25 226.631 1310.76 226.631 Q1310.43 226.631 1309.28 225.671 Q1308.14 224.711 1306.36 222.509 Q1304.58 220.307 1303.29 217.614 Q1300.13 211.079 1300.13 202.647 Z\" fill=\"#000000\" fill-rule=\"nonzero\" fill-opacity=\"1\" /><path clip-path=\"url(#clip160)\" d=\"M1333.51 197.564 Q1333.51 198.876 1332.86 199.578 Q1332.2 200.258 1331.31 200.258 Q1330.59 200.258 1330.19 199.836 Q1329.81 199.415 1329.81 198.852 Q1329.81 198.033 1330.47 197.377 Q1331.15 196.721 1332.13 196.698 Q1331.8 195.831 1330.94 195.316 Q1330.07 194.777 1329.3 194.636 Q1328.55 194.496 1327.8 194.496 Q1326.32 194.496 1325.2 194.964 Q1324.07 195.433 1323.51 196.159 Q1322.95 196.861 1322.69 197.541 Q1322.43 198.22 1322.43 198.806 Q1322.43 199.321 1322.55 199.742 Q1322.69 200.141 1323.02 200.445 Q1323.35 200.726 1323.58 200.914 Q1323.84 201.101 1324.4 201.265 Q1324.96 201.429 1325.2 201.499 Q1325.43 201.546 1326.09 201.686 Q1327.45 201.968 1328.06 202.132 Q1328.67 202.272 1329.46 202.67 Q1330.28 203.068 1330.89 203.701 Q1332.37 205.176 1332.37 207.214 Q1332.37 207.964 1332.11 208.877 Q1331.87 209.791 1331.19 210.938 Q1330.52 212.086 1329.49 213 Q1328.45 213.913 1326.67 214.545 Q1324.92 215.178 1322.72 215.178 Q1319.65 215.178 1317.75 213.89 Q1315.85 212.578 1315.85 210.517 Q1315.85 209.018 1316.67 208.198 Q1317.49 207.355 1318.55 207.355 Q1319.34 207.355 1319.84 207.8 Q1320.33 208.221 1320.33 209.018 Q1320.33 210.095 1319.46 210.915 Q1318.59 211.735 1317.31 211.571 Q1318.41 214.1 1322.76 214.1 Q1324.4 214.1 1325.67 213.679 Q1326.96 213.234 1327.66 212.625 Q1328.38 211.992 1328.85 211.219 Q1329.32 210.446 1329.46 209.861 Q1329.63 209.275 1329.63 208.83 Q1329.63 208.057 1329.32 207.472 Q1329.02 206.886 1328.6 206.558 Q1328.2 206.207 1327.42 205.926 Q1326.67 205.621 1326.14 205.504 Q1325.6 205.387 1324.64 205.2 Q1324.19 205.106 1323.91 205.059 Q1323.63 204.989 1323.04 204.802 Q1322.48 204.591 1322.08 204.38 Q1321.71 204.169 1321.22 203.795 Q1320.73 203.42 1320.42 202.975 Q1320.12 202.53 1319.91 201.874 Q1319.69 201.218 1319.69 200.445 Q1319.69 199.742 1319.91 198.899 Q1320.14 198.056 1320.73 197.072 Q1321.33 196.089 1322.2 195.292 Q1323.07 194.496 1324.52 193.98 Q1326 193.442 1327.8 193.442 Q1330.42 193.442 1331.97 194.66 Q1333.51 195.854 1333.51 197.564 Z\" fill=\"#000000\" fill-rule=\"nonzero\" fill-opacity=\"1\" /><path clip-path=\"url(#clip160)\" d=\"M1359.15 201.101 Q1359.15 204.521 1357.42 207.823 Q1355.71 211.126 1353.01 213.163 Q1350.32 215.178 1347.58 215.178 Q1345.94 215.178 1344.84 214.288 Q1343.76 213.374 1343.17 212.086 Q1342.73 213.679 1341.77 217.497 Q1340.81 221.314 1340.81 221.689 Q1340.81 221.9 1340.86 221.994 Q1340.9 222.087 1341.11 222.205 Q1341.32 222.345 1341.84 222.392 Q1342.35 222.462 1343.22 222.462 Q1343.67 222.462 1343.83 222.462 Q1344.02 222.486 1344.18 222.603 Q1344.37 222.72 1344.37 222.977 Q1344.37 223.938 1343.5 223.938 Q1342.73 223.938 1341.14 223.868 Q1339.54 223.797 1338.75 223.797 Q1338.07 223.797 1336.71 223.868 Q1335.35 223.938 1334.72 223.938 Q1334.09 223.938 1334.09 223.376 Q1334.09 223.048 1334.18 222.837 Q1334.25 222.65 1334.44 222.556 Q1334.63 222.486 1334.79 222.462 Q1334.93 222.462 1335.21 222.462 Q1336.29 222.462 1336.76 222.275 Q1337.23 222.111 1337.39 221.76 Q1337.58 221.432 1337.79 220.495 L1343.17 199.133 Q1343.5 197.705 1343.5 196.698 Q1343.5 195.433 1343.1 194.964 Q1342.71 194.496 1342 194.496 Q1340.79 194.496 1339.99 195.948 Q1339.19 197.4 1338.51 200.211 Q1338.3 200.984 1338.16 201.148 Q1338.05 201.312 1337.69 201.312 Q1337.11 201.288 1337.11 200.82 Q1337.11 200.703 1337.3 199.953 Q1337.48 199.18 1337.83 198.056 Q1338.21 196.908 1338.61 196.182 Q1338.84 195.69 1339.05 195.362 Q1339.26 195.035 1339.68 194.519 Q1340.13 194.004 1340.76 193.723 Q1341.39 193.442 1342.17 193.442 Q1343.67 193.442 1344.91 194.332 Q1346.15 195.222 1346.48 197.025 Q1347.81 195.456 1349.45 194.449 Q1351.09 193.442 1352.75 193.442 Q1355.52 193.442 1357.32 195.597 Q1359.15 197.728 1359.15 201.101 M1355.68 198.993 Q1355.68 196.861 1354.86 195.69 Q1354.07 194.496 1352.61 194.496 Q1350.81 194.496 1348.73 196.323 Q1346.66 198.056 1346.24 199.672 L1343.88 209.065 L1343.74 209.837 Q1343.74 209.978 1343.81 210.4 Q1343.9 210.798 1344.16 211.454 Q1344.44 212.109 1344.81 212.695 Q1345.21 213.257 1345.92 213.679 Q1346.64 214.1 1347.53 214.1 Q1348.96 214.1 1350.51 212.836 Q1352.08 211.571 1353.25 209.182 Q1353.97 207.636 1354.82 204.31 Q1355.68 200.96 1355.68 198.993 Z\" fill=\"#000000\" fill-rule=\"nonzero\" fill-opacity=\"1\" /><path clip-path=\"url(#clip160)\" d=\"M1380.39 196.557 Q1380.39 197.798 1379.57 198.595 Q1378.77 199.391 1377.74 199.391 Q1376.85 199.391 1376.39 198.876 Q1375.92 198.36 1375.92 197.705 Q1375.92 196.768 1376.64 195.995 Q1377.37 195.222 1378.42 195.058 Q1377.65 194.496 1376.41 194.496 Q1374.37 194.496 1372.57 196.065 Q1371.77 196.791 1370.9 198.126 Q1370.04 199.438 1369.87 200 L1368.35 206.254 Q1368.21 206.957 1367.34 210.329 Q1366.5 213.679 1366.43 213.819 Q1366.2 214.475 1365.68 214.826 Q1365.17 215.178 1364.65 215.178 Q1364.06 215.178 1363.67 214.826 Q1363.27 214.475 1363.27 213.866 Q1363.27 213.772 1363.34 213.421 Q1363.41 213.07 1363.53 212.578 Q1363.64 212.086 1363.69 211.805 L1366.48 200.726 Q1366.99 198.712 1367.11 198.079 Q1367.25 197.424 1367.25 196.698 Q1367.25 195.433 1366.85 194.964 Q1366.45 194.496 1365.75 194.496 Q1364.53 194.496 1363.74 195.948 Q1362.94 197.4 1362.26 200.211 Q1362.05 200.984 1361.91 201.148 Q1361.79 201.312 1361.44 201.312 Q1360.86 201.288 1360.86 200.82 Q1360.86 200.703 1361.04 199.953 Q1361.23 199.18 1361.58 198.056 Q1361.96 196.908 1362.36 196.182 Q1362.59 195.69 1362.8 195.362 Q1363.01 195.035 1363.43 194.519 Q1363.85 194.004 1364.49 193.723 Q1365.12 193.442 1365.89 193.442 Q1367.58 193.442 1368.77 194.472 Q1369.99 195.503 1370.27 197.119 Q1370.86 196.276 1371.58 195.55 Q1372.31 194.8 1373.64 194.121 Q1374.98 193.442 1376.41 193.442 Q1378.19 193.442 1379.29 194.355 Q1380.39 195.245 1380.39 196.557 Z\" fill=\"#000000\" fill-rule=\"nonzero\" fill-opacity=\"1\" /><path clip-path=\"url(#clip160)\" d=\"M1404.55 201.546 Q1404.55 204.099 1403.43 206.629 Q1402.3 209.135 1400.5 211.009 Q1398.72 212.859 1396.38 214.03 Q1394.03 215.178 1391.69 215.178 Q1388.34 215.178 1386.16 212.906 Q1384.01 210.61 1384.01 207.05 Q1384.01 203.724 1385.86 200.562 Q1387.73 197.377 1390.73 195.409 Q1393.73 193.442 1396.87 193.442 Q1400.17 193.442 1402.35 195.667 Q1404.55 197.892 1404.55 201.546 M1401.04 199.672 Q1401.04 197.4 1399.94 195.948 Q1398.84 194.496 1396.82 194.496 Q1396.24 194.496 1395.56 194.683 Q1394.88 194.847 1393.99 195.292 Q1393.12 195.737 1392.14 196.674 Q1391.18 197.588 1390.33 198.899 Q1389.23 200.632 1388.39 203.818 Q1387.57 206.98 1387.57 208.877 Q1387.57 211.5 1388.79 212.812 Q1390.01 214.1 1391.74 214.1 Q1393.43 214.1 1395.21 212.929 Q1397.01 211.735 1398.25 209.697 Q1399.49 207.589 1400.26 204.497 Q1401.04 201.382 1401.04 199.672 Z\" fill=\"#000000\" fill-rule=\"nonzero\" fill-opacity=\"1\" /><path clip-path=\"url(#clip160)\" d=\"M1419.94 194.496 Q1419.94 195.152 1419.63 195.316 Q1419.33 195.456 1418.49 195.456 L1413.99 195.456 L1410.43 209.603 Q1410.15 210.845 1410.15 211.899 Q1410.15 213.07 1410.5 213.585 Q1410.87 214.1 1411.65 214.1 Q1413.17 214.1 1414.81 212.718 Q1416.47 211.337 1417.88 207.964 Q1418.06 207.519 1418.16 207.425 Q1418.28 207.308 1418.58 207.308 Q1419.17 207.308 1419.17 207.776 Q1419.17 207.94 1418.84 208.69 Q1418.53 209.439 1417.85 210.54 Q1417.2 211.641 1416.33 212.672 Q1415.49 213.702 1414.2 214.452 Q1412.91 215.178 1411.53 215.178 Q1409.59 215.178 1408.34 213.936 Q1407.13 212.695 1407.13 210.751 Q1407.13 210.119 1407.62 208.104 Q1408.11 206.066 1410.78 195.456 L1406.54 195.456 Q1405.95 195.456 1405.72 195.433 Q1405.51 195.409 1405.35 195.292 Q1405.21 195.152 1405.21 194.871 Q1405.21 194.426 1405.39 194.238 Q1405.58 194.027 1405.81 194.004 Q1406.07 193.957 1406.66 193.957 L1411.15 193.957 L1413.03 186.345 Q1413.22 185.595 1413.68 185.174 Q1414.18 184.729 1414.46 184.682 Q1414.74 184.612 1414.95 184.612 Q1415.58 184.612 1415.96 184.963 Q1416.33 185.291 1416.33 185.9 Q1416.33 186.228 1414.36 193.957 L1418.58 193.957 Q1419.12 193.957 1419.33 193.98 Q1419.56 194.004 1419.75 194.121 Q1419.94 194.238 1419.94 194.496 Z\" fill=\"#000000\" fill-rule=\"nonzero\" fill-opacity=\"1\" /><path clip-path=\"url(#clip160)\" d=\"M1423.69 226.163 Q1423.69 225.929 1424.3 225.343 Q1432.03 217.473 1432.03 202.647 Q1432.03 187.774 1424.6 180.255 Q1423.69 179.388 1423.69 179.131 Q1423.69 178.662 1424.16 178.662 Q1424.49 178.662 1425.63 179.623 Q1426.8 180.583 1428.56 182.785 Q1430.34 184.986 1431.65 187.68 Q1434.82 194.215 1434.82 202.647 Q1434.82 210.751 1431.79 217.286 Q1430.51 220.026 1428.7 222.322 Q1426.9 224.617 1425.7 225.624 Q1424.51 226.631 1424.16 226.631 Q1423.69 226.631 1423.69 226.163 Z\" fill=\"#000000\" fill-rule=\"nonzero\" fill-opacity=\"1\" /><path clip-path=\"url(#clip160)\" d=\"M1442.1 226.163 Q1442.1 225.929 1442.71 225.343 Q1450.44 217.473 1450.44 202.647 Q1450.44 187.774 1443.02 180.255 Q1442.1 179.388 1442.1 179.131 Q1442.1 178.662 1442.57 178.662 Q1442.9 178.662 1444.05 179.623 Q1445.22 180.583 1446.98 182.785 Q1448.76 184.986 1450.07 187.68 Q1453.23 194.215 1453.23 202.647 Q1453.23 210.751 1450.21 217.286 Q1448.92 220.026 1447.12 222.322 Q1445.31 224.617 1444.12 225.624 Q1442.92 226.631 1442.57 226.631 Q1442.1 226.631 1442.1 226.163 Z\" fill=\"#000000\" fill-rule=\"nonzero\" fill-opacity=\"1\" /><path clip-path=\"url(#clip160)\" d=\"M1458.6 225.531 L1462.63 225.531 L1462.63 179.763 L1458.6 179.763 L1458.6 178.662 L1465.84 178.662 L1465.84 226.631 L1458.6 226.631 L1458.6 225.531 Z\" fill=\"#000000\" fill-rule=\"nonzero\" fill-opacity=\"1\" /><polyline clip-path=\"url(#clip160)\" style=\"stroke:#c271d2; stroke-linecap:round; stroke-linejoin:round; stroke-width:4; stroke-opacity:1; fill:none\" points=\"645.236,254.604 791.625,254.604 \"/>\n",
       "<path clip-path=\"url(#clip160)\" d=\"M844.997 253.339 L843.498 266.479 L816.023 266.479 L816.023 264.231 L821.199 264.231 L821.199 235.819 L816.023 235.819 L816.023 233.571 Q817.85 233.711 824.806 233.711 Q832.372 233.711 834.48 233.571 L834.48 235.819 L828.015 235.819 L828.015 264.231 L832.957 264.231 Q834.738 264.231 836.19 263.786 Q837.642 263.317 838.579 262.685 Q839.539 262.029 840.289 260.951 Q841.062 259.874 841.436 259.054 Q841.835 258.211 842.139 256.923 Q842.444 255.635 842.537 255.026 Q842.631 254.393 842.748 253.339 L844.997 253.339 Z\" fill=\"#000000\" fill-rule=\"nonzero\" fill-opacity=\"1\" /><path clip-path=\"url(#clip160)\" d=\"M881.819 255.588 Q881.819 257.672 880.812 259.71 Q879.805 261.748 878.002 263.387 Q876.198 265.003 873.411 266.011 Q870.647 267.018 867.415 267.018 Q863.011 267.018 859.381 265.753 Q855.75 264.465 853.291 262.216 Q850.832 259.968 849.473 256.852 Q848.138 253.714 848.138 250.037 Q848.138 246.359 849.473 243.244 Q850.832 240.105 853.291 237.857 Q855.75 235.608 859.381 234.344 Q863.011 233.055 867.415 233.055 Q872.825 233.055 876.877 236.311 L880.039 233.477 Q880.531 233.055 880.953 233.055 Q881.562 233.055 881.679 233.336 Q881.819 233.594 881.819 234.39 L881.819 244.696 Q881.819 245.633 881.609 245.844 Q881.421 246.055 880.508 246.055 Q879.688 246.055 879.501 245.914 Q879.337 245.75 879.22 245.048 Q878.447 240.574 875.425 237.951 Q872.404 235.304 868.422 235.304 Q862.285 235.304 858.655 238.981 Q855.469 242.307 855.469 250.037 Q855.469 253.55 856.078 256.15 Q856.711 258.726 858.303 260.67 Q860.06 262.755 862.8 263.762 Q865.541 264.746 868.586 264.746 Q870.085 264.746 871.56 264.394 Q873.036 264.043 874.441 263.294 Q875.87 262.544 876.948 261.467 Q878.048 260.389 878.751 258.82 Q879.477 257.251 879.571 255.4 Q879.594 254.838 879.829 254.721 Q880.086 254.58 880.672 254.58 Q881.351 254.58 881.585 254.744 Q881.819 254.908 881.819 255.588 Z\" fill=\"#000000\" fill-rule=\"nonzero\" fill-opacity=\"1\" /><path clip-path=\"url(#clip160)\" d=\"M915.138 256.735 Q915.138 258.656 914.529 260.413 Q913.92 262.169 912.679 263.692 Q911.438 265.191 909.259 266.104 Q907.081 267.018 904.247 267.018 Q902.935 267.018 901.553 266.854 Q900.171 266.713 898.134 266.081 Q896.096 265.449 894.644 264.371 L892.442 266.573 Q892.208 266.784 892.114 266.83 Q892.02 266.901 891.88 266.948 Q891.739 267.018 891.529 267.018 Q891.107 267.018 890.92 266.83 Q890.732 266.666 890.685 266.456 Q890.662 266.221 890.662 265.659 L890.662 256.923 Q890.662 256.033 890.826 255.798 Q890.99 255.541 891.81 255.541 Q892.559 255.541 892.7 255.752 Q892.864 255.939 892.91 256.642 Q893.004 258.352 893.613 259.71 Q894.222 261.069 895.206 261.935 Q896.213 262.778 897.337 263.364 Q898.462 263.949 899.773 264.231 Q901.108 264.512 902.139 264.629 Q903.193 264.746 904.247 264.746 Q906.027 264.746 907.315 264.207 Q908.604 263.668 909.236 262.802 Q909.892 261.912 910.173 261.022 Q910.477 260.108 910.477 259.148 Q910.477 256.876 908.557 254.955 Q907.807 254.253 906.87 253.948 Q905.933 253.644 902.467 252.894 Q898.087 251.934 896.494 251.325 Q894.901 250.716 893.262 249.076 Q890.662 246.359 890.662 242.682 Q890.662 240.761 891.318 239.051 Q891.997 237.342 893.285 235.983 Q894.573 234.625 896.658 233.852 Q898.766 233.055 901.413 233.055 Q906.285 233.055 909.611 235.679 L911.766 233.571 Q912.187 233.196 912.304 233.126 Q912.445 233.055 912.726 233.055 Q913.335 233.055 913.452 233.336 Q913.592 233.594 913.592 234.39 L913.592 243.174 Q913.592 244.064 913.429 244.298 Q913.265 244.509 912.445 244.509 Q911.719 244.509 911.555 244.345 Q911.391 244.158 911.25 243.267 Q910.922 241.37 910.149 239.918 Q909.4 238.466 908.44 237.576 Q907.479 236.686 906.238 236.124 Q905.02 235.538 903.849 235.327 Q902.701 235.116 901.46 235.116 Q899.75 235.116 898.485 235.608 Q897.22 236.077 896.564 236.873 Q895.932 237.669 895.627 238.489 Q895.323 239.309 895.323 240.152 Q895.323 242.143 896.752 243.455 Q898.181 244.766 899.914 245.141 L906.87 246.617 Q910.29 247.343 912.702 250.13 Q915.138 252.894 915.138 256.735 Z\" fill=\"#000000\" fill-rule=\"nonzero\" fill-opacity=\"1\" /><path clip-path=\"url(#clip160)\" d=\"M920.999 278.471 L920.999 230.502 L928.236 230.502 L928.236 231.603 L924.208 231.603 L924.208 277.371 L928.236 277.371 L928.236 278.471 L920.999 278.471 Z\" fill=\"#000000\" fill-rule=\"nonzero\" fill-opacity=\"1\" /><path clip-path=\"url(#clip160)\" d=\"M951.505 260.53 Q951.505 263.247 949.936 265.003 Q948.39 266.76 945.72 266.76 Q944.595 266.76 943.612 266.62 Q942.628 266.479 941.574 266.057 Q940.543 265.636 939.794 264.98 Q939.068 264.301 938.599 263.177 Q938.131 262.052 938.131 260.577 L938.131 247.437 L934.196 247.437 L934.196 245.703 Q935.906 245.657 937.288 244.813 Q938.693 243.97 939.536 242.612 Q940.403 241.23 940.848 239.567 Q941.316 237.88 941.34 236.03 L943.588 236.03 L943.588 245.188 L950.592 245.188 L950.592 247.437 L943.588 247.437 L943.588 260.67 Q943.588 264.84 946.376 264.84 Q947.523 264.84 948.39 263.762 Q949.256 262.685 949.256 260.436 L949.256 258 L951.505 258 L951.505 260.53 Z\" fill=\"#000000\" fill-rule=\"nonzero\" fill-opacity=\"1\" /><path clip-path=\"url(#clip160)\" d=\"M974.259 248.819 Q974.259 250.177 973.369 250.973 Q972.479 251.746 971.331 251.746 Q970.183 251.746 969.293 250.973 Q968.403 250.2 968.403 248.819 Q968.403 248.21 968.614 247.671 Q968.848 247.109 969.083 246.851 L969.317 246.617 Q967.935 246.617 966.857 247.273 Q965.78 247.905 965.124 248.889 Q964.468 249.873 964.047 251.161 Q963.625 252.426 963.461 253.573 Q963.321 254.721 963.321 255.822 L963.321 264.231 L967.49 264.231 L967.49 266.479 Q965.757 266.339 960.885 266.339 L954.842 266.479 L954.842 264.231 L958.144 264.231 L958.144 249.404 Q958.144 248.046 957.652 247.788 Q957.161 247.53 954.842 247.53 L954.842 245.282 L962.805 244.884 L962.805 250.318 Q964.796 244.884 969.176 244.884 Q971.191 244.884 972.713 245.961 Q974.259 247.015 974.259 248.819 Z\" fill=\"#000000\" fill-rule=\"nonzero\" fill-opacity=\"1\" /><path clip-path=\"url(#clip160)\" d=\"M1006.27 247.437 Q1004.8 247.437 1004.05 247.577 Q1003.3 247.694 1003.11 247.858 Q1002.92 248.022 1002.71 248.444 L992.406 270.367 Q991.305 272.709 989.244 274.396 Q987.206 276.082 984.63 276.082 Q982.475 276.082 980.976 274.771 Q979.5 273.482 979.5 271.655 Q979.5 270.344 980.32 269.594 Q981.14 268.868 982.241 268.868 Q983.459 268.868 984.232 269.641 Q985.028 270.414 985.028 271.609 Q985.028 272.382 984.7 272.967 Q984.372 273.576 984.068 273.787 Q983.787 274.021 983.482 274.162 Q983.974 274.349 984.63 274.349 Q985.614 274.349 986.457 273.951 Q987.323 273.576 987.886 273.061 Q988.471 272.569 989.057 271.679 Q989.642 270.812 989.923 270.25 Q990.204 269.711 990.626 268.774 L991.727 266.479 L982.756 247.437 L979.688 247.437 L979.688 245.188 L985.169 245.329 L991.118 245.188 L991.118 247.437 L988.518 247.437 L994.608 260.389 L1000.14 248.584 L1000.37 248.022 Q1000.37 247.765 999.808 247.624 Q999.245 247.46 998.683 247.46 L998.121 247.437 L998.121 245.188 L1002.48 245.329 Q1004.54 245.329 1006.27 245.188 L1006.27 247.437 Z\" fill=\"#000000\" fill-rule=\"nonzero\" fill-opacity=\"1\" /><path clip-path=\"url(#clip160)\" d=\"M1034.18 255.775 Q1034.18 260.764 1030.83 263.762 Q1027.51 266.76 1022.1 266.76 Q1018.58 266.76 1015.96 264.605 L1015.96 273.529 L1019.26 273.529 L1019.26 275.778 L1013.22 275.637 L1007.18 275.778 L1007.18 273.529 L1010.48 273.529 L1010.48 249.357 Q1010.48 248.022 1009.99 247.788 Q1009.5 247.53 1007.18 247.53 L1007.18 245.282 L1015.66 244.884 L1015.66 247.249 Q1016.8 246.359 1018.65 245.633 Q1020.53 244.884 1022.92 244.884 Q1028.05 244.884 1031.12 247.929 Q1034.18 250.95 1034.18 255.775 M1028.05 255.775 Q1028.05 251.442 1026.36 249.123 Q1024.7 246.804 1022.14 246.804 Q1020.97 246.804 1019.45 247.296 Q1017.93 247.788 1016.66 249.076 Q1016.15 249.592 1016.05 249.802 Q1015.96 250.013 1015.96 250.692 L1015.96 260.858 Q1015.96 261.584 1016.01 261.795 Q1016.08 261.982 1016.48 262.45 Q1018.63 265.05 1021.56 265.05 Q1022.78 265.05 1023.88 264.535 Q1025 264.02 1025.96 262.966 Q1026.92 261.912 1027.48 260.061 Q1028.05 258.211 1028.05 255.775 Z\" fill=\"#000000\" fill-rule=\"nonzero\" fill-opacity=\"1\" /><path clip-path=\"url(#clip160)\" d=\"M1057.15 260.53 Q1057.15 263.247 1055.58 265.003 Q1054.03 266.76 1051.36 266.76 Q1050.24 266.76 1049.25 266.62 Q1048.27 266.479 1047.21 266.057 Q1046.18 265.636 1045.43 264.98 Q1044.71 264.301 1044.24 263.177 Q1043.77 262.052 1043.77 260.577 L1043.77 247.437 L1039.84 247.437 L1039.84 245.703 Q1041.55 245.657 1042.93 244.813 Q1044.33 243.97 1045.18 242.612 Q1046.04 241.23 1046.49 239.567 Q1046.96 237.88 1046.98 236.03 L1049.23 236.03 L1049.23 245.188 L1056.23 245.188 L1056.23 247.437 L1049.23 247.437 L1049.23 260.67 Q1049.23 264.84 1052.02 264.84 Q1053.16 264.84 1054.03 263.762 Q1054.9 262.685 1054.9 260.436 L1054.9 258 L1057.15 258 L1057.15 260.53 Z\" fill=\"#000000\" fill-rule=\"nonzero\" fill-opacity=\"1\" /><path clip-path=\"url(#clip160)\" d=\"M1071.96 266.479 L1066.34 266.339 L1060.48 266.479 L1060.48 264.231 L1063.81 264.231 L1063.81 249.404 Q1063.81 248.046 1063.32 247.788 Q1062.82 247.53 1060.62 247.53 L1060.62 245.282 L1068.98 244.884 L1068.98 264.231 L1071.96 264.231 L1071.96 266.479 M1068.54 234.718 Q1069.64 235.819 1069.64 237.365 Q1069.64 238.911 1068.54 240.012 Q1067.46 241.113 1065.92 241.113 Q1064.37 241.113 1063.27 240.012 Q1062.17 238.911 1062.17 237.365 Q1062.17 235.819 1063.27 234.718 Q1064.37 233.617 1065.92 233.617 Q1067.46 233.617 1068.54 234.718 Z\" fill=\"#000000\" fill-rule=\"nonzero\" fill-opacity=\"1\" /><path clip-path=\"url(#clip160)\" d=\"M1098.08 260.858 Q1098.08 261.045 1097.86 261.607 Q1097.68 262.146 1097.04 263.059 Q1096.44 263.973 1095.48 264.793 Q1094.54 265.589 1092.78 266.175 Q1091.05 266.76 1088.87 266.76 Q1083.41 266.76 1080.18 263.715 Q1076.97 260.67 1076.97 255.822 Q1076.97 253.667 1077.67 251.746 Q1078.38 249.802 1079.78 248.21 Q1081.21 246.617 1083.6 245.68 Q1086.01 244.743 1089.1 244.743 Q1097.44 244.743 1097.44 249.17 Q1097.44 250.599 1096.53 251.395 Q1095.64 252.191 1094.42 252.191 Q1093.3 252.191 1092.36 251.418 Q1091.45 250.622 1091.45 249.17 Q1091.45 247.811 1092.41 246.945 Q1091.14 246.664 1089.29 246.664 Q1088.03 246.664 1087 247.038 Q1085.99 247.413 1085.36 247.952 Q1084.72 248.467 1084.26 249.357 Q1083.81 250.224 1083.58 250.927 Q1083.37 251.629 1083.25 252.683 Q1083.13 253.714 1083.11 254.229 Q1083.11 254.744 1083.11 255.588 Q1083.11 264.84 1089.78 264.84 Q1094.16 264.84 1095.78 260.905 Q1095.97 260.413 1096.13 260.319 Q1096.3 260.202 1096.93 260.202 Q1097.28 260.202 1097.44 260.225 Q1097.63 260.225 1097.84 260.389 Q1098.08 260.553 1098.08 260.858 Z\" fill=\"#000000\" fill-rule=\"nonzero\" fill-opacity=\"1\" /><path clip-path=\"url(#clip160)\" d=\"M1101.23 254.487 Q1101.23 246.383 1104.25 239.848 Q1105.54 237.107 1107.35 234.812 Q1109.15 232.517 1110.34 231.509 Q1111.54 230.502 1111.87 230.502 Q1112.33 230.502 1112.36 230.971 Q1112.36 231.205 1111.73 231.79 Q1104 239.66 1104.02 254.487 Q1104.02 269.36 1111.54 276.926 Q1112.36 277.745 1112.36 278.003 Q1112.36 278.471 1111.87 278.471 Q1111.54 278.471 1110.39 277.511 Q1109.24 276.551 1107.46 274.349 Q1105.68 272.147 1104.39 269.454 Q1101.23 262.919 1101.23 254.487 Z\" fill=\"#000000\" fill-rule=\"nonzero\" fill-opacity=\"1\" /><path clip-path=\"url(#clip160)\" d=\"M1134.62 249.404 Q1134.62 250.716 1133.96 251.418 Q1133.31 252.098 1132.42 252.098 Q1131.69 252.098 1131.29 251.676 Q1130.92 251.255 1130.92 250.692 Q1130.92 249.873 1131.58 249.217 Q1132.25 248.561 1133.24 248.538 Q1132.91 247.671 1132.04 247.156 Q1131.18 246.617 1130.4 246.476 Q1129.65 246.336 1128.91 246.336 Q1127.43 246.336 1126.31 246.804 Q1125.18 247.273 1124.62 247.999 Q1124.06 248.701 1123.8 249.381 Q1123.54 250.06 1123.54 250.646 Q1123.54 251.161 1123.66 251.582 Q1123.8 251.981 1124.13 252.285 Q1124.45 252.566 1124.69 252.754 Q1124.95 252.941 1125.51 253.105 Q1126.07 253.269 1126.31 253.339 Q1126.54 253.386 1127.2 253.526 Q1128.55 253.808 1129.16 253.972 Q1129.77 254.112 1130.57 254.51 Q1131.39 254.908 1132 255.541 Q1133.47 257.016 1133.47 259.054 Q1133.47 259.804 1133.21 260.717 Q1132.98 261.631 1132.3 262.778 Q1131.62 263.926 1130.59 264.84 Q1129.56 265.753 1127.78 266.385 Q1126.02 267.018 1123.82 267.018 Q1120.75 267.018 1118.86 265.73 Q1116.96 264.418 1116.96 262.357 Q1116.96 260.858 1117.78 260.038 Q1118.6 259.195 1119.65 259.195 Q1120.45 259.195 1120.94 259.64 Q1121.43 260.061 1121.43 260.858 Q1121.43 261.935 1120.57 262.755 Q1119.7 263.575 1118.41 263.411 Q1119.51 265.94 1123.87 265.94 Q1125.51 265.94 1126.77 265.519 Q1128.06 265.074 1128.76 264.465 Q1129.49 263.832 1129.96 263.059 Q1130.43 262.286 1130.57 261.701 Q1130.73 261.115 1130.73 260.67 Q1130.73 259.897 1130.43 259.312 Q1130.12 258.726 1129.7 258.398 Q1129.3 258.047 1128.53 257.766 Q1127.78 257.461 1127.24 257.344 Q1126.7 257.227 1125.74 257.04 Q1125.3 256.946 1125.02 256.899 Q1124.74 256.829 1124.15 256.642 Q1123.59 256.431 1123.19 256.22 Q1122.82 256.009 1122.32 255.635 Q1121.83 255.26 1121.53 254.815 Q1121.22 254.37 1121.01 253.714 Q1120.8 253.058 1120.8 252.285 Q1120.8 251.582 1121.01 250.739 Q1121.25 249.896 1121.83 248.912 Q1122.44 247.929 1123.31 247.132 Q1124.17 246.336 1125.63 245.82 Q1127.1 245.282 1128.91 245.282 Q1131.53 245.282 1133.07 246.5 Q1134.62 247.694 1134.62 249.404 Z\" fill=\"#000000\" fill-rule=\"nonzero\" fill-opacity=\"1\" /><path clip-path=\"url(#clip160)\" d=\"M1160.26 252.941 Q1160.26 256.361 1158.52 259.663 Q1156.81 262.966 1154.12 265.003 Q1151.42 267.018 1148.68 267.018 Q1147.04 267.018 1145.94 266.128 Q1144.87 265.214 1144.28 263.926 Q1143.84 265.519 1142.88 269.337 Q1141.92 273.154 1141.92 273.529 Q1141.92 273.74 1141.96 273.834 Q1142.01 273.927 1142.22 274.045 Q1142.43 274.185 1142.95 274.232 Q1143.46 274.302 1144.33 274.302 Q1144.77 274.302 1144.94 274.302 Q1145.12 274.326 1145.29 274.443 Q1145.48 274.56 1145.48 274.817 Q1145.48 275.778 1144.61 275.778 Q1143.84 275.778 1142.24 275.708 Q1140.65 275.637 1139.85 275.637 Q1139.18 275.637 1137.82 275.708 Q1136.46 275.778 1135.83 275.778 Q1135.19 275.778 1135.19 275.216 Q1135.19 274.888 1135.29 274.677 Q1135.36 274.49 1135.54 274.396 Q1135.73 274.326 1135.9 274.302 Q1136.04 274.302 1136.32 274.302 Q1137.39 274.302 1137.86 274.115 Q1138.33 273.951 1138.5 273.6 Q1138.68 273.272 1138.89 272.335 L1144.28 250.973 Q1144.61 249.545 1144.61 248.538 Q1144.61 247.273 1144.21 246.804 Q1143.81 246.336 1143.11 246.336 Q1141.89 246.336 1141.1 247.788 Q1140.3 249.24 1139.62 252.051 Q1139.41 252.824 1139.27 252.988 Q1139.15 253.152 1138.8 253.152 Q1138.21 253.128 1138.21 252.66 Q1138.21 252.543 1138.4 251.793 Q1138.59 251.02 1138.94 249.896 Q1139.32 248.748 1139.71 248.022 Q1139.95 247.53 1140.16 247.202 Q1140.37 246.875 1140.79 246.359 Q1141.24 245.844 1141.87 245.563 Q1142.5 245.282 1143.27 245.282 Q1144.77 245.282 1146.01 246.172 Q1147.26 247.062 1147.58 248.865 Q1148.92 247.296 1150.56 246.289 Q1152.2 245.282 1153.86 245.282 Q1156.62 245.282 1158.43 247.437 Q1160.26 249.568 1160.26 252.941 M1156.79 250.833 Q1156.79 248.701 1155.97 247.53 Q1155.17 246.336 1153.72 246.336 Q1151.92 246.336 1149.83 248.163 Q1147.77 249.896 1147.35 251.512 L1144.98 260.905 L1144.84 261.677 Q1144.84 261.818 1144.91 262.24 Q1145.01 262.638 1145.26 263.294 Q1145.55 263.949 1145.92 264.535 Q1146.32 265.097 1147.02 265.519 Q1147.75 265.94 1148.64 265.94 Q1150.07 265.94 1151.61 264.676 Q1153.18 263.411 1154.35 261.022 Q1155.08 259.476 1155.92 256.15 Q1156.79 252.8 1156.79 250.833 Z\" fill=\"#000000\" fill-rule=\"nonzero\" fill-opacity=\"1\" /><path clip-path=\"url(#clip160)\" d=\"M1181.5 248.397 Q1181.5 249.638 1180.68 250.435 Q1179.88 251.231 1178.85 251.231 Q1177.96 251.231 1177.49 250.716 Q1177.02 250.2 1177.02 249.545 Q1177.02 248.608 1177.75 247.835 Q1178.48 247.062 1179.53 246.898 Q1178.76 246.336 1177.51 246.336 Q1175.48 246.336 1173.67 247.905 Q1172.88 248.631 1172.01 249.966 Q1171.14 251.278 1170.98 251.84 L1169.46 258.094 Q1169.32 258.797 1168.45 262.169 Q1167.61 265.519 1167.54 265.659 Q1167.3 266.315 1166.79 266.666 Q1166.27 267.018 1165.76 267.018 Q1165.17 267.018 1164.77 266.666 Q1164.37 266.315 1164.37 265.706 Q1164.37 265.612 1164.45 265.261 Q1164.52 264.91 1164.63 264.418 Q1164.75 263.926 1164.8 263.645 L1167.58 252.566 Q1168.1 250.552 1168.22 249.919 Q1168.36 249.264 1168.36 248.538 Q1168.36 247.273 1167.96 246.804 Q1167.56 246.336 1166.86 246.336 Q1165.64 246.336 1164.84 247.788 Q1164.05 249.24 1163.37 252.051 Q1163.16 252.824 1163.02 252.988 Q1162.9 253.152 1162.55 253.152 Q1161.96 253.128 1161.96 252.66 Q1161.96 252.543 1162.15 251.793 Q1162.34 251.02 1162.69 249.896 Q1163.06 248.748 1163.46 248.022 Q1163.7 247.53 1163.91 247.202 Q1164.12 246.875 1164.54 246.359 Q1164.96 245.844 1165.59 245.563 Q1166.23 245.282 1167 245.282 Q1168.68 245.282 1169.88 246.312 Q1171.1 247.343 1171.38 248.959 Q1171.96 248.116 1172.69 247.39 Q1173.42 246.64 1174.75 245.961 Q1176.09 245.282 1177.51 245.282 Q1179.29 245.282 1180.4 246.195 Q1181.5 247.085 1181.5 248.397 Z\" fill=\"#000000\" fill-rule=\"nonzero\" fill-opacity=\"1\" /><path clip-path=\"url(#clip160)\" d=\"M1205.66 253.386 Q1205.66 255.939 1204.53 258.469 Q1203.41 260.975 1201.61 262.849 Q1199.83 264.699 1197.48 265.87 Q1195.14 267.018 1192.8 267.018 Q1189.45 267.018 1187.27 264.746 Q1185.12 262.45 1185.12 258.89 Q1185.12 255.564 1186.97 252.402 Q1188.84 249.217 1191.84 247.249 Q1194.84 245.282 1197.97 245.282 Q1201.28 245.282 1203.46 247.507 Q1205.66 249.732 1205.66 253.386 M1202.14 251.512 Q1202.14 249.24 1201.04 247.788 Q1199.94 246.336 1197.93 246.336 Q1197.34 246.336 1196.66 246.523 Q1195.98 246.687 1195.09 247.132 Q1194.23 247.577 1193.24 248.514 Q1192.28 249.428 1191.44 250.739 Q1190.34 252.472 1189.5 255.658 Q1188.68 258.82 1188.68 260.717 Q1188.68 263.34 1189.89 264.652 Q1191.11 265.94 1192.85 265.94 Q1194.53 265.94 1196.31 264.769 Q1198.12 263.575 1199.36 261.537 Q1200.6 259.429 1201.37 256.337 Q1202.14 253.222 1202.14 251.512 Z\" fill=\"#000000\" fill-rule=\"nonzero\" fill-opacity=\"1\" /><path clip-path=\"url(#clip160)\" d=\"M1221.04 246.336 Q1221.04 246.992 1220.74 247.156 Q1220.44 247.296 1219.59 247.296 L1215.1 247.296 L1211.54 261.443 Q1211.25 262.685 1211.25 263.739 Q1211.25 264.91 1211.61 265.425 Q1211.98 265.94 1212.75 265.94 Q1214.28 265.94 1215.92 264.558 Q1217.58 263.177 1218.98 259.804 Q1219.17 259.359 1219.26 259.265 Q1219.38 259.148 1219.69 259.148 Q1220.27 259.148 1220.27 259.616 Q1220.27 259.78 1219.94 260.53 Q1219.64 261.279 1218.96 262.38 Q1218.3 263.481 1217.44 264.512 Q1216.59 265.542 1215.31 266.292 Q1214.02 267.018 1212.64 267.018 Q1210.69 267.018 1209.45 265.776 Q1208.23 264.535 1208.23 262.591 Q1208.23 261.959 1208.72 259.944 Q1209.22 257.906 1211.89 247.296 L1207.65 247.296 Q1207.06 247.296 1206.83 247.273 Q1206.62 247.249 1206.45 247.132 Q1206.31 246.992 1206.31 246.711 Q1206.31 246.266 1206.5 246.078 Q1206.69 245.867 1206.92 245.844 Q1207.18 245.797 1207.76 245.797 L1212.26 245.797 L1214.13 238.185 Q1214.32 237.435 1214.79 237.014 Q1215.28 236.569 1215.56 236.522 Q1215.84 236.452 1216.06 236.452 Q1216.69 236.452 1217.06 236.803 Q1217.44 237.131 1217.44 237.74 Q1217.44 238.068 1215.47 245.797 L1219.69 245.797 Q1220.22 245.797 1220.44 245.82 Q1220.67 245.844 1220.86 245.961 Q1221.04 246.078 1221.04 246.336 Z\" fill=\"#000000\" fill-rule=\"nonzero\" fill-opacity=\"1\" /><path clip-path=\"url(#clip160)\" d=\"M1224.8 278.003 Q1224.8 277.769 1225.4 277.183 Q1233.13 269.313 1233.13 254.487 Q1233.13 239.614 1225.71 232.095 Q1224.8 231.228 1224.8 230.971 Q1224.8 230.502 1225.26 230.502 Q1225.59 230.502 1226.74 231.463 Q1227.91 232.423 1229.67 234.625 Q1231.45 236.826 1232.76 239.52 Q1235.92 246.055 1235.92 254.487 Q1235.92 262.591 1232.9 269.126 Q1231.61 271.866 1229.81 274.162 Q1228 276.457 1226.81 277.464 Q1225.62 278.471 1225.26 278.471 Q1224.8 278.471 1224.8 278.003 Z\" fill=\"#000000\" fill-rule=\"nonzero\" fill-opacity=\"1\" /><path clip-path=\"url(#clip160)\" d=\"M1284.61 253.854 Q1285.03 254.018 1285.03 254.487 Q1285.03 254.955 1284.61 255.119 Q1281.09 256.29 1278.03 260.108 Q1275.85 262.942 1275.24 266.198 Q1275.17 266.526 1274.89 266.737 Q1274.63 266.948 1274.28 266.948 Q1273.88 266.948 1273.6 266.666 Q1273.34 266.409 1273.34 266.011 Q1273.34 265.987 1273.37 265.917 Q1273.39 265.823 1273.39 265.8 Q1274.09 262.005 1276.55 258.89 Q1278.12 256.876 1280.28 255.447 L1247.39 255.447 Q1249.54 256.876 1251.11 258.89 Q1253.57 262.005 1254.28 265.8 Q1254.28 265.823 1254.3 265.917 Q1254.32 265.987 1254.32 266.011 Q1254.32 266.409 1254.04 266.666 Q1253.78 266.948 1253.39 266.948 Q1253.03 266.948 1252.75 266.737 Q1252.5 266.526 1252.43 266.198 Q1251.82 262.942 1249.64 260.108 Q1246.57 256.29 1243.06 255.119 Q1242.64 254.955 1242.64 254.487 Q1242.64 254.018 1243.06 253.854 Q1246.57 252.683 1249.64 248.865 Q1251.82 246.031 1252.43 242.776 Q1252.5 242.448 1252.75 242.237 Q1253.03 242.026 1253.39 242.026 Q1253.78 242.026 1254.04 242.307 Q1254.32 242.565 1254.32 242.963 Q1254.32 242.986 1254.3 243.08 Q1254.28 243.15 1254.28 243.174 Q1253.57 246.968 1251.11 250.083 Q1249.54 252.098 1247.39 253.526 L1280.28 253.526 Q1278.12 252.098 1276.55 250.083 Q1274.09 246.968 1273.39 243.174 Q1273.39 243.15 1273.37 243.08 Q1273.34 242.986 1273.34 242.963 Q1273.34 242.565 1273.6 242.307 Q1273.88 242.026 1274.28 242.026 Q1274.63 242.026 1274.89 242.237 Q1275.17 242.448 1275.24 242.776 Q1275.85 246.031 1278.03 248.865 Q1281.09 252.683 1284.61 253.854 Z\" fill=\"#000000\" fill-rule=\"nonzero\" fill-opacity=\"1\" /><path clip-path=\"url(#clip160)\" d=\"M1307.44 260.53 Q1307.44 263.247 1305.88 265.003 Q1304.33 266.76 1301.66 266.76 Q1300.53 266.76 1299.55 266.62 Q1298.57 266.479 1297.51 266.057 Q1296.48 265.636 1295.73 264.98 Q1295.01 264.301 1294.54 263.177 Q1294.07 262.052 1294.07 260.577 L1294.07 247.437 L1290.14 247.437 L1290.14 245.703 Q1291.85 245.657 1293.23 244.813 Q1294.63 243.97 1295.48 242.612 Q1296.34 241.23 1296.79 239.567 Q1297.26 237.88 1297.28 236.03 L1299.53 236.03 L1299.53 245.188 L1306.53 245.188 L1306.53 247.437 L1299.53 247.437 L1299.53 260.67 Q1299.53 264.84 1302.31 264.84 Q1303.46 264.84 1304.33 263.762 Q1305.2 262.685 1305.2 260.436 L1305.2 258 L1307.44 258 L1307.44 260.53 Z\" fill=\"#000000\" fill-rule=\"nonzero\" fill-opacity=\"1\" /><path clip-path=\"url(#clip160)\" d=\"M1330.2 248.819 Q1330.2 250.177 1329.31 250.973 Q1328.42 251.746 1327.27 251.746 Q1326.12 251.746 1325.23 250.973 Q1324.34 250.2 1324.34 248.819 Q1324.34 248.21 1324.55 247.671 Q1324.79 247.109 1325.02 246.851 L1325.26 246.617 Q1323.87 246.617 1322.8 247.273 Q1321.72 247.905 1321.06 248.889 Q1320.41 249.873 1319.99 251.161 Q1319.56 252.426 1319.4 253.573 Q1319.26 254.721 1319.26 255.822 L1319.26 264.231 L1323.43 264.231 L1323.43 266.479 Q1321.7 266.339 1316.82 266.339 L1310.78 266.479 L1310.78 264.231 L1314.08 264.231 L1314.08 249.404 Q1314.08 248.046 1313.59 247.788 Q1313.1 247.53 1310.78 247.53 L1310.78 245.282 L1318.74 244.884 L1318.74 250.318 Q1320.74 244.884 1325.12 244.884 Q1327.13 244.884 1328.65 245.961 Q1330.2 247.015 1330.2 248.819 Z\" fill=\"#000000\" fill-rule=\"nonzero\" fill-opacity=\"1\" /><path clip-path=\"url(#clip160)\" d=\"M1362.21 247.437 Q1360.74 247.437 1359.99 247.577 Q1359.24 247.694 1359.05 247.858 Q1358.86 248.022 1358.65 248.444 L1348.35 270.367 Q1347.24 272.709 1345.18 274.396 Q1343.15 276.082 1340.57 276.082 Q1338.41 276.082 1336.92 274.771 Q1335.44 273.482 1335.44 271.655 Q1335.44 270.344 1336.26 269.594 Q1337.08 268.868 1338.18 268.868 Q1339.4 268.868 1340.17 269.641 Q1340.97 270.414 1340.97 271.609 Q1340.97 272.382 1340.64 272.967 Q1340.31 273.576 1340.01 273.787 Q1339.73 274.021 1339.42 274.162 Q1339.91 274.349 1340.57 274.349 Q1341.55 274.349 1342.4 273.951 Q1343.26 273.576 1343.82 273.061 Q1344.41 272.569 1345 271.679 Q1345.58 270.812 1345.86 270.25 Q1346.14 269.711 1346.57 268.774 L1347.67 266.479 L1338.7 247.437 L1335.63 247.437 L1335.63 245.188 L1341.11 245.329 L1347.06 245.188 L1347.06 247.437 L1344.46 247.437 L1350.55 260.389 L1356.07 248.584 L1356.31 248.022 Q1356.31 247.765 1355.75 247.624 Q1355.18 247.46 1354.62 247.46 L1354.06 247.437 L1354.06 245.188 L1358.42 245.329 Q1360.48 245.329 1362.21 245.188 L1362.21 247.437 Z\" fill=\"#000000\" fill-rule=\"nonzero\" fill-opacity=\"1\" /><path clip-path=\"url(#clip160)\" d=\"M1390.12 255.775 Q1390.12 260.764 1386.77 263.762 Q1383.45 266.76 1378.04 266.76 Q1374.52 266.76 1371.9 264.605 L1371.9 273.529 L1375.2 273.529 L1375.2 275.778 L1369.16 275.637 L1363.12 275.778 L1363.12 273.529 L1366.42 273.529 L1366.42 249.357 Q1366.42 248.022 1365.93 247.788 Q1365.44 247.53 1363.12 247.53 L1363.12 245.282 L1371.6 244.884 L1371.6 247.249 Q1372.74 246.359 1374.59 245.633 Q1376.47 244.884 1378.86 244.884 Q1383.99 244.884 1387.05 247.929 Q1390.12 250.95 1390.12 255.775 M1383.99 255.775 Q1383.99 251.442 1382.3 249.123 Q1380.64 246.804 1378.08 246.804 Q1376.91 246.804 1375.39 247.296 Q1373.87 247.788 1372.6 249.076 Q1372.09 249.592 1371.99 249.802 Q1371.9 250.013 1371.9 250.692 L1371.9 260.858 Q1371.9 261.584 1371.95 261.795 Q1372.02 261.982 1372.42 262.45 Q1374.57 265.05 1377.5 265.05 Q1378.72 265.05 1379.82 264.535 Q1380.94 264.02 1381.9 262.966 Q1382.86 261.912 1383.42 260.061 Q1383.99 258.211 1383.99 255.775 Z\" fill=\"#000000\" fill-rule=\"nonzero\" fill-opacity=\"1\" /><path clip-path=\"url(#clip160)\" d=\"M1413.09 260.53 Q1413.09 263.247 1411.52 265.003 Q1409.97 266.76 1407.3 266.76 Q1406.18 266.76 1405.19 266.62 Q1404.21 266.479 1403.15 266.057 Q1402.12 265.636 1401.37 264.98 Q1400.65 264.301 1400.18 263.177 Q1399.71 262.052 1399.71 260.577 L1399.71 247.437 L1395.78 247.437 L1395.78 245.703 Q1397.49 245.657 1398.87 244.813 Q1400.27 243.97 1401.12 242.612 Q1401.98 241.23 1402.43 239.567 Q1402.9 237.88 1402.92 236.03 L1405.17 236.03 L1405.17 245.188 L1412.17 245.188 L1412.17 247.437 L1405.17 247.437 L1405.17 260.67 Q1405.17 264.84 1407.96 264.84 Q1409.1 264.84 1409.97 263.762 Q1410.84 262.685 1410.84 260.436 L1410.84 258 L1413.09 258 L1413.09 260.53 Z\" fill=\"#000000\" fill-rule=\"nonzero\" fill-opacity=\"1\" /><path clip-path=\"url(#clip160)\" d=\"M1427.9 266.479 L1422.28 266.339 L1416.42 266.479 L1416.42 264.231 L1419.75 264.231 L1419.75 249.404 Q1419.75 248.046 1419.26 247.788 Q1418.76 247.53 1416.56 247.53 L1416.56 245.282 L1424.92 244.884 L1424.92 264.231 L1427.9 264.231 L1427.9 266.479 M1424.48 234.718 Q1425.58 235.819 1425.58 237.365 Q1425.58 238.911 1424.48 240.012 Q1423.4 241.113 1421.86 241.113 Q1420.31 241.113 1419.21 240.012 Q1418.11 238.911 1418.11 237.365 Q1418.11 235.819 1419.21 234.718 Q1420.31 233.617 1421.86 233.617 Q1423.4 233.617 1424.48 234.718 Z\" fill=\"#000000\" fill-rule=\"nonzero\" fill-opacity=\"1\" /><path clip-path=\"url(#clip160)\" d=\"M1454.01 260.858 Q1454.01 261.045 1453.8 261.607 Q1453.62 262.146 1452.98 263.059 Q1452.38 263.973 1451.41 264.793 Q1450.48 265.589 1448.72 266.175 Q1446.99 266.76 1444.81 266.76 Q1439.35 266.76 1436.12 263.715 Q1432.91 260.67 1432.91 255.822 Q1432.91 253.667 1433.61 251.746 Q1434.32 249.802 1435.72 248.21 Q1437.15 246.617 1439.54 245.68 Q1441.95 244.743 1445.04 244.743 Q1453.38 244.743 1453.38 249.17 Q1453.38 250.599 1452.47 251.395 Q1451.58 252.191 1450.36 252.191 Q1449.24 252.191 1448.3 251.418 Q1447.39 250.622 1447.39 249.17 Q1447.39 247.811 1448.35 246.945 Q1447.08 246.664 1445.23 246.664 Q1443.97 246.664 1442.94 247.038 Q1441.93 247.413 1441.3 247.952 Q1440.66 248.467 1440.2 249.357 Q1439.75 250.224 1439.52 250.927 Q1439.31 251.629 1439.19 252.683 Q1439.07 253.714 1439.05 254.229 Q1439.05 254.744 1439.05 255.588 Q1439.05 264.84 1445.72 264.84 Q1450.1 264.84 1451.72 260.905 Q1451.91 260.413 1452.07 260.319 Q1452.23 260.202 1452.87 260.202 Q1453.22 260.202 1453.38 260.225 Q1453.57 260.225 1453.78 260.389 Q1454.01 260.553 1454.01 260.858 Z\" fill=\"#000000\" fill-rule=\"nonzero\" fill-opacity=\"1\" /><path clip-path=\"url(#clip160)\" d=\"M1457.17 254.487 Q1457.17 246.383 1460.19 239.848 Q1461.48 237.107 1463.28 234.812 Q1465.09 232.517 1466.28 231.509 Q1467.48 230.502 1467.81 230.502 Q1468.27 230.502 1468.3 230.971 Q1468.3 231.205 1467.66 231.79 Q1459.94 239.66 1459.96 254.487 Q1459.96 269.36 1467.48 276.926 Q1468.3 277.745 1468.3 278.003 Q1468.3 278.471 1467.81 278.471 Q1467.48 278.471 1466.33 277.511 Q1465.18 276.551 1463.4 274.349 Q1461.62 272.147 1460.33 269.454 Q1457.17 262.919 1457.17 254.487 Z\" fill=\"#000000\" fill-rule=\"nonzero\" fill-opacity=\"1\" /><path clip-path=\"url(#clip160)\" d=\"M1493.67 259.757 Q1493.67 261.186 1493.22 262.357 Q1492.8 263.504 1492.17 264.231 Q1491.56 264.933 1490.62 265.449 Q1489.69 265.964 1488.91 266.221 Q1488.16 266.456 1487.18 266.596 Q1486.2 266.737 1485.75 266.737 Q1485.33 266.76 1484.79 266.76 Q1481.3 266.76 1479.12 265.238 L1477.88 266.057 Q1477.18 266.549 1476.95 266.643 Q1476.73 266.76 1476.45 266.76 Q1475.84 266.76 1475.7 266.479 Q1475.59 266.221 1475.59 265.425 L1475.59 260.202 Q1475.59 259.312 1475.75 259.054 Q1475.91 258.797 1476.73 258.797 Q1477.13 258.797 1477.3 258.82 Q1477.46 258.843 1477.6 259.007 Q1477.77 259.148 1477.88 259.476 Q1478.12 260.272 1478.33 260.881 Q1478.56 261.467 1479.1 262.31 Q1479.64 263.153 1480.32 263.715 Q1481.02 264.254 1482.17 264.652 Q1483.34 265.05 1484.79 265.05 Q1485.24 265.05 1485.56 265.027 Q1485.92 265.003 1486.64 264.933 Q1487.39 264.84 1487.93 264.605 Q1488.49 264.348 1489.05 263.996 Q1489.64 263.622 1489.94 262.966 Q1490.27 262.31 1490.27 261.443 Q1490.27 260.647 1489.85 260.014 Q1489.45 259.359 1488.91 258.984 Q1488.38 258.609 1487.53 258.328 Q1486.69 258.024 1486.17 257.93 Q1485.66 257.813 1484.93 257.696 Q1481.18 257.016 1480.08 256.595 Q1478.66 256.08 1477.51 255.072 Q1475.59 253.433 1475.59 251.044 Q1475.59 249.755 1476.01 248.725 Q1476.45 247.694 1477.06 247.062 Q1477.69 246.406 1478.63 245.938 Q1479.57 245.469 1480.32 245.258 Q1481.09 245.024 1482.05 244.907 Q1483.04 244.766 1483.46 244.766 Q1483.9 244.743 1484.42 244.743 Q1487.46 244.743 1489.27 245.657 Q1491.14 244.743 1491.42 244.743 Q1491.84 244.743 1492.03 244.93 Q1492.22 245.094 1492.24 245.329 Q1492.29 245.539 1492.29 246.102 L1492.29 249.919 Q1492.29 250.809 1492.1 251.044 Q1491.94 251.278 1491.12 251.278 Q1490.41 251.278 1490.23 251.091 Q1490.06 250.903 1490.02 250.318 Q1489.66 246.289 1484.37 246.289 Q1484.04 246.289 1483.76 246.312 Q1483.5 246.312 1482.89 246.383 Q1482.31 246.429 1481.84 246.523 Q1481.4 246.617 1480.81 246.851 Q1480.25 247.062 1479.87 247.366 Q1479.5 247.671 1479.24 248.163 Q1478.98 248.655 1478.98 249.264 Q1478.98 249.732 1479.17 250.13 Q1479.38 250.528 1479.62 250.809 Q1479.87 251.091 1480.37 251.348 Q1480.86 251.582 1481.18 251.723 Q1481.54 251.863 1482.15 252.027 Q1482.75 252.168 1483.01 252.215 Q1483.29 252.262 1483.88 252.379 Q1487.02 252.917 1488.35 253.316 Q1489.71 253.714 1491.02 254.674 Q1493.67 256.759 1493.67 259.757 Z\" fill=\"#000000\" fill-rule=\"nonzero\" fill-opacity=\"1\" /><path clip-path=\"url(#clip160)\" d=\"M1524.3 266.479 L1518.23 266.339 L1512.19 266.479 L1512.19 264.231 L1515.52 264.231 L1515.52 251.278 Q1515.52 248.678 1514.84 247.647 Q1514.18 246.617 1512.87 246.617 Q1511.67 246.617 1510.46 247.085 Q1509.26 247.554 1508.16 248.444 Q1507.08 249.334 1506.4 250.833 Q1505.73 252.332 1505.73 254.206 L1505.73 264.231 L1509.03 264.231 L1509.03 266.479 L1502.98 266.339 L1496.94 266.479 L1496.94 264.231 L1500.24 264.231 L1500.24 237.693 Q1500.24 236.334 1499.75 236.077 Q1499.26 235.819 1496.94 235.819 L1496.94 233.571 L1505.44 233.196 L1505.44 249.498 L1505.49 249.498 Q1505.96 248.701 1506.57 247.999 Q1507.2 247.273 1508.16 246.523 Q1509.14 245.774 1510.55 245.329 Q1511.96 244.884 1513.59 244.884 Q1517.32 244.884 1519.15 246.5 Q1520.97 248.116 1520.97 251.793 L1520.97 264.231 L1524.3 264.231 L1524.3 266.479 Z\" fill=\"#000000\" fill-rule=\"nonzero\" fill-opacity=\"1\" /><path clip-path=\"url(#clip160)\" d=\"M1553.1 266.479 L1544.6 266.76 L1544.6 263.036 Q1542.42 266.76 1537.69 266.76 Q1535.74 266.76 1534.29 266.503 Q1532.86 266.245 1531.6 265.612 Q1530.36 264.957 1529.7 263.692 Q1529.05 262.427 1529.05 260.577 L1529.05 249.404 Q1529.05 248.046 1528.55 247.788 Q1528.06 247.53 1525.74 247.53 L1525.74 245.282 L1534.53 244.884 L1534.53 261.256 Q1534.53 262.404 1534.6 262.989 Q1534.69 263.551 1535.04 264.113 Q1535.42 264.652 1536.21 264.863 Q1537.01 265.05 1538.37 265.05 Q1541.01 265.05 1542.65 263.27 Q1544.32 261.49 1544.32 258.562 L1544.32 249.404 Q1544.32 248.046 1543.8 247.788 Q1543.31 247.53 1540.99 247.53 L1540.99 245.282 L1549.77 244.884 L1549.77 262.357 Q1549.77 263.715 1550.27 263.973 Q1550.78 264.231 1553.1 264.231 L1553.1 266.479 Z\" fill=\"#000000\" fill-rule=\"nonzero\" fill-opacity=\"1\" /><path clip-path=\"url(#clip160)\" d=\"M1575.41 237.084 Q1575.41 238.466 1574.5 239.262 Q1573.61 240.059 1572.44 240.059 Q1571.36 240.059 1570.42 239.286 Q1569.51 238.513 1569.51 237.084 Q1569.51 235.538 1570.61 234.718 Q1570.28 234.625 1569.79 234.625 Q1569.32 234.625 1568.81 234.718 Q1568.32 234.789 1567.59 235.14 Q1566.86 235.468 1566.3 236.053 Q1565.76 236.615 1565.36 237.74 Q1564.97 238.841 1564.97 240.34 L1564.97 245.188 L1570.75 245.188 L1570.75 247.437 L1565.25 247.437 L1565.25 264.231 L1569.42 264.231 L1569.42 266.479 Q1567.68 266.339 1562.79 266.339 L1556.74 266.479 L1556.74 264.231 L1560.07 264.231 L1560.07 247.437 L1556.46 247.437 L1556.46 245.188 L1560.07 245.188 L1560.07 240.34 Q1560.07 238.396 1560.94 236.92 Q1561.8 235.421 1563.26 234.578 Q1564.71 233.735 1566.39 233.313 Q1568.1 232.891 1569.95 232.891 Q1572.58 232.891 1573.98 234.156 Q1575.41 235.398 1575.41 237.084 Z\" fill=\"#000000\" fill-rule=\"nonzero\" fill-opacity=\"1\" /><path clip-path=\"url(#clip160)\" d=\"M1597.69 237.084 Q1597.69 238.466 1596.78 239.262 Q1595.89 240.059 1594.72 240.059 Q1593.64 240.059 1592.7 239.286 Q1591.79 238.513 1591.79 237.084 Q1591.79 235.538 1592.89 234.718 Q1592.56 234.625 1592.07 234.625 Q1591.6 234.625 1591.09 234.718 Q1590.59 234.789 1589.87 235.14 Q1589.14 235.468 1588.58 236.053 Q1588.04 236.615 1587.64 237.74 Q1587.24 238.841 1587.24 240.34 L1587.24 245.188 L1593.03 245.188 L1593.03 247.437 L1587.53 247.437 L1587.53 264.231 L1591.69 264.231 L1591.69 266.479 Q1589.96 266.339 1585.07 266.339 L1579.02 266.479 L1579.02 264.231 L1582.35 264.231 L1582.35 247.437 L1578.74 247.437 L1578.74 245.188 L1582.35 245.188 L1582.35 240.34 Q1582.35 238.396 1583.22 236.92 Q1584.08 235.421 1585.53 234.578 Q1586.99 233.735 1588.67 233.313 Q1590.38 232.891 1592.23 232.891 Q1594.86 232.891 1596.26 234.156 Q1597.69 235.398 1597.69 237.084 Z\" fill=\"#000000\" fill-rule=\"nonzero\" fill-opacity=\"1\" /><path clip-path=\"url(#clip160)\" d=\"M1613.58 266.479 L1607.67 266.339 L1601.77 266.479 L1601.77 264.231 L1605.1 264.231 L1605.1 237.693 Q1605.1 236.334 1604.58 236.077 Q1604.09 235.819 1601.77 235.819 L1601.77 233.571 L1610.27 233.196 L1610.27 264.231 L1613.58 264.231 L1613.58 266.479 Z\" fill=\"#000000\" fill-rule=\"nonzero\" fill-opacity=\"1\" /><path clip-path=\"url(#clip160)\" d=\"M1639.65 260.858 Q1639.65 261.162 1639.39 261.795 Q1639.13 262.404 1638.41 263.294 Q1637.71 264.16 1636.68 264.933 Q1635.67 265.683 1633.89 266.221 Q1632.13 266.76 1630 266.76 Q1624.28 266.76 1620.89 263.668 Q1617.49 260.577 1617.49 255.681 Q1617.49 253.409 1618.27 251.442 Q1619.06 249.474 1620.51 247.975 Q1621.97 246.476 1624.24 245.61 Q1626.51 244.743 1629.32 244.743 Q1634.29 244.743 1636.96 247.343 Q1638.06 248.444 1638.69 250.037 Q1639.35 251.606 1639.49 252.66 Q1639.65 253.714 1639.65 254.721 Q1639.65 255.611 1639.32 255.822 Q1639.02 256.033 1638.1 256.033 L1623.63 256.033 Q1623.63 256.806 1623.63 257.321 Q1623.65 257.813 1623.79 258.82 Q1623.93 259.827 1624.17 260.553 Q1624.4 261.256 1624.89 262.123 Q1625.41 262.989 1626.11 263.551 Q1626.81 264.09 1627.92 264.465 Q1629.02 264.84 1630.42 264.84 Q1632.76 264.84 1634.64 263.786 Q1636.53 262.732 1637.28 261.022 Q1637.52 260.389 1637.71 260.202 Q1637.92 260.014 1638.5 260.014 Q1639.65 260.014 1639.65 260.858 M1635.08 254.44 Q1634.87 246.476 1629.32 246.476 Q1628.1 246.476 1626.86 247.062 Q1625.62 247.647 1624.78 248.959 Q1624.31 249.709 1624.05 250.786 Q1623.79 251.84 1623.75 252.449 Q1623.7 253.035 1623.63 254.44 L1635.08 254.44 Z\" fill=\"#000000\" fill-rule=\"nonzero\" fill-opacity=\"1\" /><path clip-path=\"url(#clip160)\" d=\"M1669.52 266.479 L1660.74 266.76 L1660.74 264.418 Q1657.84 266.76 1654.02 266.76 Q1648.77 266.76 1645.63 263.739 Q1642.52 260.694 1642.52 255.869 Q1642.52 250.856 1645.87 247.882 Q1649.24 244.884 1654.56 244.884 Q1658.23 244.884 1661.02 247.062 L1661.02 237.693 Q1661.02 236.334 1660.53 236.077 Q1660.04 235.819 1657.72 235.819 L1657.72 233.571 L1666.22 233.196 L1666.22 262.357 Q1666.22 263.715 1666.71 263.973 Q1667.21 264.231 1669.52 264.231 L1669.52 266.479 M1660.74 261.537 L1660.74 249.545 Q1659.8 248.327 1658.35 247.483 Q1656.9 246.617 1655.03 246.617 Q1653.64 246.617 1652.24 247.202 Q1650.83 247.765 1649.9 249.123 Q1649.31 249.99 1649.01 251.278 Q1648.72 252.566 1648.68 253.433 Q1648.65 254.299 1648.65 255.869 Q1648.65 256.642 1648.65 257.087 Q1648.68 257.508 1648.72 258.375 Q1648.77 259.218 1648.87 259.757 Q1648.96 260.296 1649.17 261.069 Q1649.38 261.841 1649.66 262.333 Q1649.94 262.825 1650.39 263.411 Q1650.83 263.973 1651.4 264.301 Q1651.98 264.605 1652.75 264.84 Q1653.55 265.05 1654.51 265.05 Q1658.19 265.05 1660.74 261.537 Z\" fill=\"#000000\" fill-rule=\"nonzero\" fill-opacity=\"1\" /><path clip-path=\"url(#clip160)\" d=\"M1672.85 254.487 Q1672.85 246.383 1675.88 239.848 Q1677.16 237.107 1678.97 234.812 Q1680.77 232.517 1681.97 231.509 Q1683.16 230.502 1683.49 230.502 Q1683.96 230.502 1683.98 230.971 Q1683.98 231.205 1683.35 231.79 Q1675.62 239.66 1675.64 254.487 Q1675.64 269.36 1683.16 276.926 Q1683.98 277.745 1683.98 278.003 Q1683.98 278.471 1683.49 278.471 Q1683.16 278.471 1682.01 277.511 Q1680.87 276.551 1679.09 274.349 Q1677.31 272.147 1676.02 269.454 Q1672.85 262.919 1672.85 254.487 Z\" fill=\"#000000\" fill-rule=\"nonzero\" fill-opacity=\"1\" /><path clip-path=\"url(#clip160)\" d=\"M1706.24 249.404 Q1706.24 250.716 1705.59 251.418 Q1704.93 252.098 1704.04 252.098 Q1703.32 252.098 1702.92 251.676 Q1702.54 251.255 1702.54 250.692 Q1702.54 249.873 1703.2 249.217 Q1703.88 248.561 1704.86 248.538 Q1704.53 247.671 1703.67 247.156 Q1702.8 246.617 1702.03 246.476 Q1701.28 246.336 1700.53 246.336 Q1699.05 246.336 1697.93 246.804 Q1696.8 247.273 1696.24 247.999 Q1695.68 248.701 1695.42 249.381 Q1695.16 250.06 1695.16 250.646 Q1695.16 251.161 1695.28 251.582 Q1695.42 251.981 1695.75 252.285 Q1696.08 252.566 1696.31 252.754 Q1696.57 252.941 1697.13 253.105 Q1697.69 253.269 1697.93 253.339 Q1698.16 253.386 1698.82 253.526 Q1700.18 253.808 1700.79 253.972 Q1701.39 254.112 1702.19 254.51 Q1703.01 254.908 1703.62 255.541 Q1705.1 257.016 1705.1 259.054 Q1705.1 259.804 1704.84 260.717 Q1704.6 261.631 1703.92 262.778 Q1703.24 263.926 1702.21 264.84 Q1701.18 265.753 1699.4 266.385 Q1697.65 267.018 1695.45 267.018 Q1692.38 267.018 1690.48 265.73 Q1688.58 264.418 1688.58 262.357 Q1688.58 260.858 1689.4 260.038 Q1690.22 259.195 1691.28 259.195 Q1692.07 259.195 1692.56 259.64 Q1693.06 260.061 1693.06 260.858 Q1693.06 261.935 1692.19 262.755 Q1691.32 263.575 1690.03 263.411 Q1691.14 265.94 1695.49 265.94 Q1697.13 265.94 1698.4 265.519 Q1699.68 265.074 1700.39 264.465 Q1701.11 263.832 1701.58 263.059 Q1702.05 262.286 1702.19 261.701 Q1702.35 261.115 1702.35 260.67 Q1702.35 259.897 1702.05 259.312 Q1701.75 258.726 1701.32 258.398 Q1700.93 258.047 1700.15 257.766 Q1699.4 257.461 1698.86 257.344 Q1698.33 257.227 1697.37 257.04 Q1696.92 256.946 1696.64 256.899 Q1696.36 256.829 1695.77 256.642 Q1695.21 256.431 1694.81 256.22 Q1694.44 256.009 1693.95 255.635 Q1693.45 255.26 1693.15 254.815 Q1692.85 254.37 1692.63 253.714 Q1692.42 253.058 1692.42 252.285 Q1692.42 251.582 1692.63 250.739 Q1692.87 249.896 1693.45 248.912 Q1694.06 247.929 1694.93 247.132 Q1695.8 246.336 1697.25 245.82 Q1698.72 245.282 1700.53 245.282 Q1703.15 245.282 1704.7 246.5 Q1706.24 247.694 1706.24 249.404 Z\" fill=\"#000000\" fill-rule=\"nonzero\" fill-opacity=\"1\" /><path clip-path=\"url(#clip160)\" d=\"M1731.88 252.941 Q1731.88 256.361 1730.14 259.663 Q1728.43 262.966 1725.74 265.003 Q1723.05 267.018 1720.31 267.018 Q1718.67 267.018 1717.57 266.128 Q1716.49 265.214 1715.9 263.926 Q1715.46 265.519 1714.5 269.337 Q1713.54 273.154 1713.54 273.529 Q1713.54 273.74 1713.59 273.834 Q1713.63 273.927 1713.84 274.045 Q1714.05 274.185 1714.57 274.232 Q1715.08 274.302 1715.95 274.302 Q1716.4 274.302 1716.56 274.302 Q1716.75 274.326 1716.91 274.443 Q1717.1 274.56 1717.1 274.817 Q1717.1 275.778 1716.23 275.778 Q1715.46 275.778 1713.87 275.708 Q1712.27 275.637 1711.48 275.637 Q1710.8 275.637 1709.44 275.708 Q1708.08 275.778 1707.45 275.778 Q1706.82 275.778 1706.82 275.216 Q1706.82 274.888 1706.91 274.677 Q1706.98 274.49 1707.17 274.396 Q1707.35 274.326 1707.52 274.302 Q1707.66 274.302 1707.94 274.302 Q1709.02 274.302 1709.49 274.115 Q1709.95 273.951 1710.12 273.6 Q1710.31 273.272 1710.52 272.335 L1715.9 250.973 Q1716.23 249.545 1716.23 248.538 Q1716.23 247.273 1715.83 246.804 Q1715.44 246.336 1714.73 246.336 Q1713.51 246.336 1712.72 247.788 Q1711.92 249.24 1711.24 252.051 Q1711.03 252.824 1710.89 252.988 Q1710.77 253.152 1710.42 253.152 Q1709.84 253.128 1709.84 252.66 Q1709.84 252.543 1710.02 251.793 Q1710.21 251.02 1710.56 249.896 Q1710.94 248.748 1711.34 248.022 Q1711.57 247.53 1711.78 247.202 Q1711.99 246.875 1712.41 246.359 Q1712.86 245.844 1713.49 245.563 Q1714.12 245.282 1714.9 245.282 Q1716.4 245.282 1717.64 246.172 Q1718.88 247.062 1719.21 248.865 Q1720.54 247.296 1722.18 246.289 Q1723.82 245.282 1725.48 245.282 Q1728.25 245.282 1730.05 247.437 Q1731.88 249.568 1731.88 252.941 M1728.41 250.833 Q1728.41 248.701 1727.59 247.53 Q1726.8 246.336 1725.34 246.336 Q1723.54 246.336 1721.46 248.163 Q1719.39 249.896 1718.97 251.512 L1716.61 260.905 L1716.47 261.677 Q1716.47 261.818 1716.54 262.24 Q1716.63 262.638 1716.89 263.294 Q1717.17 263.949 1717.54 264.535 Q1717.94 265.097 1718.64 265.519 Q1719.37 265.94 1720.26 265.94 Q1721.69 265.94 1723.24 264.676 Q1724.8 263.411 1725.98 261.022 Q1726.7 259.476 1727.54 256.15 Q1728.41 252.8 1728.41 250.833 Z\" fill=\"#000000\" fill-rule=\"nonzero\" fill-opacity=\"1\" /><path clip-path=\"url(#clip160)\" d=\"M1753.12 248.397 Q1753.12 249.638 1752.3 250.435 Q1751.5 251.231 1750.47 251.231 Q1749.58 251.231 1749.11 250.716 Q1748.65 250.2 1748.65 249.545 Q1748.65 248.608 1749.37 247.835 Q1750.1 247.062 1751.15 246.898 Q1750.38 246.336 1749.14 246.336 Q1747.1 246.336 1745.3 247.905 Q1744.5 248.631 1743.63 249.966 Q1742.77 251.278 1742.6 251.84 L1741.08 258.094 Q1740.94 258.797 1740.07 262.169 Q1739.23 265.519 1739.16 265.659 Q1738.93 266.315 1738.41 266.666 Q1737.89 267.018 1737.38 267.018 Q1736.79 267.018 1736.4 266.666 Q1736 266.315 1736 265.706 Q1736 265.612 1736.07 265.261 Q1736.14 264.91 1736.26 264.418 Q1736.37 263.926 1736.42 263.645 L1739.21 252.566 Q1739.72 250.552 1739.84 249.919 Q1739.98 249.264 1739.98 248.538 Q1739.98 247.273 1739.58 246.804 Q1739.18 246.336 1738.48 246.336 Q1737.26 246.336 1736.47 247.788 Q1735.67 249.24 1734.99 252.051 Q1734.78 252.824 1734.64 252.988 Q1734.52 253.152 1734.17 253.152 Q1733.59 253.128 1733.59 252.66 Q1733.59 252.543 1733.77 251.793 Q1733.96 251.02 1734.31 249.896 Q1734.69 248.748 1735.08 248.022 Q1735.32 247.53 1735.53 247.202 Q1735.74 246.875 1736.16 246.359 Q1736.58 245.844 1737.22 245.563 Q1737.85 245.282 1738.62 245.282 Q1740.31 245.282 1741.5 246.312 Q1742.72 247.343 1743 248.959 Q1743.59 248.116 1744.31 247.39 Q1745.04 246.64 1746.37 245.961 Q1747.71 245.282 1749.14 245.282 Q1750.92 245.282 1752.02 246.195 Q1753.12 247.085 1753.12 248.397 Z\" fill=\"#000000\" fill-rule=\"nonzero\" fill-opacity=\"1\" /><path clip-path=\"url(#clip160)\" d=\"M1777.28 253.386 Q1777.28 255.939 1776.16 258.469 Q1775.03 260.975 1773.23 262.849 Q1771.45 264.699 1769.11 265.87 Q1766.76 267.018 1764.42 267.018 Q1761.07 267.018 1758.89 264.746 Q1756.74 262.45 1756.74 258.89 Q1756.74 255.564 1758.59 252.402 Q1760.46 249.217 1763.46 247.249 Q1766.46 245.282 1769.6 245.282 Q1772.9 245.282 1775.08 247.507 Q1777.28 249.732 1777.28 253.386 M1773.77 251.512 Q1773.77 249.24 1772.67 247.788 Q1771.57 246.336 1769.55 246.336 Q1768.97 246.336 1768.29 246.523 Q1767.61 246.687 1766.72 247.132 Q1765.85 247.577 1764.87 248.514 Q1763.91 249.428 1763.06 250.739 Q1761.96 252.472 1761.12 255.658 Q1760.3 258.82 1760.3 260.717 Q1760.3 263.34 1761.52 264.652 Q1762.73 265.94 1764.47 265.94 Q1766.15 265.94 1767.93 264.769 Q1769.74 263.575 1770.98 261.537 Q1772.22 259.429 1772.99 256.337 Q1773.77 253.222 1773.77 251.512 Z\" fill=\"#000000\" fill-rule=\"nonzero\" fill-opacity=\"1\" /><path clip-path=\"url(#clip160)\" d=\"M1792.67 246.336 Q1792.67 246.992 1792.36 247.156 Q1792.06 247.296 1791.22 247.296 L1786.72 247.296 L1783.16 261.443 Q1782.88 262.685 1782.88 263.739 Q1782.88 264.91 1783.23 265.425 Q1783.6 265.94 1784.38 265.94 Q1785.9 265.94 1787.54 264.558 Q1789.2 263.177 1790.61 259.804 Q1790.79 259.359 1790.89 259.265 Q1791 259.148 1791.31 259.148 Q1791.89 259.148 1791.89 259.616 Q1791.89 259.78 1791.57 260.53 Q1791.26 261.279 1790.58 262.38 Q1789.93 263.481 1789.06 264.512 Q1788.22 265.542 1786.93 266.292 Q1785.64 267.018 1784.26 267.018 Q1782.31 267.018 1781.07 265.776 Q1779.86 264.535 1779.86 262.591 Q1779.86 261.959 1780.35 259.944 Q1780.84 257.906 1783.51 247.296 L1779.27 247.296 Q1778.68 247.296 1778.45 247.273 Q1778.24 247.249 1778.08 247.132 Q1777.93 246.992 1777.93 246.711 Q1777.93 246.266 1778.12 246.078 Q1778.31 245.867 1778.54 245.844 Q1778.8 245.797 1779.39 245.797 L1783.88 245.797 L1785.76 238.185 Q1785.95 237.435 1786.41 237.014 Q1786.91 236.569 1787.19 236.522 Q1787.47 236.452 1787.68 236.452 Q1788.31 236.452 1788.69 236.803 Q1789.06 237.131 1789.06 237.74 Q1789.06 238.068 1787.09 245.797 L1791.31 245.797 Q1791.85 245.797 1792.06 245.82 Q1792.29 245.844 1792.48 245.961 Q1792.67 246.078 1792.67 246.336 Z\" fill=\"#000000\" fill-rule=\"nonzero\" fill-opacity=\"1\" /><path clip-path=\"url(#clip160)\" d=\"M1796.42 278.003 Q1796.42 277.769 1797.03 277.183 Q1804.76 269.313 1804.76 254.487 Q1804.76 239.614 1797.33 232.095 Q1796.42 231.228 1796.42 230.971 Q1796.42 230.502 1796.89 230.502 Q1797.21 230.502 1798.36 231.463 Q1799.53 232.423 1801.29 234.625 Q1803.07 236.826 1804.38 239.52 Q1807.54 246.055 1807.54 254.487 Q1807.54 262.591 1804.52 269.126 Q1803.23 271.866 1801.43 274.162 Q1799.63 276.457 1798.43 277.464 Q1797.24 278.471 1796.89 278.471 Q1796.42 278.471 1796.42 278.003 Z\" fill=\"#000000\" fill-rule=\"nonzero\" fill-opacity=\"1\" /><path clip-path=\"url(#clip160)\" d=\"M1814.83 278.003 Q1814.83 277.769 1815.44 277.183 Q1823.17 269.313 1823.17 254.487 Q1823.17 239.614 1815.75 232.095 Q1814.83 231.228 1814.83 230.971 Q1814.83 230.502 1815.3 230.502 Q1815.63 230.502 1816.78 231.463 Q1817.95 232.423 1819.71 234.625 Q1821.49 236.826 1822.8 239.52 Q1825.96 246.055 1825.96 254.487 Q1825.96 262.591 1822.94 269.126 Q1821.65 271.866 1819.85 274.162 Q1818.04 276.457 1816.85 277.464 Q1815.65 278.471 1815.3 278.471 Q1814.83 278.471 1814.83 278.003 Z\" fill=\"#000000\" fill-rule=\"nonzero\" fill-opacity=\"1\" /><path clip-path=\"url(#clip160)\" d=\"M1831.33 277.371 L1835.36 277.371 L1835.36 231.603 L1831.33 231.603 L1831.33 230.502 L1838.57 230.502 L1838.57 278.471 L1831.33 278.471 L1831.33 277.371 Z\" fill=\"#000000\" fill-rule=\"nonzero\" fill-opacity=\"1\" /><polyline clip-path=\"url(#clip160)\" style=\"stroke:#ac8d18; stroke-linecap:round; stroke-linejoin:round; stroke-width:4; stroke-opacity:1; fill:none\" points=\"645.236,306.444 791.625,306.444 \"/>\n",
       "<path clip-path=\"url(#clip160)\" d=\"M844.997 304.472 L843.498 317.612 L816.023 317.612 L816.023 315.364 L821.199 315.364 L821.199 286.952 L816.023 286.952 L816.023 284.704 Q817.85 284.844 824.806 284.844 Q832.372 284.844 834.48 284.704 L834.48 286.952 L828.015 286.952 L828.015 315.364 L832.957 315.364 Q834.738 315.364 836.19 314.918 Q837.642 314.45 838.579 313.818 Q839.539 313.162 840.289 312.084 Q841.062 311.007 841.436 310.187 Q841.835 309.344 842.139 308.056 Q842.444 306.767 842.537 306.158 Q842.631 305.526 842.748 304.472 L844.997 304.472 Z\" fill=\"#000000\" fill-rule=\"nonzero\" fill-opacity=\"1\" /><path clip-path=\"url(#clip160)\" d=\"M881.819 306.721 Q881.819 308.805 880.812 310.843 Q879.805 312.881 878.002 314.52 Q876.198 316.136 873.411 317.144 Q870.647 318.151 867.415 318.151 Q863.011 318.151 859.381 316.886 Q855.75 315.598 853.291 313.349 Q850.832 311.101 849.473 307.985 Q848.138 304.847 848.138 301.17 Q848.138 297.492 849.473 294.377 Q850.832 291.238 853.291 288.99 Q855.75 286.741 859.381 285.476 Q863.011 284.188 867.415 284.188 Q872.825 284.188 876.877 287.444 L880.039 284.61 Q880.531 284.188 880.953 284.188 Q881.562 284.188 881.679 284.469 Q881.819 284.727 881.819 285.523 L881.819 295.829 Q881.819 296.766 881.609 296.977 Q881.421 297.188 880.508 297.188 Q879.688 297.188 879.501 297.047 Q879.337 296.883 879.22 296.181 Q878.447 291.707 875.425 289.084 Q872.404 286.437 868.422 286.437 Q862.285 286.437 858.655 290.114 Q855.469 293.44 855.469 301.17 Q855.469 304.683 856.078 307.283 Q856.711 309.859 858.303 311.803 Q860.06 313.888 862.8 314.895 Q865.541 315.879 868.586 315.879 Q870.085 315.879 871.56 315.527 Q873.036 315.176 874.441 314.427 Q875.87 313.677 876.948 312.6 Q878.048 311.522 878.751 309.953 Q879.477 308.384 879.571 306.533 Q879.594 305.971 879.829 305.854 Q880.086 305.713 880.672 305.713 Q881.351 305.713 881.585 305.877 Q881.819 306.041 881.819 306.721 Z\" fill=\"#000000\" fill-rule=\"nonzero\" fill-opacity=\"1\" /><path clip-path=\"url(#clip160)\" d=\"M915.138 307.868 Q915.138 309.789 914.529 311.546 Q913.92 313.302 912.679 314.825 Q911.438 316.324 909.259 317.237 Q907.081 318.151 904.247 318.151 Q902.935 318.151 901.553 317.987 Q900.171 317.846 898.134 317.214 Q896.096 316.581 894.644 315.504 L892.442 317.706 Q892.208 317.917 892.114 317.963 Q892.02 318.034 891.88 318.081 Q891.739 318.151 891.529 318.151 Q891.107 318.151 890.92 317.963 Q890.732 317.799 890.685 317.589 Q890.662 317.354 890.662 316.792 L890.662 308.056 Q890.662 307.166 890.826 306.931 Q890.99 306.674 891.81 306.674 Q892.559 306.674 892.7 306.885 Q892.864 307.072 892.91 307.775 Q893.004 309.484 893.613 310.843 Q894.222 312.201 895.206 313.068 Q896.213 313.911 897.337 314.497 Q898.462 315.082 899.773 315.364 Q901.108 315.645 902.139 315.762 Q903.193 315.879 904.247 315.879 Q906.027 315.879 907.315 315.34 Q908.604 314.801 909.236 313.935 Q909.892 313.045 910.173 312.155 Q910.477 311.241 910.477 310.281 Q910.477 308.009 908.557 306.088 Q907.807 305.386 906.87 305.081 Q905.933 304.777 902.467 304.027 Q898.087 303.067 896.494 302.458 Q894.901 301.849 893.262 300.209 Q890.662 297.492 890.662 293.815 Q890.662 291.894 891.318 290.184 Q891.997 288.475 893.285 287.116 Q894.573 285.758 896.658 284.985 Q898.766 284.188 901.413 284.188 Q906.285 284.188 909.611 286.812 L911.766 284.704 Q912.187 284.329 912.304 284.259 Q912.445 284.188 912.726 284.188 Q913.335 284.188 913.452 284.469 Q913.592 284.727 913.592 285.523 L913.592 294.307 Q913.592 295.197 913.429 295.431 Q913.265 295.642 912.445 295.642 Q911.719 295.642 911.555 295.478 Q911.391 295.29 911.25 294.4 Q910.922 292.503 910.149 291.051 Q909.4 289.599 908.44 288.709 Q907.479 287.819 906.238 287.257 Q905.02 286.671 903.849 286.46 Q902.701 286.249 901.46 286.249 Q899.75 286.249 898.485 286.741 Q897.22 287.21 896.564 288.006 Q895.932 288.802 895.627 289.622 Q895.323 290.442 895.323 291.285 Q895.323 293.276 896.752 294.588 Q898.181 295.899 899.914 296.274 L906.87 297.75 Q910.29 298.476 912.702 301.263 Q915.138 304.027 915.138 307.868 Z\" fill=\"#000000\" fill-rule=\"nonzero\" fill-opacity=\"1\" /><path clip-path=\"url(#clip160)\" d=\"M920.999 329.604 L920.999 281.635 L928.236 281.635 L928.236 282.736 L924.208 282.736 L924.208 328.503 L928.236 328.503 L928.236 329.604 L920.999 329.604 Z\" fill=\"#000000\" fill-rule=\"nonzero\" fill-opacity=\"1\" /><path clip-path=\"url(#clip160)\" d=\"M951.505 311.663 Q951.505 314.38 949.936 316.136 Q948.39 317.893 945.72 317.893 Q944.595 317.893 943.612 317.753 Q942.628 317.612 941.574 317.19 Q940.543 316.769 939.794 316.113 Q939.068 315.434 938.599 314.309 Q938.131 313.185 938.131 311.71 L938.131 298.57 L934.196 298.57 L934.196 296.836 Q935.906 296.79 937.288 295.946 Q938.693 295.103 939.536 293.745 Q940.403 292.363 940.848 290.7 Q941.316 289.013 941.34 287.163 L943.588 287.163 L943.588 296.321 L950.592 296.321 L950.592 298.57 L943.588 298.57 L943.588 311.803 Q943.588 315.972 946.376 315.972 Q947.523 315.972 948.39 314.895 Q949.256 313.818 949.256 311.569 L949.256 309.133 L951.505 309.133 L951.505 311.663 Z\" fill=\"#000000\" fill-rule=\"nonzero\" fill-opacity=\"1\" /><path clip-path=\"url(#clip160)\" d=\"M974.259 299.952 Q974.259 301.31 973.369 302.106 Q972.479 302.879 971.331 302.879 Q970.183 302.879 969.293 302.106 Q968.403 301.333 968.403 299.952 Q968.403 299.343 968.614 298.804 Q968.848 298.242 969.083 297.984 L969.317 297.75 Q967.935 297.75 966.857 298.406 Q965.78 299.038 965.124 300.022 Q964.468 301.006 964.047 302.294 Q963.625 303.559 963.461 304.706 Q963.321 305.854 963.321 306.955 L963.321 315.364 L967.49 315.364 L967.49 317.612 Q965.757 317.472 960.885 317.472 L954.842 317.612 L954.842 315.364 L958.144 315.364 L958.144 300.537 Q958.144 299.179 957.652 298.921 Q957.161 298.663 954.842 298.663 L954.842 296.415 L962.805 296.017 L962.805 301.451 Q964.796 296.017 969.176 296.017 Q971.191 296.017 972.713 297.094 Q974.259 298.148 974.259 299.952 Z\" fill=\"#000000\" fill-rule=\"nonzero\" fill-opacity=\"1\" /><path clip-path=\"url(#clip160)\" d=\"M1006.27 298.57 Q1004.8 298.57 1004.05 298.71 Q1003.3 298.827 1003.11 298.991 Q1002.92 299.155 1002.71 299.577 L992.406 321.5 Q991.305 323.842 989.244 325.529 Q987.206 327.215 984.63 327.215 Q982.475 327.215 980.976 325.904 Q979.5 324.615 979.5 322.788 Q979.5 321.477 980.32 320.727 Q981.14 320.001 982.241 320.001 Q983.459 320.001 984.232 320.774 Q985.028 321.547 985.028 322.742 Q985.028 323.515 984.7 324.1 Q984.372 324.709 984.068 324.92 Q983.787 325.154 983.482 325.295 Q983.974 325.482 984.63 325.482 Q985.614 325.482 986.457 325.084 Q987.323 324.709 987.886 324.194 Q988.471 323.702 989.057 322.812 Q989.642 321.945 989.923 321.383 Q990.204 320.844 990.626 319.907 L991.727 317.612 L982.756 298.57 L979.688 298.57 L979.688 296.321 L985.169 296.462 L991.118 296.321 L991.118 298.57 L988.518 298.57 L994.608 311.522 L1000.14 299.717 L1000.37 299.155 Q1000.37 298.898 999.808 298.757 Q999.245 298.593 998.683 298.593 L998.121 298.57 L998.121 296.321 L1002.48 296.462 Q1004.54 296.462 1006.27 296.321 L1006.27 298.57 Z\" fill=\"#000000\" fill-rule=\"nonzero\" fill-opacity=\"1\" /><path clip-path=\"url(#clip160)\" d=\"M1034.18 306.908 Q1034.18 311.897 1030.83 314.895 Q1027.51 317.893 1022.1 317.893 Q1018.58 317.893 1015.96 315.738 L1015.96 324.662 L1019.26 324.662 L1019.26 326.911 L1013.22 326.77 L1007.18 326.911 L1007.18 324.662 L1010.48 324.662 L1010.48 300.49 Q1010.48 299.155 1009.99 298.921 Q1009.5 298.663 1007.18 298.663 L1007.18 296.415 L1015.66 296.017 L1015.66 298.382 Q1016.8 297.492 1018.65 296.766 Q1020.53 296.017 1022.92 296.017 Q1028.05 296.017 1031.12 299.061 Q1034.18 302.083 1034.18 306.908 M1028.05 306.908 Q1028.05 302.575 1026.36 300.256 Q1024.7 297.937 1022.14 297.937 Q1020.97 297.937 1019.45 298.429 Q1017.93 298.921 1016.66 300.209 Q1016.15 300.724 1016.05 300.935 Q1015.96 301.146 1015.96 301.825 L1015.96 311.991 Q1015.96 312.717 1016.01 312.928 Q1016.08 313.115 1016.48 313.583 Q1018.63 316.183 1021.56 316.183 Q1022.78 316.183 1023.88 315.668 Q1025 315.153 1025.96 314.099 Q1026.92 313.045 1027.48 311.194 Q1028.05 309.344 1028.05 306.908 Z\" fill=\"#000000\" fill-rule=\"nonzero\" fill-opacity=\"1\" /><path clip-path=\"url(#clip160)\" d=\"M1057.15 311.663 Q1057.15 314.38 1055.58 316.136 Q1054.03 317.893 1051.36 317.893 Q1050.24 317.893 1049.25 317.753 Q1048.27 317.612 1047.21 317.19 Q1046.18 316.769 1045.43 316.113 Q1044.71 315.434 1044.24 314.309 Q1043.77 313.185 1043.77 311.71 L1043.77 298.57 L1039.84 298.57 L1039.84 296.836 Q1041.55 296.79 1042.93 295.946 Q1044.33 295.103 1045.18 293.745 Q1046.04 292.363 1046.49 290.7 Q1046.96 289.013 1046.98 287.163 L1049.23 287.163 L1049.23 296.321 L1056.23 296.321 L1056.23 298.57 L1049.23 298.57 L1049.23 311.803 Q1049.23 315.972 1052.02 315.972 Q1053.16 315.972 1054.03 314.895 Q1054.9 313.818 1054.9 311.569 L1054.9 309.133 L1057.15 309.133 L1057.15 311.663 Z\" fill=\"#000000\" fill-rule=\"nonzero\" fill-opacity=\"1\" /><path clip-path=\"url(#clip160)\" d=\"M1071.96 317.612 L1066.34 317.472 L1060.48 317.612 L1060.48 315.364 L1063.81 315.364 L1063.81 300.537 Q1063.81 299.179 1063.32 298.921 Q1062.82 298.663 1060.62 298.663 L1060.62 296.415 L1068.98 296.017 L1068.98 315.364 L1071.96 315.364 L1071.96 317.612 M1068.54 285.851 Q1069.64 286.952 1069.64 288.498 Q1069.64 290.044 1068.54 291.145 Q1067.46 292.246 1065.92 292.246 Q1064.37 292.246 1063.27 291.145 Q1062.17 290.044 1062.17 288.498 Q1062.17 286.952 1063.27 285.851 Q1064.37 284.75 1065.92 284.75 Q1067.46 284.75 1068.54 285.851 Z\" fill=\"#000000\" fill-rule=\"nonzero\" fill-opacity=\"1\" /><path clip-path=\"url(#clip160)\" d=\"M1098.08 311.991 Q1098.08 312.178 1097.86 312.74 Q1097.68 313.279 1097.04 314.192 Q1096.44 315.106 1095.48 315.926 Q1094.54 316.722 1092.78 317.308 Q1091.05 317.893 1088.87 317.893 Q1083.41 317.893 1080.18 314.848 Q1076.97 311.803 1076.97 306.955 Q1076.97 304.8 1077.67 302.879 Q1078.38 300.935 1079.78 299.343 Q1081.21 297.75 1083.6 296.813 Q1086.01 295.876 1089.1 295.876 Q1097.44 295.876 1097.44 300.303 Q1097.44 301.732 1096.53 302.528 Q1095.64 303.324 1094.42 303.324 Q1093.3 303.324 1092.36 302.551 Q1091.45 301.755 1091.45 300.303 Q1091.45 298.944 1092.41 298.078 Q1091.14 297.797 1089.29 297.797 Q1088.03 297.797 1087 298.171 Q1085.99 298.546 1085.36 299.085 Q1084.72 299.6 1084.26 300.49 Q1083.81 301.357 1083.58 302.06 Q1083.37 302.762 1083.25 303.816 Q1083.13 304.847 1083.11 305.362 Q1083.11 305.877 1083.11 306.721 Q1083.11 315.972 1089.78 315.972 Q1094.16 315.972 1095.78 312.038 Q1095.97 311.546 1096.13 311.452 Q1096.3 311.335 1096.93 311.335 Q1097.28 311.335 1097.44 311.358 Q1097.63 311.358 1097.84 311.522 Q1098.08 311.686 1098.08 311.991 Z\" fill=\"#000000\" fill-rule=\"nonzero\" fill-opacity=\"1\" /><path clip-path=\"url(#clip160)\" d=\"M1101.23 305.62 Q1101.23 297.516 1104.25 290.981 Q1105.54 288.24 1107.35 285.945 Q1109.15 283.65 1110.34 282.642 Q1111.54 281.635 1111.87 281.635 Q1112.33 281.635 1112.36 282.104 Q1112.36 282.338 1111.73 282.923 Q1104 290.793 1104.02 305.62 Q1104.02 320.493 1111.54 328.058 Q1112.36 328.878 1112.36 329.136 Q1112.36 329.604 1111.87 329.604 Q1111.54 329.604 1110.39 328.644 Q1109.24 327.684 1107.46 325.482 Q1105.68 323.28 1104.39 320.587 Q1101.23 314.052 1101.23 305.62 Z\" fill=\"#000000\" fill-rule=\"nonzero\" fill-opacity=\"1\" /><path clip-path=\"url(#clip160)\" d=\"M1134.62 300.537 Q1134.62 301.849 1133.96 302.551 Q1133.31 303.231 1132.42 303.231 Q1131.69 303.231 1131.29 302.809 Q1130.92 302.387 1130.92 301.825 Q1130.92 301.006 1131.58 300.35 Q1132.25 299.694 1133.24 299.67 Q1132.91 298.804 1132.04 298.289 Q1131.18 297.75 1130.4 297.609 Q1129.65 297.469 1128.91 297.469 Q1127.43 297.469 1126.31 297.937 Q1125.18 298.406 1124.62 299.132 Q1124.06 299.834 1123.8 300.514 Q1123.54 301.193 1123.54 301.778 Q1123.54 302.294 1123.66 302.715 Q1123.8 303.114 1124.13 303.418 Q1124.45 303.699 1124.69 303.887 Q1124.95 304.074 1125.51 304.238 Q1126.07 304.402 1126.31 304.472 Q1126.54 304.519 1127.2 304.659 Q1128.55 304.941 1129.16 305.104 Q1129.77 305.245 1130.57 305.643 Q1131.39 306.041 1132 306.674 Q1133.47 308.149 1133.47 310.187 Q1133.47 310.937 1133.21 311.85 Q1132.98 312.764 1132.3 313.911 Q1131.62 315.059 1130.59 315.972 Q1129.56 316.886 1127.78 317.518 Q1126.02 318.151 1123.82 318.151 Q1120.75 318.151 1118.86 316.863 Q1116.96 315.551 1116.96 313.49 Q1116.96 311.991 1117.78 311.171 Q1118.6 310.328 1119.65 310.328 Q1120.45 310.328 1120.94 310.773 Q1121.43 311.194 1121.43 311.991 Q1121.43 313.068 1120.57 313.888 Q1119.7 314.708 1118.41 314.544 Q1119.51 317.073 1123.87 317.073 Q1125.51 317.073 1126.77 316.652 Q1128.06 316.207 1128.76 315.598 Q1129.49 314.965 1129.96 314.192 Q1130.43 313.419 1130.57 312.834 Q1130.73 312.248 1130.73 311.803 Q1130.73 311.03 1130.43 310.445 Q1130.12 309.859 1129.7 309.531 Q1129.3 309.18 1128.53 308.899 Q1127.78 308.594 1127.24 308.477 Q1126.7 308.36 1125.74 308.173 Q1125.3 308.079 1125.02 308.032 Q1124.74 307.962 1124.15 307.775 Q1123.59 307.564 1123.19 307.353 Q1122.82 307.142 1122.32 306.767 Q1121.83 306.393 1121.53 305.948 Q1121.22 305.503 1121.01 304.847 Q1120.8 304.191 1120.8 303.418 Q1120.8 302.715 1121.01 301.872 Q1121.25 301.029 1121.83 300.045 Q1122.44 299.061 1123.31 298.265 Q1124.17 297.469 1125.63 296.953 Q1127.1 296.415 1128.91 296.415 Q1131.53 296.415 1133.07 297.633 Q1134.62 298.827 1134.62 300.537 Z\" fill=\"#000000\" fill-rule=\"nonzero\" fill-opacity=\"1\" /><path clip-path=\"url(#clip160)\" d=\"M1160.26 304.074 Q1160.26 307.494 1158.52 310.796 Q1156.81 314.099 1154.12 316.136 Q1151.42 318.151 1148.68 318.151 Q1147.04 318.151 1145.94 317.261 Q1144.87 316.347 1144.28 315.059 Q1143.84 316.652 1142.88 320.47 Q1141.92 324.287 1141.92 324.662 Q1141.92 324.873 1141.96 324.967 Q1142.01 325.06 1142.22 325.178 Q1142.43 325.318 1142.95 325.365 Q1143.46 325.435 1144.33 325.435 Q1144.77 325.435 1144.94 325.435 Q1145.12 325.459 1145.29 325.576 Q1145.48 325.693 1145.48 325.95 Q1145.48 326.911 1144.61 326.911 Q1143.84 326.911 1142.24 326.841 Q1140.65 326.77 1139.85 326.77 Q1139.18 326.77 1137.82 326.841 Q1136.46 326.911 1135.83 326.911 Q1135.19 326.911 1135.19 326.349 Q1135.19 326.021 1135.29 325.81 Q1135.36 325.623 1135.54 325.529 Q1135.73 325.459 1135.9 325.435 Q1136.04 325.435 1136.32 325.435 Q1137.39 325.435 1137.86 325.248 Q1138.33 325.084 1138.5 324.732 Q1138.68 324.405 1138.89 323.468 L1144.28 302.106 Q1144.61 300.678 1144.61 299.67 Q1144.61 298.406 1144.21 297.937 Q1143.81 297.469 1143.11 297.469 Q1141.89 297.469 1141.1 298.921 Q1140.3 300.373 1139.62 303.184 Q1139.41 303.957 1139.27 304.121 Q1139.15 304.285 1138.8 304.285 Q1138.21 304.261 1138.21 303.793 Q1138.21 303.676 1138.4 302.926 Q1138.59 302.153 1138.94 301.029 Q1139.32 299.881 1139.71 299.155 Q1139.95 298.663 1140.16 298.335 Q1140.37 298.007 1140.79 297.492 Q1141.24 296.977 1141.87 296.696 Q1142.5 296.415 1143.27 296.415 Q1144.77 296.415 1146.01 297.305 Q1147.26 298.195 1147.58 299.998 Q1148.92 298.429 1150.56 297.422 Q1152.2 296.415 1153.86 296.415 Q1156.62 296.415 1158.43 298.57 Q1160.26 300.701 1160.26 304.074 M1156.79 301.966 Q1156.79 299.834 1155.97 298.663 Q1155.17 297.469 1153.72 297.469 Q1151.92 297.469 1149.83 299.296 Q1147.77 301.029 1147.35 302.645 L1144.98 312.038 L1144.84 312.81 Q1144.84 312.951 1144.91 313.373 Q1145.01 313.771 1145.26 314.427 Q1145.55 315.082 1145.92 315.668 Q1146.32 316.23 1147.02 316.652 Q1147.75 317.073 1148.64 317.073 Q1150.07 317.073 1151.61 315.809 Q1153.18 314.544 1154.35 312.155 Q1155.08 310.609 1155.92 307.283 Q1156.79 303.933 1156.79 301.966 Z\" fill=\"#000000\" fill-rule=\"nonzero\" fill-opacity=\"1\" /><path clip-path=\"url(#clip160)\" d=\"M1181.5 299.53 Q1181.5 300.771 1180.68 301.568 Q1179.88 302.364 1178.85 302.364 Q1177.96 302.364 1177.49 301.849 Q1177.02 301.333 1177.02 300.678 Q1177.02 299.741 1177.75 298.968 Q1178.48 298.195 1179.53 298.031 Q1178.76 297.469 1177.51 297.469 Q1175.48 297.469 1173.67 299.038 Q1172.88 299.764 1172.01 301.099 Q1171.14 302.411 1170.98 302.973 L1169.46 309.227 Q1169.32 309.93 1168.45 313.302 Q1167.61 316.652 1167.54 316.792 Q1167.3 317.448 1166.79 317.799 Q1166.27 318.151 1165.76 318.151 Q1165.17 318.151 1164.77 317.799 Q1164.37 317.448 1164.37 316.839 Q1164.37 316.745 1164.45 316.394 Q1164.52 316.043 1164.63 315.551 Q1164.75 315.059 1164.8 314.778 L1167.58 303.699 Q1168.1 301.685 1168.22 301.052 Q1168.36 300.397 1168.36 299.67 Q1168.36 298.406 1167.96 297.937 Q1167.56 297.469 1166.86 297.469 Q1165.64 297.469 1164.84 298.921 Q1164.05 300.373 1163.37 303.184 Q1163.16 303.957 1163.02 304.121 Q1162.9 304.285 1162.55 304.285 Q1161.96 304.261 1161.96 303.793 Q1161.96 303.676 1162.15 302.926 Q1162.34 302.153 1162.69 301.029 Q1163.06 299.881 1163.46 299.155 Q1163.7 298.663 1163.91 298.335 Q1164.12 298.007 1164.54 297.492 Q1164.96 296.977 1165.59 296.696 Q1166.23 296.415 1167 296.415 Q1168.68 296.415 1169.88 297.445 Q1171.1 298.476 1171.38 300.092 Q1171.96 299.249 1172.69 298.523 Q1173.42 297.773 1174.75 297.094 Q1176.09 296.415 1177.51 296.415 Q1179.29 296.415 1180.4 297.328 Q1181.5 298.218 1181.5 299.53 Z\" fill=\"#000000\" fill-rule=\"nonzero\" fill-opacity=\"1\" /><path clip-path=\"url(#clip160)\" d=\"M1205.66 304.519 Q1205.66 307.072 1204.53 309.602 Q1203.41 312.108 1201.61 313.982 Q1199.83 315.832 1197.48 317.003 Q1195.14 318.151 1192.8 318.151 Q1189.45 318.151 1187.27 315.879 Q1185.12 313.583 1185.12 310.023 Q1185.12 306.697 1186.97 303.535 Q1188.84 300.35 1191.84 298.382 Q1194.84 296.415 1197.97 296.415 Q1201.28 296.415 1203.46 298.64 Q1205.66 300.865 1205.66 304.519 M1202.14 302.645 Q1202.14 300.373 1201.04 298.921 Q1199.94 297.469 1197.93 297.469 Q1197.34 297.469 1196.66 297.656 Q1195.98 297.82 1195.09 298.265 Q1194.23 298.71 1193.24 299.647 Q1192.28 300.561 1191.44 301.872 Q1190.34 303.605 1189.5 306.791 Q1188.68 309.953 1188.68 311.85 Q1188.68 314.473 1189.89 315.785 Q1191.11 317.073 1192.85 317.073 Q1194.53 317.073 1196.31 315.902 Q1198.12 314.708 1199.36 312.67 Q1200.6 310.562 1201.37 307.47 Q1202.14 304.355 1202.14 302.645 Z\" fill=\"#000000\" fill-rule=\"nonzero\" fill-opacity=\"1\" /><path clip-path=\"url(#clip160)\" d=\"M1221.04 297.469 Q1221.04 298.125 1220.74 298.289 Q1220.44 298.429 1219.59 298.429 L1215.1 298.429 L1211.54 312.576 Q1211.25 313.818 1211.25 314.872 Q1211.25 316.043 1211.61 316.558 Q1211.98 317.073 1212.75 317.073 Q1214.28 317.073 1215.92 315.691 Q1217.58 314.309 1218.98 310.937 Q1219.17 310.492 1219.26 310.398 Q1219.38 310.281 1219.69 310.281 Q1220.27 310.281 1220.27 310.749 Q1220.27 310.913 1219.94 311.663 Q1219.64 312.412 1218.96 313.513 Q1218.3 314.614 1217.44 315.645 Q1216.59 316.675 1215.31 317.425 Q1214.02 318.151 1212.64 318.151 Q1210.69 318.151 1209.45 316.909 Q1208.23 315.668 1208.23 313.724 Q1208.23 313.092 1208.72 311.077 Q1209.22 309.039 1211.89 298.429 L1207.65 298.429 Q1207.06 298.429 1206.83 298.406 Q1206.62 298.382 1206.45 298.265 Q1206.31 298.125 1206.31 297.844 Q1206.31 297.398 1206.5 297.211 Q1206.69 297 1206.92 296.977 Q1207.18 296.93 1207.76 296.93 L1212.26 296.93 L1214.13 289.318 Q1214.32 288.568 1214.79 288.147 Q1215.28 287.702 1215.56 287.655 Q1215.84 287.584 1216.06 287.584 Q1216.69 287.584 1217.06 287.936 Q1217.44 288.264 1217.44 288.873 Q1217.44 289.201 1215.47 296.93 L1219.69 296.93 Q1220.22 296.93 1220.44 296.953 Q1220.67 296.977 1220.86 297.094 Q1221.04 297.211 1221.04 297.469 Z\" fill=\"#000000\" fill-rule=\"nonzero\" fill-opacity=\"1\" /><path clip-path=\"url(#clip160)\" d=\"M1224.8 329.136 Q1224.8 328.902 1225.4 328.316 Q1233.13 320.446 1233.13 305.62 Q1233.13 290.747 1225.71 283.228 Q1224.8 282.361 1224.8 282.104 Q1224.8 281.635 1225.26 281.635 Q1225.59 281.635 1226.74 282.596 Q1227.91 283.556 1229.67 285.758 Q1231.45 287.959 1232.76 290.653 Q1235.92 297.188 1235.92 305.62 Q1235.92 313.724 1232.9 320.259 Q1231.61 322.999 1229.81 325.295 Q1228 327.59 1226.81 328.597 Q1225.62 329.604 1225.26 329.604 Q1224.8 329.604 1224.8 329.136 Z\" fill=\"#000000\" fill-rule=\"nonzero\" fill-opacity=\"1\" /><path clip-path=\"url(#clip160)\" d=\"M1284.61 304.987 Q1285.03 305.151 1285.03 305.62 Q1285.03 306.088 1284.61 306.252 Q1281.09 307.423 1278.03 311.241 Q1275.85 314.075 1275.24 317.331 Q1275.17 317.659 1274.89 317.87 Q1274.63 318.081 1274.28 318.081 Q1273.88 318.081 1273.6 317.799 Q1273.34 317.542 1273.34 317.144 Q1273.34 317.12 1273.37 317.05 Q1273.39 316.956 1273.39 316.933 Q1274.09 313.138 1276.55 310.023 Q1278.12 308.009 1280.28 306.58 L1247.39 306.58 Q1249.54 308.009 1251.11 310.023 Q1253.57 313.138 1254.28 316.933 Q1254.28 316.956 1254.3 317.05 Q1254.32 317.12 1254.32 317.144 Q1254.32 317.542 1254.04 317.799 Q1253.78 318.081 1253.39 318.081 Q1253.03 318.081 1252.75 317.87 Q1252.5 317.659 1252.43 317.331 Q1251.82 314.075 1249.64 311.241 Q1246.57 307.423 1243.06 306.252 Q1242.64 306.088 1242.64 305.62 Q1242.64 305.151 1243.06 304.987 Q1246.57 303.816 1249.64 299.998 Q1251.82 297.164 1252.43 293.909 Q1252.5 293.581 1252.75 293.37 Q1253.03 293.159 1253.39 293.159 Q1253.78 293.159 1254.04 293.44 Q1254.32 293.698 1254.32 294.096 Q1254.32 294.119 1254.3 294.213 Q1254.28 294.283 1254.28 294.307 Q1253.57 298.101 1251.11 301.216 Q1249.54 303.231 1247.39 304.659 L1280.28 304.659 Q1278.12 303.231 1276.55 301.216 Q1274.09 298.101 1273.39 294.307 Q1273.39 294.283 1273.37 294.213 Q1273.34 294.119 1273.34 294.096 Q1273.34 293.698 1273.6 293.44 Q1273.88 293.159 1274.28 293.159 Q1274.63 293.159 1274.89 293.37 Q1275.17 293.581 1275.24 293.909 Q1275.85 297.164 1278.03 299.998 Q1281.09 303.816 1284.61 304.987 Z\" fill=\"#000000\" fill-rule=\"nonzero\" fill-opacity=\"1\" /><path clip-path=\"url(#clip160)\" d=\"M1307.44 311.663 Q1307.44 314.38 1305.88 316.136 Q1304.33 317.893 1301.66 317.893 Q1300.53 317.893 1299.55 317.753 Q1298.57 317.612 1297.51 317.19 Q1296.48 316.769 1295.73 316.113 Q1295.01 315.434 1294.54 314.309 Q1294.07 313.185 1294.07 311.71 L1294.07 298.57 L1290.14 298.57 L1290.14 296.836 Q1291.85 296.79 1293.23 295.946 Q1294.63 295.103 1295.48 293.745 Q1296.34 292.363 1296.79 290.7 Q1297.26 289.013 1297.28 287.163 L1299.53 287.163 L1299.53 296.321 L1306.53 296.321 L1306.53 298.57 L1299.53 298.57 L1299.53 311.803 Q1299.53 315.972 1302.31 315.972 Q1303.46 315.972 1304.33 314.895 Q1305.2 313.818 1305.2 311.569 L1305.2 309.133 L1307.44 309.133 L1307.44 311.663 Z\" fill=\"#000000\" fill-rule=\"nonzero\" fill-opacity=\"1\" /><path clip-path=\"url(#clip160)\" d=\"M1330.2 299.952 Q1330.2 301.31 1329.31 302.106 Q1328.42 302.879 1327.27 302.879 Q1326.12 302.879 1325.23 302.106 Q1324.34 301.333 1324.34 299.952 Q1324.34 299.343 1324.55 298.804 Q1324.79 298.242 1325.02 297.984 L1325.26 297.75 Q1323.87 297.75 1322.8 298.406 Q1321.72 299.038 1321.06 300.022 Q1320.41 301.006 1319.99 302.294 Q1319.56 303.559 1319.4 304.706 Q1319.26 305.854 1319.26 306.955 L1319.26 315.364 L1323.43 315.364 L1323.43 317.612 Q1321.7 317.472 1316.82 317.472 L1310.78 317.612 L1310.78 315.364 L1314.08 315.364 L1314.08 300.537 Q1314.08 299.179 1313.59 298.921 Q1313.1 298.663 1310.78 298.663 L1310.78 296.415 L1318.74 296.017 L1318.74 301.451 Q1320.74 296.017 1325.12 296.017 Q1327.13 296.017 1328.65 297.094 Q1330.2 298.148 1330.2 299.952 Z\" fill=\"#000000\" fill-rule=\"nonzero\" fill-opacity=\"1\" /><path clip-path=\"url(#clip160)\" d=\"M1362.21 298.57 Q1360.74 298.57 1359.99 298.71 Q1359.24 298.827 1359.05 298.991 Q1358.86 299.155 1358.65 299.577 L1348.35 321.5 Q1347.24 323.842 1345.18 325.529 Q1343.15 327.215 1340.57 327.215 Q1338.41 327.215 1336.92 325.904 Q1335.44 324.615 1335.44 322.788 Q1335.44 321.477 1336.26 320.727 Q1337.08 320.001 1338.18 320.001 Q1339.4 320.001 1340.17 320.774 Q1340.97 321.547 1340.97 322.742 Q1340.97 323.515 1340.64 324.1 Q1340.31 324.709 1340.01 324.92 Q1339.73 325.154 1339.42 325.295 Q1339.91 325.482 1340.57 325.482 Q1341.55 325.482 1342.4 325.084 Q1343.26 324.709 1343.82 324.194 Q1344.41 323.702 1345 322.812 Q1345.58 321.945 1345.86 321.383 Q1346.14 320.844 1346.57 319.907 L1347.67 317.612 L1338.7 298.57 L1335.63 298.57 L1335.63 296.321 L1341.11 296.462 L1347.06 296.321 L1347.06 298.57 L1344.46 298.57 L1350.55 311.522 L1356.07 299.717 L1356.31 299.155 Q1356.31 298.898 1355.75 298.757 Q1355.18 298.593 1354.62 298.593 L1354.06 298.57 L1354.06 296.321 L1358.42 296.462 Q1360.48 296.462 1362.21 296.321 L1362.21 298.57 Z\" fill=\"#000000\" fill-rule=\"nonzero\" fill-opacity=\"1\" /><path clip-path=\"url(#clip160)\" d=\"M1390.12 306.908 Q1390.12 311.897 1386.77 314.895 Q1383.45 317.893 1378.04 317.893 Q1374.52 317.893 1371.9 315.738 L1371.9 324.662 L1375.2 324.662 L1375.2 326.911 L1369.16 326.77 L1363.12 326.911 L1363.12 324.662 L1366.42 324.662 L1366.42 300.49 Q1366.42 299.155 1365.93 298.921 Q1365.44 298.663 1363.12 298.663 L1363.12 296.415 L1371.6 296.017 L1371.6 298.382 Q1372.74 297.492 1374.59 296.766 Q1376.47 296.017 1378.86 296.017 Q1383.99 296.017 1387.05 299.061 Q1390.12 302.083 1390.12 306.908 M1383.99 306.908 Q1383.99 302.575 1382.3 300.256 Q1380.64 297.937 1378.08 297.937 Q1376.91 297.937 1375.39 298.429 Q1373.87 298.921 1372.6 300.209 Q1372.09 300.724 1371.99 300.935 Q1371.9 301.146 1371.9 301.825 L1371.9 311.991 Q1371.9 312.717 1371.95 312.928 Q1372.02 313.115 1372.42 313.583 Q1374.57 316.183 1377.5 316.183 Q1378.72 316.183 1379.82 315.668 Q1380.94 315.153 1381.9 314.099 Q1382.86 313.045 1383.42 311.194 Q1383.99 309.344 1383.99 306.908 Z\" fill=\"#000000\" fill-rule=\"nonzero\" fill-opacity=\"1\" /><path clip-path=\"url(#clip160)\" d=\"M1413.09 311.663 Q1413.09 314.38 1411.52 316.136 Q1409.97 317.893 1407.3 317.893 Q1406.18 317.893 1405.19 317.753 Q1404.21 317.612 1403.15 317.19 Q1402.12 316.769 1401.37 316.113 Q1400.65 315.434 1400.18 314.309 Q1399.71 313.185 1399.71 311.71 L1399.71 298.57 L1395.78 298.57 L1395.78 296.836 Q1397.49 296.79 1398.87 295.946 Q1400.27 295.103 1401.12 293.745 Q1401.98 292.363 1402.43 290.7 Q1402.9 289.013 1402.92 287.163 L1405.17 287.163 L1405.17 296.321 L1412.17 296.321 L1412.17 298.57 L1405.17 298.57 L1405.17 311.803 Q1405.17 315.972 1407.96 315.972 Q1409.1 315.972 1409.97 314.895 Q1410.84 313.818 1410.84 311.569 L1410.84 309.133 L1413.09 309.133 L1413.09 311.663 Z\" fill=\"#000000\" fill-rule=\"nonzero\" fill-opacity=\"1\" /><path clip-path=\"url(#clip160)\" d=\"M1427.9 317.612 L1422.28 317.472 L1416.42 317.612 L1416.42 315.364 L1419.75 315.364 L1419.75 300.537 Q1419.75 299.179 1419.26 298.921 Q1418.76 298.663 1416.56 298.663 L1416.56 296.415 L1424.92 296.017 L1424.92 315.364 L1427.9 315.364 L1427.9 317.612 M1424.48 285.851 Q1425.58 286.952 1425.58 288.498 Q1425.58 290.044 1424.48 291.145 Q1423.4 292.246 1421.86 292.246 Q1420.31 292.246 1419.21 291.145 Q1418.11 290.044 1418.11 288.498 Q1418.11 286.952 1419.21 285.851 Q1420.31 284.75 1421.86 284.75 Q1423.4 284.75 1424.48 285.851 Z\" fill=\"#000000\" fill-rule=\"nonzero\" fill-opacity=\"1\" /><path clip-path=\"url(#clip160)\" d=\"M1454.01 311.991 Q1454.01 312.178 1453.8 312.74 Q1453.62 313.279 1452.98 314.192 Q1452.38 315.106 1451.41 315.926 Q1450.48 316.722 1448.72 317.308 Q1446.99 317.893 1444.81 317.893 Q1439.35 317.893 1436.12 314.848 Q1432.91 311.803 1432.91 306.955 Q1432.91 304.8 1433.61 302.879 Q1434.32 300.935 1435.72 299.343 Q1437.15 297.75 1439.54 296.813 Q1441.95 295.876 1445.04 295.876 Q1453.38 295.876 1453.38 300.303 Q1453.38 301.732 1452.47 302.528 Q1451.58 303.324 1450.36 303.324 Q1449.24 303.324 1448.3 302.551 Q1447.39 301.755 1447.39 300.303 Q1447.39 298.944 1448.35 298.078 Q1447.08 297.797 1445.23 297.797 Q1443.97 297.797 1442.94 298.171 Q1441.93 298.546 1441.3 299.085 Q1440.66 299.6 1440.2 300.49 Q1439.75 301.357 1439.52 302.06 Q1439.31 302.762 1439.19 303.816 Q1439.07 304.847 1439.05 305.362 Q1439.05 305.877 1439.05 306.721 Q1439.05 315.972 1445.72 315.972 Q1450.1 315.972 1451.72 312.038 Q1451.91 311.546 1452.07 311.452 Q1452.23 311.335 1452.87 311.335 Q1453.22 311.335 1453.38 311.358 Q1453.57 311.358 1453.78 311.522 Q1454.01 311.686 1454.01 311.991 Z\" fill=\"#000000\" fill-rule=\"nonzero\" fill-opacity=\"1\" /><path clip-path=\"url(#clip160)\" d=\"M1457.17 305.62 Q1457.17 297.516 1460.19 290.981 Q1461.48 288.24 1463.28 285.945 Q1465.09 283.65 1466.28 282.642 Q1467.48 281.635 1467.81 281.635 Q1468.27 281.635 1468.3 282.104 Q1468.3 282.338 1467.66 282.923 Q1459.94 290.793 1459.96 305.62 Q1459.96 320.493 1467.48 328.058 Q1468.3 328.878 1468.3 329.136 Q1468.3 329.604 1467.81 329.604 Q1467.48 329.604 1466.33 328.644 Q1465.18 327.684 1463.4 325.482 Q1461.62 323.28 1460.33 320.587 Q1457.17 314.052 1457.17 305.62 Z\" fill=\"#000000\" fill-rule=\"nonzero\" fill-opacity=\"1\" /><path clip-path=\"url(#clip160)\" d=\"M1493.67 310.89 Q1493.67 312.319 1493.22 313.49 Q1492.8 314.637 1492.17 315.364 Q1491.56 316.066 1490.62 316.581 Q1489.69 317.097 1488.91 317.354 Q1488.16 317.589 1487.18 317.729 Q1486.2 317.87 1485.75 317.87 Q1485.33 317.893 1484.79 317.893 Q1481.3 317.893 1479.12 316.371 L1477.88 317.19 Q1477.18 317.682 1476.95 317.776 Q1476.73 317.893 1476.45 317.893 Q1475.84 317.893 1475.7 317.612 Q1475.59 317.354 1475.59 316.558 L1475.59 311.335 Q1475.59 310.445 1475.75 310.187 Q1475.91 309.93 1476.73 309.93 Q1477.13 309.93 1477.3 309.953 Q1477.46 309.976 1477.6 310.14 Q1477.77 310.281 1477.88 310.609 Q1478.12 311.405 1478.33 312.014 Q1478.56 312.6 1479.1 313.443 Q1479.64 314.286 1480.32 314.848 Q1481.02 315.387 1482.17 315.785 Q1483.34 316.183 1484.79 316.183 Q1485.24 316.183 1485.56 316.16 Q1485.92 316.136 1486.64 316.066 Q1487.39 315.972 1487.93 315.738 Q1488.49 315.481 1489.05 315.129 Q1489.64 314.755 1489.94 314.099 Q1490.27 313.443 1490.27 312.576 Q1490.27 311.78 1489.85 311.147 Q1489.45 310.492 1488.91 310.117 Q1488.38 309.742 1487.53 309.461 Q1486.69 309.157 1486.17 309.063 Q1485.66 308.946 1484.93 308.829 Q1481.18 308.149 1480.08 307.728 Q1478.66 307.212 1477.51 306.205 Q1475.59 304.566 1475.59 302.177 Q1475.59 300.888 1476.01 299.858 Q1476.45 298.827 1477.06 298.195 Q1477.69 297.539 1478.63 297.071 Q1479.57 296.602 1480.32 296.391 Q1481.09 296.157 1482.05 296.04 Q1483.04 295.899 1483.46 295.899 Q1483.9 295.876 1484.42 295.876 Q1487.46 295.876 1489.27 296.79 Q1491.14 295.876 1491.42 295.876 Q1491.84 295.876 1492.03 296.063 Q1492.22 296.227 1492.24 296.462 Q1492.29 296.672 1492.29 297.235 L1492.29 301.052 Q1492.29 301.942 1492.1 302.177 Q1491.94 302.411 1491.12 302.411 Q1490.41 302.411 1490.23 302.224 Q1490.06 302.036 1490.02 301.451 Q1489.66 297.422 1484.37 297.422 Q1484.04 297.422 1483.76 297.445 Q1483.5 297.445 1482.89 297.516 Q1482.31 297.562 1481.84 297.656 Q1481.4 297.75 1480.81 297.984 Q1480.25 298.195 1479.87 298.499 Q1479.5 298.804 1479.24 299.296 Q1478.98 299.788 1478.98 300.397 Q1478.98 300.865 1479.17 301.263 Q1479.38 301.661 1479.62 301.942 Q1479.87 302.224 1480.37 302.481 Q1480.86 302.715 1481.18 302.856 Q1481.54 302.996 1482.15 303.16 Q1482.75 303.301 1483.01 303.348 Q1483.29 303.395 1483.88 303.512 Q1487.02 304.05 1488.35 304.449 Q1489.71 304.847 1491.02 305.807 Q1493.67 307.892 1493.67 310.89 Z\" fill=\"#000000\" fill-rule=\"nonzero\" fill-opacity=\"1\" /><path clip-path=\"url(#clip160)\" d=\"M1524.3 317.612 L1518.23 317.472 L1512.19 317.612 L1512.19 315.364 L1515.52 315.364 L1515.52 302.411 Q1515.52 299.811 1514.84 298.78 Q1514.18 297.75 1512.87 297.75 Q1511.67 297.75 1510.46 298.218 Q1509.26 298.687 1508.16 299.577 Q1507.08 300.467 1506.4 301.966 Q1505.73 303.465 1505.73 305.339 L1505.73 315.364 L1509.03 315.364 L1509.03 317.612 L1502.98 317.472 L1496.94 317.612 L1496.94 315.364 L1500.24 315.364 L1500.24 288.826 Q1500.24 287.467 1499.75 287.21 Q1499.26 286.952 1496.94 286.952 L1496.94 284.704 L1505.44 284.329 L1505.44 300.631 L1505.49 300.631 Q1505.96 299.834 1506.57 299.132 Q1507.2 298.406 1508.16 297.656 Q1509.14 296.907 1510.55 296.462 Q1511.96 296.017 1513.59 296.017 Q1517.32 296.017 1519.15 297.633 Q1520.97 299.249 1520.97 302.926 L1520.97 315.364 L1524.3 315.364 L1524.3 317.612 Z\" fill=\"#000000\" fill-rule=\"nonzero\" fill-opacity=\"1\" /><path clip-path=\"url(#clip160)\" d=\"M1553.1 317.612 L1544.6 317.893 L1544.6 314.169 Q1542.42 317.893 1537.69 317.893 Q1535.74 317.893 1534.29 317.635 Q1532.86 317.378 1531.6 316.745 Q1530.36 316.09 1529.7 314.825 Q1529.05 313.56 1529.05 311.71 L1529.05 300.537 Q1529.05 299.179 1528.55 298.921 Q1528.06 298.663 1525.74 298.663 L1525.74 296.415 L1534.53 296.017 L1534.53 312.389 Q1534.53 313.537 1534.6 314.122 Q1534.69 314.684 1535.04 315.246 Q1535.42 315.785 1536.21 315.996 Q1537.01 316.183 1538.37 316.183 Q1541.01 316.183 1542.65 314.403 Q1544.32 312.623 1544.32 309.695 L1544.32 300.537 Q1544.32 299.179 1543.8 298.921 Q1543.31 298.663 1540.99 298.663 L1540.99 296.415 L1549.77 296.017 L1549.77 313.49 Q1549.77 314.848 1550.27 315.106 Q1550.78 315.364 1553.1 315.364 L1553.1 317.612 Z\" fill=\"#000000\" fill-rule=\"nonzero\" fill-opacity=\"1\" /><path clip-path=\"url(#clip160)\" d=\"M1575.41 288.217 Q1575.41 289.599 1574.5 290.395 Q1573.61 291.192 1572.44 291.192 Q1571.36 291.192 1570.42 290.419 Q1569.51 289.646 1569.51 288.217 Q1569.51 286.671 1570.61 285.851 Q1570.28 285.758 1569.79 285.758 Q1569.32 285.758 1568.81 285.851 Q1568.32 285.921 1567.59 286.273 Q1566.86 286.601 1566.3 287.186 Q1565.76 287.748 1565.36 288.873 Q1564.97 289.974 1564.97 291.473 L1564.97 296.321 L1570.75 296.321 L1570.75 298.57 L1565.25 298.57 L1565.25 315.364 L1569.42 315.364 L1569.42 317.612 Q1567.68 317.472 1562.79 317.472 L1556.74 317.612 L1556.74 315.364 L1560.07 315.364 L1560.07 298.57 L1556.46 298.57 L1556.46 296.321 L1560.07 296.321 L1560.07 291.473 Q1560.07 289.529 1560.94 288.053 Q1561.8 286.554 1563.26 285.711 Q1564.71 284.867 1566.39 284.446 Q1568.1 284.024 1569.95 284.024 Q1572.58 284.024 1573.98 285.289 Q1575.41 286.53 1575.41 288.217 Z\" fill=\"#000000\" fill-rule=\"nonzero\" fill-opacity=\"1\" /><path clip-path=\"url(#clip160)\" d=\"M1597.69 288.217 Q1597.69 289.599 1596.78 290.395 Q1595.89 291.192 1594.72 291.192 Q1593.64 291.192 1592.7 290.419 Q1591.79 289.646 1591.79 288.217 Q1591.79 286.671 1592.89 285.851 Q1592.56 285.758 1592.07 285.758 Q1591.6 285.758 1591.09 285.851 Q1590.59 285.921 1589.87 286.273 Q1589.14 286.601 1588.58 287.186 Q1588.04 287.748 1587.64 288.873 Q1587.24 289.974 1587.24 291.473 L1587.24 296.321 L1593.03 296.321 L1593.03 298.57 L1587.53 298.57 L1587.53 315.364 L1591.69 315.364 L1591.69 317.612 Q1589.96 317.472 1585.07 317.472 L1579.02 317.612 L1579.02 315.364 L1582.35 315.364 L1582.35 298.57 L1578.74 298.57 L1578.74 296.321 L1582.35 296.321 L1582.35 291.473 Q1582.35 289.529 1583.22 288.053 Q1584.08 286.554 1585.53 285.711 Q1586.99 284.867 1588.67 284.446 Q1590.38 284.024 1592.23 284.024 Q1594.86 284.024 1596.26 285.289 Q1597.69 286.53 1597.69 288.217 Z\" fill=\"#000000\" fill-rule=\"nonzero\" fill-opacity=\"1\" /><path clip-path=\"url(#clip160)\" d=\"M1613.58 317.612 L1607.67 317.472 L1601.77 317.612 L1601.77 315.364 L1605.1 315.364 L1605.1 288.826 Q1605.1 287.467 1604.58 287.21 Q1604.09 286.952 1601.77 286.952 L1601.77 284.704 L1610.27 284.329 L1610.27 315.364 L1613.58 315.364 L1613.58 317.612 Z\" fill=\"#000000\" fill-rule=\"nonzero\" fill-opacity=\"1\" /><path clip-path=\"url(#clip160)\" d=\"M1639.65 311.991 Q1639.65 312.295 1639.39 312.928 Q1639.13 313.537 1638.41 314.427 Q1637.71 315.293 1636.68 316.066 Q1635.67 316.816 1633.89 317.354 Q1632.13 317.893 1630 317.893 Q1624.28 317.893 1620.89 314.801 Q1617.49 311.71 1617.49 306.814 Q1617.49 304.542 1618.27 302.575 Q1619.06 300.607 1620.51 299.108 Q1621.97 297.609 1624.24 296.743 Q1626.51 295.876 1629.32 295.876 Q1634.29 295.876 1636.96 298.476 Q1638.06 299.577 1638.69 301.17 Q1639.35 302.739 1639.49 303.793 Q1639.65 304.847 1639.65 305.854 Q1639.65 306.744 1639.32 306.955 Q1639.02 307.166 1638.1 307.166 L1623.63 307.166 Q1623.63 307.939 1623.63 308.454 Q1623.65 308.946 1623.79 309.953 Q1623.93 310.96 1624.17 311.686 Q1624.4 312.389 1624.89 313.255 Q1625.41 314.122 1626.11 314.684 Q1626.81 315.223 1627.92 315.598 Q1629.02 315.972 1630.42 315.972 Q1632.76 315.972 1634.64 314.918 Q1636.53 313.864 1637.28 312.155 Q1637.52 311.522 1637.71 311.335 Q1637.92 311.147 1638.5 311.147 Q1639.65 311.147 1639.65 311.991 M1635.08 305.573 Q1634.87 297.609 1629.32 297.609 Q1628.1 297.609 1626.86 298.195 Q1625.62 298.78 1624.78 300.092 Q1624.31 300.842 1624.05 301.919 Q1623.79 302.973 1623.75 303.582 Q1623.7 304.168 1623.63 305.573 L1635.08 305.573 Z\" fill=\"#000000\" fill-rule=\"nonzero\" fill-opacity=\"1\" /><path clip-path=\"url(#clip160)\" d=\"M1669.52 317.612 L1660.74 317.893 L1660.74 315.551 Q1657.84 317.893 1654.02 317.893 Q1648.77 317.893 1645.63 314.872 Q1642.52 311.827 1642.52 307.002 Q1642.52 301.989 1645.87 299.015 Q1649.24 296.017 1654.56 296.017 Q1658.23 296.017 1661.02 298.195 L1661.02 288.826 Q1661.02 287.467 1660.53 287.21 Q1660.04 286.952 1657.72 286.952 L1657.72 284.704 L1666.22 284.329 L1666.22 313.49 Q1666.22 314.848 1666.71 315.106 Q1667.21 315.364 1669.52 315.364 L1669.52 317.612 M1660.74 312.67 L1660.74 300.678 Q1659.8 299.46 1658.35 298.616 Q1656.9 297.75 1655.03 297.75 Q1653.64 297.75 1652.24 298.335 Q1650.83 298.898 1649.9 300.256 Q1649.31 301.123 1649.01 302.411 Q1648.72 303.699 1648.68 304.566 Q1648.65 305.432 1648.65 307.002 Q1648.65 307.775 1648.65 308.22 Q1648.68 308.641 1648.72 309.508 Q1648.77 310.351 1648.87 310.89 Q1648.96 311.429 1649.17 312.201 Q1649.38 312.974 1649.66 313.466 Q1649.94 313.958 1650.39 314.544 Q1650.83 315.106 1651.4 315.434 Q1651.98 315.738 1652.75 315.972 Q1653.55 316.183 1654.51 316.183 Q1658.19 316.183 1660.74 312.67 Z\" fill=\"#000000\" fill-rule=\"nonzero\" fill-opacity=\"1\" /><path clip-path=\"url(#clip160)\" d=\"M1674.37 330.901 Q1674.37 330.294 1674.42 330.114 Q1674.49 329.934 1674.75 329.655 L1681.19 322.474 Q1684.72 318.506 1684.72 315.046 Q1684.72 312.8 1683.54 311.193 Q1682.37 309.587 1680.23 309.587 Q1678.75 309.587 1677.5 310.488 Q1676.26 311.39 1675.68 312.997 Q1675.78 312.964 1676.13 312.964 Q1676.96 312.964 1677.42 313.489 Q1677.9 314.014 1677.9 314.719 Q1677.9 315.62 1677.31 316.063 Q1676.73 316.489 1676.16 316.489 Q1675.93 316.489 1675.62 316.44 Q1675.32 316.391 1674.85 315.932 Q1674.37 315.456 1674.37 314.62 Q1674.37 312.276 1676.14 310.406 Q1677.93 308.537 1680.65 308.537 Q1683.73 308.537 1685.75 310.374 Q1687.78 312.194 1687.78 315.046 Q1687.78 316.047 1687.47 316.965 Q1687.18 317.867 1686.77 318.572 Q1686.37 319.277 1685.29 320.408 Q1684.21 321.539 1683.34 322.343 Q1682.47 323.146 1680.52 324.851 L1676.96 328.311 L1683.01 328.311 Q1685.96 328.311 1686.19 328.048 Q1686.52 327.573 1686.93 325.064 L1687.78 325.064 L1686.83 330.901 L1674.37 330.901 Z\" fill=\"#000000\" fill-rule=\"nonzero\" fill-opacity=\"1\" /><path clip-path=\"url(#clip160)\" d=\"M1692.77 305.62 Q1692.77 297.516 1695.79 290.981 Q1697.08 288.24 1698.88 285.945 Q1700.69 283.65 1701.88 282.642 Q1703.08 281.635 1703.4 281.635 Q1703.87 281.635 1703.9 282.104 Q1703.9 282.338 1703.26 282.923 Q1695.53 290.793 1695.56 305.62 Q1695.56 320.493 1703.08 328.058 Q1703.9 328.878 1703.9 329.136 Q1703.9 329.604 1703.4 329.604 Q1703.08 329.604 1701.93 328.644 Q1700.78 327.684 1699 325.482 Q1697.22 323.28 1695.93 320.587 Q1692.77 314.052 1692.77 305.62 Z\" fill=\"#000000\" fill-rule=\"nonzero\" fill-opacity=\"1\" /><path clip-path=\"url(#clip160)\" d=\"M1726.16 300.537 Q1726.16 301.849 1725.5 302.551 Q1724.85 303.231 1723.96 303.231 Q1723.23 303.231 1722.83 302.809 Q1722.46 302.387 1722.46 301.825 Q1722.46 301.006 1723.11 300.35 Q1723.79 299.694 1724.78 299.67 Q1724.45 298.804 1723.58 298.289 Q1722.72 297.75 1721.94 297.609 Q1721.19 297.469 1720.44 297.469 Q1718.97 297.469 1717.84 297.937 Q1716.72 298.406 1716.16 299.132 Q1715.6 299.834 1715.34 300.514 Q1715.08 301.193 1715.08 301.778 Q1715.08 302.294 1715.2 302.715 Q1715.34 303.114 1715.67 303.418 Q1715.99 303.699 1716.23 303.887 Q1716.49 304.074 1717.05 304.238 Q1717.61 304.402 1717.84 304.472 Q1718.08 304.519 1718.73 304.659 Q1720.09 304.941 1720.7 305.104 Q1721.31 305.245 1722.11 305.643 Q1722.93 306.041 1723.54 306.674 Q1725.01 308.149 1725.01 310.187 Q1725.01 310.937 1724.75 311.85 Q1724.52 312.764 1723.84 313.911 Q1723.16 315.059 1722.13 315.972 Q1721.1 316.886 1719.32 317.518 Q1717.56 318.151 1715.36 318.151 Q1712.29 318.151 1710.4 316.863 Q1708.5 315.551 1708.5 313.49 Q1708.5 311.991 1709.32 311.171 Q1710.14 310.328 1711.19 310.328 Q1711.99 310.328 1712.48 310.773 Q1712.97 311.194 1712.97 311.991 Q1712.97 313.068 1712.11 313.888 Q1711.24 314.708 1709.95 314.544 Q1711.05 317.073 1715.41 317.073 Q1717.05 317.073 1718.31 316.652 Q1719.6 316.207 1720.3 315.598 Q1721.03 314.965 1721.5 314.192 Q1721.97 313.419 1722.11 312.834 Q1722.27 312.248 1722.27 311.803 Q1722.27 311.03 1721.97 310.445 Q1721.66 309.859 1721.24 309.531 Q1720.84 309.18 1720.07 308.899 Q1719.32 308.594 1718.78 308.477 Q1718.24 308.36 1717.28 308.173 Q1716.84 308.079 1716.56 308.032 Q1716.27 307.962 1715.69 307.775 Q1715.13 307.564 1714.73 307.353 Q1714.35 307.142 1713.86 306.767 Q1713.37 306.393 1713.07 305.948 Q1712.76 305.503 1712.55 304.847 Q1712.34 304.191 1712.34 303.418 Q1712.34 302.715 1712.55 301.872 Q1712.78 301.029 1713.37 300.045 Q1713.98 299.061 1714.85 298.265 Q1715.71 297.469 1717.16 296.953 Q1718.64 296.415 1720.44 296.415 Q1723.07 296.415 1724.61 297.633 Q1726.16 298.827 1726.16 300.537 Z\" fill=\"#000000\" fill-rule=\"nonzero\" fill-opacity=\"1\" /><path clip-path=\"url(#clip160)\" d=\"M1751.79 304.074 Q1751.79 307.494 1750.06 310.796 Q1748.35 314.099 1745.66 316.136 Q1742.96 318.151 1740.22 318.151 Q1738.58 318.151 1737.48 317.261 Q1736.41 316.347 1735.82 315.059 Q1735.37 316.652 1734.41 320.47 Q1733.45 324.287 1733.45 324.662 Q1733.45 324.873 1733.5 324.967 Q1733.55 325.06 1733.76 325.178 Q1733.97 325.318 1734.48 325.365 Q1735 325.435 1735.87 325.435 Q1736.31 325.435 1736.48 325.435 Q1736.66 325.459 1736.83 325.576 Q1737.01 325.693 1737.01 325.95 Q1737.01 326.911 1736.15 326.911 Q1735.37 326.911 1733.78 326.841 Q1732.19 326.77 1731.39 326.77 Q1730.71 326.77 1729.35 326.841 Q1728 326.911 1727.36 326.911 Q1726.73 326.911 1726.73 326.349 Q1726.73 326.021 1726.83 325.81 Q1726.9 325.623 1727.08 325.529 Q1727.27 325.459 1727.43 325.435 Q1727.57 325.435 1727.86 325.435 Q1728.93 325.435 1729.4 325.248 Q1729.87 325.084 1730.03 324.732 Q1730.22 324.405 1730.43 323.468 L1735.82 302.106 Q1736.15 300.678 1736.15 299.67 Q1736.15 298.406 1735.75 297.937 Q1735.35 297.469 1734.65 297.469 Q1733.43 297.469 1732.63 298.921 Q1731.84 300.373 1731.16 303.184 Q1730.95 303.957 1730.81 304.121 Q1730.69 304.285 1730.34 304.285 Q1729.75 304.261 1729.75 303.793 Q1729.75 303.676 1729.94 302.926 Q1730.13 302.153 1730.48 301.029 Q1730.85 299.881 1731.25 299.155 Q1731.49 298.663 1731.7 298.335 Q1731.91 298.007 1732.33 297.492 Q1732.77 296.977 1733.41 296.696 Q1734.04 296.415 1734.81 296.415 Q1736.31 296.415 1737.55 297.305 Q1738.79 298.195 1739.12 299.998 Q1740.46 298.429 1742.1 297.422 Q1743.74 296.415 1745.4 296.415 Q1748.16 296.415 1749.97 298.57 Q1751.79 300.701 1751.79 304.074 M1748.33 301.966 Q1748.33 299.834 1747.51 298.663 Q1746.71 297.469 1745.26 297.469 Q1743.46 297.469 1741.37 299.296 Q1739.31 301.029 1738.89 302.645 L1736.52 312.038 L1736.38 312.81 Q1736.38 312.951 1736.45 313.373 Q1736.55 313.771 1736.8 314.427 Q1737.08 315.082 1737.46 315.668 Q1737.86 316.23 1738.56 316.652 Q1739.29 317.073 1740.18 317.073 Q1741.6 317.073 1743.15 315.809 Q1744.72 314.544 1745.89 312.155 Q1746.62 310.609 1747.46 307.283 Q1748.33 303.933 1748.33 301.966 Z\" fill=\"#000000\" fill-rule=\"nonzero\" fill-opacity=\"1\" /><path clip-path=\"url(#clip160)\" d=\"M1773.04 299.53 Q1773.04 300.771 1772.22 301.568 Q1771.42 302.364 1770.39 302.364 Q1769.5 302.364 1769.03 301.849 Q1768.56 301.333 1768.56 300.678 Q1768.56 299.741 1769.29 298.968 Q1770.01 298.195 1771.07 298.031 Q1770.29 297.469 1769.05 297.469 Q1767.02 297.469 1765.21 299.038 Q1764.42 299.764 1763.55 301.099 Q1762.68 302.411 1762.52 302.973 L1761 309.227 Q1760.86 309.93 1759.99 313.302 Q1759.15 316.652 1759.08 316.792 Q1758.84 317.448 1758.33 317.799 Q1757.81 318.151 1757.3 318.151 Q1756.71 318.151 1756.31 317.799 Q1755.91 317.448 1755.91 316.839 Q1755.91 316.745 1755.98 316.394 Q1756.05 316.043 1756.17 315.551 Q1756.29 315.059 1756.33 314.778 L1759.12 303.699 Q1759.64 301.685 1759.75 301.052 Q1759.9 300.397 1759.9 299.67 Q1759.9 298.406 1759.5 297.937 Q1759.1 297.469 1758.4 297.469 Q1757.18 297.469 1756.38 298.921 Q1755.59 300.373 1754.91 303.184 Q1754.7 303.957 1754.55 304.121 Q1754.44 304.285 1754.09 304.285 Q1753.5 304.261 1753.5 303.793 Q1753.5 303.676 1753.69 302.926 Q1753.88 302.153 1754.23 301.029 Q1754.6 299.881 1755 299.155 Q1755.23 298.663 1755.44 298.335 Q1755.66 298.007 1756.08 297.492 Q1756.5 296.977 1757.13 296.696 Q1757.76 296.415 1758.54 296.415 Q1760.22 296.415 1761.42 297.445 Q1762.64 298.476 1762.92 300.092 Q1763.5 299.249 1764.23 298.523 Q1764.95 297.773 1766.29 297.094 Q1767.62 296.415 1769.05 296.415 Q1770.83 296.415 1771.93 297.328 Q1773.04 298.218 1773.04 299.53 Z\" fill=\"#000000\" fill-rule=\"nonzero\" fill-opacity=\"1\" /><path clip-path=\"url(#clip160)\" d=\"M1797.2 304.519 Q1797.2 307.072 1796.07 309.602 Q1794.95 312.108 1793.14 313.982 Q1791.36 315.832 1789.02 317.003 Q1786.68 318.151 1784.34 318.151 Q1780.99 318.151 1778.81 315.879 Q1776.65 313.583 1776.65 310.023 Q1776.65 306.697 1778.5 303.535 Q1780.38 300.35 1783.38 298.382 Q1786.37 296.415 1789.51 296.415 Q1792.82 296.415 1794.99 298.64 Q1797.2 300.865 1797.2 304.519 M1793.68 302.645 Q1793.68 300.373 1792.58 298.921 Q1791.48 297.469 1789.47 297.469 Q1788.88 297.469 1788.2 297.656 Q1787.52 297.82 1786.63 298.265 Q1785.77 298.71 1784.78 299.647 Q1783.82 300.561 1782.98 301.872 Q1781.88 303.605 1781.03 306.791 Q1780.21 309.953 1780.21 311.85 Q1780.21 314.473 1781.43 315.785 Q1782.65 317.073 1784.38 317.073 Q1786.07 317.073 1787.85 315.902 Q1789.65 314.708 1790.9 312.67 Q1792.14 310.562 1792.91 307.47 Q1793.68 304.355 1793.68 302.645 Z\" fill=\"#000000\" fill-rule=\"nonzero\" fill-opacity=\"1\" /><path clip-path=\"url(#clip160)\" d=\"M1812.58 297.469 Q1812.58 298.125 1812.28 298.289 Q1811.97 298.429 1811.13 298.429 L1806.63 298.429 L1803.07 312.576 Q1802.79 313.818 1802.79 314.872 Q1802.79 316.043 1803.14 316.558 Q1803.52 317.073 1804.29 317.073 Q1805.81 317.073 1807.45 315.691 Q1809.12 314.309 1810.52 310.937 Q1810.71 310.492 1810.8 310.398 Q1810.92 310.281 1811.22 310.281 Q1811.81 310.281 1811.81 310.749 Q1811.81 310.913 1811.48 311.663 Q1811.18 312.412 1810.5 313.513 Q1809.84 314.614 1808.98 315.645 Q1808.13 316.675 1806.84 317.425 Q1805.56 318.151 1804.17 318.151 Q1802.23 318.151 1800.99 316.909 Q1799.77 315.668 1799.77 313.724 Q1799.77 313.092 1800.26 311.077 Q1800.75 309.039 1803.42 298.429 L1799.19 298.429 Q1798.6 298.429 1798.37 298.406 Q1798.15 298.382 1797.99 298.265 Q1797.85 298.125 1797.85 297.844 Q1797.85 297.398 1798.04 297.211 Q1798.23 297 1798.46 296.977 Q1798.72 296.93 1799.3 296.93 L1803.8 296.93 L1805.67 289.318 Q1805.86 288.568 1806.33 288.147 Q1806.82 287.702 1807.1 287.655 Q1807.38 287.584 1807.59 287.584 Q1808.23 287.584 1808.6 287.936 Q1808.98 288.264 1808.98 288.873 Q1808.98 289.201 1807.01 296.93 L1811.22 296.93 Q1811.76 296.93 1811.97 296.953 Q1812.21 296.977 1812.4 297.094 Q1812.58 297.211 1812.58 297.469 Z\" fill=\"#000000\" fill-rule=\"nonzero\" fill-opacity=\"1\" /><path clip-path=\"url(#clip160)\" d=\"M1816.33 329.136 Q1816.33 328.902 1816.94 328.316 Q1824.67 320.446 1824.67 305.62 Q1824.67 290.747 1817.25 283.228 Q1816.33 282.361 1816.33 282.104 Q1816.33 281.635 1816.8 281.635 Q1817.13 281.635 1818.28 282.596 Q1819.45 283.556 1821.21 285.758 Q1822.99 287.959 1824.3 290.653 Q1827.46 297.188 1827.46 305.62 Q1827.46 313.724 1824.44 320.259 Q1823.15 322.999 1821.35 325.295 Q1819.54 327.59 1818.35 328.597 Q1817.15 329.604 1816.8 329.604 Q1816.33 329.604 1816.33 329.136 Z\" fill=\"#000000\" fill-rule=\"nonzero\" fill-opacity=\"1\" /><path clip-path=\"url(#clip160)\" d=\"M1834.75 329.136 Q1834.75 328.902 1835.36 328.316 Q1843.09 320.446 1843.09 305.62 Q1843.09 290.747 1835.66 283.228 Q1834.75 282.361 1834.75 282.104 Q1834.75 281.635 1835.22 281.635 Q1835.55 281.635 1836.69 282.596 Q1837.86 283.556 1839.62 285.758 Q1841.4 287.959 1842.71 290.653 Q1845.88 297.188 1845.88 305.62 Q1845.88 313.724 1842.85 320.259 Q1841.57 322.999 1839.76 325.295 Q1837.96 327.59 1836.76 328.597 Q1835.57 329.604 1835.22 329.604 Q1834.75 329.604 1834.75 329.136 Z\" fill=\"#000000\" fill-rule=\"nonzero\" fill-opacity=\"1\" /><path clip-path=\"url(#clip160)\" d=\"M1851.25 328.503 L1855.27 328.503 L1855.27 282.736 L1851.25 282.736 L1851.25 281.635 L1858.48 281.635 L1858.48 329.604 L1851.25 329.604 L1851.25 328.503 Z\" fill=\"#000000\" fill-rule=\"nonzero\" fill-opacity=\"1\" /></svg>\n"
      ]
     },
     "execution_count": 29,
     "metadata": {},
     "output_type": "execute_result"
    }
   ],
   "source": [
    "plot(yrange=(1.5, 4.5),\n",
    "     xlabel=\"Sequence length\",\n",
    "     xrange=(5, 50),\n",
    "     xticks=([5, 10, 25, 50], [5, 10, 25, 50]),\n",
    "     xscale=:log2,\n",
    "     legend=:outertop,\n",
    "     dpi=500)\n",
    "plot_LPS_distribution_matrix!(shuf_dist, trypticlpslabel(shuf(sprotall)))\n",
    "plot_LPS_distribution_matrix!(sprot_dist, trypticlpslabel(sprotall))\n",
    "plot_LPS_distribution_matrix!(hardmaskedsprot_dist, trypticlpslabel(mask(sprotall)))\n",
    "plot_LCS_distribution_matrix!(lcs_dist, trypticlcslabel(sprotall, shuf(sprotall)))\n",
    "plot_LCS_distribution_matrix!(lcs2_dist, trypticlcslabel(sprotall, shuf2(sprotall)))\n",
    "savefig(\"figures/fig7_trypticpeptides.png\")\n",
    "plot!()"
   ]
  },
  {
   "cell_type": "markdown",
   "id": "6fc341b5",
   "metadata": {},
   "source": [
    "# A Better Benchmark?"
   ]
  }
 ],
 "metadata": {
  "kernelspec": {
   "display_name": "Julia 12 Threads 1.8.5",
   "language": "julia",
   "name": "julia-12-threads-1.8"
  },
  "language_info": {
   "file_extension": ".jl",
   "mimetype": "application/julia",
   "name": "julia",
   "version": "1.8.5"
  }
 },
 "nbformat": 4,
 "nbformat_minor": 5
}
