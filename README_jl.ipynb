{
 "cells": [
  {
   "cell_type": "markdown",
   "id": "4afbd229",
   "metadata": {},
   "source": [
    "# Figure 1\n",
    "## Methods\n",
    "* wget\n",
    "* BLAST\n",
    "* BioAlignments.jl\n",
    "* WASITAMATchISAW.jl\n",
    "\n",
    "### a) Download Swiss-Prot and SCOP2\n",
    "* Download Swiss-Prot\n",
    "    * https://www.uniprot.org/help/downloads\n",
    "    * unzip the .gz archive.\n",
    "* Download SCOP2 superfamily representatives\n",
    "    * https://scop.mrc-lmb.cam.ac.uk/download\n",
    "    * right-click and \"Save Page as...\"\n",
    "    \n",
    "Both files should be in the FASTA format, e.g.:\n",
    "\n",
    "`/home/georgeglidden/Downloads/scop_sf_represeq_lib_latest.fa`\n",
    "\n",
    "`/home/georgeglidden/Downloads/uniprot_sprot.fasta`\n",
    "\n",
    "Create a data folder for the FASTA files, e.g.:\n",
    "\n",
    "`cd /home/georgeglidden/Desktop/WASITAMATchISAW/`\n",
    "\n",
    "`mkdir data/`\n",
    "\n",
    "`mv /home/georgeglidden/Downloads/scop_sf_represent_lib_latest.fa data/scop2sf.fa`\n",
    "\n",
    "`mv /home/georgeglidden/Downloads/uniprot_sprot.fasta data/sprot.fa`\n",
    "\n",
    "Eventually, the outputs directory will also be needed:\n",
    "\n",
    "`mkdir outputs/`"
   ]
  },
  {
   "cell_type": "markdown",
   "id": "b8f617eb",
   "metadata": {},
   "source": [
    "### b) Register Swiss-Prot to SCOP2 superfamily representatives"
   ]
  },
  {
   "cell_type": "markdown",
   "id": "57d07615",
   "metadata": {},
   "source": [
    "### c) Restrict Swiss-Prot by SCOP2 superfamily pctid"
   ]
  },
  {
   "cell_type": "markdown",
   "id": "26905eab",
   "metadata": {},
   "source": [
    "### d) Plot lengths distribution "
   ]
  },
  {
   "cell_type": "markdown",
   "id": "fcd6601a",
   "metadata": {},
   "source": [
    "# Figure 2\n",
    "## Methods\n",
    "* BLAST\n",
    "* EASEL\n",
    "    * installation\n",
    "* disjointpermutation.jl\n",
    "\n",
    "### a) Generate Swiss-Prot variants\n",
    "- random: find a permutation $\\rho$ of sprot so that sequence $i$ and sequence $\\rho(i)$ are from different SCOP2 superfamilies\n",
    "- shuf$_{\\text{all}}$, shuf: \n",
    "- rev$_{\\text{all}}$, rev: \n",
    "- shufrev$_{\\text{all}}$, shufrev: esl-shuffle\n",
    "\n",
    "### b) Run paired Swiss-Prot alignments\n",
    "- using BLAST for pairwise alignment"
   ]
  },
  {
   "cell_type": "markdown",
   "id": "2a692914",
   "metadata": {},
   "source": [
    "# Figure 3\n",
    "## Methods\n",
    "* BLAST\n",
    "* tantan\n",
    "    * installation\n",
    "* mask.jl\n",
    "\n",
    "### a) Generate soft masks with tantan\n",
    "\n",
    "### b) Run hard-masked paired alignments"
   ]
  },
  {
   "cell_type": "markdown",
   "id": "cf288052",
   "metadata": {},
   "source": [
    "# Figure 4\n",
    "## Methods\n",
    "* BioAlignments\n",
    "* Score matrix distributions\n",
    "    * parsing\n",
    "    * talk to Jack\n",
    "* Sequence mutation (BLOSUM.jl)\n",
    "* Wilcoxon (wilcoxon.jl)\n",
    "\n",
    "### a) Generate BLOSUM90 variants\n",
    "### b) Generate mutations of Swiss-Prot variants\n",
    "### c) Run paired alignments"
   ]
  },
  {
   "cell_type": "markdown",
   "id": "011324b2",
   "metadata": {},
   "source": [
    "# Figure 5\n",
    "## Methods\n",
    "* manacher.jl\n",
    "* BioAlignments\n",
    "    * Configuration for exact alignment\n",
    "\n",
    "### a) Splice repetitive regions from Swiss-Prot using tantan masks\n",
    "### b) Run exact paired alignments and Manacher's algorithm"
   ]
  },
  {
   "cell_type": "markdown",
   "id": "763386be",
   "metadata": {},
   "source": [
    "# Figure 6\n",
    "## Methods\n",
    "* manacher.jl\n",
    "* BioAlignments\n",
    "* EASEL\n",
    "* chromosome.jl\n",
    "\n",
    "### a) Download chromosome 22 and NCBI annotations for protein-coding, non-coding RNA, and pseudo-genes\n",
    "### b) Partition chromosome 22 by NCBI annotations.\n",
    "### c) Generate shuffled variant of chromosome 22\n",
    "### d) Run exact paired alignments and Manacher's algorithm."
   ]
  },
  {
   "cell_type": "markdown",
   "id": "b9726694",
   "metadata": {},
   "source": [
    "# Figure 7\n",
    "## Methods\n",
    "* manacher.jl\n",
    "* BioAlignments\n",
    "* trypsin.jl\n",
    "\n",
    "### a) Extract tryptic peptides from Swiss-Prot, masked Swiss-Prot, shuffled variant.\n",
    "### b) Generate shuffled variant of tryptic peptides\n",
    "### b) Run exact paired alignments and Manacher's algorithm"
   ]
  }
 ],
 "metadata": {
  "kernelspec": {
   "display_name": "Julia 1.8.5",
   "language": "julia",
   "name": "julia-1.8"
  },
  "language_info": {
   "file_extension": ".jl",
   "mimetype": "application/julia",
   "name": "julia",
   "version": "1.8.5"
  }
 },
 "nbformat": 4,
 "nbformat_minor": 5
}
