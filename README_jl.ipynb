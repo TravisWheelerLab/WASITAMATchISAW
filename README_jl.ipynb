{
 "cells": [
  {
   "cell_type": "markdown",
   "id": "4afbd229",
   "metadata": {},
   "source": [
    "# Figure 1\n",
    "## Methods\n",
    "* wget\n",
    "* BLAST\n",
    "* BioAlignments.jl\n",
    "* WASITAMATchISAW.jl\n",
    "\n",
    "### a) Download Swiss-Prot and SCOP2\n",
    "* Download Swiss-Prot\n",
    "    * https://www.uniprot.org/help/downloads\n",
    "    * unzip the .gz archive.\n",
    "* Download SCOP2 superfamily representatives\n",
    "    * https://scop.mrc-lmb.cam.ac.uk/download\n",
    "    * right-click and \"Save Page as...\"\n",
    "    \n",
    "Both files should be in the FASTA format, e.g.:\n",
    "\n",
    "`/home/georgeglidden/Downloads/scop_sf_represeq_lib_latest.fa`\n",
    "\n",
    "`/home/georgeglidden/Downloads/uniprot_sprot.fasta`\n",
    "\n",
    "Create a data folder for the FASTA files, e.g.:\n",
    "\n",
    "`cd /home/georgeglidden/Desktop/WASITAMATchISAW/`\n",
    "\n",
    "`mkdir data/`\n",
    "\n",
    "`mv /home/georgeglidden/Downloads/scop_sf_represent_lib_latest.fa data/scop2sf.fa`\n",
    "\n",
    "`mv /home/georgeglidden/Downloads/uniprot_sprot.fasta data/sprot.fa`\n",
    "\n",
    "Eventually, the outputs directory will also be needed:\n",
    "\n",
    "`mkdir outputs`"
   ]
  },
  {
   "cell_type": "markdown",
   "id": "b8f617eb",
   "metadata": {},
   "source": [
    "### b) Register Swiss-Prot to SCOP2 superfamily representatives"
   ]
  },
  {
   "cell_type": "markdown",
   "id": "57d07615",
   "metadata": {},
   "source": [
    "### c) Restrict Swiss-Prot by SCOP2 superfamily pctid"
   ]
  },
  {
   "cell_type": "code",
   "execution_count": null,
   "id": "747aac0b",
   "metadata": {},
   "outputs": [],
   "source": [
    "# load Swiss-Prot / SCOP2 alignment output into a DataFrame"
   ]
  },
  {
   "cell_type": "code",
   "execution_count": 8,
   "id": "24fee427",
   "metadata": {},
   "outputs": [],
   "source": [
    "# calculate percent ID for each alignment\n",
    "# restrict Swiss-Prot to the sequences with greater than 95% percent identity to a SCOP2 superfamily representative sequence"
   ]
  },
  {
   "cell_type": "markdown",
   "id": "26905eab",
   "metadata": {},
   "source": [
    "### d) Plot lengths distribution "
   ]
  },
  {
   "cell_type": "code",
   "execution_count": 10,
   "id": "3ebbe908",
   "metadata": {},
   "outputs": [],
   "source": [
    "# calculate lengths distribution for Swiss-Prot and Swiss-Prot |{>=95} SCOP2\n",
    "# save to CSVs"
   ]
  }
 ],
 "metadata": {
  "kernelspec": {
   "display_name": "Julia 1.8.5",
   "language": "julia",
   "name": "julia-1.8"
  },
  "language_info": {
   "file_extension": ".jl",
   "mimetype": "application/julia",
   "name": "julia",
   "version": "1.8.5"
  }
 },
 "nbformat": 4,
 "nbformat_minor": 5
}
