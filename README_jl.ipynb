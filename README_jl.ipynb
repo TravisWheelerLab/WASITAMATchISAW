{
 "cells": [
  {
   "cell_type": "markdown",
   "id": "3756ceb7",
   "metadata": {},
   "source": [
    "# Figure 1\n",
    "### Sequence length distributions in SwissProt and SwissProt restricted by 95% identity to SCOP2 superfamily representatives"
   ]
  },
  {
   "cell_type": "markdown",
   "id": "eb2f1560",
   "metadata": {},
   "source": [
    "### SCOP2 superfamily database\n",
    "Download the SCOP2 superfamily representative sequences into the `data/` directory.\n",
    "\n",
    "```\n",
    "cd data\n",
    "wget https://scop.mrc-lmb.cam.ac.uk/files/scop_sf_represeq_lib_latest.fa\n",
    "```\n",
    "\n",
    "For convenience, rename the file.\n",
    "\n",
    "```\n",
    "mv scop_sf_represeq_lib_latest.fa scop.fa\n",
    "```"
   ]
  },
  {
   "cell_type": "markdown",
   "id": "6d1dd91e",
   "metadata": {},
   "source": [
    "### Swiss-Prot\n",
    "Download and unzip Swiss-Prot.\n",
    "\n",
    "```\n",
    "wget https://ftp.uniprot.org/pub/databases/uniprot/current_release/knowledgebase/complete/uniprot_sprot.fasta.gz\n",
    "gzip -d uniprot_sprot.fasta.gz\n",
    "```\n",
    "\n",
    "Filter Swiss-Prot for sequences with lengths between 50 and 2000 and write to `data/sprot.fa`.\n",
    "\n",
    "```\n",
    "```"
   ]
  },
  {
   "cell_type": "markdown",
   "id": "39492a78",
   "metadata": {},
   "source": [
    "### BLAST alignment\n",
    "Construct a BLAST database from the SCOP2 superfamily representatives. First create a subdirectory `data/scopdb` to contain the files, then run `makeblastdb` to generate the database. \n",
    "\n",
    "```\n",
    "mkdir scopdb\n",
    "makeblastdb -in scop.fa -out scopdb/scop -dbtype prot -title scop\n",
    "```\n",
    "\n",
    "Align Swiss-Prot against the SCOP2 superfamily representative sequences. Set `num_threads` for your system.\n",
    "\n",
    "(On my Latitude 5040, the BLAST search completes in about six hours.)\n",
    "\n",
    "```\n",
    "cd ..\n",
    "mkdir outputs\n",
    "blastp -query data/sprot.fa -db data/scopdb/scopsf -word_size 4 -outfmt \"6 qstart qend sstart send pctid\" -num_threads 12 > outputs/sprot_scopsf.out\n",
    "```\n",
    "\n",
    "Parse sequence IDs from the output table and register each sequence in Swiss-Prot to a superfamily representative sequence in SCOP2.\n",
    "\n",
    "```\n",
    "```\n",
    "\n",
    "Classify each sequence in Swiss-Prot according to its superfamily's fold. \n",
    "\n",
    "```\n",
    "```"
   ]
  },
  {
   "cell_type": "markdown",
   "id": "fcd6601a",
   "metadata": {},
   "source": [
    "# Figure 2\n",
    "## Methods\n",
    "* BLAST\n",
    "* EASEL\n",
    "    * installation\n",
    "* disjointpermutation.jl\n",
    "\n",
    "### a) Generate Swiss-Prot variants\n",
    "- random: find a permutation $\\rho$ of sprot so that sequence $i$ and sequence $\\rho(i)$ are from different SCOP2 superfamilies\n",
    "- shuf$_{\\text{all}}$, shuf: \n",
    "- rev$_{\\text{all}}$, rev: \n",
    "- shufrev$_{\\text{all}}$, shufrev: esl-shuffle\n",
    "\n",
    "### b) Run paired Swiss-Prot alignments\n",
    "- using BLAST for pairwise alignment"
   ]
  },
  {
   "cell_type": "markdown",
   "id": "2a692914",
   "metadata": {},
   "source": [
    "# Figure 3\n",
    "## Methods\n",
    "* BLAST\n",
    "* tantan\n",
    "    * installation\n",
    "* mask.jl\n",
    "\n",
    "### a) Generate soft masks with tantan\n",
    "\n",
    "### b) Run hard-masked paired alignments"
   ]
  },
  {
   "cell_type": "markdown",
   "id": "cf288052",
   "metadata": {},
   "source": [
    "# Figure 4\n",
    "## Methods\n",
    "* BioAlignments\n",
    "* Score matrix distributions\n",
    "    * parsing\n",
    "    * talk to Jack\n",
    "* Sequence mutation (BLOSUM.jl)\n",
    "* Wilcoxon (wilcoxon.jl)\n",
    "\n",
    "### a) Generate BLOSUM90 variants\n",
    "### b) Generate mutations of Swiss-Prot variants\n",
    "### c) Run paired alignments"
   ]
  },
  {
   "cell_type": "markdown",
   "id": "011324b2",
   "metadata": {},
   "source": [
    "# Figure 5\n",
    "## Methods\n",
    "* manacher.jl\n",
    "* BioAlignments\n",
    "    * Configuration for exact alignment\n",
    "\n",
    "### a) Splice repetitive regions from Swiss-Prot using tantan masks\n",
    "### b) Run exact paired alignments and Manacher's algorithm"
   ]
  },
  {
   "cell_type": "markdown",
   "id": "763386be",
   "metadata": {},
   "source": [
    "# Figure 6\n",
    "### Exact and approximate palindromes in DNA "
   ]
  },
  {
   "cell_type": "markdown",
   "id": "3dd7f10a",
   "metadata": {},
   "source": [
    "### Human Chromosome 22\n",
    "Retrieve chromosome 22 on NCBI Nucleotide.\n",
    "- <a href=\"https://www.ncbi.nlm.nih.gov/nuccore/NC_000022?report=fasta\">GRCh38.p14 Primary Assembly /  NC_000022.11</a>\n",
    "Download the sequence file in FASTA format using the `Send to` dropdown menu.\n",
    "<img src=\"assets/ncbinucleotidesendto.png\"/>"
   ]
  },
  {
   "cell_type": "markdown",
   "id": "e1b0da56",
   "metadata": {},
   "source": [
    "### Chromosome Annotations\n",
    "Retrieve NCBI Gene annotations for chromosome 22 using the queries from <a href=\"https://en.wikipedia.org/wiki/Chromosome_22#cite_note-NCBI_coding-9\">Wikipedia</a>.\n",
    "- <a href=\"https://www.ncbi.nlm.nih.gov/gene?term=22%5BCHR%5D%20AND%20%22Homo%20sapiens%22%5BOrganism%5D%20AND%20%28%22genetype%20protein%20coding%22%5BProperties%5D%20AND%20alive%5Bprop%5D%29&cmd=DetailsSearch\"> Protein-coding gene annotations </a>\n",
    "- <a href=\"https://www.ncbi.nlm.nih.gov/gene?term=22%5BCHR%5D%20AND%20%22Homo%20sapiens%22%5BOrganism%5D%20AND%20%28%28%22genetype%20miscrna%22%5BProperties%5D%20OR%20%22genetype%20ncrna%22%5BProperties%5D%20OR%20%22genetype%20rrna%22%5BProperties%5D%20OR%20%22genetype%20trna%22%5BProperties%5D%20OR%20%22genetype%20scrna%22%5BProperties%5D%20OR%20%22genetype%20snrna%22%5BProperties%5D%20OR%20%22genetype%20snorna%22%5BProperties%5D%29%20NOT%20%22genetype%20protein%20coding%22%5BProperties%5D%20AND%20alive%5Bprop%5D%29&cmd=DetailsSearch\"> Noncoding RNA annotations </a>\n",
    "- <a href=\"https://www.ncbi.nlm.nih.gov/gene?term=22%5BCHR%5D%20AND%20%22Homo%20sapiens%22%5BOrganism%5D%20AND%20%28%22genetype%20pseudo%22%5BProperties%5D%20AND%20alive%5Bprop%5D%29&cmd=DetailsSearch\"> Pseudogene annotations </a>\n",
    "    \n",
    "Download each annotation file in tabular text format using the `Send to` dropdown menu.\n",
    "<img src=\"assets/ncbigenesendto.png\"/>"
   ]
  },
  {
   "cell_type": "code",
   "execution_count": null,
   "id": "7dece5bb",
   "metadata": {},
   "outputs": [],
   "source": [
    "include(\"source/io.jl\")\n",
    "include(\"source/chromosome.jl\")"
   ]
  },
  {
   "cell_type": "markdown",
   "id": "d3af5d96",
   "metadata": {},
   "source": [
    "# Figure 7\n",
    "## Methods\n",
    "* manacher.jl\n",
    "* BioAlignments\n",
    "* trypsin.jl\n",
    "\n",
    "### a) Extract tryptic peptides from Swiss-Prot, masked Swiss-Prot.\n",
    "### b) Shuffle tryptic peptides from both sources.\n",
    "### c) Gather LCS and LPS for each."
   ]
  },
  {
   "cell_type": "markdown",
   "id": "ae9b689e",
   "metadata": {},
   "source": [
    "# Figure 7\n",
    "### Distribution of LPS and LCS in tryptic peptides of Swiss-Prot"
   ]
  },
  {
   "cell_type": "markdown",
   "id": "cd70d350",
   "metadata": {},
   "source": [
    "### Partition Swiss-Prot into `nthreads` batches"
   ]
  },
  {
   "cell_type": "code",
   "execution_count": null,
   "id": "246aa27e",
   "metadata": {},
   "outputs": [],
   "source": [
    "using FASTX: sequence, FASTARecord, FASTAWriter\n",
    "using ProgressMeter: @showprogress, Progress, next!\n",
    "using Base.Threads: @threads, nthreads\n",
    "using Random: shuffle!\n",
    "include(\"source/io.jl\")\n",
    "include(\"source/trypsin.jl\")\n",
    "include(\"source/palindrome.jl\")\n",
    "\n",
    "sprot = [record for record=readfasta(\"data/sprot.fa\") if 50 < length(sequence(record)) < 2000]\n",
    "nsprot = length(sprot)\n",
    "batch_size = ceil(Int, nsprot / nthreads())\n",
    "sprot_batches = [sprot[1+batch_size*(i-1):min(nsprot, batch_size*i)] for i=1:nthreads()]\n",
    "length.(sprot_batches)"
   ]
  },
  {
   "cell_type": "markdown",
   "id": "11a2ed31",
   "metadata": {},
   "source": [
    "### LPS and LCS"
   ]
  },
  {
   "cell_type": "code",
   "execution_count": null,
   "id": "68561000",
   "metadata": {},
   "outputs": [],
   "source": [
    "minlength = 5\n",
    "maxlength = 100\n",
    "p = Progress(length(sprot), 1, \"Digesting...\")\n",
    "tempfiles = [\"outputs/.temp_trypticpalindromes_thread$(t).txt\" for t=1:nthreads()]\n",
    "@threads for t=1:nthreads()\n",
    "    open(tempfiles[t], \"w\") do writer\n",
    "        for i=1:length(sprot_batches[t])\n",
    "            seq = sequence(sprot_batches[t][i])\n",
    "            trypticintervals = trypticpeptides(seq, minlength, maxlength)\n",
    "            trypticsequences = (seq[start:stop] for (start,stop)=trypticintervals)\n",
    "            lps = longestpalindromicsubstring.(trypticsequences)\n",
    "            lps = (x->\"\\t$(x[1]),$(x[2])\").(lps)\n",
    "            write(writer, \"$((t-1)*batch_size+i)\")\n",
    "            write.(writer, lps)\n",
    "            write(writer, '\\n')\n",
    "            flush(writer)\n",
    "            next!(p)\n",
    "        end\n",
    "    end\n",
    "end\n"
   ]
  },
  {
   "cell_type": "raw",
   "id": "d4c4db5f",
   "metadata": {},
   "source": [
    "using FASTX: sequence, FASTARecord, FASTAWriter\n",
    "using ProgressMeter: @showprogress, Progress, next!\n",
    "using Base.Threads: @threads, nthreads\n",
    "using Random: shuffle!\n",
    "println(\"threads: \", nthreads())\n",
    "# on my machine, using twelve threads seems to leave 2-3 idle at all times.\n",
    "include(\"source/io.jl\")\n",
    "include(\"source/trypsin.jl\")\n",
    "include(\"source/palindrome.jl\")\n",
    "\n",
    "sprot = [record for record=readfasta(\"data/sprot.fa\") if 50 < length(sequence(record)) < 2000]\n",
    "\n",
    "minlength = 5\n",
    "maxlength = 100\n",
    "p = Progress(length(sprot), 1, \"Digesting...\")\n",
    "open(\"outputs/trypticpalindromes\", \"w\") do writer\n",
    "    for i=1:length(sprot)\n",
    "        seq = sequence(sprot[i])\n",
    "        trypticintervals = trypticpeptides(seq, minlength, maxlength)\n",
    "        trypticsequences = (seq[start:stop] for (start,stop)=trypticintervals)\n",
    "        lps = longestpalindromicsubstring.(trypticsequences)\n",
    "        lps = (x->\"\\t$(x[1]),$(x[2])\").(lps)\n",
    "        write(writer, \"$i\")\n",
    "        write.(writer, lps)\n",
    "        write(writer, '\\n')\n",
    "        flush(writer)\n",
    "        next!(p)\n",
    "    end\n",
    "end"
   ]
  }
 ],
 "metadata": {
  "kernelspec": {
   "display_name": "Julia 12 Threads 1.8.5",
   "language": "julia",
   "name": "julia-12-threads-1.8"
  },
  "language_info": {
   "file_extension": ".jl",
   "mimetype": "application/julia",
   "name": "julia",
   "version": "1.8.5"
  }
 },
 "nbformat": 4,
 "nbformat_minor": 5
}
