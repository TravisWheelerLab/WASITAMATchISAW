{
 "cells": [
  {
   "cell_type": "code",
   "execution_count": null,
   "id": "50ac3051-aabf-4f11-b1e5-a4bb2c1240ca",
   "metadata": {},
   "outputs": [],
   "source": [
    "`using LaTeXStrings\n",
    "sprotall = \"sprot\"\n",
    "scop = \"scop\"\n",
    "sprotscop = sprotall*'/'*scop\n",
    "chr22 = \"chromosome22\"\n",
    "proteins = chr22*\"proteins\"\n",
    "pseudo = chr22*\"pseudogenes\"\n",
    "rna = chr22*\"rna\"\n",
    "shuf(x) = \"\\\\textbf{shuffled}($(x))\"\n",
    "rev(x) = \"\\\\textbf{reversed}($(x))\"\n",
    "reorder(x) = \"\\\\textbf{reordered}($(x))\"\n",
    "mask(x) = \"\\\\textbf{masked}($(x))\"\n",
    "tryptic(x) = \"\\\\textbf{tryptic}($(x))\"\n",
    "permute(x) = \"\\\\textbf{permuted}($(x))\"\n",
    "LPS(x) = \"\\\\textbf{LPS}($(x))\"\n",
    "LCS(x, y) = \"\\\\textbf{LCS}($(x),$(y))\"\n",
    "diff(x, y) = \"$(x)-$(y)\"\n",
    "mean(x) = \"\\\\textbf{mean}[$(x)]\""
   ]
  },
  {
   "cell_type": "markdown",
   "id": "3756ceb7",
   "metadata": {},
   "source": [
    "# Figure 1 - Sequence length distributions in SwissProt"
   ]
  },
  {
   "cell_type": "markdown",
   "id": "eb2f1560",
   "metadata": {
    "jp-MarkdownHeadingCollapsed": true
   },
   "source": [
    "### SCOP2 superfamily representative sequences\n",
    "Download the SCOP2 superfamily representative sequences into the `data/` directory.\n",
    "\n",
    "```\n",
    "cd data\n",
    "wget https://scop.mrc-lmb.cam.ac.uk/files/scop_sf_represeq_lib_latest.fa\n",
    "```\n",
    "\n",
    "For convenience, rename the file.\n",
    "\n",
    "```\n",
    "mv scop_sf_represeq_lib_latest.fa scop.fa\n",
    "```"
   ]
  },
  {
   "cell_type": "markdown",
   "id": "6d1dd91e",
   "metadata": {},
   "source": [
    "### Swiss-Prot\n",
    "Download and unzip Swiss-Prot.\n",
    "\n",
    "```\n",
    "wget https://ftp.uniprot.org/pub/databases/uniprot/current_release/knowledgebase/complete/uniprot_sprot.fasta.gz\n",
    "gzip -d uniprot_sprot.fasta.gz\n",
    "mv uniprot_sprot.fasta data/sprot.fa\n",
    "```"
   ]
  },
  {
   "cell_type": "markdown",
   "id": "39492a78",
   "metadata": {},
   "source": [
    "### Many-to-many alignment with BLAST\n",
    "Construct a BLAST database from the SCOP2 superfamily representatives. First create a subdirectory `data/scopdb` to contain the files, then run `makeblastdb` to generate the database. \n",
    "\n",
    "```\n",
    "mkdir scopdb\n",
    "makeblastdb -dbtype prot -in scop.fa -out scopdb/scopsf -title scopsf\n",
    "```\n",
    "\n",
    "Align Swiss-Prot against the SCOP2 superfamily representative sequences. Set `num_threads` for your system.\n",
    "\n",
    "```\n",
    "cd ..\n",
    "mkdir outputs\n",
    "blastp -query data/sprot.fa -db data/scopdb/scop -outfmt \"6 qseqid qstart qend sseqid sstart send\" -num_threads 12 > outputs/sprot_scopsf.out\n",
    "```"
   ]
  },
  {
   "cell_type": "markdown",
   "id": "09ef7813-78ec-4920-8c6a-959b34379895",
   "metadata": {},
   "source": [
    "### Filter Swiss-Prot to sequences with >=95% identity to a representative sequence in the SCOP2 superfamily"
   ]
  },
  {
   "cell_type": "code",
   "execution_count": null,
   "id": "2bf517a9-4fa6-4d16-a34e-6ff77b37bd14",
   "metadata": {
    "scrolled": true
   },
   "outputs": [],
   "source": [
    "include(\"source/utils.jl\")\n",
    "include(\"source/io.jl\")\n",
    "include(\"source/pctid.jl\")\n",
    "include(\"source/alignment.jl\")\n",
    "using BioAlignments\n",
    "using FASTX\n",
    "using ProgressMeter\n",
    "using Printf\n",
    "# first, map Swiss-Prot sequence ids to their index in the record and likewise for the SCOP2 SF sequences\n",
    "function lookupindex(names::AbstractVector)\n",
    "    Dict(names[i] => i for i=1:length(names))\n",
    "end\n",
    "sprot = readfasta(\"data/sprot.fa\")\n",
    "sprotids = [split(descriptor, ' ')[1] for descriptor=description.(sprot)]\n",
    "lookup_sprot_index = Dict(sprotids[i] => i for i=1:length(sprotids))\n",
    "scop = readfasta(\"data/scop.fa\")\n",
    "scopids = [parse(Int, split(descriptor, ' ')[1]) for descriptor=description.(scop)]\n",
    "lookup_scop_index = Dict(scopids[i] => i for i=1:length(scopids))\n",
    "# each sequence in sprot will have a SCOP2 superfamily representative associated with it, as well as a pct id\n",
    "n = length(sprot)\n",
    "sprot_pct = zeros(AbstractFloat, n)\n",
    "sprot_rep = zeros(Int, n)\n",
    "# read the BLAST search results ...\n",
    "columns = split(\"6 qseqid qstart qend sseqid sstart send\", ' ')[2:end]\n",
    "pathto_output = \"outputs/sprot_scopsf.out\"\n",
    "outputs = readtable(pathto_output, columns)\n",
    "qsubstrings = (FASTX.sequence(sprot[lookup_sprot_index[outputs.qseqid[i]]])[outputs.qstart[i]:outputs.qend[i]] for i=1:size(outputs)[1])\n",
    "ssubstrings = (FASTX.sequence(scop[lookup_scop_index[outputs.sseqid[i]]])[outputs.sstart[i]:outputs.send[i]] for i=1:size(outputs)[1])"
   ]
  },
  {
   "cell_type": "code",
   "execution_count": null,
   "id": "ebaf98f8-a289-406d-a5c1-a35562461184",
   "metadata": {},
   "outputs": [],
   "source": [
    "# to get an accurate percent ID, we'll need to rerun alignments using BioAlignment.jl's global alignment.\n",
    "pctid = align(Pairwise(), \n",
    "    qsubstrings, \n",
    "    ssubstrings, \n",
    "    model=GlobalAlignment(),\n",
    "    verbose=true,\n",
    "    formatter=x::PairwiseAlignmentResult -> percentid(x))"
   ]
  },
  {
   "cell_type": "code",
   "execution_count": null,
   "id": "cc1bc0b4-a1e7-417c-bced-28c6de715cdf",
   "metadata": {},
   "outputs": [],
   "source": [
    "for i=1:size(outputs)[1]\n",
    "    pct = pctid[i]\n",
    "    sprotidx = lookup_sprot_index[outputs.qseqid[i]]\n",
    "    scopid = outputs.sseqid[i]\n",
    "    if pct >= 0.95\n",
    "        if pct > sprot_pct[sprotidx]\n",
    "            sprot_pct[sprotidx] = pct\n",
    "            sprot_rep[sprotidx] = scopid\n",
    "        end\n",
    "    end\n",
    "end\n",
    "represented = filter(i -> pctid[i] >= 0.95, sprot_pct)\n",
    "representatives = filter(i -> pctid[i] == 0, sprot_rep)"
   ]
  },
  {
   "cell_type": "code",
   "execution_count": null,
   "id": "b7de7177-6d0c-42bd-8fbf-08166c2d8d95",
   "metadata": {},
   "outputs": [],
   "source": [
    "sum(sprot_pct .> 0.95) / length(sprot_pct)"
   ]
  },
  {
   "cell_type": "markdown",
   "id": "6c10a51e-47ee-4149-8aa9-9222f980aaf7",
   "metadata": {},
   "source": [
    "### Plot"
   ]
  },
  {
   "cell_type": "code",
   "execution_count": null,
   "id": "6db2e9ce-e26d-42be-b364-585727dfe71e",
   "metadata": {},
   "outputs": [],
   "source": [
    "# histogram\n",
    "include(\"source/io.jl\")"
   ]
  },
  {
   "cell_type": "markdown",
   "id": "fcd6601a",
   "metadata": {},
   "source": [
    "# Figure 2 - BLAST score distributions between Swiss-Prot variants"
   ]
  },
  {
   "cell_type": "markdown",
   "id": "952a3f06-72bf-4b85-80ba-eb500c327246",
   "metadata": {},
   "source": [
    "### Shuffling and reversing "
   ]
  },
  {
   "cell_type": "markdown",
   "id": "b8de592d-8d78-49f3-8248-55157d97b897",
   "metadata": {},
   "source": [
    "The command `esl-shuffle input.fa > output.fa` shuffles each sequence in a FASTA record. Using the `-r` flag, `esl-shuffle -r input.fa > output.fa` reverses each sequence. Generate the shuffled and reversed variants using EASEL.\n",
    "\n",
    "```\n",
    "esl-shuffle data/sprot.fa > data/shuf_sprot.fa\n",
    "esl-shuffle data/sprot.fa -r > data/rev_sprot.fa\n",
    "\n",
    "esl-shuffle data/sprot_scop.fa > data/shuf_sprot_scop.fa\n",
    "esl-shuffle data/sprot_scop.fa -r > data/rev_sprot_scop.fa\n",
    "```\n",
    "\n",
    "Alternatively, generate the variants using Julia."
   ]
  },
  {
   "cell_type": "code",
   "execution_count": null,
   "id": "8581700e-c9f2-44d4-bd75-e7660a2e5555",
   "metadata": {},
   "outputs": [],
   "source": [
    "# shuffling scripts\n",
    "include(\"source/utils.jl\")"
   ]
  },
  {
   "cell_type": "markdown",
   "id": "a1050fd5-0e88-491c-945a-f87459b1802c",
   "metadata": {},
   "source": [
    "### Classify Swiss-Prot sequences by their SCOP2 fold\n",
    "Load the alignment results from Figure 1. Pair each sequence in `data/sprot_scop.fa` to its SCOP2 superfamily representative. Assign the Swiss-Prot sequence the fold of its SCOP2 superfamily representative and store these in a CSV."
   ]
  },
  {
   "cell_type": "code",
   "execution_count": null,
   "id": "0c3c82cd-f39e-47d3-aae3-bebf21be3fb4",
   "metadata": {},
   "outputs": [],
   "source": [
    "include(\"source/io.jl\")"
   ]
  },
  {
   "cell_type": "markdown",
   "id": "ea10c163-ee28-4340-ad40-8c6562d0264b",
   "metadata": {},
   "source": [
    "### Construct a derangement of `data/sprot_scop.fa` with respect to its SCOP2 fold classification."
   ]
  },
  {
   "cell_type": "code",
   "execution_count": null,
   "id": "90e60680-4913-4d99-855d-21190f8ad51a",
   "metadata": {},
   "outputs": [],
   "source": [
    "include(\"source/derangement.jl\")"
   ]
  },
  {
   "cell_type": "code",
   "execution_count": null,
   "id": "afedaa6c-0e8b-40ac-b708-4192d7354e0f",
   "metadata": {},
   "outputs": [],
   "source": [
    "# step-histogram\n",
    "include(\"source/io.jl\")"
   ]
  },
  {
   "cell_type": "markdown",
   "id": "4644c527-45f0-4a05-b916-2e273bc60a87",
   "metadata": {},
   "source": [
    "### Classify Swiss-Prot sequences by their SCOP2 fold"
   ]
  },
  {
   "cell_type": "markdown",
   "id": "476df617-36f7-4c36-b052-c384909f14bb",
   "metadata": {},
   "source": [
    "### Paired alignment with BLAST"
   ]
  },
  {
   "cell_type": "markdown",
   "id": "2a692914",
   "metadata": {},
   "source": [
    "# Figure 3 - BLAST scores by sequence length"
   ]
  },
  {
   "cell_type": "markdown",
   "id": "636ef6dc-f097-4bcc-876e-830cbc74ab5c",
   "metadata": {},
   "source": [
    "### Masking with tantan"
   ]
  },
  {
   "cell_type": "markdown",
   "id": "4deb8509-0d61-43cf-9d92-633e5ce0add0",
   "metadata": {},
   "source": [
    "```\n",
    "tantan -p data/sprot.fa > data/softmasked_sprot.fa \n",
    "```"
   ]
  },
  {
   "cell_type": "markdown",
   "id": "d5b8e779-db5f-4ac5-be17-7a9aeac53408",
   "metadata": {},
   "source": [
    "### Masked paired alignment with BLAST"
   ]
  },
  {
   "cell_type": "code",
   "execution_count": null,
   "id": "3bec5fb7-6ef3-48f6-bbc6-f65ecced3879",
   "metadata": {},
   "outputs": [],
   "source": [
    "include(\"source/utils.jl\")\n",
    "include(\"source/blast.jl\")\n",
    "using Main.BLAST\n",
    "\n",
    "# foreach (query,target,mask) \n",
    "# generate singleton fastas\n",
    "# BLAST.convert2blastmask\n",
    "# BLAST.makeblastdb\n",
    "# BLAST.blastp"
   ]
  },
  {
   "cell_type": "markdown",
   "id": "71dfd9d9-cd15-4c96-8578-8ebc1310b49a",
   "metadata": {},
   "source": [
    "### Plot"
   ]
  },
  {
   "cell_type": "code",
   "execution_count": null,
   "id": "96a5310e-23f7-43b3-899f-8d83f482d023",
   "metadata": {},
   "outputs": [],
   "source": [
    "# scatter plots\n",
    "include(\"source/io.jl\")"
   ]
  },
  {
   "cell_type": "markdown",
   "id": "cf288052",
   "metadata": {},
   "source": [
    "# Figure 4 - Reverse affinity of homologs"
   ]
  },
  {
   "cell_type": "markdown",
   "id": "93cb56b3-5ebb-4750-b2ad-426d3d1ed5ec",
   "metadata": {},
   "source": [
    "### BLOSUM90 variants"
   ]
  },
  {
   "cell_type": "code",
   "execution_count": null,
   "id": "003f5e1e-8c8f-4a7f-810f-555056f494a6",
   "metadata": {},
   "outputs": [],
   "source": [
    "include(\"source/io.jl\")"
   ]
  },
  {
   "cell_type": "markdown",
   "id": "f5a30430-6812-439a-8d50-60a686ea3ea7",
   "metadata": {},
   "source": [
    "### Inducing biorealistic mutations"
   ]
  },
  {
   "cell_type": "code",
   "execution_count": null,
   "id": "2d0694f8-bcb9-44a5-b5e5-6d8d0ea61ffa",
   "metadata": {},
   "outputs": [],
   "source": [
    "include(\"source/mutation.j\")"
   ]
  },
  {
   "cell_type": "markdown",
   "id": "ee8a2797-1dfb-4841-b12b-3202d35601d7",
   "metadata": {},
   "source": [
    "### Paired alignment with BioAlignments.jl"
   ]
  },
  {
   "cell_type": "code",
   "execution_count": null,
   "id": "b1deee10-a6f8-456b-a919-05c960d75a0d",
   "metadata": {},
   "outputs": [],
   "source": [
    "include(\"source/alignments.jl\")"
   ]
  },
  {
   "cell_type": "markdown",
   "id": "40ce9388-e28d-41cb-a26d-15ec1dc8045d",
   "metadata": {},
   "source": [
    "### Plot"
   ]
  },
  {
   "cell_type": "code",
   "execution_count": null,
   "id": "8484a3df-a4c2-4379-9dcd-63ef3b39280c",
   "metadata": {},
   "outputs": [],
   "source": [
    "# box plots\n",
    "include(\"source/io.jl\")"
   ]
  },
  {
   "cell_type": "markdown",
   "id": "011324b2",
   "metadata": {},
   "source": [
    "# Figure 5 - LPS, LCS in Swiss-Prot"
   ]
  },
  {
   "cell_type": "markdown",
   "id": "7660f5c2-820a-4ef7-967e-89826e150779",
   "metadata": {},
   "source": [
    "### Splice repetitive regions from Swiss-Prot using tantan masks\n",
    "Rather than using lowercase letters for masks, configure tantan to mask with 'X' characters.\n",
    "\n",
    "```\n",
    "tantan -x X data/sprot.fa > data/masked_sprot.fa\n",
    "```"
   ]
  },
  {
   "cell_type": "markdown",
   "id": "98f4ccb5-53fc-4f97-a8c5-c0de79c6d727",
   "metadata": {},
   "source": [
    "### Generate LPS and LCS \n",
    "#### (using BioAlignments.jl for gapless exact alignment)"
   ]
  },
  {
   "cell_type": "code",
   "execution_count": null,
   "id": "ddecc331-7d50-4901-9e18-adeaddadb89f",
   "metadata": {},
   "outputs": [],
   "source": [
    "include(\"source/palindrome.jl\")\n",
    "include(\"source/alignment.jl\")"
   ]
  },
  {
   "cell_type": "markdown",
   "id": "20e65b36-df24-4780-8e6f-81af802936bb",
   "metadata": {},
   "source": [
    "### Plot"
   ]
  },
  {
   "cell_type": "code",
   "execution_count": null,
   "id": "c0b8f015-eee5-4108-b187-dc821ea479d6",
   "metadata": {},
   "outputs": [],
   "source": [
    "# scatter plots\n",
    "include(\"source/io.jl\")"
   ]
  },
  {
   "cell_type": "markdown",
   "id": "763386be",
   "metadata": {},
   "source": [
    "# Figure 6 - LPS, LCS in DNA "
   ]
  },
  {
   "cell_type": "markdown",
   "id": "3dd7f10a",
   "metadata": {},
   "source": [
    "### Human Chromosome 22\n",
    "Retrieve chromosome 22 on NCBI Nucleotide.\n",
    "- <a href=\"https://www.ncbi.nlm.nih.gov/nuccore/NC_000022?report=fasta\">GRCh38.p14 Primary Assembly /  NC_000022.11</a>\n",
    "\n",
    "Download the sequence file in FASTA format using the `Send to` dropdown menu.\n",
    "<img src=\"assets/ncbinucleotidesendto.png\"/>"
   ]
  },
  {
   "cell_type": "markdown",
   "id": "e1b0da56",
   "metadata": {},
   "source": [
    "### NCBI Gene Annotations\n",
    "Retrieve annotations for chromosome 22 e.g., using the NCBI Gene queries from <a href=\"https://en.wikipedia.org/wiki/Chromosome_22#cite_note-NCBI_coding-9\">Wikipedia</a>.\n",
    "- <a href=\"https://www.ncbi.nlm.nih.gov/gene?term=22%5BCHR%5D%20AND%20%22Homo%20sapiens%22%5BOrganism%5D%20AND%20%28%22genetype%20protein%20coding%22%5BProperties%5D%20AND%20alive%5Bprop%5D%29&cmd=DetailsSearch\"> Protein-coding gene annotations </a>\n",
    "- <a href=\"https://www.ncbi.nlm.nih.gov/gene?term=22%5BCHR%5D%20AND%20%22Homo%20sapiens%22%5BOrganism%5D%20AND%20%28%28%22genetype%20miscrna%22%5BProperties%5D%20OR%20%22genetype%20ncrna%22%5BProperties%5D%20OR%20%22genetype%20rrna%22%5BProperties%5D%20OR%20%22genetype%20trna%22%5BProperties%5D%20OR%20%22genetype%20scrna%22%5BProperties%5D%20OR%20%22genetype%20snrna%22%5BProperties%5D%20OR%20%22genetype%20snorna%22%5BProperties%5D%29%20NOT%20%22genetype%20protein%20coding%22%5BProperties%5D%20AND%20alive%5Bprop%5D%29&cmd=DetailsSearch\"> Noncoding RNA annotations </a>\n",
    "- <a href=\"https://www.ncbi.nlm.nih.gov/gene?term=22%5BCHR%5D%20AND%20%22Homo%20sapiens%22%5BOrganism%5D%20AND%20%28%22genetype%20pseudo%22%5BProperties%5D%20AND%20alive%5Bprop%5D%29&cmd=DetailsSearch\"> Pseudogene annotations </a>\n",
    "    \n",
    "Download each annotation file in tabular text format using the `Send to` dropdown menu.\n",
    "<img src=\"assets/ncbigenesendto.png\"/>"
   ]
  },
  {
   "cell_type": "markdown",
   "id": "6e4b504f-32ba-4070-9638-248acf6057e8",
   "metadata": {},
   "source": [
    "### Masking with tantan\n",
    "Run `tantan` on `data/ncbi_chr22_sequence.fasta` to mask repetitive and low-complexity regions; store the masked file in `data/ncbi_chr22_maskedsequence.fasta`. Rather than using lowercase letters for masks, configure tantan to mask with 'N' characters with the `-x N` argument. The proceeding script will automatically remove these along with the other 'N' characters already present in the chromosome.\n",
    "\n",
    "```\n",
    "tantan -x N data/ncbi_chr22_sequence.fasta > data/ncbi_chr22_maskedsequence.fasta\n",
    "```"
   ]
  },
  {
   "cell_type": "markdown",
   "id": "453fab7f",
   "metadata": {},
   "source": [
    "### Distribution of LPS in chromosome 22 [< 10 minutes]\n",
    "Using the `lps` flag, generate the distribution of maximal palindromes in protein-coding, noncoding RNA, and pseudogene regions of chromosome 22.\n",
    "```\n",
    "julia -t 12 fig6.jl data/ncbi_chr22_sequence.fasta data/ncbi_chr22_protein.txt outputs/fig6_chr22palindromes_protein.dlm lps\n",
    "\n",
    "julia -t 12 fig6.jl data/ncbi_chr22_sequence.fasta data/ncbi_chr22_pseudo.txt outputs/fig6_chr22palindromes_pseudo.dlm lps\n",
    "\n",
    "julia -t 12 fig6.jl data/ncbi_chr22_sequence.fasta data/ncbi_chr22_rna.txt outputs/fig6_chr22palindromes_rna.dlm lps\n",
    "```\n",
    "\n",
    "Generate the LPS distribution with tantan masks. \n",
    "\n",
    "```\n",
    "julia -t 12 fig6.jl data/ncbi_chr22_maskedsequence.fasta data/ncbi_chr22_protein.txt outputs/fig6_maskedchr22palindromes_protein.dlm lps\n",
    "\n",
    "julia -t 12 fig6.jl data/ncbi_chr22_maskedsequence.fasta data/ncbi_chr22_pseudo.txt outputs/fig6_maskedchr22palindromes_pseudo.dlm lps\n",
    "\n",
    "julia -t 12 fig6.jl data/ncbi_chr22_maskedsequence.fasta data/ncbi_chr22_rna.txt outputs/fig6_maskedchr22palindromes_rna.dlm lps\n",
    "```\n",
    "\n",
    "For a control, rerun each job with the `shuf` keyword to shuffle each region before the LPS is calculated.\n",
    "```\n",
    "julia -t 12 fig6.jl data/ncbi_chr22_sequence.fasta data/ncbi_chr22_protein.txt outputs/fig6_shuffledchr22palindromes_protein.dlm lps shuf\n",
    "\n",
    "julia -t 12 fig6.jl data/ncbi_chr22_sequence.fasta data/ncbi_chr22_pseudo.txt outputs/fig6_shuffledchr22palindromes_pseudo.dlm lps shuf\n",
    "\n",
    "julia -t 12 fig6.jl data/ncbi_chr22_sequence.fasta data/ncbi_chr22_rna.txt outputs/fig6_shuffledchr22palindromes_rna.dlm lps shuf\n",
    "```"
   ]
  },
  {
   "cell_type": "markdown",
   "id": "d482a1de-f312-41ed-845e-8c95feb8cf56",
   "metadata": {},
   "source": [
    "### Distribution of random LCS in chromosome 22 [ minutes]"
   ]
  },
  {
   "cell_type": "code",
   "execution_count": null,
   "id": "1aea8562-5efe-4d7c-a0c0-9d9385dc61ad",
   "metadata": {},
   "outputs": [],
   "source": [
    "include(\"source/io.jl\")\n",
    "include(\"source/utils.jl\")\n",
    "include(\"source/alignment.jl\")"
   ]
  },
  {
   "cell_type": "markdown",
   "id": "22c3f652",
   "metadata": {},
   "source": [
    "### Plot"
   ]
  },
  {
   "cell_type": "code",
   "execution_count": null,
   "id": "428321ad",
   "metadata": {},
   "outputs": [],
   "source": [
    "using Plots\n",
    "using DataFrames\n",
    "using DelimitedFiles\n",
    "using LaTeXStrings\n",
    "include(\"source/utils.jl\")\n",
    "function plot_distribution_table!(distribution::Matrix{Int}, label, color, marker)\n",
    "    seq_lengths, lps_lengths = eachcol(distribution)\n",
    "    scatter!(seq_lengths, lps_lengths, label=label, color=color, markercolor=color, markerstrokecolor=color, markershape=marker, ms=2, ma=0.4)\n",
    "end\n",
    "dnalabels(x) = latexstring(mean(LPS(x)));"
   ]
  },
  {
   "cell_type": "code",
   "execution_count": null,
   "id": "b1f4f43a",
   "metadata": {},
   "outputs": [],
   "source": [
    "chr22palindromes_protein = readdlm(\"outputs/fig6_chr22palindromes_protein.dlm\", Int)\n",
    "chr22palindromes_pseudo = readdlm(\"outputs/fig6_chr22palindromes_pseudo.dlm\", Int)\n",
    "chr22palindromes_rna = readdlm(\"outputs/fig6_chr22palindromes_rna.dlm\", Int)\n",
    "maskedchr22palindromes_protein = readdlm(\"outputs/fig6_maskedchr22palindromes_protein.dlm\", Int)\n",
    "maskedchr22palindromes_pseudo = readdlm(\"outputs/fig6_maskedchr22palindromes_pseudo.dlm\", Int)\n",
    "maskedchr22palindromes_rna = readdlm(\"outputs/fig6_maskedchr22palindromes_rna.dlm\", Int);\n",
    "shuffledchr22palindromes_protein = readdlm(\"outputs/fig6_shuffledchr22palindromes_protein.dlm\", Int)\n",
    "shuffledchr22palindromes_pseudo = readdlm(\"outputs/fig6_shuffledchr22palindromes_pseudo.dlm\", Int)\n",
    "shuffledchr22palindromes_rna = readdlm(\"outputs/fig6_shuffledchr22palindromes_rna.dlm\", Int);"
   ]
  },
  {
   "cell_type": "code",
   "execution_count": null,
   "id": "e4b9a2e6",
   "metadata": {},
   "outputs": [],
   "source": [
    "seqlengths_and_palindromes = [\n",
    "    shuffledchr22palindromes_protein, \n",
    "    shuffledchr22palindromes_pseudo, \n",
    "    shuffledchr22palindromes_rna,\n",
    "    chr22palindromes_protein, \n",
    "    chr22palindromes_pseudo, \n",
    "    chr22palindromes_rna, \n",
    "    maskedchr22palindromes_protein, \n",
    "    maskedchr22palindromes_pseudo, \n",
    "    maskedchr22palindromes_rna,]\n",
    "labels = dnalabels.([\n",
    "    shuf(proteins),\n",
    "    shuf(pseudo),\n",
    "    shuf(rna),\n",
    "    proteins,\n",
    "    pseudo,\n",
    "    rna,\n",
    "    mask(proteins),\n",
    "    mask(pseudo),\n",
    "    mask(rna),])\n",
    "colors = [:red, :red2, :red3, :blue, :blue2, :blue3, :green, :green2, :green3]\n",
    "markers = [:+, :x, :star4, :dtriangle, :utriangle, :rtriangle, :star6, :star7, :star8];"
   ]
  },
  {
   "cell_type": "raw",
   "id": "161301d2-b921-4600-b245-d1bd7a161e79",
   "metadata": {},
   "source": [
    "[:+, :auto, :circle, :cross, :diamond, :dtriangle, :heptagon, :hexagon, :hline, :ltriangle, :none, :octagon, :pentagon, :pixel, :rect, :rtriangle, :star4, :star5, :star6, :star7, :star8, :utriangle, :vline, :x, :xcross]"
   ]
  },
  {
   "cell_type": "code",
   "execution_count": null,
   "id": "8861fa33",
   "metadata": {},
   "outputs": [],
   "source": [
    "plot(#title=\"LPS in chromosome 22\",\n",
    "     ylabel=\"Average LPS length\", \n",
    "     xlabel=\"Sequence length\",\n",
    "     xscale=:log,\n",
    "     legend=:outertop,\n",
    "     dpi=500)\n",
    "subset = 1:length(seqlengths_and_palindromes)\n",
    "plot_distribution_table!.(seqlengths_and_palindromes[subset], labels[subset], colors[subset], markers[subset])\n",
    "savefig(\"figures/fig6_chr22palindromes.png\")\n",
    "plot!()"
   ]
  },
  {
   "cell_type": "markdown",
   "id": "6349462c",
   "metadata": {},
   "source": [
    "# Figure 7 - LPS, LCS in tryptic peptides of Swiss-Prot"
   ]
  },
  {
   "cell_type": "markdown",
   "id": "17390c54",
   "metadata": {},
   "source": [
    "### Generate LPS distributions of tryptic peptides [< 10 minutes]\n",
    "Generate LPS distributions of tryptic peptides between lengths `5` and `50` in `data/sprot.fa`, `data/maskedsprot.fa`, and `data/shuf.fa` and write them to `data/sprot.fa outputs/fig7_trypticpalindromes_sprot.dlm`, `outputs/fig7_trypticpalindromes_maskedsprot.dlm`, and `outputs/fig7_trypticpalindromes_shuf.dlm`.\n",
    "```\n",
    "julia -t 12 fig7.jl data/sprot.fa outputs/fig7_trypticpalindromes_sprot.dlm 5 50\n",
    "\n",
    "julia -t 12 fig7.jl data/masked_sprot.fa outputs/fig7_trypticpalindromes_maskedsprot.dlm 5 50\n",
    "\n",
    "julia -t 12 fig7.jl data/shuf_sprot.fa outputs/fig7_trypticpalindromes_shuf.dlm 5 50\n",
    "```\n",
    "\n",
    "Also generate the LPS distribution for permuted tryptic peptides in `data\\sprot.fa`. The keyword `permute` permutes each tryptic peptide before it is passed to the LPS algorithm; this allows us to compare palindromicity as a result of low-complexity tryptic peptides (e.g., dipeptide repeats are always palindromic) against palindromicity as a result of patterns that are not permutation invariant.\n",
    "```\n",
    "julia -t 12 fig7.jl data/sprot.fa outputs/fig7_permutedtrypticpalindromes_sprot.dlm 5 50 permute\n",
    "\n",
    "julia -t 12 fig7.jl data/masked_sprot.fa outputs/fig7_permutedtrypticpalindromes_maskedsprot.dlm 5 50 permute\n",
    "\n",
    "julia -t 12 fig7.jl data/shuf_sprot.fa outputs/fig7_permutedtrypticpalindromes_shuf.dlm 5 50 permute\n",
    "```"
   ]
  },
  {
   "cell_type": "markdown",
   "id": "d5193eea",
   "metadata": {},
   "source": [
    "### Plot"
   ]
  },
  {
   "cell_type": "code",
   "execution_count": null,
   "id": "10523a87",
   "metadata": {},
   "outputs": [],
   "source": [
    "using Plots\n",
    "using DataFrames\n",
    "using DelimitedFiles\n",
    "using StatsBase\n",
    "using LaTeXStrings\n",
    "minlength = 5\n",
    "maxlength = 50\n",
    "function plot_distribution_matrix!(distribution::Matrix{Int}, label)\n",
    "    global minlength, maxlength\n",
    "    @assert maxlength == size(distribution)[1]\n",
    "    distribution = maxlength .* distribution ./ sum(distribution)\n",
    "    # calculate mean length palindrome for each sequence length\n",
    "    avg_pal = [sum(collect(1:maxlength) .* distribution[seq, :]) for seq=minlength:maxlength]\n",
    "    plot!(minlength:maxlength, avg_pal, label=label)\n",
    "end\n",
    "function plot_difference!(dist_A::Matrix{Int}, dist_B::Matrix{Int}, label)\n",
    "    global minlength, maxlength\n",
    "    @assert maxlength == size(dist_A)[1] == size(dist_B)[1]\n",
    "    dist_A = maxlength .* dist_A ./ sum(dist_A)\n",
    "    dist_B = maxlength .* dist_B ./ sum(dist_B)\n",
    "    avg_pal_A =  [sum(collect(1:maxlength) .* dist_A[seq, :]) for seq=minlength:maxlength]\n",
    "    avg_pal_B =  [sum(collect(1:maxlength) .* dist_B[seq, :]) for seq=minlength:maxlength]\n",
    "    plot!(minlength:maxlength, avg_pal_A .- avg_pal_B, label=label)\n",
    "end\n",
    "trypticlpslabel(x) = latexstring(mean(LPS(tryptic(x))))\n",
    "meandifflabel(x) = latexstring(mean(diff(LPS(tryptic(x)), LPS(permute(tryptic(x))))));"
   ]
  },
  {
   "cell_type": "code",
   "execution_count": null,
   "id": "d5339082",
   "metadata": {},
   "outputs": [],
   "source": [
    "sprot_dist = readdlm(\"outputs/fig7_trypticpalindromes_sprot.dlm\", Int)\n",
    "maskedsprot_dist = readdlm(\"outputs/fig7_trypticpalindromes_maskedsprot.dlm\", Int)\n",
    "shuf_dist = readdlm(\"outputs/fig7_trypticpalindromes_shuf.dlm\", Int)\n",
    "permutedsprot_dist = readdlm(\"outputs/fig7_permutedtrypticpalindromes_sprot.dlm\", Int)\n",
    "permutedmaskedsprot_dist = readdlm(\"outputs/fig7_permutedtrypticpalindromes_maskedsprot.dlm\", Int)\n",
    "permutedshuf_dist = readdlm(\"outputs/fig7_permutedtrypticpalindromes_shuf.dlm\", Int);"
   ]
  },
  {
   "cell_type": "code",
   "execution_count": null,
   "id": "c1f9915e",
   "metadata": {},
   "outputs": [],
   "source": [
    "plot(#title=\"LPS in tryptic peptides between lengths 5 and 50\",\n",
    "     yrange=(1.5, 4.5),\n",
    "     xlabel=\"Sequence length\",\n",
    "     xrange=(5, 50),\n",
    "     xticks=([5, 10, 25, 50], [5, 10, 25, 50]),\n",
    "     xscale=:log2,\n",
    "     legend=:outertop,\n",
    "     dpi=500)\n",
    "plot_distribution_matrix!(sprot_dist, trypticlpslabel(sprotall))\n",
    "plot_distribution_matrix!(shuf_dist, trypticlpslabel(shuf(sprotall)))\n",
    "plot_distribution_matrix!(maskedsprot_dist, trypticlpslabel(mask(sprotall)))\n",
    "savefig(\"figures/fig7_trypticpeptides.png\")\n",
    "plot!()"
   ]
  },
  {
   "cell_type": "code",
   "execution_count": null,
   "id": "1ae566b0",
   "metadata": {},
   "outputs": [],
   "source": [
    "plot(#title=\"Difference of mean length LPS between tryptic \\npalindromes and permuted tryptic palindromes\\n\",\n",
    "     #ylabel=\"Difference of average LPS length\", \n",
    "     yrange=(-0.1,0.1),\n",
    "     xlabel=\"Sequence length\",\n",
    "     #xscale=:log,\n",
    "     #xrange=(5, 50),\n",
    "     legend=:outertop,\n",
    "     dpi=500)\n",
    "plot_difference!(sprot_dist, permutedsprot_dist, meandifflabel(sprotall))\n",
    "plot_difference!(shuf_dist, permutedshuf_dist, meandifflabel(shuf(sprotall)))\n",
    "plot_difference!(maskedsprot_dist, permutedmaskedsprot_dist, meandifflabel(mask(sprotall)))\n",
    "savefig(\"figures/fig7_reverseaffinity.png\")\n",
    "plot!()"
   ]
  }
 ],
 "metadata": {
  "kernelspec": {
   "display_name": "Julia 12 Threads 1.8.5",
   "language": "julia",
   "name": "julia-12-threads-1.8"
  },
  "language_info": {
   "file_extension": ".jl",
   "mimetype": "application/julia",
   "name": "julia",
   "version": "1.8.5"
  }
 },
 "nbformat": 4,
 "nbformat_minor": 5
}
