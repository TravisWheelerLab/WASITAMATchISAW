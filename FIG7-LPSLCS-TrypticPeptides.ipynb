{
 "cells": [
  {
   "cell_type": "markdown",
   "id": "4224a683",
   "metadata": {},
   "source": [
    "# LPS and LCS in Tryptic Peptides"
   ]
  },
  {
   "cell_type": "code",
   "execution_count": null,
   "id": "f73e3e36",
   "metadata": {},
   "outputs": [],
   "source": [
    "include(\"source/utils.jl\")\n",
    "include(\"source/mask.jl\")\n",
    "include(\"source/io.jl\")\n",
    "include(\"source/alignment.jl\")\n",
    "include(\"source/palindrome.jl\")\n",
    "include(\"source/trypsin.jl\")\n",
    "using Plots\n",
    "using DataFrames\n",
    "using DelimitedFiles\n",
    "using StatsBase\n",
    "newLPSdist() = zeros(Int, (maxlength, maxlength))\n",
    "newLCSdist() = zeros(Int, (maxlength + 1, maxlength + 1))"
   ]
  },
  {
   "cell_type": "code",
   "execution_count": null,
   "id": "a74960a7",
   "metadata": {},
   "outputs": [],
   "source": [
    "shuf_sprot = readsequences(\"data/shuf_sprot.fa\")\n",
    "sprot = readsequences(\"data/sprot.fa\")\n",
    "masked_sprot = hardmask.(readsequences(\"data/masked_sprot.fa\"))\n",
    "masked_sprot = replace.(masked_sprot, 'X'=>\"\")\n",
    "minlength = 5\n",
    "maxlength = 100;"
   ]
  },
  {
   "cell_type": "markdown",
   "id": "f3c1830b",
   "metadata": {},
   "source": [
    "### Generate LPS distributions of tryptic peptides"
   ]
  },
  {
   "cell_type": "code",
   "execution_count": null,
   "id": "7937a1aa",
   "metadata": {},
   "outputs": [],
   "source": [
    "function tryptic_lps(\n",
    "    protein::String; \n",
    "    lo=minlength,\n",
    "    hi=maxlength,\n",
    ")\n",
    "    tryptics = trypticpeptide(protein, lo, hi)\n",
    "    sequencelength = (length(seq) for seq=tryptics)\n",
    "    lps = (length(longestpalindromicsubstring(seq)) for seq=tryptics)\n",
    "    return zip(sequencelength, lps)\n",
    "end\n",
    "function tryptic_lps(\n",
    "    proteins::Vector;\n",
    "    lo=minlength,\n",
    "    hi=maxlength\n",
    ")\n",
    "    distribution = zeros(Int, (maxlength, maxlength))\n",
    "    P = Progress(length(proteins), 1)\n",
    "    Threads.@threads for p=proteins\n",
    "        for (x,y)=tryptic_lps(p)\n",
    "            distribution[x, y] += 1\n",
    "        end\n",
    "        next!(P)\n",
    "    end\n",
    "    distribution\n",
    "end"
   ]
  },
  {
   "cell_type": "code",
   "execution_count": null,
   "id": "47df5cac",
   "metadata": {},
   "outputs": [],
   "source": [
    "function tryptic_shuf_lcs(\n",
    "    protein::String; \n",
    "    lo=minlength,\n",
    "    hi=maxlength,\n",
    ")\n",
    "    tryptics = trypticpeptide(protein, lo, hi)\n",
    "    sequencelength = (length(seq) for seq=tryptics)\n",
    "    shuf_tryptics = (shufflefast(seq) for seq=tryptics)\n",
    "    lcs = (length(longestcommonsubstring(seq1, seq2)[begin]) \n",
    "        for (seq1,seq2)=zip(tryptics,shuf_tryptics))\n",
    "    return zip(sequencelength, lcs)\n",
    "end\n",
    "function tryptic_shuf_lcs(\n",
    "    proteins::Vector;\n",
    "    lo=minlength,\n",
    "    hi=maxlength\n",
    ")\n",
    "    distribution = zeros(Int, (maxlength, maxlength))\n",
    "    P = Progress(length(proteins), 1)\n",
    "    Threads.@threads for p=proteins\n",
    "        for (x,y)=tryptic_shuf_lcs(p)\n",
    "            distribution[x, y] += 1\n",
    "        end\n",
    "        next!(P)\n",
    "    end\n",
    "    distribution\n",
    "end"
   ]
  },
  {
   "cell_type": "code",
   "execution_count": null,
   "id": "7cf979cf",
   "metadata": {},
   "outputs": [],
   "source": [
    "shuf_lcs = tryptic_shuf_lcs(sprot)\n",
    "shuf_lps = tryptic_lps(shuf_sprot)\n",
    "sprot_lps = tryptic_lps(sprot)\n",
    "masked_lps = tryptic_lps(masked_sprot)"
   ]
  },
  {
   "cell_type": "code",
   "execution_count": null,
   "id": "54b5cfc3",
   "metadata": {},
   "outputs": [],
   "source": [
    "writetable(\"outputs/tryptic.sprot_shuf-sprot.lcs\", shuf_lcs)\n",
    "writetable(\"outputs/tryptic.shuf-sprot.lps\", shuf_lps)\n",
    "writetable(\"outputs/tryptic.sprot.lps\", sprot_lps)\n",
    "writetable(\"outputs/tryptic.masked-sprot.lps\", masked_lps)"
   ]
  },
  {
   "cell_type": "markdown",
   "id": "84357ad0",
   "metadata": {},
   "source": [
    "# Plot [python]"
   ]
  },
  {
   "cell_type": "code",
   "execution_count": null,
   "id": "be95ef09",
   "metadata": {},
   "outputs": [],
   "source": [
    "# plug in the coincidence frequency (λ₂) for chr22\n",
    "lambda2 = 0.2519"
   ]
  },
  {
   "cell_type": "code",
   "execution_count": null,
   "id": "fafb7698",
   "metadata": {},
   "outputs": [],
   "source": [
    "import matplotlib\n",
    "matplotlib.__version__"
   ]
  },
  {
   "cell_type": "code",
   "execution_count": null,
   "id": "a1d12f03",
   "metadata": {},
   "outputs": [],
   "source": [
    "import matplotlib.markers as markers\n",
    "import matplotlib.pyplot as plt\n",
    "import pandas as pd\n",
    "import numpy as np\n",
    "import statistics as stats\n",
    "from math import *\n",
    "from time import time\n",
    "def plot_x_means(axis, distributions, minlength, maxlength, color, marker, label, width=10):\n",
    "    x = list(range(1,maxlength+1))\n",
    "    y = [-1 for _ in range(maxlength)]\n",
    "    for i in range(minlength-1,maxlength):\n",
    "        D = distributions[i]\n",
    "        y[i] = sum([D[j]*(j+1) for j in range(maxlength)]) / sum(D)\n",
    "    x = x[minlength:maxlength]\n",
    "    y = y[minlength:maxlength]\n",
    "    axis.plot(x, y, linewidth=10, label=label, color=color)\n",
    "def setup_axis(axis,xlo=5,xhi=100,ylo=1.5,yhi=5,legsize=100):\n",
    "    axis.set_xlim(xlo,xhi)\n",
    "    #axis.set_xscale(\"log\")\n",
    "    axis.set_xlabel(\"Sequence Length\", fontsize=100, labelpad=30)\n",
    "    axis.set_ylim(ylo,yhi)\n",
    "    axis.set_yscale(\"linear\")\n",
    "    axis.set_ylabel(\"Average Substring Length\", fontsize=100, labelpad=50)\n",
    "    axis.tick_params(axis='both', which='major', labelsize=50)\n",
    "    leg = axis.legend(prop={'size':legsize})\n",
    "    for lh in leg.legend_handles: \n",
    "        lh.set_alpha(1)\n",
    "        lh.set_linewidth(10)"
   ]
  },
  {
   "cell_type": "code",
   "execution_count": null,
   "id": "1be12514",
   "metadata": {},
   "outputs": [],
   "source": [
    "resultpaths = [\"outputs/tryptic.sprot_shuf-sprot.lcs\",\n",
    "    \"outputs/tryptic.shuf-sprot.lps\",\n",
    "    \"outputs/tryptic.sprot.lps\",\n",
    "    \"outputs/tryptic.masked-sprot.lps\"]\n",
    "(lcs_shuf,\n",
    " lps_shuf,\n",
    " lps_sprot,\n",
    " lps_masked_sprot) = [pd.read_csv(x, sep='\\t', header=None).values for x in resultpaths]\n",
    "lcsmaroon = \"#8a1414\"\n",
    "sprotblue = \"#0000ff\"\n",
    "shufred = \"#ff8800\"\n",
    "maskgreen = \"#0cff0c\""
   ]
  },
  {
   "cell_type": "code",
   "execution_count": null,
   "id": "bc1b0d9e",
   "metadata": {},
   "outputs": [],
   "source": [
    "fig, ax = plt.subplots(dpi=100,figsize=(64,48))\n",
    "\n",
    "plot_x_means(ax, lps_sprot, 5, 100,\n",
    "                      sprotblue, '^', \"lps-sprot\")\n",
    "plot_x_means(ax, lps_masked_sprot, 5, 100,\n",
    "                      maskgreen, 'x', \"lps-masked-sprot\")\n",
    "plot_x_means(ax, lps_shuf, 5, 100,\n",
    "                      shufred, 's', \"lps-shuf\")\n",
    "plot_x_means(ax, lcs_shuf, 5, 100,\n",
    "                      lcsmaroon, 'o', \"lcs-shuf\")\n",
    "\n",
    "setup_axis(ax)\n",
    "plt.tight_layout()\n",
    "plt.savefig(\"figures/LPSLCS_TrypticPeptides.pdf\")"
   ]
  }
 ],
 "metadata": {
  "kernelspec": {
   "display_name": "Python 3 (ipykernel)",
   "language": "python",
   "name": "python3"
  },
  "language_info": {
   "codemirror_mode": {
    "name": "ipython",
    "version": 3
   },
   "file_extension": ".py",
   "mimetype": "text/x-python",
   "name": "python",
   "nbconvert_exporter": "python",
   "pygments_lexer": "ipython3",
   "version": "3.11.5"
  }
 },
 "nbformat": 4,
 "nbformat_minor": 5
}
