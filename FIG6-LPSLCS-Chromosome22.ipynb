{
 "cells": [
  {
   "cell_type": "markdown",
   "id": "4224a683",
   "metadata": {},
   "source": [
    "# LPS and LCS in Human Chromosome 22"
   ]
  },
  {
   "cell_type": "code",
   "execution_count": 28,
   "id": "f73e3e36",
   "metadata": {},
   "outputs": [
    {
     "name": "stderr",
     "output_type": "stream",
     "text": [
      "WARNING: redefinition of constant SUBSTRING_ALIGNMENT_SCHEMA. This may fail, cause incorrect answers, or produce other errors.\n",
      "WARNING: redefinition of constant GTFCOLUMNS. This may fail, cause incorrect answers, or produce other errors.\n"
     ]
    },
    {
     "data": {
      "text/plain": [
       "writegtf (generic function with 1 method)"
      ]
     },
     "execution_count": 28,
     "metadata": {},
     "output_type": "execute_result"
    }
   ],
   "source": [
    "using Plots\n",
    "using Distributions\n",
    "using DataFrames\n",
    "using DelimitedFiles\n",
    "using StringAlgorithms\n",
    "using LaTeXStrings\n",
    "using ProgressMeter\n",
    "include(\"source/utils.jl\")\n",
    "include(\"source/palindrome.jl\")\n",
    "include(\"source/alignment.jl\")\n",
    "include(\"source/expectation.jl\")\n",
    "include(\"source/chromosome.jl\")\n",
    "include(\"source/io.jl\")"
   ]
  },
  {
   "cell_type": "markdown",
   "id": "0ff20154",
   "metadata": {},
   "source": [
    "### The Human Genome\n",
    "Retrieve the sequences of the human chromosome from the UCSC Genome Browser's data:\n",
    "\n",
    "- <a href=\"https://hgdownload.soe.ucsc.edu/goldenPath/hg38/bigZips/p14/hg38.p14.fa.gz\">HG38.p14</a> \n",
    "\n",
    "Unzip with `gzip -d hg38.p14.fa.gz` and move `hg38.p14.fa` to `/data`."
   ]
  },
  {
   "cell_type": "markdown",
   "id": "92d69a08",
   "metadata": {},
   "source": [
    "### HG38 Annotations\n",
    "Retrieve the NCBI annotation for HG38:\n",
    "\n",
    "- <a href=\"https://hgdownload.soe.ucsc.edu/goldenPath/hg38/bigZips/genes/hg38.ncbiRefSeq.gtf.gz\">HG38 NCBI RefSeq GTF</a>\n",
    "\n",
    "Unzip with `gzip -d hg38.ncbiRefSeq.gtf.gz` and move `hg38.ncbiRefSeq.gtf` to `/data`."
   ]
  },
  {
   "cell_type": "markdown",
   "id": "83a56742",
   "metadata": {},
   "source": [
    "### GffRead\n",
    "The command-line tool GffRead can be downloaded and built from its github repository\n",
    "- https://github.com/gpertea/gffread,\n",
    "\n",
    "or installed using a package manager, e.g., `sudo apt install gffread`.\n",
    "\n",
    "Convert the annotation `.gtf` to a `.gff`, and use it to extract reference sequences from the genome sequences. \n",
    "```\n",
    "gffread -E data/hg38.ncbiRefSeq.gtf -o data/hg38.ncbiRefSeq.gff\n",
    "gffread -w data/hg38.refseqs.fa -g data/hg38.p14.fa data/hg38.ncbiRefSeq.gff\n",
    "```"
   ]
  },
  {
   "cell_type": "code",
   "execution_count": 17,
   "id": "2995b4dd",
   "metadata": {},
   "outputs": [],
   "source": [
    "anno = readtable(\"data/hg38.ncbiRefSeq.gtf\")\n",
    "seqs = readfasta(\"data/hg38.refseqs.fa\")\n",
    "# locate all the transcripts (~ genes) in the annotation\n",
    "transcript_mask = anno[:, 3] .== \"transcript\"\n",
    "# (check that the number of sequences is equal to the number of transcripts)\n",
    "@assert sum(transcript_mask) == length(seqs)\n",
    "# locate transcripts for chromosome 22\n",
    "transcripts = anno[transcript_mask, :]\n",
    "chr22_mask = transcripts[:, 1] .== \"chr22\"\n",
    "# isolate sequences for chromosome 22\n",
    "chr22_seqs = [seqs[i] for i=1:length(seqs) if chr22_mask[i] && length(sequence(seqs[i])) < 50_000]\n",
    "writefasta(\"data/chr22.refseqs.fa\", chr22_seqs)"
   ]
  },
  {
   "cell_type": "markdown",
   "id": "d356a1c1",
   "metadata": {},
   "source": [
    "### Introns and Intergenic regions"
   ]
  },
  {
   "cell_type": "code",
   "execution_count": 29,
   "id": "71d5fc77",
   "metadata": {},
   "outputs": [],
   "source": [
    "chr22 = sequence(chromosome(22, readgenome(\"data/hg38.p14.fa\"))[1]);\n",
    "chr22_anno = anno[anno[:, 1] .== \"chr22\", :];\n",
    "chr22_intron_anno = chr22_anno[chr22_anno[:,3] .== \"3UTR\" .|| chr22_anno[:,3] .== \"5UTR\", :]\n",
    "chr22_intron_intervals = chr22_intron_anno[:,4:5]\n",
    "chr22_introns = [chr22[start:stop] for (start,stop)=eachrow(chr22_intron_intervals)];\n",
    "chr22_intron_samples = filter(x -> length(x) < 50_000, chr22_introns)\n",
    "writesequences(\"data/chr22.intron-samples.fa\", chr22_intron_samples)"
   ]
  },
  {
   "cell_type": "code",
   "execution_count": 31,
   "id": "a95aae7d",
   "metadata": {},
   "outputs": [
    {
     "name": "stderr",
     "output_type": "stream",
     "text": [
      "\u001b[32mProgress: 100%|█████████████████████████████████████████| Time: 0:00:00\u001b[39m\n"
     ]
    }
   ],
   "source": [
    "chr22_transcripts_anno = chr22_anno[chr22_anno[:, 3] .== \"transcript\", :]\n",
    "chr22_transcript_intervals = Tuple.(eachrow(chr22_transcripts_anno[:, 4:5]))\n",
    "# sample the negative space of the transcript intervals \n",
    "# for substrings with the same length distribution as `chr22_seqs`\n",
    "target_distribution = vcat(length.(sequence.(chr22_seqs)), length.(chr22_intron_samples))\n",
    "chr22_intergenic_samples = []\n",
    "N = length(chr22)\n",
    "for i=1:length(target_distribution)\n",
    "    target_length = target_distribution[i]\n",
    "    idx = rand(1:N)\n",
    "    while any(interval_in.(idx,chr22_transcript_intervals)) || any(interval_in.(idx+target_length-1,chr22_transcript_intervals))\n",
    "        idx = rand(1:N)\n",
    "    end\n",
    "    intergenic_seq = chr22[idx:idx+target_length-1]\n",
    "    push!(chr22_intergenic_samples, intergenic_seq)\n",
    "end\n",
    "writesequences(\"data/chr22.intergenic-samples.fa\", chr22_intergenic_samples)"
   ]
  },
  {
   "cell_type": "markdown",
   "id": "a281f160",
   "metadata": {},
   "source": [
    "### Sequence Variants\n",
    "Use EASEL to generate shuffled and reversed variants of chromosomal sequences."
   ]
  },
  {
   "cell_type": "markdown",
   "id": "ed08cdda",
   "metadata": {},
   "source": [
    "### Compute LPS and LCS"
   ]
  },
  {
   "cell_type": "code",
   "execution_count": 32,
   "id": "e843599f",
   "metadata": {},
   "outputs": [
    {
     "data": {
      "text/plain": [
       "generate_lcs (generic function with 1 method)"
      ]
     },
     "execution_count": 32,
     "metadata": {},
     "output_type": "execute_result"
    }
   ],
   "source": [
    "function llcs(x, y, progressmeter)\n",
    "    next!(progressmeter)\n",
    "    length(longestcommonsubstring(x, y)[1])\n",
    "end\n",
    "function llps(x, progressmeter)\n",
    "    next!(progressmeter)\n",
    "    length(longestpalindromicsubstring(x))\n",
    "end\n",
    "function generate_lps(x, resultpath)\n",
    "    n = length(x)\n",
    "    results = zeros(Int, n)\n",
    "    p = Progress(n, 1, resultpath)\n",
    "    @threads for i=1:n\n",
    "        results[i] = llps(x[i], p)\n",
    "    end\n",
    "    lx = length.(x)\n",
    "    print(\"writing LPS to \", resultpath)\n",
    "    writeframe(resultpath, DataFrame([lx, results], [\"length\", \"lps\"]))\n",
    "end\n",
    "function generate_lcs(x, y, resultpath)\n",
    "    @assert length(x) == length(y)\n",
    "    n = length(x)\n",
    "    results = zeros(Int, n)\n",
    "    p = Progress(n, 1, resultpath)\n",
    "    @threads for i=1:n\n",
    "        results[i] = llcs(x[i], y[i], p)\n",
    "    end\n",
    "    lx = length.(x)\n",
    "    ly = length.(y)\n",
    "    print(\"writing LCS to \", resultpath)\n",
    "    writeframe(resultpath, DataFrame([lx, ly, results], [\"length1\", \"length2\", \"lcs\"]))\n",
    "end"
   ]
  },
  {
   "cell_type": "raw",
   "id": "fce961e4",
   "metadata": {
    "scrolled": true
   },
   "source": [
    "resultpaths = [\n",
    "    \"\"]\n",
    "generate_lcs(_, __, resultpaths[0])\n",
    "generate_lps(_, resultpaths[0])"
   ]
  },
  {
   "cell_type": "markdown",
   "id": "13c56c31",
   "metadata": {},
   "source": [
    "## Plot [python]"
   ]
  },
  {
   "cell_type": "code",
   "execution_count": null,
   "id": "7e18ecd0",
   "metadata": {
    "scrolled": false
   },
   "outputs": [],
   "source": [
    "import matplotlib.pyplot as plt\n",
    "import pandas as pd\n",
    "import statistics as stats\n",
    "from math import *\n",
    "cluster = lambda data, parameter, lo, hi : [data[parameter==x] for x in range(lo,hi+1)]\n",
    "robust_cluster_means = lambda data_clusters : [stats.mean(cluster) if len(cluster)>0 else -1 for cluster in data_clusters]\n",
    "def scatter_cluster_means(axis, frame, datakey, parakey, lo, hi, color, marker, label):\n",
    "    clusters = cluster(frame[datakey], frame[parakey], lo, hi)\n",
    "    x = robust_cluster_means(clusters)\n",
    "    y = list(range(lo,hi+1))\n",
    "    axis.scatter(y, x, 1, \n",
    "                 color=color, label=label, marker=marker, alpha=0.2)\n",
    "exp_lcs = lambda n, lambda2: 2*log(n, 1/lambda2)\n",
    "exp_lps = lambda n, lambda2: exp_lcs(n, lambda2) + 1\n",
    "def plot_expected_lcs(axis, lambda2, lo, hi, color):\n",
    "    x = list(range(lo,hi+1))\n",
    "    axis.plot(x, [exp_lcs(n, lambda2) for n in x], \n",
    "              color=color, linewidth=1, label=\"𝔼[LCS]\")\n",
    "def plot_expected_lps(axis, lambda2, lo, hi, color):\n",
    "    x = list(range(lo,hi+1))\n",
    "    axis.plot(x, [exp_lps(n, lambda2) for n in x], \n",
    "              color=color, linewidth=1, label=\"𝔼[LPS]\")\n",
    "def setup_axis1(axis,xlo=1,xhi=1e6,ylo=0,yhi=40):\n",
    "    axis.set_xlim(xlo,xhi)\n",
    "    axis.set_xscale(\"log\")\n",
    "    axis.set_xlabel(\"Sequence Length\")\n",
    "    axis.set_ylim(ylo,yhi)\n",
    "    axis.set_yscale(\"linear\")\n",
    "    axis.set_ylabel(\"Average Substring Length\")\n",
    "    leg = axis.legend()\n",
    "    for lh in leg.legendHandles: \n",
    "        lh.set_alpha(1)\n",
    "def setup_axis2(axis,xlo=1,xhi=1e6,ylo=0,yhi=40):\n",
    "    axis.set_xlim(xlo,xhi)\n",
    "    axis.set_xscale(\"log\")\n",
    "    axis.set_xlabel(\"Sequence Length\")\n",
    "    axis.set_ylim(ylo,yhi)\n",
    "    axis.set_yscale(\"linear\")\n",
    "    axis.set_ylabel(\"Average Substring Length\")\n",
    "    leg = axis.legend()\n",
    "    for lh in leg.legendHandles: \n",
    "        lh.set_alpha(1)"
   ]
  },
  {
   "cell_type": "code",
   "execution_count": null,
   "id": "007e9ec1",
   "metadata": {},
   "outputs": [],
   "source": [
    "resultpaths = [\n",
    "    \"outputs/lcs_proteincoding_shuf.txt\", \n",
    "    \"outputs/lcs_rnacoding_shuf.txt\", \n",
    "    \"outputs/lcs_pseudogene_shuf.txt\", \n",
    "    \"outputs/lps_proteincoding.txt\", \n",
    "    \"outputs/lps_rnacoding.txt\", \n",
    "    \"outputs/lps_pseudogene.txt\", \n",
    "    \"outputs/lps_shuf_proteincoding.txt\", \n",
    "    \"outputs/lps_shuf_rnacoding.txt\", \n",
    "    \"outputs/lps_shuf_pseudogene.txt\", \n",
    "    \"outputs/lps_hardmasked_proteincoding.txt\",\n",
    "    \"outputs/lps_hardmasked_rnacoding.txt\",\n",
    "    \"outputs/lps_hardmasked_pseudogene.txt\"]\n",
    "\n",
    "(lcs_protein_shuf, lcs_rna_shuf, lcs_pseudogene_shuf, \n",
    " lps_protein, lps_rna, lps_pseudogene, \n",
    " lps_shuf_protein, lps_shuf_rna, lps_shuf_pseudogene, \n",
    " lps_masked_protein, lps_masked_rna, lps_masked_pseudogene) = [pd.read_csv(x) for x in resultpaths]\n",
    "\n",
    "# coincidence frequency for our annotation of chr22\n",
    "lambda2 = 0.25080397536793314\n",
    "\n",
    "lcsmaroon = \"#8a1414\"\n",
    "sprotblue = \"#0000ff\"\n",
    "shufred = \"#ff8800\"\n",
    "maskgreen = \"#0cff0c\"\n",
    "\n",
    "lo = lo_protein = lo_rna = lo_pseudogene = 1\n",
    "hi = hi_protein = hi_rna = hi_pseudogene = int(1e6)"
   ]
  },
  {
   "cell_type": "code",
   "execution_count": null,
   "id": "6584c7ca",
   "metadata": {},
   "outputs": [],
   "source": [
    "from time import time"
   ]
  },
  {
   "cell_type": "code",
   "execution_count": null,
   "id": "c4c3bf9d",
   "metadata": {
    "scrolled": false
   },
   "outputs": [],
   "source": [
    "fig, ax = plt.subplots(dpi=800)\n",
    "start_time = time()\n",
    "print(1, time() - start_time)\n",
    "scatter_cluster_means(ax, lcs_protein_shuf, \"lcs\", \"length1\", lo_protein, hi_protein,\n",
    "                      lcsmaroon, 's', \"LCS(protein, shuf)\")\n",
    "print(2, time() - start_time)\n",
    "scatter_cluster_means(ax, lcs_rna_shuf, \"lcs\", \"length1\", lo_rna, hi_rna,\n",
    "                      lcsmaroon, 's', \"LCS(rna, shuf)\")\n",
    "print(3, time() - start_time)\n",
    "scatter_cluster_means(ax, lcs_pseudogene_shuf, \"lcs\", \"length1\", lo_pseudogene, hi_pseudogene,\n",
    "                      lcsmaroon, 's', \"LCS(pseudogene, shuf)\")\n",
    "print(4, time() - start_time)\n",
    "plot_expected_lcs(ax, lambda2, lo, hi, lcsmaroon)\n",
    "print(5, time() - start_time)\n",
    "scatter_cluster_means(ax, lps_shuf_protein, \"lps\", \"length\", lo_protein, hi_protein,\n",
    "                      shufred, 'o', \"LPS(shuf-protein)\")\n",
    "print(6, time() - start_time)\n",
    "scatter_cluster_means(ax, lps_shuf_rna, \"lps\", \"length\", lo_rna, hi_rna,\n",
    "                      shufred, 'o', \"LPS(shuf-rna)\")\n",
    "print(7, time() - start_time)\n",
    "scatter_cluster_means(ax, lps_shuf_pseudogene, \"lps\", \"length\", lo_pseudogene, hi_pseudogene,\n",
    "                      shufred, 'o', \"LPS(shuf-pseudogene)\")\n",
    "print(8, time() - start_time)\n",
    "?????/''\n",
    "print(9, time() - start_time)\n",
    "scatter_cluster_means(ax, lps_protein, \"lps\", \"length\", lo_protein, hi_protein,\n",
    "                      sprotblue, '^', \"LPS(protein)\")\n",
    "print(10, time() - start_time)\n",
    "scatter_cluster_means(ax, lps_rna, \"lps\", \"length\", lo_rna, hi_rna,\n",
    "                      sprotblue, '^', \"LPS(rna)\")\n",
    "print(11, time() - start_time)\n",
    "scatter_cluster_means(ax, lps_pseudogene, \"lps\", \"length\", lo_pseudogene, hi_pseudogene,\n",
    "                      sprotblue, '^', \"LPS(pseudogene)\")\n",
    "print(12, time() - start_time)\n",
    "setup_axis1(ax)\n",
    "plt.tight_layout()\n",
    "plt.savefig(\"figures/LPSLCS_Chromosome22_a.png\")"
   ]
  },
  {
   "cell_type": "code",
   "execution_count": null,
   "id": "93c528f3",
   "metadata": {},
   "outputs": [],
   "source": [
    "fig,ax = plt.subplots(dpi=800)\n",
    "scatter_cluster_means(ax, lps_shuf_protein, \"lps\", \"length\", lo_protein, hi_protein,\n",
    "                      shufred, 'o', \"LPS(shuf-protein)\")\n",
    "scatter_cluster_means(ax, lps_shuf_rna, \"lps\", \"length\", lo_rna, hi_rna,\n",
    "                      shufred, 'o', \"LPS(shuf-rna)\")\n",
    "scatter_cluster_means(ax, lps_shuf_pseudogene, \"lps\", \"length\", lo_pseudogene, hi_pseudogene,\n",
    "                      shufred, 'o', \"LPS(shuf-pseudogene)\")\n",
    "plot_expected_lps(ax, lambda2, lo, hi, shufred)\n",
    "\n",
    "scatter_cluster_means(ax, lps_masked_protein, \"lps\", \"length\", lo_protein, hi_protein,\n",
    "                      maskgreen, '*', \"LPS(masked-protein)\")\n",
    "scatter_cluster_means(ax, lps_masked_rna, \"lps\", \"length\", lo_rna, hi_rna,\n",
    "                      maskgreen, '*', \"LPS(masked-rna)\")\n",
    "scatter_cluster_means(ax, lps_masked_pseudogene, \"lps\", \"length\", lo_pseudogene, hi_pseudogene,\n",
    "                      maskgreen, '*', \"LPS(masked-pseudogene)\")\n",
    "setup_axis2(ax)\n",
    "plt.tight_layout()\n",
    "plt.savefig(\"figures/LPSLCS_Chromosome22_b.png\")"
   ]
  }
 ],
 "metadata": {
  "kernelspec": {
   "display_name": "Julia 6 Threads 1.8.5",
   "language": "julia",
   "name": "julia-6-threads-1.8"
  },
  "language_info": {
   "file_extension": ".jl",
   "mimetype": "application/julia",
   "name": "julia",
   "version": "1.8.5"
  }
 },
 "nbformat": 4,
 "nbformat_minor": 5
}
