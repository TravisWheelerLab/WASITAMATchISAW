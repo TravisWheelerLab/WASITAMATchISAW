{
 "cells": [
  {
   "cell_type": "markdown",
   "id": "4224a683",
   "metadata": {},
   "source": [
    "# LPS and LCS in Human Chromosome 22"
   ]
  },
  {
   "cell_type": "code",
   "execution_count": null,
   "id": "f73e3e36",
   "metadata": {},
   "outputs": [],
   "source": [
    "using Plots\n",
    "using Distributions\n",
    "using DataFrames\n",
    "using DelimitedFiles\n",
    "using StringAlgorithms\n",
    "using LaTeXStrings\n",
    "using ProgressMeter\n",
    "include(\"source/utils.jl\")\n",
    "include(\"source/palindrome.jl\")\n",
    "include(\"source/alignment.jl\")\n",
    "include(\"source/expectation.jl\")\n",
    "include(\"source/chromosome.jl\")\n",
    "include(\"source/io.jl\")"
   ]
  },
  {
   "cell_type": "markdown",
   "id": "0ff20154",
   "metadata": {},
   "source": [
    "### The Human Genome\n",
    "Retrieve the sequences of the human chromosome from the UCSC Genome Browser's data:\n",
    "\n",
    "- <a href=\"https://hgdownload.soe.ucsc.edu/goldenPath/hg38/bigZips/p14/hg38.p14.fa.gz\">HG38.p14</a> \n",
    "\n",
    "Unzip with `gzip -d hg38.p14.fa.gz` and move `hg38.p14.fa` to `/data`."
   ]
  },
  {
   "cell_type": "markdown",
   "id": "92d69a08",
   "metadata": {},
   "source": [
    "### HG38 Annotations\n",
    "Retrieve the NCBI annotation for HG38:\n",
    "\n",
    "- <a href=\"https://hgdownload.soe.ucsc.edu/goldenPath/hg38/bigZips/genes/hg38.ncbiRefSeq.gtf.gz\">HG38 NCBI RefSeq GTF</a>\n",
    "\n",
    "Unzip with `gzip -d hg38.ncbiRefSeq.gtf.gz` and move `hg38.ncbiRefSeq.gtf` to `/data`."
   ]
  },
  {
   "cell_type": "markdown",
   "id": "83a56742",
   "metadata": {},
   "source": [
    "### GffRead\n",
    "The command-line tool GffRead can be downloaded and built from its github repository\n",
    "- https://github.com/gpertea/gffread,\n",
    "\n",
    "or installed using a package manager, e.g., `sudo apt install gffread`.\n",
    "\n",
    "Convert the annotation `.gtf` to a `.gff`, and use it to extract reference sequences from the genome sequences. \n",
    "```\n",
    "gffread -E data/hg38.ncbiRefSeq.gtf -o data/hg38.ncbiRefSeq.gff\n",
    "gffread -w data/hg38.refseqs.fa -g data/hg38.p14.fa data/hg38.ncbiRefSeq.gff\n",
    "```"
   ]
  },
  {
   "cell_type": "code",
   "execution_count": null,
   "id": "634ff2b5",
   "metadata": {},
   "outputs": [],
   "source": [
    "anno = readtable(\"data/hg38.ncbiRefSeq.gtf\")\n",
    "seqs = readfasta(\"data/hg38.refseqs.fa\")\n",
    "# locate all the transcripts (~ genes) in the annotation\n",
    "transcript_mask = anno[:, 3] .== \"transcript\"\n",
    "# (check that the number of sequences is equal to the number of transcripts)\n",
    "@assert sum(transcript_mask) == length(seqs)\n",
    "# locate transcripts for chromosome 22\n",
    "transcripts = anno[transcript_mask, :]\n",
    "chr22_mask = transcripts[:, 1] .== \"chr22\"\n",
    "# isolate sequences for chromosome 22\n",
    "chr22_seqs = [seqs[i] for i=1:length(seqs) if chr22_mask[i] && length(sequence(seqs[i])) < 50_000]\n",
    "writefasta(\"data/chr22.transcript.fa\", chr22_seqs)"
   ]
  },
  {
   "cell_type": "markdown",
   "id": "d356a1c1",
   "metadata": {},
   "source": [
    "### Introns and Intergenic regions"
   ]
  },
  {
   "cell_type": "code",
   "execution_count": null,
   "id": "71d5fc77",
   "metadata": {},
   "outputs": [],
   "source": [
    "chr22 = sequence(chromosome(22, readgenome(\"data/hg38.p14.fa\"))[1]);\n",
    "chr22_anno = anno[anno[:, 1] .== \"chr22\", :];\n",
    "chr22_intron_anno = chr22_anno[chr22_anno[:,3] .== \"3UTR\" .|| chr22_anno[:,3] .== \"5UTR\", :]\n",
    "chr22_intron_intervals = chr22_intron_anno[:,4:5]\n",
    "chr22_introns = [chr22[start:stop] for (start,stop)=eachrow(chr22_intron_intervals)];\n",
    "chr22_intron_samples = filter(x -> length(x) < 50_000, chr22_introns)\n",
    "writesequences(\"data/chr22.intron-samples.fa\", chr22_intron_samples)"
   ]
  },
  {
   "cell_type": "code",
   "execution_count": null,
   "id": "75064a42",
   "metadata": {},
   "outputs": [],
   "source": [
    "chr22_transcripts_anno = chr22_anno[chr22_anno[:, 3] .== \"transcript\", :]\n",
    "chr22_transcript_intervals = Tuple.(eachrow(chr22_transcripts_anno[:, 4:5]))\n",
    "# sample the negative space of the transcript intervals \n",
    "# for substrings with the same length distribution as `chr22_seqs`\n",
    "target_distribution = vcat(length.(sequence.(chr22_seqs)), length.(chr22_intron_samples))\n",
    "chr22_intergenic_samples = []\n",
    "N = length(chr22)\n",
    "for i=1:length(target_distribution)\n",
    "    target_length = target_distribution[i]\n",
    "    idx = rand(1:N)\n",
    "    while any(interval_in.(idx,chr22_transcript_intervals)) || any(interval_in.(idx+target_length-1,chr22_transcript_intervals))\n",
    "        idx = rand(1:N)\n",
    "    end\n",
    "    intergenic_seq = chr22[idx:idx+target_length-1]\n",
    "    push!(chr22_intergenic_samples, intergenic_seq)\n",
    "end\n",
    "writesequences(\"data/chr22.intergenic-samples.fa\", chr22_intergenic_samples)"
   ]
  },
  {
   "cell_type": "markdown",
   "id": "0b300387",
   "metadata": {},
   "source": [
    "# Masking repetitive regions with tantan\n",
    "```\n",
    "tantan -x N data/chr22.transcript.fa > data/chr22.masked-transcript.fa\n",
    "```\n",
    "```\n",
    "tantan -x N data/chr22.transcript.fa > data/chr22.masked-intron-samples.fa\n",
    "```\n",
    "```\n",
    "tantan -x N data/chr22.transcript.fa > data/chr22.masked-intergenic-samples.fa\n",
    "```"
   ]
  },
  {
   "cell_type": "markdown",
   "id": "ed08cdda",
   "metadata": {},
   "source": [
    "### Compute LPS and LCS"
   ]
  },
  {
   "cell_type": "code",
   "execution_count": null,
   "id": "e843599f",
   "metadata": {},
   "outputs": [],
   "source": [
    "function llcs(x, y, progressmeter)\n",
    "    next!(progressmeter)\n",
    "    length(longestcommonsubstring(x, y)[1])\n",
    "end\n",
    "function llps(x, progressmeter)\n",
    "    next!(progressmeter)\n",
    "    length(longestpalindromicsubstring(x))\n",
    "end\n",
    "function generate_lps(x, resultpath)\n",
    "    n = length(x)\n",
    "    results = zeros(Int, n)\n",
    "    p = Progress(n, 1, resultpath)\n",
    "    @threads for i=1:n\n",
    "        results[i] = llps(x[i], p)\n",
    "    end\n",
    "    lx = length.(x)\n",
    "    print(\"writing LPS to \", resultpath)\n",
    "    writeframe(resultpath, DataFrame([lx, results], [\"length\", \"lps\"]))\n",
    "end\n",
    "function generate_lcs(x, y, resultpath)\n",
    "    @assert length(x) == length(y)\n",
    "    n = length(x)\n",
    "    results = zeros(Int, n)\n",
    "    p = Progress(n, 1, resultpath)\n",
    "    @threads for i=1:n\n",
    "        results[i] = llcs(x[i], y[i], p)\n",
    "    end\n",
    "    lx = length.(x)\n",
    "    ly = length.(y)\n",
    "    print(\"writing LCS to \", resultpath)\n",
    "    writeframe(resultpath, DataFrame([lx, ly, results], [\"length1\", \"length2\", \"lcs\"]))\n",
    "end"
   ]
  },
  {
   "cell_type": "code",
   "execution_count": null,
   "id": "671b810a",
   "metadata": {},
   "outputs": [],
   "source": [
    "transcripts = uppercase.(readsequences(\"data/chr22.transcript.fa\"))\n",
    "masked_transcripts = readsequences(\"data/chr22.masked-transcript.fa\")\n",
    "masked_transcripts = replace.(masked_transcripts, 'N'=>\"\")\n",
    "shuf_transcripts = shufflefast.(transcripts)\n",
    "introns = uppercase.(readsequences(\"data/chr22.intron-samples.fa\"))\n",
    "masked_introns = readsequences(\"data/chr22.masked-intron-samples.fa\")\n",
    "masked_introns = replace.(masked_introns, 'N'=>\"\")\n",
    "shuf_introns = shufflefast.(introns)\n",
    "intergenics = uppercase.(readsequences(\"data/chr22.intergenic-samples.fa\"))\n",
    "masked_intergenics = readsequences(\"data/chr22.masked-intergenic-samples.fa\")\n",
    "masked_intergenics = replace.(masked_intergenics, 'N'=>\"\")\n",
    "shuf_intergenics = shufflefast.(intergenics)\n",
    "resultpaths = [\n",
    "    \"data/chr22.transcript_shuf-transcript.lcs\",\n",
    "    \"data/chr22.intron_shuf-intron.lcs\",\n",
    "    \"data/chr22.intergenic_shuf-intergenic.lcs\",\n",
    "    \"data/chr22.shuf-transcript.lps\",\n",
    "    \"data/chr22.shuf-intron.lps\",\n",
    "    \"data/chr22.shuf-intergenic.lps\",\n",
    "    \"data/chr22.transcript.lps\",\n",
    "    \"data/chr22.intron.lps\",\n",
    "    \"data/chr22.intergenic.lps\",\n",
    "    \"data/chr22.masked-transcript.lps\",\n",
    "    \"data/chr22.masked-intron.lps\",\n",
    "    \"data/chr22.masked-intergenic.lps\",]"
   ]
  },
  {
   "cell_type": "code",
   "execution_count": null,
   "id": "39bc1ac9",
   "metadata": {},
   "outputs": [],
   "source": [
    "generate_lcs(transcripts, shuf_transcripts, resultpaths[1])\n",
    "generate_lcs(introns, shuf_introns, resultpaths[2])\n",
    "generate_lcs(intergenics, shuf_intergenics, resultpaths[3])\n",
    "generate_lps(shuf_transcripts, resultpaths[4])\n",
    "generate_lps(shuf_introns, resultpaths[5])\n",
    "generate_lps(shuf_intergenics, resultpaths[6])\n",
    "generate_lps(transcripts, resultpaths[7])\n",
    "generate_lps(introns, resultpaths[8])\n",
    "generate_lps(intergenics, resultpaths[9])\n",
    "generate_lps(masked_transcripts, resultpaths[10])\n",
    "generate_lps(masked_introns, resultpaths[11])\n",
    "generate_lps(masked_intergenics, resultpaths[12])"
   ]
  },
  {
   "cell_type": "markdown",
   "id": "13c56c31",
   "metadata": {},
   "source": [
    "## Plot [python]"
   ]
  },
  {
   "cell_type": "code",
   "execution_count": null,
   "id": "7e18ecd0",
   "metadata": {
    "scrolled": false
   },
   "outputs": [],
   "source": [
    "import matplotlib.pyplot as plt\n",
    "import pandas as pd\n",
    "import statistics as stats\n",
    "from math import *\n",
    "cluster = lambda data, parameter, lo, hi : [data[parameter==x] for x in range(lo,hi+1)]\n",
    "robust_cluster_means = lambda data_clusters : [stats.mean(cluster) if len(cluster)>0 else -1 for cluster in data_clusters]\n",
    "def scatter_cluster_means(axis, frame, datakey, parakey, lo, hi, color, marker, label):\n",
    "    clusters = cluster(frame[datakey], frame[parakey], lo, hi)\n",
    "    x = robust_cluster_means(clusters)\n",
    "    y = list(range(lo,hi+1))\n",
    "    axis.scatter(y, x, 2, \n",
    "                 color=color, label=label, marker=marker, alpha=0.1)\n",
    "exp_lcs = lambda n, lambda2: 2*log(n, 1/lambda2)\n",
    "exp_lps = lambda n, lambda2: exp_lcs(n, lambda2) + 1\n",
    "def plot_expected_lcs(axis, lambda2, lo, hi, color):\n",
    "    x = list(range(lo,hi+1))\n",
    "    axis.plot(x, [exp_lcs(n, lambda2) for n in x], \n",
    "              color=color, linewidth=1, label=\"𝔼[LCS] = 2log(n)\")\n",
    "def plot_expected_lps(axis, lambda2, lo, hi, color):\n",
    "    x = list(range(lo,hi+1))\n",
    "    axis.plot(x, [exp_lps(n, lambda2) for n in x], \n",
    "              color=color, linewidth=1, label=\"𝔼[LPS] = 𝔼[LCS] + 1\")\n",
    "def setup_axis1(axis,xlo=1,xhi=50_000,ylo=0,yhi=40):\n",
    "    axis.set_xlim(xlo,xhi)\n",
    "    axis.set_xscale(\"log\")\n",
    "    axis.set_xlabel(\"Sequence Length\")\n",
    "    axis.set_ylim(ylo,yhi)\n",
    "    axis.set_yscale(\"linear\")\n",
    "    axis.set_ylabel(\"Average Substring Length\")\n",
    "    leg = axis.legend()\n",
    "    for lh in leg.legendHandles: \n",
    "        lh.set_alpha(1)\n",
    "def setup_axis2(axis,xlo=1,xhi=50_000,ylo=0,yhi=40):\n",
    "    axis.set_xlim(xlo,xhi)\n",
    "    axis.set_xscale(\"log\")\n",
    "    axis.set_xlabel(\"Sequence Length\")\n",
    "    axis.set_ylim(ylo,yhi)\n",
    "    axis.set_yscale(\"linear\")\n",
    "    axis.set_ylabel(\"Average Substring Length\")\n",
    "    leg = axis.legend()\n",
    "    for lh in leg.legendHandles: \n",
    "        lh.set_alpha(1)"
   ]
  },
  {
   "cell_type": "code",
   "execution_count": null,
   "id": "007e9ec1",
   "metadata": {},
   "outputs": [],
   "source": [
    "resultpaths = [\n",
    "    \"data/chr22.transcript_shuf-transcript.lcs\",\n",
    "    \"data/chr22.intron_shuf-intron.lcs\",\n",
    "    \"data/chr22.intergenic_shuf-intergenic.lcs\",\n",
    "    \"data/chr22.shuf-transcript.lps\",\n",
    "    \"data/chr22.shuf-intron.lps\",\n",
    "    \"data/chr22.shuf-intergenic.lps\",\n",
    "    \"data/chr22.transcript.lps\",\n",
    "    \"data/chr22.intron.lps\",\n",
    "    \"data/chr22.intergenic.lps\",\n",
    "    \"data/chr22.masked-transcript.lps\",\n",
    "    \"data/chr22.masked-intron.lps\",\n",
    "    \"data/chr22.masked-intergenic.lps\",]\n",
    "\n",
    "(lcs_transcript, \n",
    " lcs_intron, \n",
    " lcs_intergenic, \n",
    " lps_shuf_transcript,\n",
    " lps_shuf_intron,\n",
    " lps_shuf_intergenic,\n",
    " lps_transcript,\n",
    " lps_intron,\n",
    " lps_intergenic,\n",
    " lps_masked_transcript,\n",
    " lps_masked_intron,\n",
    " lps_masked_intergenic,\n",
    ") = [pd.read_csv(x) for x in resultpaths]\n",
    "\n",
    "# coincidence frequency for our annotation of chr22\n",
    "lambda2 = 0.25080397536793314\n",
    "\n",
    "lcsmaroon = \"#8a1414\"\n",
    "sprotblue = \"#0000ff\"\n",
    "shufred = \"#ff8800\"\n",
    "maskgreen = \"#0cff0c\"\n",
    "\n",
    "lo = lo_protein = lo_rna = lo_pseudogene = 1\n",
    "hi = hi_protein = hi_rna = hi_pseudogene = int(50_000)"
   ]
  },
  {
   "cell_type": "code",
   "execution_count": null,
   "id": "6584c7ca",
   "metadata": {},
   "outputs": [],
   "source": [
    "from time import time"
   ]
  },
  {
   "cell_type": "code",
   "execution_count": null,
   "id": "c4c3bf9d",
   "metadata": {
    "scrolled": false
   },
   "outputs": [],
   "source": [
    "fig, ax = plt.subplots(dpi=800)\n",
    "start_time = time()\n",
    "\n",
    "scatter_cluster_means(ax, lps_transcript, \"lps\", \"length\", lo_protein, hi_protein,\n",
    "                      sprotblue, 's', \"LPS(transcript)\")\n",
    "scatter_cluster_means(ax, lps_intron, \"lps\", \"length\", lo_rna, hi_rna,\n",
    "                      sprotblue, 'o', \"LPS(intron)\")\n",
    "scatter_cluster_means(ax, lps_intergenic, \"lps\", \"length\", lo_pseudogene, hi_pseudogene,\n",
    "                      sprotblue, '^', \"LPS(intergenic)\")\n",
    "\n",
    "plot_expected_lps(ax, lambda2, lo, hi, shufred)\n",
    "\n",
    "scatter_cluster_means(ax, lps_shuf_transcript, \"lps\", \"length\", lo_protein, hi_protein,\n",
    "                      shufred, '^', \"LPS(shuf-transcript)\")\n",
    "scatter_cluster_means(ax, lps_shuf_intron, \"lps\", \"length\", lo_rna, hi_rna,\n",
    "                      shufred, 's', \"LPS(shuf-intron)\")\n",
    "scatter_cluster_means(ax, lps_shuf_intergenic, \"lps\", \"length\", lo_pseudogene, hi_pseudogene,\n",
    "                      shufred, 'o', \"LPS(shuf-intergenic)\")\n",
    "\n",
    "plot_expected_lcs(ax, lambda2, lo, hi, lcsmaroon)\n",
    "\n",
    "scatter_cluster_means(ax, lcs_transcript, \"lcs\", \"length1\", lo_protein, hi_protein,\n",
    "                      lcsmaroon, '^', \"LCS(transcript, shuf-transcript)\")\n",
    "scatter_cluster_means(ax, lcs_intron, \"lcs\", \"length1\", lo_rna, hi_rna,\n",
    "                      lcsmaroon, 's', \"LCS(intron, shuf-intron)\")\n",
    "scatter_cluster_means(ax, lcs_intergenic, \"lcs\", \"length1\", lo_pseudogene, hi_pseudogene,\n",
    "                      lcsmaroon, 'o', \"LCS(intergenic, shuf-intergenic)\")\n",
    "\n",
    "setup_axis1(ax)\n",
    "plt.tight_layout()\n",
    "plt.savefig(\"figures/LPSLCS_Chromosome22_a.png\")"
   ]
  },
  {
   "cell_type": "code",
   "execution_count": null,
   "id": "93c528f3",
   "metadata": {},
   "outputs": [],
   "source": [
    "fig,ax = plt.subplots(dpi=800)\n",
    "\n",
    "scatter_cluster_means(ax, lps_masked_transcript, \"lps\", \"length\", lo_protein, hi_protein,\n",
    "                      maskgreen, '^', \"LPS(masked-transcript)\")\n",
    "scatter_cluster_means(ax, lps_masked_intron, \"lps\", \"length\", lo_rna, hi_rna,\n",
    "                      maskgreen, 's', \"LPS(masked-intron)\")\n",
    "scatter_cluster_means(ax, lps_masked_intergenic, \"lps\", \"length\", lo_pseudogene, hi_pseudogene,\n",
    "                      maskgreen, 'o', \"LPS(masked-intergenic)\")\n",
    "\n",
    "plot_expected_lps(ax, lambda2, lo, hi, shufred)\n",
    "\n",
    "scatter_cluster_means(ax, lps_shuf_transcript, \"lps\", \"length\", lo_protein, hi_protein,\n",
    "                      shufred, '^', \"LPS(shuf-transcript)\")\n",
    "scatter_cluster_means(ax, lps_shuf_intron, \"lps\", \"length\", lo_rna, hi_rna,\n",
    "                      shufred, 's', \"LPS(shuf-intron)\")\n",
    "scatter_cluster_means(ax, lps_shuf_intergenic, \"lps\", \"length\", lo_pseudogene, hi_pseudogene,\n",
    "                      shufred, 'o', \"LPS(shuf-intergenic)\")\n",
    "setup_axis2(ax)\n",
    "plt.tight_layout()\n",
    "plt.savefig(\"figures/LPSLCS_Chromosome22_b.png\")"
   ]
  }
 ],
 "metadata": {
  "kernelspec": {
   "display_name": "Python 3 (ipykernel)",
   "language": "python",
   "name": "python3"
  },
  "language_info": {
   "codemirror_mode": {
    "name": "ipython",
    "version": 3
   },
   "file_extension": ".py",
   "mimetype": "text/x-python",
   "name": "python",
   "nbconvert_exporter": "python",
   "pygments_lexer": "ipython3",
   "version": "3.10.4"
  }
 },
 "nbformat": 4,
 "nbformat_minor": 5
}
