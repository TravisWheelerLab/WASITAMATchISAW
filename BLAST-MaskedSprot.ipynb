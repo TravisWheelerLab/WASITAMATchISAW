{
 "cells": [
  {
   "cell_type": "markdown",
   "id": "ed63fda9",
   "metadata": {},
   "source": [
    "# BLAST scores by sequence length"
   ]
  },
  {
   "cell_type": "code",
   "execution_count": null,
   "id": "e1211636",
   "metadata": {},
   "outputs": [],
   "source": [
    "using Plots\n",
    "using FASTX\n",
    "include(\"source/io.jl\")\n",
    "include(\"source/utils.jl\")\n",
    "include(\"source/alignment.jl\")\n",
    "include(\"source/blast.jl\")"
   ]
  },
  {
   "cell_type": "markdown",
   "id": "3e3144ad",
   "metadata": {},
   "source": [
    "### Mask repetitive regions in Swiss-Prot using tantan\n",
    "Rather than using lowercase letters for masks, configure tantan to mask with 'X' characters.\n",
    "\n",
    "```\n",
    "tantan -p -x X data/sprot.fa > data/masked_sprot.fa\n",
    "```"
   ]
  },
  {
   "cell_type": "markdown",
   "id": "aec22e6c",
   "metadata": {},
   "source": [
    "### Masked paired alignment"
   ]
  },
  {
   "cell_type": "code",
   "execution_count": null,
   "id": "11ec22e5",
   "metadata": {},
   "outputs": [],
   "source": [
    "resultpaths = [\n",
    "    \"outputs/sprot-shuf_sprot.dlm\",\n",
    "    \"outputs/sprot-rev_sprot.dlm\",\n",
    "    \"outputs/shuf_sprot-rev_shuf_sprot.dlm\",\n",
    "    \"outputs/masked_sprot-rev_sprot.dlm\",\n",
    "];"
   ]
  },
  {
   "cell_type": "markdown",
   "id": "5d786d13",
   "metadata": {},
   "source": [
    "### Option A: BioAlignments.jl"
   ]
  },
  {
   "cell_type": "code",
   "execution_count": null,
   "id": "e288264f",
   "metadata": {},
   "outputs": [],
   "source": [
    "shuf_sprot = readsequences(\"data/shuf_sprot.fa\")\n",
    "rev_shuf_sprot = readsequences(\"data/rev_shuf_sprot.fa\")\n",
    "sprot = readsequences(\"data/sprot.fa\")\n",
    "rev_sprot = readsequences(\"data/rev_sprot.fa\")\n",
    "masked_sprot = readsequences(\"data/masked_sprot.fa\");"
   ]
  },
  {
   "cell_type": "code",
   "execution_count": null,
   "id": "5c4f0406",
   "metadata": {},
   "outputs": [],
   "source": [
    "alignmentscore(x) = align(Pairwise(), x[1], x[2];\n",
    "    formatter=x::PairwiseAlignmentResult -> score(x),\n",
    "    verbose=true)\n",
    "results = alignmentscore.([\n",
    "    (sprot, shuf_sprot),\n",
    "    (sprot, rev_sprot),\n",
    "    (shuf_sprot, rev_shuf_sprot),\n",
    "    (masked_sprot, rev_sprot),\n",
    "]);"
   ]
  },
  {
   "cell_type": "code",
   "execution_count": null,
   "id": "dee546f8",
   "metadata": {},
   "outputs": [],
   "source": [
    "sequence_lengths = length.(sprot)\n",
    "masked_sequence_lengths = length.(masked_sprot)\n",
    "writetable(resultpaths[1], hcat(sequence_lengths, results[1]))\n",
    "writetable(resultpaths[2], hcat(sequence_lengths, results[2]))\n",
    "writetable(resultpaths[3], hcat(sequence_lengths, results[3]))\n",
    "writetable(resultpaths[4], hcat(masked_sequence_lengths, results[4]))"
   ]
  },
  {
   "cell_type": "markdown",
   "id": "13408d38",
   "metadata": {},
   "source": [
    "### Option B: BLAST"
   ]
  },
  {
   "cell_type": "code",
   "execution_count": null,
   "id": "ae685e4d",
   "metadata": {},
   "outputs": [],
   "source": [
    "result_dirs = [\n",
    "    \"outputs/sprot-shuf_sprot\",\n",
    "    \"outputs/sprot-rev_sprot\",\n",
    "    \"outputs/shuf_sprot-rev_shuf_sprot\",\n",
    "    \"outputs/masked_sprot-rev_sprot\",\n",
    "]\n",
    "mkdir.(result_dirs)"
   ]
  },
  {
   "cell_type": "code",
   "execution_count": null,
   "id": "ecbcb6bc",
   "metadata": {},
   "outputs": [],
   "source": [
    "search(Pairwise(), \"outputs/sprot-shuf_sprot\", \"data/sprot.fa\", \"data/shuf_sprot.fa\";\n",
    "    verbose=true, ntasks=12)\n",
    "search(Pairwise(), \"outputs/sprot-rev_sprot\", \"data/sprot.fa\", \"data/rev_sprot.fa\";\n",
    "    verbose=true, ntasks=12)\n",
    "search(Pairwise(), \"outputs/shuf_sprot-rev_shuf_sprot\", data/rev_sprot.fa\", \"data/rev_shuf_sprot.fa\";\n",
    "    verbose=true, ntasks=12)\n",
    "search(Pairwise(), \"outputs/masked_sprot-rev_sprot\", \"data/masked_sprot.fa\", \"data/rev_sprot.fa\";\n",
    "    verbose=true, ntasks=12)"
   ]
  }
 ],
 "metadata": {
  "kernelspec": {
   "display_name": "Julia 12 Threads 1.8.5",
   "language": "julia",
   "name": "julia-12-threads-1.8"
  },
  "language_info": {
   "file_extension": ".jl",
   "mimetype": "application/julia",
   "name": "julia",
   "version": "1.8.5"
  }
 },
 "nbformat": 4,
 "nbformat_minor": 5
}
